{
 "cells": [
  {
   "cell_type": "code",
   "execution_count": 6,
   "id": "44e9994c",
   "metadata": {},
   "outputs": [],
   "source": [
    "# import pathlib\n",
    "import pickle\n",
    "\n",
    "import matplotlib.pyplot as plt\n",
    "import numpy as np\n",
    "import pandas as pd\n",
    "#import re\n",
    "#import random\n",
    "#from sklearn import tree\n",
    "from sklearn.model_selection import train_test_split\n",
    "from sklearn.inspection import permutation_importance\n",
    "from sklearn.metrics import confusion_matrix, classification_report, ConfusionMatrixDisplay, roc_auc_score\n",
    "from hyperopt import STATUS_OK, Trials, fmin, hp, tpe\n",
    "\n",
    "\n",
    "import xgboost as xgb\n",
    "from sklearn.metrics import auc, accuracy_score, mean_squared_error\n",
    "from sklearn.model_selection import cross_val_score, GridSearchCV, KFold, RandomizedSearchCV\n",
    "#from string import ascii_letters\n",
    "import seaborn as sns\n",
    "import h5py as h5\n",
    "\n",
    "#from string import ascii_letters"
   ]
  },
  {
   "cell_type": "raw",
   "id": "4ae2a08d",
   "metadata": {},
   "source": [
    "df[features].to_pickle('../pickle_pd/pd_top_25.pkl')"
   ]
  },
  {
   "cell_type": "code",
   "execution_count": 13,
   "id": "6a87e32e",
   "metadata": {},
   "outputs": [],
   "source": [
    "df =pd.read_pickle('../pickle_pd/pd_top_25.pkl')\n",
    "features = ['lep_pt_2','lep_pt_1','jet_n','lep_E_1','jet_pt_0','lep_eta_0','jet_pt_1','lep_pt_0','lep_E_2','lep_eta_1','lep_phi_1','lep_phi_0',\n",
    "            'lep_ptcone30_1','lep_ptcone30_0','jet_eta_0','jet_m','lep_E_0','jet_eta_1','jet_pt_2','lep_pt_3','jet_E_0','lep_charge_1','lep_charge_0','lep_E_3']"
   ]
  },
  {
   "cell_type": "raw",
   "id": "4f36f2b5",
   "metadata": {},
   "source": [
    " X_train, X_test, y_train, y_test = train_test_split( df[features], df['label'], test_size=0.1, random_state=42)"
   ]
  },
  {
   "cell_type": "code",
   "execution_count": 8,
   "id": "59c95fd0",
   "metadata": {},
   "outputs": [],
   "source": [
    " X_train, X_test, y_train, y_test = train_test_split( df[features], df['label'], test_size=0.2, random_state=42)\n",
    " X_test, X_val, y_test, y_val = train_test_split( X_test, y_test, test_size=0.5, random_state=42)"
   ]
  },
  {
   "cell_type": "code",
   "execution_count": 9,
   "id": "4c7548ec",
   "metadata": {},
   "outputs": [],
   "source": [
    "space={'max_depth': hp.quniform(\"max_depth\", 3, 18, 1),\n",
    "        'gamma': hp.uniform ('gamma', 1,9),\n",
    "        'reg_alpha' : hp.quniform('reg_alpha', 40,180,1),\n",
    "        'reg_lambda' : hp.uniform('reg_lambda', 0,1),\n",
    "        'colsample_bytree' : hp.uniform('colsample_bytree', 0.5,1),\n",
    "        'min_child_weight' : hp.quniform('min_child_weight', 0, 10, 1),\n",
    "        'n_estimators': 180,\n",
    "        'seed': 0\n",
    "    }"
   ]
  },
  {
   "cell_type": "code",
   "execution_count": 10,
   "id": "069c3db6",
   "metadata": {},
   "outputs": [],
   "source": [
    "def objective(space):\n",
    "    clf=xgb.XGBClassifier(\n",
    "                    n_estimators =space['n_estimators'], max_depth = int(space['max_depth']), gamma = space['gamma'],\n",
    "                    reg_alpha = int(space['reg_alpha']),min_child_weight=int(space['min_child_weight']),\n",
    "                    colsample_bytree=int(space['colsample_bytree']))\n",
    "    \n",
    "    evaluation = [( X_train, y_train), ( X_test, y_test)]\n",
    "    \n",
    "    clf.fit(X_train, y_train,\n",
    "            eval_set=evaluation, #eval_metric=\"auc\",\n",
    "            early_stopping_rounds=10,verbose=False)\n",
    "    \n",
    "\n",
    "    pred = clf.predict(X_test)\n",
    "    accuracy = accuracy_score(y_test, pred)\n",
    "    print (\"SCORE:\", accuracy)\n",
    "    return {'loss': -accuracy, 'status': STATUS_OK }"
   ]
  },
  {
   "cell_type": "code",
   "execution_count": 11,
   "id": "d5057ef0",
   "metadata": {},
   "outputs": [
    {
     "name": "stdout",
     "output_type": "stream",
     "text": [
      "\r",
      "  0%|                                          | 0/10 [00:00<?, ?trial/s, best loss=?]"
     ]
    },
    {
     "name": "stderr",
     "output_type": "stream",
     "text": [
      "/Users/ndueser/Documents/Niklas/ML_Seminar/lib/python3.10/site-packages/xgboost/sklearn.py:835: UserWarning: `early_stopping_rounds` in `fit` method is deprecated for better compatibility with scikit-learn, use `early_stopping_rounds` in constructor or`set_params` instead.\n",
      "  warnings.warn(\n",
      "\n"
     ]
    },
    {
     "name": "stdout",
     "output_type": "stream",
     "text": [
      "SCORE:                                                                                \n",
      "0.7789748612471433                                                                    \n",
      " 10%|█▌             | 1/10 [00:45<06:53, 45.97s/trial, best loss: -0.7789748612471433]"
     ]
    },
    {
     "name": "stderr",
     "output_type": "stream",
     "text": [
      "/Users/ndueser/Documents/Niklas/ML_Seminar/lib/python3.10/site-packages/xgboost/sklearn.py:835: UserWarning: `early_stopping_rounds` in `fit` method is deprecated for better compatibility with scikit-learn, use `early_stopping_rounds` in constructor or`set_params` instead.\n",
      "  warnings.warn(\n",
      "\n"
     ]
    },
    {
     "name": "stdout",
     "output_type": "stream",
     "text": [
      "SCORE:                                                                                \n",
      "0.7788788385089589                                                                    \n",
      " 20%|███            | 2/10 [01:39<06:41, 50.15s/trial, best loss: -0.7789748612471433]"
     ]
    },
    {
     "name": "stderr",
     "output_type": "stream",
     "text": [
      "/Users/ndueser/Documents/Niklas/ML_Seminar/lib/python3.10/site-packages/xgboost/sklearn.py:835: UserWarning: `early_stopping_rounds` in `fit` method is deprecated for better compatibility with scikit-learn, use `early_stopping_rounds` in constructor or`set_params` instead.\n",
      "  warnings.warn(\n",
      "\n"
     ]
    },
    {
     "name": "stdout",
     "output_type": "stream",
     "text": [
      "SCORE:                                                                                \n",
      "0.7784755430085845                                                                    \n",
      " 30%|████▌          | 3/10 [02:19<05:20, 45.72s/trial, best loss: -0.7789748612471433]"
     ]
    },
    {
     "name": "stderr",
     "output_type": "stream",
     "text": [
      "/Users/ndueser/Documents/Niklas/ML_Seminar/lib/python3.10/site-packages/xgboost/sklearn.py:835: UserWarning: `early_stopping_rounds` in `fit` method is deprecated for better compatibility with scikit-learn, use `early_stopping_rounds` in constructor or`set_params` instead.\n",
      "  warnings.warn(\n",
      "\n"
     ]
    },
    {
     "name": "stdout",
     "output_type": "stream",
     "text": [
      "SCORE:                                                                                \n",
      "0.778552361199132                                                                     \n",
      " 40%|██████         | 4/10 [03:17<05:04, 50.72s/trial, best loss: -0.7789748612471433]"
     ]
    },
    {
     "name": "stderr",
     "output_type": "stream",
     "text": [
      "/Users/ndueser/Documents/Niklas/ML_Seminar/lib/python3.10/site-packages/xgboost/sklearn.py:835: UserWarning: `early_stopping_rounds` in `fit` method is deprecated for better compatibility with scikit-learn, use `early_stopping_rounds` in constructor or`set_params` instead.\n",
      "  warnings.warn(\n",
      "\n"
     ]
    },
    {
     "name": "stdout",
     "output_type": "stream",
     "text": [
      "SCORE:                                                                                \n",
      "0.7793013385569703                                                                    \n",
      " 50%|███████▌       | 5/10 [03:57<03:52, 46.56s/trial, best loss: -0.7793013385569703]"
     ]
    },
    {
     "name": "stderr",
     "output_type": "stream",
     "text": [
      "/Users/ndueser/Documents/Niklas/ML_Seminar/lib/python3.10/site-packages/xgboost/sklearn.py:835: UserWarning: `early_stopping_rounds` in `fit` method is deprecated for better compatibility with scikit-learn, use `early_stopping_rounds` in constructor or`set_params` instead.\n",
      "  warnings.warn(\n",
      "\n"
     ]
    },
    {
     "name": "stdout",
     "output_type": "stream",
     "text": [
      "SCORE:                                                                                \n",
      "0.7797046340573448                                                                    \n",
      " 60%|█████████      | 6/10 [05:00<03:29, 52.33s/trial, best loss: -0.7797046340573448]"
     ]
    },
    {
     "name": "stderr",
     "output_type": "stream",
     "text": [
      "/Users/ndueser/Documents/Niklas/ML_Seminar/lib/python3.10/site-packages/xgboost/sklearn.py:835: UserWarning: `early_stopping_rounds` in `fit` method is deprecated for better compatibility with scikit-learn, use `early_stopping_rounds` in constructor or`set_params` instead.\n",
      "  warnings.warn(\n",
      "\n"
     ]
    },
    {
     "name": "stdout",
     "output_type": "stream",
     "text": [
      "SCORE:                                                                                \n",
      "0.7792245203664228                                                                    \n",
      " 70%|██████████▌    | 7/10 [05:45<02:30, 50.06s/trial, best loss: -0.7797046340573448]"
     ]
    },
    {
     "name": "stderr",
     "output_type": "stream",
     "text": [
      "/Users/ndueser/Documents/Niklas/ML_Seminar/lib/python3.10/site-packages/xgboost/sklearn.py:835: UserWarning: `early_stopping_rounds` in `fit` method is deprecated for better compatibility with scikit-learn, use `early_stopping_rounds` in constructor or`set_params` instead.\n",
      "  warnings.warn(\n",
      "\n"
     ]
    },
    {
     "name": "stdout",
     "output_type": "stream",
     "text": [
      "SCORE:                                                                                \n",
      "0.779032474890054                                                                     \n",
      " 80%|████████████   | 8/10 [06:40<01:43, 51.53s/trial, best loss: -0.7797046340573448]"
     ]
    },
    {
     "name": "stderr",
     "output_type": "stream",
     "text": [
      "/Users/ndueser/Documents/Niklas/ML_Seminar/lib/python3.10/site-packages/xgboost/sklearn.py:835: UserWarning: `early_stopping_rounds` in `fit` method is deprecated for better compatibility with scikit-learn, use `early_stopping_rounds` in constructor or`set_params` instead.\n",
      "  warnings.warn(\n",
      "\n"
     ]
    },
    {
     "name": "stdout",
     "output_type": "stream",
     "text": [
      "SCORE:                                                                                \n",
      "0.7789556566995064                                                                    \n",
      " 90%|█████████████▌ | 9/10 [07:29<00:50, 50.82s/trial, best loss: -0.7797046340573448]"
     ]
    },
    {
     "name": "stderr",
     "output_type": "stream",
     "text": [
      "/Users/ndueser/Documents/Niklas/ML_Seminar/lib/python3.10/site-packages/xgboost/sklearn.py:835: UserWarning: `early_stopping_rounds` in `fit` method is deprecated for better compatibility with scikit-learn, use `early_stopping_rounds` in constructor or`set_params` instead.\n",
      "  warnings.warn(\n",
      "\n"
     ]
    },
    {
     "name": "stdout",
     "output_type": "stream",
     "text": [
      "SCORE:                                                                                \n",
      "0.778225883889305                                                                     \n",
      "100%|██████████████| 10/10 [08:12<00:00, 49.25s/trial, best loss: -0.7797046340573448]\n"
     ]
    }
   ],
   "source": [
    "trials = Trials()\n",
    "\n",
    "best_hyperparams = fmin(fn = objective,\n",
    "                        space = space,\n",
    "                        algo = tpe.suggest,\n",
    "                        max_evals = 10,\n",
    "                        trials = trials)"
   ]
  },
  {
   "cell_type": "raw",
   "id": "dd12bc38",
   "metadata": {},
   "source": [
    "trials = Trials()\n",
    "\n",
    "best_hyperparams = fmin(fn = objective,\n",
    "                        space = space,\n",
    "                        algo = tpe.suggest,\n",
    "                        max_evals = 50,\n",
    "                        trials = trials)"
   ]
  },
  {
   "cell_type": "code",
   "execution_count": 14,
   "id": "a5b9bfda",
   "metadata": {},
   "outputs": [
    {
     "data": {
      "text/plain": [
       "{'colsample_bytree': 0.8866580175329654,\n",
       " 'gamma': 5.382611073241503,\n",
       " 'max_depth': 12.0,\n",
       " 'min_child_weight': 7.0,\n",
       " 'reg_alpha': 68.0,\n",
       " 'reg_lambda': 0.15614822770506898}"
      ]
     },
     "execution_count": 14,
     "metadata": {},
     "output_type": "execute_result"
    }
   ],
   "source": [
    "best_hyperparams"
   ]
  },
  {
   "cell_type": "code",
   "execution_count": null,
   "id": "3aaa18d7",
   "metadata": {},
   "outputs": [],
   "source": []
  },
  {
   "cell_type": "code",
   "execution_count": null,
   "id": "e2bb5557",
   "metadata": {},
   "outputs": [],
   "source": []
  },
  {
   "cell_type": "code",
   "execution_count": null,
   "id": "2f3dbb86",
   "metadata": {},
   "outputs": [],
   "source": []
  },
  {
   "cell_type": "code",
   "execution_count": 12,
   "id": "081682fc",
   "metadata": {},
   "outputs": [
    {
     "name": "stdout",
     "output_type": "stream",
     "text": [
      "[0]\tvalidation_0-mlogloss:1.03996\tvalidation_1-mlogloss:1.04031\n",
      "[1]\tvalidation_0-mlogloss:1.00416\tvalidation_1-mlogloss:1.00493\n",
      "[2]\tvalidation_0-mlogloss:0.99054\tvalidation_1-mlogloss:0.99133\n",
      "[3]\tvalidation_0-mlogloss:0.98068\tvalidation_1-mlogloss:0.98175\n",
      "[4]\tvalidation_0-mlogloss:0.96818\tvalidation_1-mlogloss:0.96925\n",
      "[5]\tvalidation_0-mlogloss:0.94226\tvalidation_1-mlogloss:0.94266\n",
      "[6]\tvalidation_0-mlogloss:0.92770\tvalidation_1-mlogloss:0.92834\n",
      "[7]\tvalidation_0-mlogloss:0.88749\tvalidation_1-mlogloss:0.88829\n",
      "[8]\tvalidation_0-mlogloss:0.85946\tvalidation_1-mlogloss:0.86041\n",
      "[9]\tvalidation_0-mlogloss:0.82791\tvalidation_1-mlogloss:0.82889\n",
      "[10]\tvalidation_0-mlogloss:0.80840\tvalidation_1-mlogloss:0.80948\n",
      "[11]\tvalidation_0-mlogloss:0.78835\tvalidation_1-mlogloss:0.78944\n",
      "[12]\tvalidation_0-mlogloss:0.77998\tvalidation_1-mlogloss:0.78078\n",
      "[13]\tvalidation_0-mlogloss:0.76839\tvalidation_1-mlogloss:0.76906\n",
      "[14]\tvalidation_0-mlogloss:0.73203\tvalidation_1-mlogloss:0.73209\n",
      "[15]\tvalidation_0-mlogloss:0.72935\tvalidation_1-mlogloss:0.72946\n",
      "[16]\tvalidation_0-mlogloss:0.72075\tvalidation_1-mlogloss:0.72075\n",
      "[17]\tvalidation_0-mlogloss:0.70622\tvalidation_1-mlogloss:0.70631\n",
      "[18]\tvalidation_0-mlogloss:0.69956\tvalidation_1-mlogloss:0.69959\n",
      "[19]\tvalidation_0-mlogloss:0.69555\tvalidation_1-mlogloss:0.69562\n",
      "[20]\tvalidation_0-mlogloss:0.68851\tvalidation_1-mlogloss:0.68862\n",
      "[21]\tvalidation_0-mlogloss:0.68361\tvalidation_1-mlogloss:0.68360\n",
      "[22]\tvalidation_0-mlogloss:0.67387\tvalidation_1-mlogloss:0.67388\n",
      "[23]\tvalidation_0-mlogloss:0.67307\tvalidation_1-mlogloss:0.67305\n",
      "[24]\tvalidation_0-mlogloss:0.66608\tvalidation_1-mlogloss:0.66606\n",
      "[25]\tvalidation_0-mlogloss:0.66225\tvalidation_1-mlogloss:0.66221\n",
      "[26]\tvalidation_0-mlogloss:0.66083\tvalidation_1-mlogloss:0.66072\n",
      "[27]\tvalidation_0-mlogloss:0.65998\tvalidation_1-mlogloss:0.65984\n",
      "[28]\tvalidation_0-mlogloss:0.63807\tvalidation_1-mlogloss:0.63772\n",
      "[29]\tvalidation_0-mlogloss:0.63711\tvalidation_1-mlogloss:0.63679\n",
      "[30]\tvalidation_0-mlogloss:0.63577\tvalidation_1-mlogloss:0.63548\n",
      "[31]\tvalidation_0-mlogloss:0.63104\tvalidation_1-mlogloss:0.63078\n",
      "[32]\tvalidation_0-mlogloss:0.62596\tvalidation_1-mlogloss:0.62558\n",
      "[33]\tvalidation_0-mlogloss:0.62517\tvalidation_1-mlogloss:0.62486\n",
      "[34]\tvalidation_0-mlogloss:0.62346\tvalidation_1-mlogloss:0.62307\n",
      "[35]\tvalidation_0-mlogloss:0.62016\tvalidation_1-mlogloss:0.61976\n",
      "[36]\tvalidation_0-mlogloss:0.61756\tvalidation_1-mlogloss:0.61720\n",
      "[37]\tvalidation_0-mlogloss:0.61407\tvalidation_1-mlogloss:0.61363\n",
      "[38]\tvalidation_0-mlogloss:0.61072\tvalidation_1-mlogloss:0.61017\n",
      "[39]\tvalidation_0-mlogloss:0.60913\tvalidation_1-mlogloss:0.60863\n",
      "[40]\tvalidation_0-mlogloss:0.60800\tvalidation_1-mlogloss:0.60753\n",
      "[41]\tvalidation_0-mlogloss:0.60743\tvalidation_1-mlogloss:0.60698\n",
      "[42]\tvalidation_0-mlogloss:0.60512\tvalidation_1-mlogloss:0.60471\n",
      "[43]\tvalidation_0-mlogloss:0.59274\tvalidation_1-mlogloss:0.59209\n",
      "[44]\tvalidation_0-mlogloss:0.58970\tvalidation_1-mlogloss:0.58896\n",
      "[45]\tvalidation_0-mlogloss:0.58035\tvalidation_1-mlogloss:0.57943\n",
      "[46]\tvalidation_0-mlogloss:0.58000\tvalidation_1-mlogloss:0.57907\n",
      "[47]\tvalidation_0-mlogloss:0.57283\tvalidation_1-mlogloss:0.57184\n",
      "[48]\tvalidation_0-mlogloss:0.57268\tvalidation_1-mlogloss:0.57171\n",
      "[49]\tvalidation_0-mlogloss:0.57140\tvalidation_1-mlogloss:0.57032\n",
      "[50]\tvalidation_0-mlogloss:0.56914\tvalidation_1-mlogloss:0.56805\n",
      "[51]\tvalidation_0-mlogloss:0.56327\tvalidation_1-mlogloss:0.56217\n",
      "[52]\tvalidation_0-mlogloss:0.56243\tvalidation_1-mlogloss:0.56131\n",
      "[53]\tvalidation_0-mlogloss:0.56227\tvalidation_1-mlogloss:0.56114\n",
      "[54]\tvalidation_0-mlogloss:0.56120\tvalidation_1-mlogloss:0.56007\n",
      "[55]\tvalidation_0-mlogloss:0.55948\tvalidation_1-mlogloss:0.55833\n",
      "[56]\tvalidation_0-mlogloss:0.55856\tvalidation_1-mlogloss:0.55731\n",
      "[57]\tvalidation_0-mlogloss:0.55809\tvalidation_1-mlogloss:0.55690\n",
      "[58]\tvalidation_0-mlogloss:0.55358\tvalidation_1-mlogloss:0.55233\n",
      "[59]\tvalidation_0-mlogloss:0.55316\tvalidation_1-mlogloss:0.55194\n",
      "[60]\tvalidation_0-mlogloss:0.55231\tvalidation_1-mlogloss:0.55109\n",
      "[61]\tvalidation_0-mlogloss:0.55079\tvalidation_1-mlogloss:0.54966\n",
      "[62]\tvalidation_0-mlogloss:0.54687\tvalidation_1-mlogloss:0.54561\n",
      "[63]\tvalidation_0-mlogloss:0.54606\tvalidation_1-mlogloss:0.54480\n",
      "[64]\tvalidation_0-mlogloss:0.54220\tvalidation_1-mlogloss:0.54079\n",
      "[65]\tvalidation_0-mlogloss:0.53911\tvalidation_1-mlogloss:0.53753\n",
      "[66]\tvalidation_0-mlogloss:0.53825\tvalidation_1-mlogloss:0.53668\n",
      "[67]\tvalidation_0-mlogloss:0.53795\tvalidation_1-mlogloss:0.53638\n",
      "[68]\tvalidation_0-mlogloss:0.53724\tvalidation_1-mlogloss:0.53569\n",
      "[69]\tvalidation_0-mlogloss:0.53694\tvalidation_1-mlogloss:0.53543\n",
      "[70]\tvalidation_0-mlogloss:0.53664\tvalidation_1-mlogloss:0.53514\n",
      "[71]\tvalidation_0-mlogloss:0.53650\tvalidation_1-mlogloss:0.53499\n",
      "[72]\tvalidation_0-mlogloss:0.53629\tvalidation_1-mlogloss:0.53483\n",
      "[73]\tvalidation_0-mlogloss:0.53382\tvalidation_1-mlogloss:0.53234\n",
      "[74]\tvalidation_0-mlogloss:0.53318\tvalidation_1-mlogloss:0.53169\n",
      "[75]\tvalidation_0-mlogloss:0.53263\tvalidation_1-mlogloss:0.53118\n",
      "[76]\tvalidation_0-mlogloss:0.53258\tvalidation_1-mlogloss:0.53114\n",
      "[77]\tvalidation_0-mlogloss:0.53229\tvalidation_1-mlogloss:0.53085\n",
      "[78]\tvalidation_0-mlogloss:0.53181\tvalidation_1-mlogloss:0.53041\n",
      "[79]\tvalidation_0-mlogloss:0.52970\tvalidation_1-mlogloss:0.52827\n",
      "[80]\tvalidation_0-mlogloss:0.52811\tvalidation_1-mlogloss:0.52663\n",
      "[81]\tvalidation_0-mlogloss:0.52797\tvalidation_1-mlogloss:0.52648\n",
      "[82]\tvalidation_0-mlogloss:0.52768\tvalidation_1-mlogloss:0.52622\n",
      "[83]\tvalidation_0-mlogloss:0.52744\tvalidation_1-mlogloss:0.52595\n",
      "[84]\tvalidation_0-mlogloss:0.52643\tvalidation_1-mlogloss:0.52495\n",
      "[85]\tvalidation_0-mlogloss:0.52597\tvalidation_1-mlogloss:0.52447\n",
      "[86]\tvalidation_0-mlogloss:0.52561\tvalidation_1-mlogloss:0.52407\n",
      "[87]\tvalidation_0-mlogloss:0.52550\tvalidation_1-mlogloss:0.52401\n",
      "[88]\tvalidation_0-mlogloss:0.52365\tvalidation_1-mlogloss:0.52204\n",
      "[89]\tvalidation_0-mlogloss:0.52348\tvalidation_1-mlogloss:0.52188\n",
      "[90]\tvalidation_0-mlogloss:0.52341\tvalidation_1-mlogloss:0.52182\n",
      "[91]\tvalidation_0-mlogloss:0.52187\tvalidation_1-mlogloss:0.52022\n",
      "[92]\tvalidation_0-mlogloss:0.52020\tvalidation_1-mlogloss:0.51848\n",
      "[93]\tvalidation_0-mlogloss:0.51975\tvalidation_1-mlogloss:0.51808\n",
      "[94]\tvalidation_0-mlogloss:0.51968\tvalidation_1-mlogloss:0.51801\n",
      "[95]\tvalidation_0-mlogloss:0.51951\tvalidation_1-mlogloss:0.51783\n",
      "[96]\tvalidation_0-mlogloss:0.51924\tvalidation_1-mlogloss:0.51757\n",
      "[97]\tvalidation_0-mlogloss:0.51869\tvalidation_1-mlogloss:0.51699\n",
      "[98]\tvalidation_0-mlogloss:0.51869\tvalidation_1-mlogloss:0.51700\n",
      "[99]\tvalidation_0-mlogloss:0.51813\tvalidation_1-mlogloss:0.51639\n",
      "[100]\tvalidation_0-mlogloss:0.51802\tvalidation_1-mlogloss:0.51626\n",
      "[101]\tvalidation_0-mlogloss:0.51779\tvalidation_1-mlogloss:0.51603\n",
      "[102]\tvalidation_0-mlogloss:0.51719\tvalidation_1-mlogloss:0.51543\n",
      "[103]\tvalidation_0-mlogloss:0.51704\tvalidation_1-mlogloss:0.51525\n",
      "[104]\tvalidation_0-mlogloss:0.51704\tvalidation_1-mlogloss:0.51525\n",
      "[105]\tvalidation_0-mlogloss:0.51681\tvalidation_1-mlogloss:0.51504\n",
      "[106]\tvalidation_0-mlogloss:0.51662\tvalidation_1-mlogloss:0.51481\n",
      "[107]\tvalidation_0-mlogloss:0.51613\tvalidation_1-mlogloss:0.51430\n",
      "[108]\tvalidation_0-mlogloss:0.51583\tvalidation_1-mlogloss:0.51398\n",
      "[109]\tvalidation_0-mlogloss:0.51545\tvalidation_1-mlogloss:0.51364\n",
      "[110]\tvalidation_0-mlogloss:0.51535\tvalidation_1-mlogloss:0.51350\n",
      "[111]\tvalidation_0-mlogloss:0.51523\tvalidation_1-mlogloss:0.51338\n",
      "[112]\tvalidation_0-mlogloss:0.51515\tvalidation_1-mlogloss:0.51329\n",
      "[113]\tvalidation_0-mlogloss:0.51515\tvalidation_1-mlogloss:0.51329\n",
      "[114]\tvalidation_0-mlogloss:0.51504\tvalidation_1-mlogloss:0.51316\n",
      "[115]\tvalidation_0-mlogloss:0.51494\tvalidation_1-mlogloss:0.51308\n",
      "[116]\tvalidation_0-mlogloss:0.51491\tvalidation_1-mlogloss:0.51305\n",
      "[117]\tvalidation_0-mlogloss:0.51490\tvalidation_1-mlogloss:0.51303\n",
      "[118]\tvalidation_0-mlogloss:0.51441\tvalidation_1-mlogloss:0.51250\n",
      "[119]\tvalidation_0-mlogloss:0.51427\tvalidation_1-mlogloss:0.51234\n",
      "[120]\tvalidation_0-mlogloss:0.51397\tvalidation_1-mlogloss:0.51207\n",
      "[121]\tvalidation_0-mlogloss:0.51359\tvalidation_1-mlogloss:0.51170\n",
      "[122]\tvalidation_0-mlogloss:0.51330\tvalidation_1-mlogloss:0.51141\n",
      "[123]\tvalidation_0-mlogloss:0.51322\tvalidation_1-mlogloss:0.51135\n",
      "[124]\tvalidation_0-mlogloss:0.51310\tvalidation_1-mlogloss:0.51124\n",
      "[125]\tvalidation_0-mlogloss:0.51266\tvalidation_1-mlogloss:0.51077\n"
     ]
    },
    {
     "name": "stdout",
     "output_type": "stream",
     "text": [
      "[126]\tvalidation_0-mlogloss:0.51208\tvalidation_1-mlogloss:0.51018\n",
      "[127]\tvalidation_0-mlogloss:0.51196\tvalidation_1-mlogloss:0.51005\n",
      "[128]\tvalidation_0-mlogloss:0.51187\tvalidation_1-mlogloss:0.50994\n",
      "[129]\tvalidation_0-mlogloss:0.51164\tvalidation_1-mlogloss:0.50975\n",
      "[130]\tvalidation_0-mlogloss:0.51163\tvalidation_1-mlogloss:0.50975\n",
      "[131]\tvalidation_0-mlogloss:0.51113\tvalidation_1-mlogloss:0.50923\n",
      "[132]\tvalidation_0-mlogloss:0.51104\tvalidation_1-mlogloss:0.50915\n",
      "[133]\tvalidation_0-mlogloss:0.51090\tvalidation_1-mlogloss:0.50902\n",
      "[134]\tvalidation_0-mlogloss:0.51079\tvalidation_1-mlogloss:0.50891\n",
      "[135]\tvalidation_0-mlogloss:0.51073\tvalidation_1-mlogloss:0.50888\n",
      "[136]\tvalidation_0-mlogloss:0.51057\tvalidation_1-mlogloss:0.50873\n",
      "[137]\tvalidation_0-mlogloss:0.51015\tvalidation_1-mlogloss:0.50834\n",
      "[138]\tvalidation_0-mlogloss:0.50991\tvalidation_1-mlogloss:0.50807\n",
      "[139]\tvalidation_0-mlogloss:0.50987\tvalidation_1-mlogloss:0.50802\n",
      "[140]\tvalidation_0-mlogloss:0.50947\tvalidation_1-mlogloss:0.50765\n",
      "[141]\tvalidation_0-mlogloss:0.50943\tvalidation_1-mlogloss:0.50760\n",
      "[142]\tvalidation_0-mlogloss:0.50938\tvalidation_1-mlogloss:0.50755\n",
      "[143]\tvalidation_0-mlogloss:0.50933\tvalidation_1-mlogloss:0.50752\n",
      "[144]\tvalidation_0-mlogloss:0.50917\tvalidation_1-mlogloss:0.50736\n",
      "[145]\tvalidation_0-mlogloss:0.50898\tvalidation_1-mlogloss:0.50716\n",
      "[146]\tvalidation_0-mlogloss:0.50895\tvalidation_1-mlogloss:0.50714\n",
      "[147]\tvalidation_0-mlogloss:0.50882\tvalidation_1-mlogloss:0.50702\n",
      "[148]\tvalidation_0-mlogloss:0.50879\tvalidation_1-mlogloss:0.50700\n",
      "[149]\tvalidation_0-mlogloss:0.50870\tvalidation_1-mlogloss:0.50693\n",
      "[150]\tvalidation_0-mlogloss:0.50861\tvalidation_1-mlogloss:0.50685\n",
      "[151]\tvalidation_0-mlogloss:0.50852\tvalidation_1-mlogloss:0.50677\n",
      "[152]\tvalidation_0-mlogloss:0.50850\tvalidation_1-mlogloss:0.50674\n",
      "[153]\tvalidation_0-mlogloss:0.50846\tvalidation_1-mlogloss:0.50670\n",
      "[154]\tvalidation_0-mlogloss:0.50841\tvalidation_1-mlogloss:0.50666\n",
      "[155]\tvalidation_0-mlogloss:0.50825\tvalidation_1-mlogloss:0.50653\n",
      "[156]\tvalidation_0-mlogloss:0.50814\tvalidation_1-mlogloss:0.50640\n",
      "[157]\tvalidation_0-mlogloss:0.50803\tvalidation_1-mlogloss:0.50628\n",
      "[158]\tvalidation_0-mlogloss:0.50774\tvalidation_1-mlogloss:0.50596\n",
      "[159]\tvalidation_0-mlogloss:0.50772\tvalidation_1-mlogloss:0.50595\n",
      "[160]\tvalidation_0-mlogloss:0.50761\tvalidation_1-mlogloss:0.50584\n",
      "[161]\tvalidation_0-mlogloss:0.50741\tvalidation_1-mlogloss:0.50563\n",
      "[162]\tvalidation_0-mlogloss:0.50741\tvalidation_1-mlogloss:0.50563\n",
      "[163]\tvalidation_0-mlogloss:0.50733\tvalidation_1-mlogloss:0.50557\n",
      "[164]\tvalidation_0-mlogloss:0.50717\tvalidation_1-mlogloss:0.50541\n",
      "[165]\tvalidation_0-mlogloss:0.50704\tvalidation_1-mlogloss:0.50527\n",
      "[166]\tvalidation_0-mlogloss:0.50704\tvalidation_1-mlogloss:0.50526\n",
      "[167]\tvalidation_0-mlogloss:0.50702\tvalidation_1-mlogloss:0.50525\n",
      "[168]\tvalidation_0-mlogloss:0.50702\tvalidation_1-mlogloss:0.50525\n",
      "[169]\tvalidation_0-mlogloss:0.50690\tvalidation_1-mlogloss:0.50514\n",
      "[170]\tvalidation_0-mlogloss:0.50682\tvalidation_1-mlogloss:0.50506\n",
      "[171]\tvalidation_0-mlogloss:0.50680\tvalidation_1-mlogloss:0.50505\n",
      "[172]\tvalidation_0-mlogloss:0.50666\tvalidation_1-mlogloss:0.50490\n",
      "[173]\tvalidation_0-mlogloss:0.50660\tvalidation_1-mlogloss:0.50486\n",
      "[174]\tvalidation_0-mlogloss:0.50650\tvalidation_1-mlogloss:0.50477\n",
      "[175]\tvalidation_0-mlogloss:0.50639\tvalidation_1-mlogloss:0.50468\n",
      "[176]\tvalidation_0-mlogloss:0.50634\tvalidation_1-mlogloss:0.50462\n",
      "[177]\tvalidation_0-mlogloss:0.50631\tvalidation_1-mlogloss:0.50460\n",
      "[178]\tvalidation_0-mlogloss:0.50624\tvalidation_1-mlogloss:0.50453\n",
      "[179]\tvalidation_0-mlogloss:0.50614\tvalidation_1-mlogloss:0.50444\n"
     ]
    }
   ],
   "source": [
    "xgb_model=xgb.XGBClassifier(\n",
    "                    n_estimators =180, max_depth = int(best_hyperparams['max_depth']), gamma = best_hyperparams['gamma'],\n",
    "                    reg_alpha = int(best_hyperparams['reg_alpha']),min_child_weight=int(best_hyperparams['min_child_weight']),\n",
    "                    colsample_bytree=int(best_hyperparams['colsample_bytree']))         \n",
    "xgb_model.fit(X_train[features],y_train,\n",
    "             eval_set = [( X_train, y_train), ( X_test, y_test)])\n",
    "y_pred = xgb_model.predict(X_val[features])"
   ]
  },
  {
   "cell_type": "code",
   "execution_count": 33,
   "id": "73ad3b17",
   "metadata": {},
   "outputs": [],
   "source": [
    "history  = xgb_model.evals_result()"
   ]
  },
  {
   "cell_type": "code",
   "execution_count": 37,
   "id": "6140662c",
   "metadata": {},
   "outputs": [
    {
     "data": {
      "text/plain": [
       "dict_keys(['validation_0', 'validation_1'])"
      ]
     },
     "execution_count": 37,
     "metadata": {},
     "output_type": "execute_result"
    }
   ],
   "source": [
    "history.keys()"
   ]
  },
  {
   "cell_type": "code",
   "execution_count": 44,
   "id": "9603d4d0",
   "metadata": {},
   "outputs": [
    {
     "data": {
      "text/plain": [
       "OrderedDict([('mlogloss',\n",
       "              [1.0399692002773844,\n",
       "               1.00419866181396,\n",
       "               0.9905929694253238,\n",
       "               0.9807697981072296,\n",
       "               0.9683387530185,\n",
       "               0.9424370312609233,\n",
       "               0.9279077953881256,\n",
       "               0.8877055154391522,\n",
       "               0.8596715273170508,\n",
       "               0.8281522927193247,\n",
       "               0.8086586603957341,\n",
       "               0.7886323518127453,\n",
       "               0.7802785871180438,\n",
       "               0.7686939942614591,\n",
       "               0.7323234835028886,\n",
       "               0.7296653050064387,\n",
       "               0.7210796791732469,\n",
       "               0.7065456719139472,\n",
       "               0.6998802014790566,\n",
       "               0.6958727798149587,\n",
       "               0.688824408178666,\n",
       "               0.683929603199748,\n",
       "               0.6741873208323159,\n",
       "               0.6733986114337582,\n",
       "               0.666424404264281,\n",
       "               0.6625964438918933,\n",
       "               0.6611929366711541,\n",
       "               0.6603340957213669,\n",
       "               0.6384067664328753,\n",
       "               0.637468370457126,\n",
       "               0.6361205159551996,\n",
       "               0.6313865309205792,\n",
       "               0.6263133530294074,\n",
       "               0.6255341225525655,\n",
       "               0.623831311293694,\n",
       "               0.6205552970124634,\n",
       "               0.6179893296497281,\n",
       "               0.6145082545923962,\n",
       "               0.6111737791681311,\n",
       "               0.6095870979526626,\n",
       "               0.6084590503536308,\n",
       "               0.6078879256477254,\n",
       "               0.6055664487507681,\n",
       "               0.5931788595176761,\n",
       "               0.5901212784765006,\n",
       "               0.5807694226712864,\n",
       "               0.5804196092520189,\n",
       "               0.5732692063754472,\n",
       "               0.5731218233976587,\n",
       "               0.571862219280694,\n",
       "               0.5696243473383005,\n",
       "               0.5637691340920011,\n",
       "               0.5629256520757212,\n",
       "               0.5627736102176656,\n",
       "               0.5617057736248607,\n",
       "               0.5599850460712642,\n",
       "               0.5590632781777951,\n",
       "               0.5586111019073337,\n",
       "               0.554108853008304,\n",
       "               0.5536948065233522,\n",
       "               0.552832999524073,\n",
       "               0.5513125590404226,\n",
       "               0.5473849683878558,\n",
       "               0.5465619759414706,\n",
       "               0.542704973456205,\n",
       "               0.5396104600807268,\n",
       "               0.5387637739259742,\n",
       "               0.5384797752519678,\n",
       "               0.5377640119669554,\n",
       "               0.5374690170365871,\n",
       "               0.5371881968453687,\n",
       "               0.537057472284339,\n",
       "               0.5368528698038786,\n",
       "               0.5343861305198395,\n",
       "               0.533743829343787,\n",
       "               0.5332051355845496,\n",
       "               0.5331507961703482,\n",
       "               0.5328744455213268,\n",
       "               0.5323973313760006,\n",
       "               0.5302689539031565,\n",
       "               0.5286781200477231,\n",
       "               0.5285372918735228,\n",
       "               0.5282496239325914,\n",
       "               0.5279966243730121,\n",
       "               0.5269950450515661,\n",
       "               0.5265259245999266,\n",
       "               0.5261600638244565,\n",
       "               0.5260538271227841,\n",
       "               0.5241934067052054,\n",
       "               0.5240348824717718,\n",
       "               0.5239653661789077,\n",
       "               0.5224223272021024,\n",
       "               0.5207548959369583,\n",
       "               0.520301018661252,\n",
       "               0.5202465146020919,\n",
       "               0.5200738173812104,\n",
       "               0.5198207357506074,\n",
       "               0.5192821480346766,\n",
       "               0.5192812173063843,\n",
       "               0.5187216263152055,\n",
       "               0.5186246703203268,\n",
       "               0.5183975555431882,\n",
       "               0.5177911832317768,\n",
       "               0.5176542006429793,\n",
       "               0.5176535432357552,\n",
       "               0.5174224199803901,\n",
       "               0.5172537796107689,\n",
       "               0.5167575716328169,\n",
       "               0.5164784027495922,\n",
       "               0.516099960707609,\n",
       "               0.5160008952890026,\n",
       "               0.5158980493955293,\n",
       "               0.5158345014313788,\n",
       "               0.5158342009110227,\n",
       "               0.5157257944868826,\n",
       "               0.5156380335552531,\n",
       "               0.5156158966788454,\n",
       "               0.5156090749256541,\n",
       "               0.5151353706830177,\n",
       "               0.5149990729382968,\n",
       "               0.5147058468524408,\n",
       "               0.5143301419392848,\n",
       "               0.5140416093199076,\n",
       "               0.5139582282264067,\n",
       "               0.5138354411648927,\n",
       "               0.5134036408300869,\n",
       "               0.5128230008263243,\n",
       "               0.5127032657702922,\n",
       "               0.5126103518215157,\n",
       "               0.5123858151281332,\n",
       "               0.5123800194207406,\n",
       "               0.5118899783467065,\n",
       "               0.5117949840128828,\n",
       "               0.5116563114591974,\n",
       "               0.5115444409653024,\n",
       "               0.5114890799014141,\n",
       "               0.5113268413967511,\n",
       "               0.5109008686163522,\n",
       "               0.5106527155818661,\n",
       "               0.5106087181965059,\n",
       "               0.5102179512909907,\n",
       "               0.5101717187756731,\n",
       "               0.5101293406806677,\n",
       "               0.5100814907465394,\n",
       "               0.509930026267822,\n",
       "               0.5097257372068777,\n",
       "               0.5096962680397014,\n",
       "               0.5095547919399918,\n",
       "               0.5095363434759236,\n",
       "               0.5094470109475178,\n",
       "               0.5093614010213635,\n",
       "               0.5092873117161119,\n",
       "               0.5092543128141584,\n",
       "               0.5092126871231587,\n",
       "               0.5091560340735372,\n",
       "               0.509000333121455,\n",
       "               0.5088934043364843,\n",
       "               0.508804273398289,\n",
       "               0.5084771952277638,\n",
       "               0.5084771952277638,\n",
       "               0.5083673893730019,\n",
       "               0.5081667503487488,\n",
       "               0.5081667503487488,\n",
       "               0.508076603649854,\n",
       "               0.5079314667888297,\n",
       "               0.507809502144016,\n",
       "               0.5078094425712014,\n",
       "               0.5077914385496592,\n",
       "               0.5077914289818807,\n",
       "               0.5076814838387762,\n",
       "               0.5076015749404587,\n",
       "               0.5075809511070197,\n",
       "               0.5074497405054332,\n",
       "               0.507388952331396,\n",
       "               0.5072890311275711,\n",
       "               0.5071970757942752,\n",
       "               0.5071461093675267,\n",
       "               0.5071279152642341,\n",
       "               0.5070422409983045,\n",
       "               0.5069491156419469])])"
      ]
     },
     "execution_count": 44,
     "metadata": {},
     "output_type": "execute_result"
    }
   ],
   "source": [
    "history['validation_0']"
   ]
  },
  {
   "cell_type": "code",
   "execution_count": 1,
   "id": "c0d9809c",
   "metadata": {},
   "outputs": [
    {
     "ename": "NameError",
     "evalue": "name 'plt' is not defined",
     "output_type": "error",
     "traceback": [
      "\u001b[0;31m---------------------------------------------------------------------------\u001b[0m",
      "\u001b[0;31mNameError\u001b[0m                                 Traceback (most recent call last)",
      "Cell \u001b[0;32mIn[1], line 1\u001b[0m\n\u001b[0;32m----> 1\u001b[0m \u001b[43mplt\u001b[49m\u001b[38;5;241m.\u001b[39mplot(history[\u001b[38;5;124m'\u001b[39m\u001b[38;5;124mvalidation_0\u001b[39m\u001b[38;5;124m'\u001b[39m][\u001b[38;5;124m'\u001b[39m\u001b[38;5;124mmlogloss\u001b[39m\u001b[38;5;124m'\u001b[39m], label\u001b[38;5;241m=\u001b[39m\u001b[38;5;124m'\u001b[39m\u001b[38;5;124mtrain\u001b[39m\u001b[38;5;124m'\u001b[39m)\n\u001b[1;32m      2\u001b[0m plt\u001b[38;5;241m.\u001b[39mplot(history[\u001b[38;5;124m'\u001b[39m\u001b[38;5;124mvalidation_1\u001b[39m\u001b[38;5;124m'\u001b[39m][\u001b[38;5;124m'\u001b[39m\u001b[38;5;124mmlogloss\u001b[39m\u001b[38;5;124m'\u001b[39m], label\u001b[38;5;241m=\u001b[39m\u001b[38;5;124m'\u001b[39m\u001b[38;5;124mtest\u001b[39m\u001b[38;5;124m'\u001b[39m)\n\u001b[1;32m      3\u001b[0m plt\u001b[38;5;241m.\u001b[39mlegend()\n",
      "\u001b[0;31mNameError\u001b[0m: name 'plt' is not defined"
     ]
    }
   ],
   "source": [
    "plt.plot(history['validation_0']['mlogloss'], label='train')\n",
    "plt.plot(history['validation_1']['mlogloss'], label='test')\n",
    "plt.legend()"
   ]
  },
  {
   "cell_type": "raw",
   "id": "675cd973",
   "metadata": {},
   "source": [
    "bins = [-0.25, 0.75, 1.75, 2.75] \n",
    "for label in range(3):\n",
    "    test_label = y_test[y_test==label]\n",
    "    pred_label = y_pred[y_test==label]\n",
    "    true_label = pred_label[pred_label == test_label]\n",
    "    false_label= pred_label[pred_label != test_label]\n",
    "    print(len(false_label))\n",
    "    plt.hist(true_label , bins = bins, histtype = 'barstacked', alpha=0.5, label='True Label ' + str(label), align = 'mid', width = 0.5, color = 'green')\n",
    "    plt.hist(false_label, bins = bins, histtype = 'barstacked', alpha=0.5, label='False Label ' + str(label), align = 'mid', width = 0.5, color = 'red')\n",
    " \n",
    "plt.xlabel('Label')\n",
    "plt.ylabel('Count')\n",
    "plt.legend()\n",
    "#plt.xlim(-0.5, 2.5)\n",
    "plt.xticks(range(3))  # Set the desired xtick locations"
   ]
  },
  {
   "cell_type": "code",
   "execution_count": 19,
   "id": "4a4d235d",
   "metadata": {},
   "outputs": [
    {
     "data": {
      "image/png": "[encoded data removed]",
      "text/plain": [
       "<Figure size 3000x1000 with 3 Axes>"
      ]
     },
     "metadata": {},
     "output_type": "display_data"
    }
   ],
   "source": [
    "bins = [-0.25, 0.75, 1.75, 2.75] \n",
    "fig, ax = plt.subplots(1,3, figsize = (30,10))\n",
    "for i, label in enumerate(range(3)):\n",
    "    test_label = y_val[y_val==label]\n",
    "    pred_label = y_pred[y_val==label]\n",
    "    true_label = pred_label[pred_label == test_label]\n",
    "    false_label= pred_label[pred_label != test_label]\n",
    "    #print(len(false_label))\n",
    "    ax[i].hist(true_label , bins = bins, histtype = 'barstacked', alpha=0.5, label='True Label ' + str(label), align = 'mid', width = 0.5, color = 'green')\n",
    "    ax[i].hist(false_label, bins = bins, histtype = 'barstacked', alpha=0.5, label='False Label ' + str(label), align = 'mid', width = 0.5, color = 'red')\n",
    "    #ax[i] = plt.xlabel('label')\n",
    "    ax[i].set_title(f'Data with true label {i}, Accuracy:{accuracy_score(test_label, pred_label):.3f}')\n",
    "    ax[i].set_xlabel(xlabel = f'Predicted label')\n",
    "    ax[i].set_ylabel('Count')\n",
    "    ax[i].legend()\n",
    "    ax[i].set_xticks(range(3))\n",
    "\n",
    "#plt.legend()\n",
    "#plt.xlim(-0.5, 2.5)\n",
    "#plt.xticks(range(3)) "
   ]
  },
  {
   "cell_type": "code",
   "execution_count": 19,
   "id": "683559b9",
   "metadata": {},
   "outputs": [],
   "source": []
  },
  {
   "cell_type": "code",
   "execution_count": 21,
   "id": "0569aa76",
   "metadata": {},
   "outputs": [],
   "source": []
  },
  {
   "cell_type": "code",
   "execution_count": null,
   "id": "a5bf059d",
   "metadata": {},
   "outputs": [],
   "source": []
  },
  {
   "cell_type": "code",
   "execution_count": null,
   "id": "d59dae85",
   "metadata": {},
   "outputs": [],
   "source": []
  },
  {
   "cell_type": "code",
   "execution_count": null,
   "id": "0e5bf1ea",
   "metadata": {},
   "outputs": [],
   "source": []
  },
  {
   "cell_type": "code",
   "execution_count": null,
   "id": "3bdbc751",
   "metadata": {},
   "outputs": [],
   "source": []
  },
  {
   "cell_type": "code",
   "execution_count": null,
   "id": "3b19f4ba",
   "metadata": {},
   "outputs": [],
   "source": []
  },
  {
   "cell_type": "code",
   "execution_count": null,
   "id": "d8dcf94e",
   "metadata": {},
   "outputs": [],
   "source": []
  }
 ],
 "metadata": {
  "kernelspec": {
   "display_name": "Python 3 (ipykernel)",
   "language": "python",
   "name": "python3"
  },
  "language_info": {
   "codemirror_mode": {
    "name": "ipython",
    "version": 3
   },
   "file_extension": ".py",
   "mimetype": "text/x-python",
   "name": "python",
   "nbconvert_exporter": "python",
   "pygments_lexer": "ipython3",
   "version": "3.10.5"
  }
 },
 "nbformat": 4,
 "nbformat_minor": 5
}
