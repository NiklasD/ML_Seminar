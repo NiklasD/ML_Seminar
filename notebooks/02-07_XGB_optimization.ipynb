{
 "cells": [
  {
   "cell_type": "code",
   "execution_count": 7,
   "id": "44e9994c",
   "metadata": {},
   "outputs": [],
   "source": [
    "# import pathlib\n",
    "import pickle\n",
    "\n",
    "import matplotlib.pyplot as plt\n",
    "import numpy as np\n",
    "import pandas as pd\n",
    "#import re\n",
    "#import random\n",
    "#from sklearn import tree\n",
    "from sklearn.model_selection import train_test_split\n",
    "from sklearn.inspection import permutation_importance\n",
    "from sklearn.metrics import confusion_matrix, classification_report, ConfusionMatrixDisplay, roc_auc_score\n",
    "from hyperopt import STATUS_OK, Trials, fmin, hp, tpe\n",
    "\n",
    "\n",
    "import xgboost as xgb\n",
    "from sklearn.metrics import auc, accuracy_score, mean_squared_error\n",
    "from sklearn.model_selection import cross_val_score, GridSearchCV, KFold, RandomizedSearchCV\n",
    "#from string import ascii_letters\n",
    "import seaborn as sns\n",
    "import h5py as h5\n",
    "\n",
    "#from string import ascii_letters"
   ]
  },
  {
   "cell_type": "raw",
   "id": "4ae2a08d",
   "metadata": {},
   "source": [
    "df[features].to_pickle('../pickle_pd/pd_top_25.pkl')"
   ]
  },
  {
   "cell_type": "code",
   "execution_count": 8,
   "id": "6a87e32e",
   "metadata": {},
   "outputs": [],
   "source": [
    "df =pd.read_pickle('../pickle_pd/pd_top_25.pkl')\n",
    "features = ['lep_pt_2','lep_pt_1','jet_n','lep_E_1','jet_pt_0','lep_eta_0','jet_pt_1','lep_pt_0','lep_E_2','lep_eta_1','lep_phi_1','lep_phi_0',\n",
    "            'lep_ptcone30_1','lep_ptcone30_0','jet_eta_0','jet_m','lep_E_0','jet_eta_1','jet_pt_2','lep_pt_3','jet_E_0','lep_charge_1','lep_charge_0','lep_E_3']"
   ]
  },
  {
   "cell_type": "raw",
   "id": "4f36f2b5",
   "metadata": {},
   "source": [
    " X_train, X_test, y_train, y_test = train_test_split( df[features], df['label'], test_size=0.1, random_state=42)"
   ]
  },
  {
   "cell_type": "code",
   "execution_count": 21,
   "id": "59c95fd0",
   "metadata": {},
   "outputs": [],
   "source": [
    " X_train, X_test, y_train, y_test = train_test_split( df[features], df['label'], test_size=0.4, random_state=42,shuffle = True)\n",
    " X_test, X_val, y_test, y_val = train_test_split( X_test, y_test, test_size=0.5, random_state=42,shuffle = True)"
   ]
  },
  {
   "cell_type": "code",
   "execution_count": 10,
   "id": "4c7548ec",
   "metadata": {},
   "outputs": [],
   "source": [
    "space={'max_depth': hp.quniform(\"max_depth\", 3, 18, 1),\n",
    "        'gamma': hp.uniform ('gamma', 1,9),\n",
    "        'reg_alpha' : hp.quniform('reg_alpha', 40,180,1),\n",
    "        'reg_lambda' : hp.uniform('reg_lambda', 0,1),\n",
    "        'colsample_bytree' : hp.uniform('colsample_bytree', 0.5,1),\n",
    "        'min_child_weight' : hp.quniform('min_child_weight', 0, 10, 1),\n",
    "        'n_estimators': 180,\n",
    "        'seed': 0\n",
    "    }"
   ]
  },
  {
   "cell_type": "code",
   "execution_count": 11,
   "id": "069c3db6",
   "metadata": {},
   "outputs": [],
   "source": [
    "def objective(space):\n",
    "    clf=xgb.XGBClassifier(\n",
    "                    n_estimators =space['n_estimators'], max_depth = int(space['max_depth']), gamma = space['gamma'],\n",
    "                    reg_alpha = int(space['reg_alpha']),min_child_weight=int(space['min_child_weight']),\n",
    "                    colsample_bytree=int(space['colsample_bytree']))\n",
    "    \n",
    "    evaluation = [( X_train, y_train), ( X_test, y_test)]\n",
    "    \n",
    "    clf.fit(X_train, y_train,\n",
    "            eval_set=evaluation, #eval_metric=\"auc\",\n",
    "            early_stopping_rounds=10,verbose=False)\n",
    "    \n",
    "\n",
    "    pred = clf.predict(X_test)\n",
    "    accuracy = accuracy_score(y_test, pred)\n",
    "    print (\"SCORE:\", accuracy)\n",
    "    return {'loss': -accuracy, 'status': STATUS_OK }"
   ]
  },
  {
   "cell_type": "code",
   "execution_count": 12,
   "id": "d5057ef0",
   "metadata": {},
   "outputs": [
    {
     "name": "stdout",
     "output_type": "stream",
     "text": [
      "\r",
      "  0%|                                          | 0/50 [00:00<?, ?trial/s, best loss=?]"
     ]
    },
    {
     "name": "stderr",
     "output_type": "stream",
     "text": [
      "/Users/ndueser/Documents/Niklas/ML_Seminar/lib/python3.10/site-packages/xgboost/sklearn.py:835: UserWarning: `early_stopping_rounds` in `fit` method is deprecated for better compatibility with scikit-learn, use `early_stopping_rounds` in constructor or`set_params` instead.\n",
      "  warnings.warn(\n",
      "\n"
     ]
    },
    {
     "name": "stdout",
     "output_type": "stream",
     "text": [
      "SCORE:                                                                                \n",
      "0.7792821340093334                                                                    \n",
      "  2%|▎              | 1/50 [00:16<13:47, 16.88s/trial, best loss: -0.7792821340093334]"
     ]
    },
    {
     "name": "stderr",
     "output_type": "stream",
     "text": [
      "/Users/ndueser/Documents/Niklas/ML_Seminar/lib/python3.10/site-packages/xgboost/sklearn.py:835: UserWarning: `early_stopping_rounds` in `fit` method is deprecated for better compatibility with scikit-learn, use `early_stopping_rounds` in constructor or`set_params` instead.\n",
      "  warnings.warn(\n",
      "\n"
     ]
    },
    {
     "name": "stdout",
     "output_type": "stream",
     "text": [
      "SCORE:                                                                                \n",
      "0.7783411111751263                                                                    \n",
      "  4%|▌              | 2/50 [00:34<13:51, 17.33s/trial, best loss: -0.7792821340093334]"
     ]
    },
    {
     "name": "stderr",
     "output_type": "stream",
     "text": [
      "/Users/ndueser/Documents/Niklas/ML_Seminar/lib/python3.10/site-packages/xgboost/sklearn.py:835: UserWarning: `early_stopping_rounds` in `fit` method is deprecated for better compatibility with scikit-learn, use `early_stopping_rounds` in constructor or`set_params` instead.\n",
      "  warnings.warn(\n",
      "\n"
     ]
    },
    {
     "name": "stdout",
     "output_type": "stream",
     "text": [
      "SCORE:                                                                                \n",
      "0.7790708839853278                                                                    \n",
      "  6%|▉              | 3/50 [00:54<14:35, 18.63s/trial, best loss: -0.7792821340093334]"
     ]
    },
    {
     "name": "stderr",
     "output_type": "stream",
     "text": [
      "/Users/ndueser/Documents/Niklas/ML_Seminar/lib/python3.10/site-packages/xgboost/sklearn.py:835: UserWarning: `early_stopping_rounds` in `fit` method is deprecated for better compatibility with scikit-learn, use `early_stopping_rounds` in constructor or`set_params` instead.\n",
      "  warnings.warn(\n",
      "\n"
     ]
    },
    {
     "name": "stdout",
     "output_type": "stream",
     "text": [
      "SCORE:                                                                                \n",
      "0.7784755430085845                                                                    \n",
      "  8%|█▏             | 4/50 [01:14<14:34, 19.00s/trial, best loss: -0.7792821340093334]"
     ]
    },
    {
     "name": "stderr",
     "output_type": "stream",
     "text": [
      "/Users/ndueser/Documents/Niklas/ML_Seminar/lib/python3.10/site-packages/xgboost/sklearn.py:835: UserWarning: `early_stopping_rounds` in `fit` method is deprecated for better compatibility with scikit-learn, use `early_stopping_rounds` in constructor or`set_params` instead.\n",
      "  warnings.warn(\n",
      "\n"
     ]
    },
    {
     "name": "stdout",
     "output_type": "stream",
     "text": [
      "SCORE:                                                                                \n",
      "0.7793013385569703                                                                    \n",
      " 10%|█▌             | 5/50 [01:42<16:40, 22.24s/trial, best loss: -0.7793013385569703]"
     ]
    },
    {
     "name": "stderr",
     "output_type": "stream",
     "text": [
      "/Users/ndueser/Documents/Niklas/ML_Seminar/lib/python3.10/site-packages/xgboost/sklearn.py:835: UserWarning: `early_stopping_rounds` in `fit` method is deprecated for better compatibility with scikit-learn, use `early_stopping_rounds` in constructor or`set_params` instead.\n",
      "  warnings.warn(\n",
      "\n"
     ]
    },
    {
     "name": "stdout",
     "output_type": "stream",
     "text": [
      "SCORE:                                                                                \n",
      "0.7780914520558468                                                                    \n",
      " 12%|█▊             | 6/50 [02:19<20:07, 27.45s/trial, best loss: -0.7793013385569703]"
     ]
    },
    {
     "name": "stderr",
     "output_type": "stream",
     "text": [
      "/Users/ndueser/Documents/Niklas/ML_Seminar/lib/python3.10/site-packages/xgboost/sklearn.py:835: UserWarning: `early_stopping_rounds` in `fit` method is deprecated for better compatibility with scikit-learn, use `early_stopping_rounds` in constructor or`set_params` instead.\n",
      "  warnings.warn(\n",
      "\n"
     ]
    },
    {
     "name": "stdout",
     "output_type": "stream",
     "text": [
      "SCORE:                                                                                \n",
      "0.778705997580227                                                                     \n",
      " 14%|██             | 7/50 [02:57<22:03, 30.78s/trial, best loss: -0.7793013385569703]"
     ]
    },
    {
     "name": "stderr",
     "output_type": "stream",
     "text": [
      "/Users/ndueser/Documents/Niklas/ML_Seminar/lib/python3.10/site-packages/xgboost/sklearn.py:835: UserWarning: `early_stopping_rounds` in `fit` method is deprecated for better compatibility with scikit-learn, use `early_stopping_rounds` in constructor or`set_params` instead.\n",
      "  warnings.warn(\n",
      "\n"
     ]
    },
    {
     "name": "stdout",
     "output_type": "stream",
     "text": [
      "SCORE:                                                                                \n",
      "0.7788788385089589                                                                    \n",
      " 16%|██▍            | 8/50 [03:33<22:45, 32.51s/trial, best loss: -0.7793013385569703]"
     ]
    },
    {
     "name": "stderr",
     "output_type": "stream",
     "text": [
      "/Users/ndueser/Documents/Niklas/ML_Seminar/lib/python3.10/site-packages/xgboost/sklearn.py:835: UserWarning: `early_stopping_rounds` in `fit` method is deprecated for better compatibility with scikit-learn, use `early_stopping_rounds` in constructor or`set_params` instead.\n",
      "  warnings.warn(\n",
      "\n"
     ]
    },
    {
     "name": "stdout",
     "output_type": "stream",
     "text": [
      "SCORE:                                                                                \n",
      "0.778552361199132                                                                     \n",
      " 18%|██▋            | 9/50 [04:09<22:51, 33.44s/trial, best loss: -0.7793013385569703]"
     ]
    },
    {
     "name": "stderr",
     "output_type": "stream",
     "text": [
      "/Users/ndueser/Documents/Niklas/ML_Seminar/lib/python3.10/site-packages/xgboost/sklearn.py:835: UserWarning: `early_stopping_rounds` in `fit` method is deprecated for better compatibility with scikit-learn, use `early_stopping_rounds` in constructor or`set_params` instead.\n",
      "  warnings.warn(\n",
      "\n"
     ]
    },
    {
     "name": "stdout",
     "output_type": "stream",
     "text": [
      "SCORE:                                                                                \n",
      "0.7783027020798525                                                                    \n",
      " 20%|██▊           | 10/50 [04:43<22:22, 33.57s/trial, best loss: -0.7793013385569703]"
     ]
    },
    {
     "name": "stderr",
     "output_type": "stream",
     "text": [
      "/Users/ndueser/Documents/Niklas/ML_Seminar/lib/python3.10/site-packages/xgboost/sklearn.py:835: UserWarning: `early_stopping_rounds` in `fit` method is deprecated for better compatibility with scikit-learn, use `early_stopping_rounds` in constructor or`set_params` instead.\n",
      "  warnings.warn(\n",
      "\n"
     ]
    },
    {
     "name": "stdout",
     "output_type": "stream",
     "text": [
      "SCORE:                                                                                \n",
      "0.7788788385089589                                                                    \n",
      " 22%|███           | 11/50 [05:18<22:15, 34.24s/trial, best loss: -0.7793013385569703]"
     ]
    },
    {
     "name": "stderr",
     "output_type": "stream",
     "text": [
      "/Users/ndueser/Documents/Niklas/ML_Seminar/lib/python3.10/site-packages/xgboost/sklearn.py:835: UserWarning: `early_stopping_rounds` in `fit` method is deprecated for better compatibility with scikit-learn, use `early_stopping_rounds` in constructor or`set_params` instead.\n",
      "  warnings.warn(\n",
      "\n"
     ]
    },
    {
     "name": "stdout",
     "output_type": "stream",
     "text": [
      "SCORE:                                                                                \n",
      "0.7787636112231376                                                                    \n",
      " 24%|███▎          | 12/50 [05:54<21:56, 34.66s/trial, best loss: -0.7793013385569703]"
     ]
    },
    {
     "name": "stderr",
     "output_type": "stream",
     "text": [
      "/Users/ndueser/Documents/Niklas/ML_Seminar/lib/python3.10/site-packages/xgboost/sklearn.py:835: UserWarning: `early_stopping_rounds` in `fit` method is deprecated for better compatibility with scikit-learn, use `early_stopping_rounds` in constructor or`set_params` instead.\n",
      "  warnings.warn(\n",
      "\n"
     ]
    },
    {
     "name": "stdout",
     "output_type": "stream",
     "text": [
      "SCORE:                                                                                \n",
      "0.7786099748420426                                                                    \n",
      " 26%|███▋          | 13/50 [06:29<21:23, 34.69s/trial, best loss: -0.7793013385569703]"
     ]
    },
    {
     "name": "stderr",
     "output_type": "stream",
     "text": [
      "/Users/ndueser/Documents/Niklas/ML_Seminar/lib/python3.10/site-packages/xgboost/sklearn.py:835: UserWarning: `early_stopping_rounds` in `fit` method is deprecated for better compatibility with scikit-learn, use `early_stopping_rounds` in constructor or`set_params` instead.\n",
      "  warnings.warn(\n",
      "\n"
     ]
    },
    {
     "name": "stdout",
     "output_type": "stream",
     "text": [
      "SCORE:                                                                                \n",
      "0.7780722475082099                                                                    \n",
      " 28%|███▉          | 14/50 [07:06<21:12, 35.36s/trial, best loss: -0.7793013385569703]"
     ]
    },
    {
     "name": "stderr",
     "output_type": "stream",
     "text": [
      "/Users/ndueser/Documents/Niklas/ML_Seminar/lib/python3.10/site-packages/xgboost/sklearn.py:835: UserWarning: `early_stopping_rounds` in `fit` method is deprecated for better compatibility with scikit-learn, use `early_stopping_rounds` in constructor or`set_params` instead.\n",
      "  warnings.warn(\n",
      "\n"
     ]
    },
    {
     "name": "stdout",
     "output_type": "stream",
     "text": [
      "SCORE:                                                                                \n",
      "0.7781874747940313                                                                    \n",
      " 30%|████▏         | 15/50 [07:43<21:01, 36.04s/trial, best loss: -0.7793013385569703]"
     ]
    },
    {
     "name": "stderr",
     "output_type": "stream",
     "text": [
      "/Users/ndueser/Documents/Niklas/ML_Seminar/lib/python3.10/site-packages/xgboost/sklearn.py:835: UserWarning: `early_stopping_rounds` in `fit` method is deprecated for better compatibility with scikit-learn, use `early_stopping_rounds` in constructor or`set_params` instead.\n",
      "  warnings.warn(\n",
      "\n"
     ]
    },
    {
     "name": "stdout",
     "output_type": "stream",
     "text": [
      "SCORE:                                                                                \n",
      "0.7778225883889305                                                                    \n",
      " 32%|████▍         | 16/50 [08:23<21:01, 37.11s/trial, best loss: -0.7793013385569703]"
     ]
    },
    {
     "name": "stderr",
     "output_type": "stream",
     "text": [
      "/Users/ndueser/Documents/Niklas/ML_Seminar/lib/python3.10/site-packages/xgboost/sklearn.py:835: UserWarning: `early_stopping_rounds` in `fit` method is deprecated for better compatibility with scikit-learn, use `early_stopping_rounds` in constructor or`set_params` instead.\n",
      "  warnings.warn(\n",
      "\n"
     ]
    },
    {
     "name": "stdout",
     "output_type": "stream",
     "text": [
      "SCORE:                                                                                \n",
      "0.7782066793416681                                                                    \n",
      " 34%|████▊         | 17/50 [09:00<20:28, 37.23s/trial, best loss: -0.7793013385569703]"
     ]
    },
    {
     "name": "stderr",
     "output_type": "stream",
     "text": [
      "/Users/ndueser/Documents/Niklas/ML_Seminar/lib/python3.10/site-packages/xgboost/sklearn.py:835: UserWarning: `early_stopping_rounds` in `fit` method is deprecated for better compatibility with scikit-learn, use `early_stopping_rounds` in constructor or`set_params` instead.\n",
      "  warnings.warn(\n",
      "\n"
     ]
    },
    {
     "name": "stdout",
     "output_type": "stream",
     "text": [
      "SCORE:                                                                                \n",
      "0.7796470204144341                                                                    \n",
      " 36%|█████         | 18/50 [09:44<20:57, 39.30s/trial, best loss: -0.7796470204144341]"
     ]
    },
    {
     "name": "stderr",
     "output_type": "stream",
     "text": [
      "/Users/ndueser/Documents/Niklas/ML_Seminar/lib/python3.10/site-packages/xgboost/sklearn.py:835: UserWarning: `early_stopping_rounds` in `fit` method is deprecated for better compatibility with scikit-learn, use `early_stopping_rounds` in constructor or`set_params` instead.\n",
      "  warnings.warn(\n",
      "\n"
     ]
    },
    {
     "name": "stdout",
     "output_type": "stream",
     "text": [
      "SCORE:                                                                                \n",
      "0.7785907702944057                                                                    \n",
      " 38%|█████▎        | 19/50 [10:23<20:10, 39.04s/trial, best loss: -0.7796470204144341]"
     ]
    },
    {
     "name": "stderr",
     "output_type": "stream",
     "text": [
      "/Users/ndueser/Documents/Niklas/ML_Seminar/lib/python3.10/site-packages/xgboost/sklearn.py:835: UserWarning: `early_stopping_rounds` in `fit` method is deprecated for better compatibility with scikit-learn, use `early_stopping_rounds` in constructor or`set_params` instead.\n",
      "  warnings.warn(\n",
      "\n"
     ]
    },
    {
     "name": "stdout",
     "output_type": "stream",
     "text": [
      "SCORE:                                                                                \n",
      "0.7788212248660483                                                                    \n",
      " 40%|█████▌        | 20/50 [11:02<19:35, 39.19s/trial, best loss: -0.7796470204144341]"
     ]
    },
    {
     "name": "stderr",
     "output_type": "stream",
     "text": [
      "/Users/ndueser/Documents/Niklas/ML_Seminar/lib/python3.10/site-packages/xgboost/sklearn.py:835: UserWarning: `early_stopping_rounds` in `fit` method is deprecated for better compatibility with scikit-learn, use `early_stopping_rounds` in constructor or`set_params` instead.\n",
      "  warnings.warn(\n",
      "\n"
     ]
    },
    {
     "name": "stdout",
     "output_type": "stream",
     "text": [
      "SCORE:                                                                                \n",
      "0.7796278158667973                                                                    \n",
      " 42%|█████▉        | 21/50 [11:32<17:35, 36.39s/trial, best loss: -0.7796470204144341]"
     ]
    },
    {
     "name": "stderr",
     "output_type": "stream",
     "text": [
      "/Users/ndueser/Documents/Niklas/ML_Seminar/lib/python3.10/site-packages/xgboost/sklearn.py:835: UserWarning: `early_stopping_rounds` in `fit` method is deprecated for better compatibility with scikit-learn, use `early_stopping_rounds` in constructor or`set_params` instead.\n",
      "  warnings.warn(\n",
      "\n"
     ]
    },
    {
     "name": "stdout",
     "output_type": "stream",
     "text": [
      "SCORE:                                                                                \n",
      "0.7794549749380654                                                                    \n",
      " 44%|██████▏       | 22/50 [12:01<15:53, 34.06s/trial, best loss: -0.7796470204144341]"
     ]
    },
    {
     "name": "stderr",
     "output_type": "stream",
     "text": [
      "/Users/ndueser/Documents/Niklas/ML_Seminar/lib/python3.10/site-packages/xgboost/sklearn.py:835: UserWarning: `early_stopping_rounds` in `fit` method is deprecated for better compatibility with scikit-learn, use `early_stopping_rounds` in constructor or`set_params` instead.\n",
      "  warnings.warn(\n",
      "\n"
     ]
    },
    {
     "name": "stdout",
     "output_type": "stream",
     "text": [
      "SCORE:                                                                                \n",
      "0.7794741794857022                                                                    \n",
      " 46%|█████      | 23/50 [28:26<2:23:44, 319.44s/trial, best loss: -0.7796470204144341]"
     ]
    },
    {
     "name": "stderr",
     "output_type": "stream",
     "text": [
      "/Users/ndueser/Documents/Niklas/ML_Seminar/lib/python3.10/site-packages/xgboost/sklearn.py:835: UserWarning: `early_stopping_rounds` in `fit` method is deprecated for better compatibility with scikit-learn, use `early_stopping_rounds` in constructor or`set_params` instead.\n",
      "  warnings.warn(\n",
      "\n"
     ]
    },
    {
     "name": "stdout",
     "output_type": "stream",
     "text": [
      "SCORE:                                                                                \n",
      "0.7791092930806015                                                                    \n",
      " 48%|█████▎     | 24/50 [44:43<3:43:52, 516.63s/trial, best loss: -0.7796470204144341]"
     ]
    },
    {
     "name": "stderr",
     "output_type": "stream",
     "text": [
      "/Users/ndueser/Documents/Niklas/ML_Seminar/lib/python3.10/site-packages/xgboost/sklearn.py:835: UserWarning: `early_stopping_rounds` in `fit` method is deprecated for better compatibility with scikit-learn, use `early_stopping_rounds` in constructor or`set_params` instead.\n",
      "  warnings.warn(\n",
      "\n"
     ]
    },
    {
     "name": "stdout",
     "output_type": "stream",
     "text": [
      "SCORE:                                                                                \n",
      "0.7800311113671717                                                                    \n",
      " 50%|█████▌     | 25/50 [45:03<2:33:16, 367.85s/trial, best loss: -0.7800311113671717]"
     ]
    },
    {
     "name": "stderr",
     "output_type": "stream",
     "text": [
      "/Users/ndueser/Documents/Niklas/ML_Seminar/lib/python3.10/site-packages/xgboost/sklearn.py:835: UserWarning: `early_stopping_rounds` in `fit` method is deprecated for better compatibility with scikit-learn, use `early_stopping_rounds` in constructor or`set_params` instead.\n",
      "  warnings.warn(\n",
      "\n"
     ]
    },
    {
     "name": "stdout",
     "output_type": "stream",
     "text": [
      "SCORE:                                                                                \n",
      "0.7800119068195349                                                                    \n",
      " 52%|█████▋     | 26/50 [55:17<2:56:39, 441.66s/trial, best loss: -0.7800311113671717]"
     ]
    },
    {
     "name": "stderr",
     "output_type": "stream",
     "text": [
      "/Users/ndueser/Documents/Niklas/ML_Seminar/lib/python3.10/site-packages/xgboost/sklearn.py:835: UserWarning: `early_stopping_rounds` in `fit` method is deprecated for better compatibility with scikit-learn, use `early_stopping_rounds` in constructor or`set_params` instead.\n",
      "  warnings.warn(\n",
      "\n"
     ]
    },
    {
     "name": "stdout",
     "output_type": "stream",
     "text": [
      "SCORE:                                                                                \n",
      "0.7797430431526186                                                                    \n",
      " 54%|█████▉     | 27/50 [55:33<2:00:19, 313.88s/trial, best loss: -0.7800311113671717]"
     ]
    },
    {
     "name": "stderr",
     "output_type": "stream",
     "text": [
      "/Users/ndueser/Documents/Niklas/ML_Seminar/lib/python3.10/site-packages/xgboost/sklearn.py:835: UserWarning: `early_stopping_rounds` in `fit` method is deprecated for better compatibility with scikit-learn, use `early_stopping_rounds` in constructor or`set_params` instead.\n",
      "  warnings.warn(\n",
      "\n"
     ]
    },
    {
     "name": "stdout",
     "output_type": "stream",
     "text": [
      "SCORE:                                                                                \n",
      "0.7794165658427916                                                                    \n",
      " 56%|██████▏    | 28/50 [55:49<1:22:16, 224.41s/trial, best loss: -0.7800311113671717]"
     ]
    },
    {
     "name": "stderr",
     "output_type": "stream",
     "text": [
      "/Users/ndueser/Documents/Niklas/ML_Seminar/lib/python3.10/site-packages/xgboost/sklearn.py:835: UserWarning: `early_stopping_rounds` in `fit` method is deprecated for better compatibility with scikit-learn, use `early_stopping_rounds` in constructor or`set_params` instead.\n",
      "  warnings.warn(\n",
      "\n"
     ]
    },
    {
     "name": "stdout",
     "output_type": "stream",
     "text": [
      "SCORE:                                                                                \n",
      "0.7793781567475178                                                                    \n",
      " 58%|███████▌     | 29/50 [56:07<56:53, 162.57s/trial, best loss: -0.7800311113671717]"
     ]
    },
    {
     "name": "stderr",
     "output_type": "stream",
     "text": [
      "/Users/ndueser/Documents/Niklas/ML_Seminar/lib/python3.10/site-packages/xgboost/sklearn.py:835: UserWarning: `early_stopping_rounds` in `fit` method is deprecated for better compatibility with scikit-learn, use `early_stopping_rounds` in constructor or`set_params` instead.\n",
      "  warnings.warn(\n",
      "\n"
     ]
    },
    {
     "name": "stdout",
     "output_type": "stream",
     "text": [
      "SCORE:                                                                                \n",
      "0.7799158840813505                                                                    \n",
      " 60%|███████▊     | 30/50 [56:23<39:34, 118.73s/trial, best loss: -0.7800311113671717]"
     ]
    },
    {
     "name": "stderr",
     "output_type": "stream",
     "text": [
      "/Users/ndueser/Documents/Niklas/ML_Seminar/lib/python3.10/site-packages/xgboost/sklearn.py:835: UserWarning: `early_stopping_rounds` in `fit` method is deprecated for better compatibility with scikit-learn, use `early_stopping_rounds` in constructor or`set_params` instead.\n",
      "  warnings.warn(\n",
      "\n"
     ]
    },
    {
     "name": "stdout",
     "output_type": "stream",
     "text": [
      "SCORE:                                                                                \n",
      "0.7799158840813505                                                                    \n",
      " 62%|████████▋     | 31/50 [56:42<28:04, 88.66s/trial, best loss: -0.7800311113671717]"
     ]
    },
    {
     "name": "stderr",
     "output_type": "stream",
     "text": [
      "/Users/ndueser/Documents/Niklas/ML_Seminar/lib/python3.10/site-packages/xgboost/sklearn.py:835: UserWarning: `early_stopping_rounds` in `fit` method is deprecated for better compatibility with scikit-learn, use `early_stopping_rounds` in constructor or`set_params` instead.\n",
      "  warnings.warn(\n",
      "\n"
     ]
    },
    {
     "name": "stdout",
     "output_type": "stream",
     "text": [
      "SCORE:                                                                                \n",
      "0.7792821340093334                                                                    \n",
      " 64%|████████▉     | 32/50 [57:01<20:21, 67.88s/trial, best loss: -0.7800311113671717]"
     ]
    },
    {
     "name": "stderr",
     "output_type": "stream",
     "text": [
      "/Users/ndueser/Documents/Niklas/ML_Seminar/lib/python3.10/site-packages/xgboost/sklearn.py:835: UserWarning: `early_stopping_rounds` in `fit` method is deprecated for better compatibility with scikit-learn, use `early_stopping_rounds` in constructor or`set_params` instead.\n",
      "  warnings.warn(\n",
      "\n"
     ]
    },
    {
     "name": "stdout",
     "output_type": "stream",
     "text": [
      "SCORE:                                                                                \n",
      "0.7785715657467689                                                                    \n",
      " 66%|█████████▏    | 33/50 [57:15<14:38, 51.68s/trial, best loss: -0.7800311113671717]"
     ]
    },
    {
     "name": "stderr",
     "output_type": "stream",
     "text": [
      "/Users/ndueser/Documents/Niklas/ML_Seminar/lib/python3.10/site-packages/xgboost/sklearn.py:835: UserWarning: `early_stopping_rounds` in `fit` method is deprecated for better compatibility with scikit-learn, use `early_stopping_rounds` in constructor or`set_params` instead.\n",
      "  warnings.warn(\n",
      "\n"
     ]
    },
    {
     "name": "stdout",
     "output_type": "stream",
     "text": [
      "SCORE:                                                                                \n",
      "0.7792437249140597                                                                    \n",
      " 68%|█████████▌    | 34/50 [57:33<11:06, 41.64s/trial, best loss: -0.7800311113671717]"
     ]
    },
    {
     "name": "stderr",
     "output_type": "stream",
     "text": [
      "/Users/ndueser/Documents/Niklas/ML_Seminar/lib/python3.10/site-packages/xgboost/sklearn.py:835: UserWarning: `early_stopping_rounds` in `fit` method is deprecated for better compatibility with scikit-learn, use `early_stopping_rounds` in constructor or`set_params` instead.\n",
      "  warnings.warn(\n",
      "\n"
     ]
    },
    {
     "name": "stdout",
     "output_type": "stream",
     "text": [
      "SCORE:                                                                                \n",
      "0.7789748612471433                                                                    \n",
      " 70%|█████████▊    | 35/50 [57:52<08:43, 34.87s/trial, best loss: -0.7800311113671717]"
     ]
    },
    {
     "name": "stderr",
     "output_type": "stream",
     "text": [
      "/Users/ndueser/Documents/Niklas/ML_Seminar/lib/python3.10/site-packages/xgboost/sklearn.py:835: UserWarning: `early_stopping_rounds` in `fit` method is deprecated for better compatibility with scikit-learn, use `early_stopping_rounds` in constructor or`set_params` instead.\n",
      "  warnings.warn(\n",
      "\n"
     ]
    },
    {
     "name": "stdout",
     "output_type": "stream",
     "text": [
      "SCORE:                                                                                \n",
      "0.7797046340573448                                                                    \n",
      " 72%|██████████    | 36/50 [58:09<06:52, 29.48s/trial, best loss: -0.7800311113671717]"
     ]
    },
    {
     "name": "stderr",
     "output_type": "stream",
     "text": [
      "/Users/ndueser/Documents/Niklas/ML_Seminar/lib/python3.10/site-packages/xgboost/sklearn.py:835: UserWarning: `early_stopping_rounds` in `fit` method is deprecated for better compatibility with scikit-learn, use `early_stopping_rounds` in constructor or`set_params` instead.\n",
      "  warnings.warn(\n",
      "\n"
     ]
    },
    {
     "name": "stdout",
     "output_type": "stream",
     "text": [
      "SCORE:                                                                                \n",
      "0.7795702022238866                                                                    \n",
      " 74%|██████████▎   | 37/50 [58:30<05:49, 26.91s/trial, best loss: -0.7800311113671717]"
     ]
    },
    {
     "name": "stderr",
     "output_type": "stream",
     "text": [
      "/Users/ndueser/Documents/Niklas/ML_Seminar/lib/python3.10/site-packages/xgboost/sklearn.py:835: UserWarning: `early_stopping_rounds` in `fit` method is deprecated for better compatibility with scikit-learn, use `early_stopping_rounds` in constructor or`set_params` instead.\n",
      "  warnings.warn(\n",
      "\n"
     ]
    },
    {
     "name": "stdout",
     "output_type": "stream",
     "text": [
      "SCORE:                                                                                \n",
      "0.7794357703904284                                                                    \n",
      " 76%|██████████▋   | 38/50 [58:55<05:16, 26.38s/trial, best loss: -0.7800311113671717]"
     ]
    },
    {
     "name": "stderr",
     "output_type": "stream",
     "text": [
      "/Users/ndueser/Documents/Niklas/ML_Seminar/lib/python3.10/site-packages/xgboost/sklearn.py:835: UserWarning: `early_stopping_rounds` in `fit` method is deprecated for better compatibility with scikit-learn, use `early_stopping_rounds` in constructor or`set_params` instead.\n",
      "  warnings.warn(\n",
      "\n"
     ]
    },
    {
     "name": "stdout",
     "output_type": "stream",
     "text": [
      "SCORE:                                                                                \n",
      "0.7795702022238866                                                                    \n",
      " 78%|██████████▉   | 39/50 [59:26<05:04, 27.65s/trial, best loss: -0.7800311113671717]"
     ]
    },
    {
     "name": "stderr",
     "output_type": "stream",
     "text": [
      "/Users/ndueser/Documents/Niklas/ML_Seminar/lib/python3.10/site-packages/xgboost/sklearn.py:835: UserWarning: `early_stopping_rounds` in `fit` method is deprecated for better compatibility with scikit-learn, use `early_stopping_rounds` in constructor or`set_params` instead.\n",
      "  warnings.warn(\n",
      "\n"
     ]
    },
    {
     "name": "stdout",
     "output_type": "stream",
     "text": [
      "SCORE:                                                                                \n",
      "0.7794933840333391                                                                    \n",
      " 80%|███████████▏  | 40/50 [59:53<04:34, 27.49s/trial, best loss: -0.7800311113671717]"
     ]
    },
    {
     "name": "stderr",
     "output_type": "stream",
     "text": [
      "/Users/ndueser/Documents/Niklas/ML_Seminar/lib/python3.10/site-packages/xgboost/sklearn.py:835: UserWarning: `early_stopping_rounds` in `fit` method is deprecated for better compatibility with scikit-learn, use `early_stopping_rounds` in constructor or`set_params` instead.\n",
      "  warnings.warn(\n",
      "\n"
     ]
    },
    {
     "name": "stdout",
     "output_type": "stream",
     "text": [
      "SCORE:                                                                                \n",
      "0.7790132703424171                                                                    \n",
      " 82%|█████████▊  | 41/50 [1:00:22<04:12, 28.07s/trial, best loss: -0.7800311113671717]"
     ]
    },
    {
     "name": "stderr",
     "output_type": "stream",
     "text": [
      "/Users/ndueser/Documents/Niklas/ML_Seminar/lib/python3.10/site-packages/xgboost/sklearn.py:835: UserWarning: `early_stopping_rounds` in `fit` method is deprecated for better compatibility with scikit-learn, use `early_stopping_rounds` in constructor or`set_params` instead.\n",
      "  warnings.warn(\n",
      "\n"
     ]
    },
    {
     "name": "stdout",
     "output_type": "stream",
     "text": [
      "SCORE:                                                                                \n",
      "0.7791092930806015                                                                    \n",
      " 84%|██████████  | 42/50 [1:00:53<03:49, 28.68s/trial, best loss: -0.7800311113671717]"
     ]
    },
    {
     "name": "stderr",
     "output_type": "stream",
     "text": [
      "/Users/ndueser/Documents/Niklas/ML_Seminar/lib/python3.10/site-packages/xgboost/sklearn.py:835: UserWarning: `early_stopping_rounds` in `fit` method is deprecated for better compatibility with scikit-learn, use `early_stopping_rounds` in constructor or`set_params` instead.\n",
      "  warnings.warn(\n",
      "\n"
     ]
    },
    {
     "name": "stdout",
     "output_type": "stream",
     "text": [
      "SCORE:                                                                                \n",
      "0.7793205431046072                                                                    \n",
      " 86%|██████████▎ | 43/50 [1:01:23<03:24, 29.22s/trial, best loss: -0.7800311113671717]"
     ]
    },
    {
     "name": "stderr",
     "output_type": "stream",
     "text": [
      "/Users/ndueser/Documents/Niklas/ML_Seminar/lib/python3.10/site-packages/xgboost/sklearn.py:835: UserWarning: `early_stopping_rounds` in `fit` method is deprecated for better compatibility with scikit-learn, use `early_stopping_rounds` in constructor or`set_params` instead.\n",
      "  warnings.warn(\n",
      "\n"
     ]
    },
    {
     "name": "stdout",
     "output_type": "stream",
     "text": [
      "SCORE:                                                                                \n",
      "0.7791477021758753                                                                    \n",
      " 88%|██████████▌ | 44/50 [1:01:44<02:39, 26.64s/trial, best loss: -0.7800311113671717]"
     ]
    },
    {
     "name": "stderr",
     "output_type": "stream",
     "text": [
      "/Users/ndueser/Documents/Niklas/ML_Seminar/lib/python3.10/site-packages/xgboost/sklearn.py:835: UserWarning: `early_stopping_rounds` in `fit` method is deprecated for better compatibility with scikit-learn, use `early_stopping_rounds` in constructor or`set_params` instead.\n",
      "  warnings.warn(\n",
      "\n"
     ]
    },
    {
     "name": "stdout",
     "output_type": "stream",
     "text": [
      "SCORE:                                                                                \n",
      "0.7795317931286129                                                                    \n",
      " 90%|██████████▊ | 45/50 [1:02:15<02:19, 27.91s/trial, best loss: -0.7800311113671717]"
     ]
    },
    {
     "name": "stderr",
     "output_type": "stream",
     "text": [
      "/Users/ndueser/Documents/Niklas/ML_Seminar/lib/python3.10/site-packages/xgboost/sklearn.py:835: UserWarning: `early_stopping_rounds` in `fit` method is deprecated for better compatibility with scikit-learn, use `early_stopping_rounds` in constructor or`set_params` instead.\n",
      "  warnings.warn(\n",
      "\n"
     ]
    },
    {
     "name": "stdout",
     "output_type": "stream",
     "text": [
      "SCORE:                                                                                \n",
      "0.7798582704384398                                                                    \n",
      " 92%|███████████ | 46/50 [1:02:50<02:00, 30.05s/trial, best loss: -0.7800311113671717]"
     ]
    },
    {
     "name": "stderr",
     "output_type": "stream",
     "text": [
      "/Users/ndueser/Documents/Niklas/ML_Seminar/lib/python3.10/site-packages/xgboost/sklearn.py:835: UserWarning: `early_stopping_rounds` in `fit` method is deprecated for better compatibility with scikit-learn, use `early_stopping_rounds` in constructor or`set_params` instead.\n",
      "  warnings.warn(\n",
      "\n"
     ]
    },
    {
     "name": "stdout",
     "output_type": "stream",
     "text": [
      "SCORE:                                                                                \n",
      "0.779839065890803                                                                     \n",
      " 94%|███████████▎| 47/50 [1:03:21<01:31, 30.60s/trial, best loss: -0.7800311113671717]"
     ]
    },
    {
     "name": "stderr",
     "output_type": "stream",
     "text": [
      "/Users/ndueser/Documents/Niklas/ML_Seminar/lib/python3.10/site-packages/xgboost/sklearn.py:835: UserWarning: `early_stopping_rounds` in `fit` method is deprecated for better compatibility with scikit-learn, use `early_stopping_rounds` in constructor or`set_params` instead.\n",
      "  warnings.warn(\n",
      "\n"
     ]
    },
    {
     "name": "stdout",
     "output_type": "stream",
     "text": [
      "SCORE:                                                                                \n",
      "0.7788212248660483                                                                    \n",
      " 96%|███████████▌| 48/50 [1:03:45<00:57, 28.52s/trial, best loss: -0.7800311113671717]"
     ]
    },
    {
     "name": "stderr",
     "output_type": "stream",
     "text": [
      "/Users/ndueser/Documents/Niklas/ML_Seminar/lib/python3.10/site-packages/xgboost/sklearn.py:835: UserWarning: `early_stopping_rounds` in `fit` method is deprecated for better compatibility with scikit-learn, use `early_stopping_rounds` in constructor or`set_params` instead.\n",
      "  warnings.warn(\n",
      "\n"
     ]
    },
    {
     "name": "stdout",
     "output_type": "stream",
     "text": [
      "SCORE:                                                                                \n",
      "0.7791092930806015                                                                    \n",
      " 98%|███████████▊| 49/50 [1:04:13<00:28, 28.41s/trial, best loss: -0.7800311113671717]"
     ]
    },
    {
     "name": "stderr",
     "output_type": "stream",
     "text": [
      "/Users/ndueser/Documents/Niklas/ML_Seminar/lib/python3.10/site-packages/xgboost/sklearn.py:835: UserWarning: `early_stopping_rounds` in `fit` method is deprecated for better compatibility with scikit-learn, use `early_stopping_rounds` in constructor or`set_params` instead.\n",
      "  warnings.warn(\n",
      "\n"
     ]
    },
    {
     "name": "stdout",
     "output_type": "stream",
     "text": [
      "SCORE:                                                                                \n",
      "0.778398724818037                                                                     \n",
      "100%|████████████| 50/50 [1:04:40<00:00, 77.61s/trial, best loss: -0.7800311113671717]\n"
     ]
    }
   ],
   "source": [
    "trials = Trials()\n",
    "\n",
    "best_hyperparams = fmin(fn = objective,\n",
    "                        space = space,\n",
    "                        algo = tpe.suggest,\n",
    "                        max_evals = 50,\n",
    "                        trials = trials)"
   ]
  },
  {
   "cell_type": "raw",
   "id": "dd12bc38",
   "metadata": {},
   "source": [
    "trials = Trials()\n",
    "\n",
    "best_hyperparams = fmin(fn = objective,\n",
    "                        space = space,\n",
    "                        algo = tpe.suggest,\n",
    "                        max_evals = 50,\n",
    "                        trials = trials)"
   ]
  },
  {
   "cell_type": "code",
   "execution_count": 13,
   "id": "a5b9bfda",
   "metadata": {},
   "outputs": [
    {
     "data": {
      "text/plain": [
       "{'colsample_bytree': 0.7576375295176072,\n",
       " 'gamma': 1.9649156900065439,\n",
       " 'max_depth': 3.0,\n",
       " 'min_child_weight': 7.0,\n",
       " 'reg_alpha': 42.0,\n",
       " 'reg_lambda': 0.42853588282269506}"
      ]
     },
     "execution_count": 13,
     "metadata": {},
     "output_type": "execute_result"
    }
   ],
   "source": [
    "best_hyperparams"
   ]
  },
  {
   "cell_type": "code",
   "execution_count": null,
   "id": "3aaa18d7",
   "metadata": {},
   "outputs": [],
   "source": []
  },
  {
   "cell_type": "code",
   "execution_count": null,
   "id": "e2bb5557",
   "metadata": {},
   "outputs": [],
   "source": []
  },
  {
   "cell_type": "code",
   "execution_count": null,
   "id": "2f3dbb86",
   "metadata": {},
   "outputs": [],
   "source": []
  },
  {
   "cell_type": "code",
   "execution_count": 14,
   "id": "081682fc",
   "metadata": {},
   "outputs": [
    {
     "name": "stdout",
     "output_type": "stream",
     "text": [
      "[0]\tvalidation_0-mlogloss:1.03990\tvalidation_1-mlogloss:1.04026\n",
      "[1]\tvalidation_0-mlogloss:1.00416\tvalidation_1-mlogloss:1.00492\n",
      "[2]\tvalidation_0-mlogloss:0.99056\tvalidation_1-mlogloss:0.99132\n",
      "[3]\tvalidation_0-mlogloss:0.98072\tvalidation_1-mlogloss:0.98177\n",
      "[4]\tvalidation_0-mlogloss:0.96831\tvalidation_1-mlogloss:0.96931\n",
      "[5]\tvalidation_0-mlogloss:0.94244\tvalidation_1-mlogloss:0.94277\n",
      "[6]\tvalidation_0-mlogloss:0.92796\tvalidation_1-mlogloss:0.92854\n",
      "[7]\tvalidation_0-mlogloss:0.88775\tvalidation_1-mlogloss:0.88852\n",
      "[8]\tvalidation_0-mlogloss:0.85968\tvalidation_1-mlogloss:0.86060\n",
      "[9]\tvalidation_0-mlogloss:0.82873\tvalidation_1-mlogloss:0.82965\n",
      "[10]\tvalidation_0-mlogloss:0.80931\tvalidation_1-mlogloss:0.81029\n",
      "[11]\tvalidation_0-mlogloss:0.78940\tvalidation_1-mlogloss:0.79040\n",
      "[12]\tvalidation_0-mlogloss:0.78116\tvalidation_1-mlogloss:0.78187\n",
      "[13]\tvalidation_0-mlogloss:0.76953\tvalidation_1-mlogloss:0.77010\n",
      "[14]\tvalidation_0-mlogloss:0.73310\tvalidation_1-mlogloss:0.73307\n",
      "[15]\tvalidation_0-mlogloss:0.73049\tvalidation_1-mlogloss:0.73051\n",
      "[16]\tvalidation_0-mlogloss:0.72197\tvalidation_1-mlogloss:0.72184\n",
      "[17]\tvalidation_0-mlogloss:0.70740\tvalidation_1-mlogloss:0.70736\n",
      "[18]\tvalidation_0-mlogloss:0.70075\tvalidation_1-mlogloss:0.70063\n",
      "[19]\tvalidation_0-mlogloss:0.69673\tvalidation_1-mlogloss:0.69668\n",
      "[20]\tvalidation_0-mlogloss:0.68966\tvalidation_1-mlogloss:0.68964\n",
      "[21]\tvalidation_0-mlogloss:0.68474\tvalidation_1-mlogloss:0.68459\n",
      "[22]\tvalidation_0-mlogloss:0.67493\tvalidation_1-mlogloss:0.67477\n",
      "[23]\tvalidation_0-mlogloss:0.67411\tvalidation_1-mlogloss:0.67394\n",
      "[24]\tvalidation_0-mlogloss:0.66706\tvalidation_1-mlogloss:0.66691\n",
      "[25]\tvalidation_0-mlogloss:0.66325\tvalidation_1-mlogloss:0.66307\n",
      "[26]\tvalidation_0-mlogloss:0.66181\tvalidation_1-mlogloss:0.66153\n",
      "[27]\tvalidation_0-mlogloss:0.66096\tvalidation_1-mlogloss:0.66065\n",
      "[28]\tvalidation_0-mlogloss:0.63888\tvalidation_1-mlogloss:0.63839\n",
      "[29]\tvalidation_0-mlogloss:0.63790\tvalidation_1-mlogloss:0.63744\n",
      "[30]\tvalidation_0-mlogloss:0.63654\tvalidation_1-mlogloss:0.63612\n",
      "[31]\tvalidation_0-mlogloss:0.63176\tvalidation_1-mlogloss:0.63137\n",
      "[32]\tvalidation_0-mlogloss:0.62676\tvalidation_1-mlogloss:0.62626\n",
      "[33]\tvalidation_0-mlogloss:0.62596\tvalidation_1-mlogloss:0.62552\n",
      "[34]\tvalidation_0-mlogloss:0.62424\tvalidation_1-mlogloss:0.62373\n",
      "[35]\tvalidation_0-mlogloss:0.62088\tvalidation_1-mlogloss:0.62034\n",
      "[36]\tvalidation_0-mlogloss:0.61824\tvalidation_1-mlogloss:0.61774\n",
      "[37]\tvalidation_0-mlogloss:0.61604\tvalidation_1-mlogloss:0.61548\n",
      "[38]\tvalidation_0-mlogloss:0.61259\tvalidation_1-mlogloss:0.61190\n",
      "[39]\tvalidation_0-mlogloss:0.61088\tvalidation_1-mlogloss:0.61026\n",
      "[40]\tvalidation_0-mlogloss:0.60971\tvalidation_1-mlogloss:0.60911\n",
      "[41]\tvalidation_0-mlogloss:0.60909\tvalidation_1-mlogloss:0.60852\n",
      "[42]\tvalidation_0-mlogloss:0.60666\tvalidation_1-mlogloss:0.60612\n",
      "[43]\tvalidation_0-mlogloss:0.59421\tvalidation_1-mlogloss:0.59345\n",
      "[44]\tvalidation_0-mlogloss:0.59102\tvalidation_1-mlogloss:0.59017\n",
      "[45]\tvalidation_0-mlogloss:0.58163\tvalidation_1-mlogloss:0.58062\n",
      "[46]\tvalidation_0-mlogloss:0.58128\tvalidation_1-mlogloss:0.58024\n",
      "[47]\tvalidation_0-mlogloss:0.57409\tvalidation_1-mlogloss:0.57300\n",
      "[48]\tvalidation_0-mlogloss:0.57392\tvalidation_1-mlogloss:0.57285\n",
      "[49]\tvalidation_0-mlogloss:0.57262\tvalidation_1-mlogloss:0.57145\n",
      "[50]\tvalidation_0-mlogloss:0.57025\tvalidation_1-mlogloss:0.56908\n",
      "[51]\tvalidation_0-mlogloss:0.56435\tvalidation_1-mlogloss:0.56318\n",
      "[52]\tvalidation_0-mlogloss:0.56346\tvalidation_1-mlogloss:0.56227\n",
      "[53]\tvalidation_0-mlogloss:0.56331\tvalidation_1-mlogloss:0.56210\n",
      "[54]\tvalidation_0-mlogloss:0.56221\tvalidation_1-mlogloss:0.56101\n",
      "[55]\tvalidation_0-mlogloss:0.56041\tvalidation_1-mlogloss:0.55918\n",
      "[56]\tvalidation_0-mlogloss:0.55946\tvalidation_1-mlogloss:0.55812\n",
      "[57]\tvalidation_0-mlogloss:0.55899\tvalidation_1-mlogloss:0.55771\n",
      "[58]\tvalidation_0-mlogloss:0.55446\tvalidation_1-mlogloss:0.55313\n",
      "[59]\tvalidation_0-mlogloss:0.55405\tvalidation_1-mlogloss:0.55274\n",
      "[60]\tvalidation_0-mlogloss:0.55318\tvalidation_1-mlogloss:0.55188\n",
      "[61]\tvalidation_0-mlogloss:0.55162\tvalidation_1-mlogloss:0.55040\n",
      "[62]\tvalidation_0-mlogloss:0.54769\tvalidation_1-mlogloss:0.54635\n",
      "[63]\tvalidation_0-mlogloss:0.54686\tvalidation_1-mlogloss:0.54551\n",
      "[64]\tvalidation_0-mlogloss:0.54299\tvalidation_1-mlogloss:0.54150\n",
      "[65]\tvalidation_0-mlogloss:0.53989\tvalidation_1-mlogloss:0.53825\n",
      "[66]\tvalidation_0-mlogloss:0.53911\tvalidation_1-mlogloss:0.53749\n",
      "[67]\tvalidation_0-mlogloss:0.53880\tvalidation_1-mlogloss:0.53718\n",
      "[68]\tvalidation_0-mlogloss:0.53804\tvalidation_1-mlogloss:0.53642\n",
      "[69]\tvalidation_0-mlogloss:0.53773\tvalidation_1-mlogloss:0.53615\n",
      "[70]\tvalidation_0-mlogloss:0.53743\tvalidation_1-mlogloss:0.53586\n",
      "[71]\tvalidation_0-mlogloss:0.53729\tvalidation_1-mlogloss:0.53571\n",
      "[72]\tvalidation_0-mlogloss:0.53706\tvalidation_1-mlogloss:0.53553\n",
      "[73]\tvalidation_0-mlogloss:0.53454\tvalidation_1-mlogloss:0.53300\n",
      "[74]\tvalidation_0-mlogloss:0.53389\tvalidation_1-mlogloss:0.53235\n",
      "[75]\tvalidation_0-mlogloss:0.53333\tvalidation_1-mlogloss:0.53183\n",
      "[76]\tvalidation_0-mlogloss:0.53326\tvalidation_1-mlogloss:0.53177\n",
      "[77]\tvalidation_0-mlogloss:0.53302\tvalidation_1-mlogloss:0.53152\n",
      "[78]\tvalidation_0-mlogloss:0.53254\tvalidation_1-mlogloss:0.53107\n",
      "[79]\tvalidation_0-mlogloss:0.53042\tvalidation_1-mlogloss:0.52892\n",
      "[80]\tvalidation_0-mlogloss:0.52882\tvalidation_1-mlogloss:0.52728\n",
      "[81]\tvalidation_0-mlogloss:0.52865\tvalidation_1-mlogloss:0.52710\n",
      "[82]\tvalidation_0-mlogloss:0.52837\tvalidation_1-mlogloss:0.52684\n",
      "[83]\tvalidation_0-mlogloss:0.52812\tvalidation_1-mlogloss:0.52658\n",
      "[84]\tvalidation_0-mlogloss:0.52736\tvalidation_1-mlogloss:0.52578\n",
      "[85]\tvalidation_0-mlogloss:0.52692\tvalidation_1-mlogloss:0.52530\n",
      "[86]\tvalidation_0-mlogloss:0.52651\tvalidation_1-mlogloss:0.52484\n",
      "[87]\tvalidation_0-mlogloss:0.52640\tvalidation_1-mlogloss:0.52477\n",
      "[88]\tvalidation_0-mlogloss:0.52448\tvalidation_1-mlogloss:0.52274\n",
      "[89]\tvalidation_0-mlogloss:0.52432\tvalidation_1-mlogloss:0.52257\n",
      "[90]\tvalidation_0-mlogloss:0.52425\tvalidation_1-mlogloss:0.52252\n",
      "[91]\tvalidation_0-mlogloss:0.52268\tvalidation_1-mlogloss:0.52089\n",
      "[92]\tvalidation_0-mlogloss:0.52100\tvalidation_1-mlogloss:0.51916\n",
      "[93]\tvalidation_0-mlogloss:0.52046\tvalidation_1-mlogloss:0.51867\n",
      "[94]\tvalidation_0-mlogloss:0.52040\tvalidation_1-mlogloss:0.51860\n",
      "[95]\tvalidation_0-mlogloss:0.52023\tvalidation_1-mlogloss:0.51846\n",
      "[96]\tvalidation_0-mlogloss:0.51997\tvalidation_1-mlogloss:0.51820\n",
      "[97]\tvalidation_0-mlogloss:0.51940\tvalidation_1-mlogloss:0.51761\n",
      "[98]\tvalidation_0-mlogloss:0.51940\tvalidation_1-mlogloss:0.51761\n",
      "[99]\tvalidation_0-mlogloss:0.51885\tvalidation_1-mlogloss:0.51702\n",
      "[100]\tvalidation_0-mlogloss:0.51874\tvalidation_1-mlogloss:0.51689\n",
      "[101]\tvalidation_0-mlogloss:0.51851\tvalidation_1-mlogloss:0.51664\n",
      "[102]\tvalidation_0-mlogloss:0.51801\tvalidation_1-mlogloss:0.51616\n",
      "[103]\tvalidation_0-mlogloss:0.51784\tvalidation_1-mlogloss:0.51596\n",
      "[104]\tvalidation_0-mlogloss:0.51784\tvalidation_1-mlogloss:0.51596\n",
      "[105]\tvalidation_0-mlogloss:0.51761\tvalidation_1-mlogloss:0.51572\n",
      "[106]\tvalidation_0-mlogloss:0.51741\tvalidation_1-mlogloss:0.51548\n",
      "[107]\tvalidation_0-mlogloss:0.51699\tvalidation_1-mlogloss:0.51505\n",
      "[108]\tvalidation_0-mlogloss:0.51667\tvalidation_1-mlogloss:0.51472\n",
      "[109]\tvalidation_0-mlogloss:0.51619\tvalidation_1-mlogloss:0.51427\n",
      "[110]\tvalidation_0-mlogloss:0.51608\tvalidation_1-mlogloss:0.51411\n",
      "[111]\tvalidation_0-mlogloss:0.51596\tvalidation_1-mlogloss:0.51399\n",
      "[112]\tvalidation_0-mlogloss:0.51588\tvalidation_1-mlogloss:0.51390\n",
      "[113]\tvalidation_0-mlogloss:0.51588\tvalidation_1-mlogloss:0.51390\n",
      "[114]\tvalidation_0-mlogloss:0.51578\tvalidation_1-mlogloss:0.51379\n",
      "[115]\tvalidation_0-mlogloss:0.51566\tvalidation_1-mlogloss:0.51369\n",
      "[116]\tvalidation_0-mlogloss:0.51563\tvalidation_1-mlogloss:0.51366\n",
      "[117]\tvalidation_0-mlogloss:0.51562\tvalidation_1-mlogloss:0.51364\n",
      "[118]\tvalidation_0-mlogloss:0.51512\tvalidation_1-mlogloss:0.51311\n",
      "[119]\tvalidation_0-mlogloss:0.51497\tvalidation_1-mlogloss:0.51294\n",
      "[120]\tvalidation_0-mlogloss:0.51466\tvalidation_1-mlogloss:0.51264\n",
      "[121]\tvalidation_0-mlogloss:0.51417\tvalidation_1-mlogloss:0.51219\n",
      "[122]\tvalidation_0-mlogloss:0.51386\tvalidation_1-mlogloss:0.51188\n",
      "[123]\tvalidation_0-mlogloss:0.51377\tvalidation_1-mlogloss:0.51181\n",
      "[124]\tvalidation_0-mlogloss:0.51364\tvalidation_1-mlogloss:0.51167\n",
      "[125]\tvalidation_0-mlogloss:0.51321\tvalidation_1-mlogloss:0.51120\n"
     ]
    },
    {
     "name": "stdout",
     "output_type": "stream",
     "text": [
      "[126]\tvalidation_0-mlogloss:0.51261\tvalidation_1-mlogloss:0.51061\n",
      "[127]\tvalidation_0-mlogloss:0.51249\tvalidation_1-mlogloss:0.51047\n",
      "[128]\tvalidation_0-mlogloss:0.51240\tvalidation_1-mlogloss:0.51041\n",
      "[129]\tvalidation_0-mlogloss:0.51214\tvalidation_1-mlogloss:0.51016\n",
      "[130]\tvalidation_0-mlogloss:0.51213\tvalidation_1-mlogloss:0.51016\n",
      "[131]\tvalidation_0-mlogloss:0.51154\tvalidation_1-mlogloss:0.50955\n",
      "[132]\tvalidation_0-mlogloss:0.51142\tvalidation_1-mlogloss:0.50944\n",
      "[133]\tvalidation_0-mlogloss:0.51128\tvalidation_1-mlogloss:0.50930\n",
      "[134]\tvalidation_0-mlogloss:0.51116\tvalidation_1-mlogloss:0.50919\n",
      "[135]\tvalidation_0-mlogloss:0.51110\tvalidation_1-mlogloss:0.50915\n",
      "[136]\tvalidation_0-mlogloss:0.51088\tvalidation_1-mlogloss:0.50895\n",
      "[137]\tvalidation_0-mlogloss:0.51042\tvalidation_1-mlogloss:0.50853\n",
      "[138]\tvalidation_0-mlogloss:0.51013\tvalidation_1-mlogloss:0.50821\n",
      "[139]\tvalidation_0-mlogloss:0.51007\tvalidation_1-mlogloss:0.50815\n",
      "[140]\tvalidation_0-mlogloss:0.50969\tvalidation_1-mlogloss:0.50779\n",
      "[141]\tvalidation_0-mlogloss:0.50965\tvalidation_1-mlogloss:0.50774\n",
      "[142]\tvalidation_0-mlogloss:0.50960\tvalidation_1-mlogloss:0.50768\n",
      "[143]\tvalidation_0-mlogloss:0.50955\tvalidation_1-mlogloss:0.50766\n",
      "[144]\tvalidation_0-mlogloss:0.50940\tvalidation_1-mlogloss:0.50750\n",
      "[145]\tvalidation_0-mlogloss:0.50920\tvalidation_1-mlogloss:0.50730\n",
      "[146]\tvalidation_0-mlogloss:0.50917\tvalidation_1-mlogloss:0.50727\n",
      "[147]\tvalidation_0-mlogloss:0.50905\tvalidation_1-mlogloss:0.50718\n",
      "[148]\tvalidation_0-mlogloss:0.50901\tvalidation_1-mlogloss:0.50715\n",
      "[149]\tvalidation_0-mlogloss:0.50891\tvalidation_1-mlogloss:0.50708\n",
      "[150]\tvalidation_0-mlogloss:0.50882\tvalidation_1-mlogloss:0.50698\n",
      "[151]\tvalidation_0-mlogloss:0.50870\tvalidation_1-mlogloss:0.50687\n",
      "[152]\tvalidation_0-mlogloss:0.50867\tvalidation_1-mlogloss:0.50684\n",
      "[153]\tvalidation_0-mlogloss:0.50863\tvalidation_1-mlogloss:0.50680\n",
      "[154]\tvalidation_0-mlogloss:0.50856\tvalidation_1-mlogloss:0.50673\n",
      "[155]\tvalidation_0-mlogloss:0.50838\tvalidation_1-mlogloss:0.50658\n",
      "[156]\tvalidation_0-mlogloss:0.50825\tvalidation_1-mlogloss:0.50643\n",
      "[157]\tvalidation_0-mlogloss:0.50811\tvalidation_1-mlogloss:0.50629\n",
      "[158]\tvalidation_0-mlogloss:0.50782\tvalidation_1-mlogloss:0.50597\n",
      "[159]\tvalidation_0-mlogloss:0.50780\tvalidation_1-mlogloss:0.50595\n",
      "[160]\tvalidation_0-mlogloss:0.50769\tvalidation_1-mlogloss:0.50584\n",
      "[161]\tvalidation_0-mlogloss:0.50747\tvalidation_1-mlogloss:0.50562\n",
      "[162]\tvalidation_0-mlogloss:0.50747\tvalidation_1-mlogloss:0.50562\n",
      "[163]\tvalidation_0-mlogloss:0.50735\tvalidation_1-mlogloss:0.50553\n",
      "[164]\tvalidation_0-mlogloss:0.50717\tvalidation_1-mlogloss:0.50535\n",
      "[165]\tvalidation_0-mlogloss:0.50702\tvalidation_1-mlogloss:0.50520\n",
      "[166]\tvalidation_0-mlogloss:0.50701\tvalidation_1-mlogloss:0.50520\n",
      "[167]\tvalidation_0-mlogloss:0.50700\tvalidation_1-mlogloss:0.50518\n",
      "[168]\tvalidation_0-mlogloss:0.50700\tvalidation_1-mlogloss:0.50518\n",
      "[169]\tvalidation_0-mlogloss:0.50687\tvalidation_1-mlogloss:0.50509\n",
      "[170]\tvalidation_0-mlogloss:0.50678\tvalidation_1-mlogloss:0.50499\n",
      "[171]\tvalidation_0-mlogloss:0.50675\tvalidation_1-mlogloss:0.50498\n",
      "[172]\tvalidation_0-mlogloss:0.50663\tvalidation_1-mlogloss:0.50484\n",
      "[173]\tvalidation_0-mlogloss:0.50655\tvalidation_1-mlogloss:0.50480\n",
      "[174]\tvalidation_0-mlogloss:0.50645\tvalidation_1-mlogloss:0.50470\n",
      "[175]\tvalidation_0-mlogloss:0.50634\tvalidation_1-mlogloss:0.50461\n",
      "[176]\tvalidation_0-mlogloss:0.50628\tvalidation_1-mlogloss:0.50455\n",
      "[177]\tvalidation_0-mlogloss:0.50626\tvalidation_1-mlogloss:0.50454\n",
      "[178]\tvalidation_0-mlogloss:0.50618\tvalidation_1-mlogloss:0.50447\n",
      "[179]\tvalidation_0-mlogloss:0.50608\tvalidation_1-mlogloss:0.50438\n"
     ]
    },
    {
     "data": {
      "text/html": [
       "<style>#sk-container-id-1 {color: black;background-color: white;}#sk-container-id-1 pre{padding: 0;}#sk-container-id-1 div.sk-toggleable {background-color: white;}#sk-container-id-1 label.sk-toggleable__label {cursor: pointer;display: block;width: 100%;margin-bottom: 0;padding: 0.3em;box-sizing: border-box;text-align: center;}#sk-container-id-1 label.sk-toggleable__label-arrow:before {content: \"▸\";float: left;margin-right: 0.25em;color: #696969;}#sk-container-id-1 label.sk-toggleable__label-arrow:hover:before {color: black;}#sk-container-id-1 div.sk-estimator:hover label.sk-toggleable__label-arrow:before {color: black;}#sk-container-id-1 div.sk-toggleable__content {max-height: 0;max-width: 0;overflow: hidden;text-align: left;background-color: #f0f8ff;}#sk-container-id-1 div.sk-toggleable__content pre {margin: 0.2em;color: black;border-radius: 0.25em;background-color: #f0f8ff;}#sk-container-id-1 input.sk-toggleable__control:checked~div.sk-toggleable__content {max-height: 200px;max-width: 100%;overflow: auto;}#sk-container-id-1 input.sk-toggleable__control:checked~label.sk-toggleable__label-arrow:before {content: \"▾\";}#sk-container-id-1 div.sk-estimator input.sk-toggleable__control:checked~label.sk-toggleable__label {background-color: #d4ebff;}#sk-container-id-1 div.sk-label input.sk-toggleable__control:checked~label.sk-toggleable__label {background-color: #d4ebff;}#sk-container-id-1 input.sk-hidden--visually {border: 0;clip: rect(1px 1px 1px 1px);clip: rect(1px, 1px, 1px, 1px);height: 1px;margin: -1px;overflow: hidden;padding: 0;position: absolute;width: 1px;}#sk-container-id-1 div.sk-estimator {font-family: monospace;background-color: #f0f8ff;border: 1px dotted black;border-radius: 0.25em;box-sizing: border-box;margin-bottom: 0.5em;}#sk-container-id-1 div.sk-estimator:hover {background-color: #d4ebff;}#sk-container-id-1 div.sk-parallel-item::after {content: \"\";width: 100%;border-bottom: 1px solid gray;flex-grow: 1;}#sk-container-id-1 div.sk-label:hover label.sk-toggleable__label {background-color: #d4ebff;}#sk-container-id-1 div.sk-serial::before {content: \"\";position: absolute;border-left: 1px solid gray;box-sizing: border-box;top: 0;bottom: 0;left: 50%;z-index: 0;}#sk-container-id-1 div.sk-serial {display: flex;flex-direction: column;align-items: center;background-color: white;padding-right: 0.2em;padding-left: 0.2em;position: relative;}#sk-container-id-1 div.sk-item {position: relative;z-index: 1;}#sk-container-id-1 div.sk-parallel {display: flex;align-items: stretch;justify-content: center;background-color: white;position: relative;}#sk-container-id-1 div.sk-item::before, #sk-container-id-1 div.sk-parallel-item::before {content: \"\";position: absolute;border-left: 1px solid gray;box-sizing: border-box;top: 0;bottom: 0;left: 50%;z-index: -1;}#sk-container-id-1 div.sk-parallel-item {display: flex;flex-direction: column;z-index: 1;position: relative;background-color: white;}#sk-container-id-1 div.sk-parallel-item:first-child::after {align-self: flex-end;width: 50%;}#sk-container-id-1 div.sk-parallel-item:last-child::after {align-self: flex-start;width: 50%;}#sk-container-id-1 div.sk-parallel-item:only-child::after {width: 0;}#sk-container-id-1 div.sk-dashed-wrapped {border: 1px dashed gray;margin: 0 0.4em 0.5em 0.4em;box-sizing: border-box;padding-bottom: 0.4em;background-color: white;}#sk-container-id-1 div.sk-label label {font-family: monospace;font-weight: bold;display: inline-block;line-height: 1.2em;}#sk-container-id-1 div.sk-label-container {text-align: center;}#sk-container-id-1 div.sk-container {/* jupyter's `normalize.less` sets `[hidden] { display: none; }` but bootstrap.min.css set `[hidden] { display: none !important; }` so we also need the `!important` here to be able to override the default hidden behavior on the sphinx rendered scikit-learn.org. See: https://github.com/scikit-learn/scikit-learn/issues/21755 */display: inline-block !important;position: relative;}#sk-container-id-1 div.sk-text-repr-fallback {display: none;}</style><div id=\"sk-container-id-1\" class=\"sk-top-container\"><div class=\"sk-text-repr-fallback\"><pre>XGBClassifier(base_score=None, booster=None, callbacks=None,\n",
       "              colsample_bylevel=None, colsample_bynode=None, colsample_bytree=0,\n",
       "              early_stopping_rounds=None, enable_categorical=False,\n",
       "              eval_metric=None, feature_types=None, gamma=1.9649156900065439,\n",
       "              gpu_id=None, grow_policy=None, importance_type=None,\n",
       "              interaction_constraints=None, learning_rate=None, max_bin=None,\n",
       "              max_cat_threshold=None, max_cat_to_onehot=None,\n",
       "              max_delta_step=None, max_depth=3, max_leaves=None,\n",
       "              min_child_weight=7, missing=nan, monotone_constraints=None,\n",
       "              n_estimators=180, n_jobs=None, num_parallel_tree=None,\n",
       "              objective=&#x27;multi:softprob&#x27;, predictor=None, ...)</pre><b>In a Jupyter environment, please rerun this cell to show the HTML representation or trust the notebook. <br />On GitHub, the HTML representation is unable to render, please try loading this page with nbviewer.org.</b></div><div class=\"sk-container\" hidden><div class=\"sk-item\"><div class=\"sk-estimator sk-toggleable\"><input class=\"sk-toggleable__control sk-hidden--visually\" id=\"sk-estimator-id-1\" type=\"checkbox\" checked><label for=\"sk-estimator-id-1\" class=\"sk-toggleable__label sk-toggleable__label-arrow\">XGBClassifier</label><div class=\"sk-toggleable__content\"><pre>XGBClassifier(base_score=None, booster=None, callbacks=None,\n",
       "              colsample_bylevel=None, colsample_bynode=None, colsample_bytree=0,\n",
       "              early_stopping_rounds=None, enable_categorical=False,\n",
       "              eval_metric=None, feature_types=None, gamma=1.9649156900065439,\n",
       "              gpu_id=None, grow_policy=None, importance_type=None,\n",
       "              interaction_constraints=None, learning_rate=None, max_bin=None,\n",
       "              max_cat_threshold=None, max_cat_to_onehot=None,\n",
       "              max_delta_step=None, max_depth=3, max_leaves=None,\n",
       "              min_child_weight=7, missing=nan, monotone_constraints=None,\n",
       "              n_estimators=180, n_jobs=None, num_parallel_tree=None,\n",
       "              objective=&#x27;multi:softprob&#x27;, predictor=None, ...)</pre></div></div></div></div></div>"
      ],
      "text/plain": [
       "XGBClassifier(base_score=None, booster=None, callbacks=None,\n",
       "              colsample_bylevel=None, colsample_bynode=None, colsample_bytree=0,\n",
       "              early_stopping_rounds=None, enable_categorical=False,\n",
       "              eval_metric=None, feature_types=None, gamma=1.9649156900065439,\n",
       "              gpu_id=None, grow_policy=None, importance_type=None,\n",
       "              interaction_constraints=None, learning_rate=None, max_bin=None,\n",
       "              max_cat_threshold=None, max_cat_to_onehot=None,\n",
       "              max_delta_step=None, max_depth=3, max_leaves=None,\n",
       "              min_child_weight=7, missing=nan, monotone_constraints=None,\n",
       "              n_estimators=180, n_jobs=None, num_parallel_tree=None,\n",
       "              objective='multi:softprob', predictor=None, ...)"
      ]
     },
     "execution_count": 14,
     "metadata": {},
     "output_type": "execute_result"
    }
   ],
   "source": [
    "xgb_model=xgb.XGBClassifier(\n",
    "                    n_estimators =180, max_depth = int(best_hyperparams['max_depth']), gamma = best_hyperparams['gamma'],\n",
    "                    reg_alpha = int(best_hyperparams['reg_alpha']),min_child_weight=int(best_hyperparams['min_child_weight']),\n",
    "                    colsample_bytree=int(best_hyperparams['colsample_bytree']))         \n",
    "xgb_model.fit(X_train[features],y_train,\n",
    "             eval_set = [( X_train, y_train), ( X_test, y_test)])\n",
    "#y_pred = xgb_model.predict(X_val[features])"
   ]
  },
  {
   "cell_type": "code",
   "execution_count": 16,
   "id": "055a6d22",
   "metadata": {},
   "outputs": [
    {
     "data": {
      "text/plain": [
       "<matplotlib.legend.Legend at 0x16dcfb3d0>"
      ]
     },
     "execution_count": 16,
     "metadata": {},
     "output_type": "execute_result"
    },
    {
     "data": {
      "image/png": "[encoded data removed]",
      "text/plain": [
       "<Figure size 640x480 with 1 Axes>"
      ]
     },
     "metadata": {},
     "output_type": "display_data"
    }
   ],
   "source": [
    "history  = xgb_model.evals_result()\n",
    "plt.plot(history['validation_0']['mlogloss'], label='train')\n",
    "plt.plot(history['validation_1']['mlogloss'], label='val')\n",
    "plt.ylabel('log loss')\n",
    "plt.xlabel('epochs')\n",
    "plt.title('XGB Training loss curve')\n",
    "plt.legend()"
   ]
  },
  {
   "cell_type": "code",
   "execution_count": 33,
   "id": "73ad3b17",
   "metadata": {},
   "outputs": [],
   "source": [
    "history  = xgb_model.evals_result()"
   ]
  },
  {
   "cell_type": "code",
   "execution_count": 37,
   "id": "6140662c",
   "metadata": {},
   "outputs": [
    {
     "data": {
      "text/plain": [
       "dict_keys(['validation_0', 'validation_1'])"
      ]
     },
     "execution_count": 37,
     "metadata": {},
     "output_type": "execute_result"
    }
   ],
   "source": [
    "history.keys()"
   ]
  },
  {
   "cell_type": "code",
   "execution_count": 44,
   "id": "9603d4d0",
   "metadata": {},
   "outputs": [
    {
     "data": {
      "text/plain": [
       "OrderedDict([('mlogloss',\n",
       "              [1.0399692002773844,\n",
       "               1.00419866181396,\n",
       "               0.9905929694253238,\n",
       "               0.9807697981072296,\n",
       "               0.9683387530185,\n",
       "               0.9424370312609233,\n",
       "               0.9279077953881256,\n",
       "               0.8877055154391522,\n",
       "               0.8596715273170508,\n",
       "               0.8281522927193247,\n",
       "               0.8086586603957341,\n",
       "               0.7886323518127453,\n",
       "               0.7802785871180438,\n",
       "               0.7686939942614591,\n",
       "               0.7323234835028886,\n",
       "               0.7296653050064387,\n",
       "               0.7210796791732469,\n",
       "               0.7065456719139472,\n",
       "               0.6998802014790566,\n",
       "               0.6958727798149587,\n",
       "               0.688824408178666,\n",
       "               0.683929603199748,\n",
       "               0.6741873208323159,\n",
       "               0.6733986114337582,\n",
       "               0.666424404264281,\n",
       "               0.6625964438918933,\n",
       "               0.6611929366711541,\n",
       "               0.6603340957213669,\n",
       "               0.6384067664328753,\n",
       "               0.637468370457126,\n",
       "               0.6361205159551996,\n",
       "               0.6313865309205792,\n",
       "               0.6263133530294074,\n",
       "               0.6255341225525655,\n",
       "               0.623831311293694,\n",
       "               0.6205552970124634,\n",
       "               0.6179893296497281,\n",
       "               0.6145082545923962,\n",
       "               0.6111737791681311,\n",
       "               0.6095870979526626,\n",
       "               0.6084590503536308,\n",
       "               0.6078879256477254,\n",
       "               0.6055664487507681,\n",
       "               0.5931788595176761,\n",
       "               0.5901212784765006,\n",
       "               0.5807694226712864,\n",
       "               0.5804196092520189,\n",
       "               0.5732692063754472,\n",
       "               0.5731218233976587,\n",
       "               0.571862219280694,\n",
       "               0.5696243473383005,\n",
       "               0.5637691340920011,\n",
       "               0.5629256520757212,\n",
       "               0.5627736102176656,\n",
       "               0.5617057736248607,\n",
       "               0.5599850460712642,\n",
       "               0.5590632781777951,\n",
       "               0.5586111019073337,\n",
       "               0.554108853008304,\n",
       "               0.5536948065233522,\n",
       "               0.552832999524073,\n",
       "               0.5513125590404226,\n",
       "               0.5473849683878558,\n",
       "               0.5465619759414706,\n",
       "               0.542704973456205,\n",
       "               0.5396104600807268,\n",
       "               0.5387637739259742,\n",
       "               0.5384797752519678,\n",
       "               0.5377640119669554,\n",
       "               0.5374690170365871,\n",
       "               0.5371881968453687,\n",
       "               0.537057472284339,\n",
       "               0.5368528698038786,\n",
       "               0.5343861305198395,\n",
       "               0.533743829343787,\n",
       "               0.5332051355845496,\n",
       "               0.5331507961703482,\n",
       "               0.5328744455213268,\n",
       "               0.5323973313760006,\n",
       "               0.5302689539031565,\n",
       "               0.5286781200477231,\n",
       "               0.5285372918735228,\n",
       "               0.5282496239325914,\n",
       "               0.5279966243730121,\n",
       "               0.5269950450515661,\n",
       "               0.5265259245999266,\n",
       "               0.5261600638244565,\n",
       "               0.5260538271227841,\n",
       "               0.5241934067052054,\n",
       "               0.5240348824717718,\n",
       "               0.5239653661789077,\n",
       "               0.5224223272021024,\n",
       "               0.5207548959369583,\n",
       "               0.520301018661252,\n",
       "               0.5202465146020919,\n",
       "               0.5200738173812104,\n",
       "               0.5198207357506074,\n",
       "               0.5192821480346766,\n",
       "               0.5192812173063843,\n",
       "               0.5187216263152055,\n",
       "               0.5186246703203268,\n",
       "               0.5183975555431882,\n",
       "               0.5177911832317768,\n",
       "               0.5176542006429793,\n",
       "               0.5176535432357552,\n",
       "               0.5174224199803901,\n",
       "               0.5172537796107689,\n",
       "               0.5167575716328169,\n",
       "               0.5164784027495922,\n",
       "               0.516099960707609,\n",
       "               0.5160008952890026,\n",
       "               0.5158980493955293,\n",
       "               0.5158345014313788,\n",
       "               0.5158342009110227,\n",
       "               0.5157257944868826,\n",
       "               0.5156380335552531,\n",
       "               0.5156158966788454,\n",
       "               0.5156090749256541,\n",
       "               0.5151353706830177,\n",
       "               0.5149990729382968,\n",
       "               0.5147058468524408,\n",
       "               0.5143301419392848,\n",
       "               0.5140416093199076,\n",
       "               0.5139582282264067,\n",
       "               0.5138354411648927,\n",
       "               0.5134036408300869,\n",
       "               0.5128230008263243,\n",
       "               0.5127032657702922,\n",
       "               0.5126103518215157,\n",
       "               0.5123858151281332,\n",
       "               0.5123800194207406,\n",
       "               0.5118899783467065,\n",
       "               0.5117949840128828,\n",
       "               0.5116563114591974,\n",
       "               0.5115444409653024,\n",
       "               0.5114890799014141,\n",
       "               0.5113268413967511,\n",
       "               0.5109008686163522,\n",
       "               0.5106527155818661,\n",
       "               0.5106087181965059,\n",
       "               0.5102179512909907,\n",
       "               0.5101717187756731,\n",
       "               0.5101293406806677,\n",
       "               0.5100814907465394,\n",
       "               0.509930026267822,\n",
       "               0.5097257372068777,\n",
       "               0.5096962680397014,\n",
       "               0.5095547919399918,\n",
       "               0.5095363434759236,\n",
       "               0.5094470109475178,\n",
       "               0.5093614010213635,\n",
       "               0.5092873117161119,\n",
       "               0.5092543128141584,\n",
       "               0.5092126871231587,\n",
       "               0.5091560340735372,\n",
       "               0.509000333121455,\n",
       "               0.5088934043364843,\n",
       "               0.508804273398289,\n",
       "               0.5084771952277638,\n",
       "               0.5084771952277638,\n",
       "               0.5083673893730019,\n",
       "               0.5081667503487488,\n",
       "               0.5081667503487488,\n",
       "               0.508076603649854,\n",
       "               0.5079314667888297,\n",
       "               0.507809502144016,\n",
       "               0.5078094425712014,\n",
       "               0.5077914385496592,\n",
       "               0.5077914289818807,\n",
       "               0.5076814838387762,\n",
       "               0.5076015749404587,\n",
       "               0.5075809511070197,\n",
       "               0.5074497405054332,\n",
       "               0.507388952331396,\n",
       "               0.5072890311275711,\n",
       "               0.5071970757942752,\n",
       "               0.5071461093675267,\n",
       "               0.5071279152642341,\n",
       "               0.5070422409983045,\n",
       "               0.5069491156419469])])"
      ]
     },
     "execution_count": 44,
     "metadata": {},
     "output_type": "execute_result"
    }
   ],
   "source": [
    "history['validation_0']"
   ]
  },
  {
   "cell_type": "code",
   "execution_count": 1,
   "id": "c0d9809c",
   "metadata": {},
   "outputs": [
    {
     "ename": "NameError",
     "evalue": "name 'plt' is not defined",
     "output_type": "error",
     "traceback": [
      "\u001b[0;31m---------------------------------------------------------------------------\u001b[0m",
      "\u001b[0;31mNameError\u001b[0m                                 Traceback (most recent call last)",
      "Cell \u001b[0;32mIn[1], line 1\u001b[0m\n\u001b[0;32m----> 1\u001b[0m \u001b[43mplt\u001b[49m\u001b[38;5;241m.\u001b[39mplot(history[\u001b[38;5;124m'\u001b[39m\u001b[38;5;124mvalidation_0\u001b[39m\u001b[38;5;124m'\u001b[39m][\u001b[38;5;124m'\u001b[39m\u001b[38;5;124mmlogloss\u001b[39m\u001b[38;5;124m'\u001b[39m], label\u001b[38;5;241m=\u001b[39m\u001b[38;5;124m'\u001b[39m\u001b[38;5;124mtrain\u001b[39m\u001b[38;5;124m'\u001b[39m)\n\u001b[1;32m      2\u001b[0m plt\u001b[38;5;241m.\u001b[39mplot(history[\u001b[38;5;124m'\u001b[39m\u001b[38;5;124mvalidation_1\u001b[39m\u001b[38;5;124m'\u001b[39m][\u001b[38;5;124m'\u001b[39m\u001b[38;5;124mmlogloss\u001b[39m\u001b[38;5;124m'\u001b[39m], label\u001b[38;5;241m=\u001b[39m\u001b[38;5;124m'\u001b[39m\u001b[38;5;124mtest\u001b[39m\u001b[38;5;124m'\u001b[39m)\n\u001b[1;32m      3\u001b[0m plt\u001b[38;5;241m.\u001b[39mlegend()\n",
      "\u001b[0;31mNameError\u001b[0m: name 'plt' is not defined"
     ]
    }
   ],
   "source": [
    "plt.plot(history['validation_0']['mlogloss'], label='train')\n",
    "plt.plot(history['validation_1']['mlogloss'], label='test')\n",
    "plt.legend()"
   ]
  },
  {
   "cell_type": "raw",
   "id": "675cd973",
   "metadata": {},
   "source": [
    "bins = [-0.25, 0.75, 1.75, 2.75] \n",
    "for label in range(3):\n",
    "    test_label = y_test[y_test==label]\n",
    "    pred_label = y_pred[y_test==label]\n",
    "    true_label = pred_label[pred_label == test_label]\n",
    "    false_label= pred_label[pred_label != test_label]\n",
    "    print(len(false_label))\n",
    "    plt.hist(true_label , bins = bins, histtype = 'barstacked', alpha=0.5, label='True Label ' + str(label), align = 'mid', width = 0.5, color = 'green')\n",
    "    plt.hist(false_label, bins = bins, histtype = 'barstacked', alpha=0.5, label='False Label ' + str(label), align = 'mid', width = 0.5, color = 'red')\n",
    " \n",
    "plt.xlabel('Label')\n",
    "plt.ylabel('Count')\n",
    "plt.legend()\n",
    "#plt.xlim(-0.5, 2.5)\n",
    "plt.xticks(range(3))  # Set the desired xtick locations"
   ]
  },
  {
   "cell_type": "code",
   "execution_count": 19,
   "id": "4a4d235d",
   "metadata": {},
   "outputs": [
    {
     "data": {
      "image/png": "[encoded data removed]",
      "text/plain": [
       "<Figure size 3000x1000 with 3 Axes>"
      ]
     },
     "metadata": {},
     "output_type": "display_data"
    }
   ],
   "source": [
    "bins = [-0.25, 0.75, 1.75, 2.75] \n",
    "fig, ax = plt.subplots(1,3, figsize = (30,10))\n",
    "for i, label in enumerate(range(3)):\n",
    "    test_label = y_val[y_val==label]\n",
    "    pred_label = y_pred[y_val==label]\n",
    "    true_label = pred_label[pred_label == test_label]\n",
    "    false_label= pred_label[pred_label != test_label]\n",
    "    #print(len(false_label))\n",
    "    ax[i].hist(true_label , bins = bins, histtype = 'barstacked', alpha=0.5, label='True Label ' + str(label), align = 'mid', width = 0.5, color = 'green')\n",
    "    ax[i].hist(false_label, bins = bins, histtype = 'barstacked', alpha=0.5, label='False Label ' + str(label), align = 'mid', width = 0.5, color = 'red')\n",
    "    #ax[i] = plt.xlabel('label')\n",
    "    ax[i].set_title(f'Data with true label {i}, Accuracy:{accuracy_score(test_label, pred_label):.3f}')\n",
    "    ax[i].set_xlabel(xlabel = f'Predicted label')\n",
    "    ax[i].set_ylabel('Count')\n",
    "    ax[i].legend()\n",
    "    ax[i].set_xticks(range(3))\n",
    "\n",
    "#plt.legend()\n",
    "#plt.xlim(-0.5, 2.5)\n",
    "#plt.xticks(range(3)) "
   ]
  },
  {
   "cell_type": "code",
   "execution_count": 22,
   "id": "683559b9",
   "metadata": {},
   "outputs": [],
   "source": [
    "y_pred =  xgb_model.predict(X_val)\n",
    "y_pred_train = xgb_model.predict(X_train)"
   ]
  },
  {
   "cell_type": "code",
   "execution_count": 23,
   "id": "0569aa76",
   "metadata": {},
   "outputs": [
    {
     "data": {
      "image/png": "[encoded data removed]",
      "text/plain": [
       "<Figure size 3000x1000 with 3 Axes>"
      ]
     },
     "metadata": {},
     "output_type": "display_data"
    }
   ],
   "source": [
    "bins = [-0.3, 0.7, 1.7, 2.7] \n",
    "bins2 = [0, 1, 2, 3] \n",
    "fig, ax = plt.subplots(1,3, figsize = (30,10))\n",
    "for i, label in enumerate(range(3)):\n",
    "    test_label = y_val[y_val==label]\n",
    "    pred_label = y_pred[y_val==label]\n",
    "    true_label = pred_label[pred_label == test_label]\n",
    "    false_label= pred_label[pred_label != test_label]\n",
    "    \n",
    "    test_label_t = y_train[y_train==label]\n",
    "    pred_label_t = y_pred_train[y_train==label]\n",
    "    true_label_t = pred_label_t[pred_label_t == test_label_t]\n",
    "    false_label_t= pred_label_t[pred_label_t != test_label_t]\n",
    "    #print(len(false_label))\n",
    "    ax[i].hist(true_label , bins = bins, histtype = 'barstacked', alpha=0.5, label='True Label val ' + str(label), align = 'mid', width = 0.3, color = 'green')\n",
    "    ax[i].hist(true_label_t[0:int(round(len(true_label_t)/3,0))] , bins = bins2, histtype = 'barstacked', alpha=0.5, label='True Label train ' + str(label), align = 'mid', width = 0.3, color = 'blue') \n",
    "    ax[i].hist(false_label, bins = bins, histtype = 'barstacked', alpha=0.5, label='False Label val ' + str(label), align = 'mid', width = 0.3, color = 'red')\n",
    "    ax[i].hist(false_label_t[0:int(round(len(false_label_t)/3,0))], bins = bins2, histtype = 'barstacked', alpha=0.5, label='False Label train ' + str(label), align = 'mid', width = 0.3, color = 'orange')\n",
    "    #ax[i] = plt.xlabel('label')\n",
    "    ax[i].set_title(f' SVM Data with true label {i},Val Accuracy:{accuracy_score(test_label, pred_label):.3f},Train Accuracy:{accuracy_score(test_label_t, pred_label_t):.3f}')\n",
    "    ax[i].set_xlabel(xlabel = f'Predicted label')\n",
    "    ax[i].set_ylabel('Count normalised to validation')\n",
    "    ax[i].legend()\n",
    "    ax[i].set_xticks(range(3))"
   ]
  },
  {
   "cell_type": "code",
   "execution_count": null,
   "id": "a5bf059d",
   "metadata": {},
   "outputs": [],
   "source": []
  },
  {
   "cell_type": "code",
   "execution_count": null,
   "id": "d59dae85",
   "metadata": {},
   "outputs": [],
   "source": []
  },
  {
   "cell_type": "code",
   "execution_count": null,
   "id": "0e5bf1ea",
   "metadata": {},
   "outputs": [],
   "source": []
  },
  {
   "cell_type": "code",
   "execution_count": null,
   "id": "3bdbc751",
   "metadata": {},
   "outputs": [],
   "source": []
  },
  {
   "cell_type": "code",
   "execution_count": null,
   "id": "3b19f4ba",
   "metadata": {},
   "outputs": [],
   "source": []
  },
  {
   "cell_type": "code",
   "execution_count": null,
   "id": "d8dcf94e",
   "metadata": {},
   "outputs": [],
   "source": []
  }
 ],
 "metadata": {
  "kernelspec": {
   "display_name": "Python 3 (ipykernel)",
   "language": "python",
   "name": "python3"
  },
  "language_info": {
   "codemirror_mode": {
    "name": "ipython",
    "version": 3
   },
   "file_extension": ".py",
   "mimetype": "text/x-python",
   "name": "python",
   "nbconvert_exporter": "python",
   "pygments_lexer": "ipython3",
   "version": "3.10.5"
  }
 },
 "nbformat": 4,
 "nbformat_minor": 5
}
