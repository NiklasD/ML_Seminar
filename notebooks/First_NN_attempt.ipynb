{
 "cells": [
  {
   "cell_type": "code",
   "execution_count": 20,
   "id": "98c23375",
   "metadata": {},
   "outputs": [],
   "source": [
    "import pickle\n",
    "\n",
    "import matplotlib.pyplot as plt\n",
    "import numpy as np\n",
    "import pandas as pd\n",
    "#import re\n",
    "#import random\n",
    "#from sklearn import tree\n",
    "from sklearn.model_selection import train_test_split\n",
    "from sklearn.inspection import permutation_importance\n",
    "from sklearn.metrics import confusion_matrix, classification_report, ConfusionMatrixDisplay, roc_auc_score\n",
    "\n",
    "import xgboost as xgb\n",
    "from sklearn.metrics import auc, accuracy_score, mean_squared_error\n",
    "from sklearn.model_selection import cross_val_score, GridSearchCV, KFold, RandomizedSearchCV\n",
    "#from string import ascii_letters\n",
    "import seaborn as sns\n",
    "import h5py as h5\n",
    "\n",
    "import tensorflow as tf"
   ]
  },
  {
   "cell_type": "code",
   "execution_count": 42,
   "id": "1581046c",
   "metadata": {},
   "outputs": [],
   "source": [
    "from sklearn.model_selection import train_test_split, StratifiedKFold\n",
    "from tensorflow.keras.utils import to_categorical\n",
    "from tensorflow.keras.datasets import mnist\n",
    "from tensorflow.keras.models import Sequential, load_model\n",
    "from tensorflow.keras.layers import Dense, Dropout, Activation, Flatten, Conv2D, MaxPooling2D, InputLayer\n",
    "from tensorflow.keras.callbacks import ModelCheckpoint, Callback"
   ]
  },
  {
   "cell_type": "code",
   "execution_count": 54,
   "id": "481f59d1",
   "metadata": {},
   "outputs": [],
   "source": [
    "import tensorflow as tf\n",
    "from sklearn.model_selection import GridSearchCV\n",
    "from tensorflow.keras.models import Sequential\n",
    "from tensorflow.keras.layers import Dense\n"
   ]
  },
  {
   "cell_type": "code",
   "execution_count": 53,
   "id": "ef2a5041",
   "metadata": {},
   "outputs": [],
   "source": [
    "import tensorflow as tf\n",
    "from sklearn.model_selection import GridSearchCV\n",
    "from tensorflow.keras.models import Sequential\n",
    "from tensorflow.keras.layers import Dense\n",
    "from sklearn.preprocessing import LabelEncoder\n",
    "from sklearn.model_selection import train_test_split\n",
    "from sklearn.utils import shuffle\n",
    "from sklearn.metrics import accuracy_score\n",
    "from sklearn.metrics import classification_report\n",
    "from sklearn.metrics import confusion_matrix"
   ]
  },
  {
   "cell_type": "code",
   "execution_count": 45,
   "id": "dac566e4",
   "metadata": {},
   "outputs": [],
   "source": [
    "df = pd.read_pickle('../pickle_pd/pd_top_25.pkl')"
   ]
  },
  {
   "cell_type": "code",
   "execution_count": 46,
   "id": "3a36871f",
   "metadata": {},
   "outputs": [
    {
     "data": {
      "text/html": [
       "<div>\n",
       "<style scoped>\n",
       "    .dataframe tbody tr th:only-of-type {\n",
       "        vertical-align: middle;\n",
       "    }\n",
       "\n",
       "    .dataframe tbody tr th {\n",
       "        vertical-align: top;\n",
       "    }\n",
       "\n",
       "    .dataframe thead th {\n",
       "        text-align: right;\n",
       "    }\n",
       "</style>\n",
       "<table border=\"1\" class=\"dataframe\">\n",
       "  <thead>\n",
       "    <tr style=\"text-align: right;\">\n",
       "      <th></th>\n",
       "      <th>lep_pt_2</th>\n",
       "      <th>met_et</th>\n",
       "      <th>lep_pt_1</th>\n",
       "      <th>jet_n</th>\n",
       "      <th>lep_E_1</th>\n",
       "      <th>jet_pt_0</th>\n",
       "      <th>lep_eta_0</th>\n",
       "      <th>jet_pt_1</th>\n",
       "      <th>lep_pt_0</th>\n",
       "      <th>lep_E_2</th>\n",
       "      <th>...</th>\n",
       "      <th>jet_m</th>\n",
       "      <th>lep_E_0</th>\n",
       "      <th>jet_eta_1</th>\n",
       "      <th>jet_pt_2</th>\n",
       "      <th>lep_pt_3</th>\n",
       "      <th>jet_E_0</th>\n",
       "      <th>lep_charge_1</th>\n",
       "      <th>lep_charge_0</th>\n",
       "      <th>lep_E_3</th>\n",
       "      <th>label</th>\n",
       "    </tr>\n",
       "  </thead>\n",
       "  <tbody>\n",
       "    <tr>\n",
       "      <th>0</th>\n",
       "      <td>8604.807617</td>\n",
       "      <td>34466.183594</td>\n",
       "      <td>36824.394531</td>\n",
       "      <td>0.0</td>\n",
       "      <td>37284.203125</td>\n",
       "      <td>0.000000</td>\n",
       "      <td>-0.665586</td>\n",
       "      <td>0.0</td>\n",
       "      <td>58844.101562</td>\n",
       "      <td>8606.623047</td>\n",
       "      <td>...</td>\n",
       "      <td>4666.577148</td>\n",
       "      <td>72366.562500</td>\n",
       "      <td>0.0</td>\n",
       "      <td>0.0</td>\n",
       "      <td>0.000000</td>\n",
       "      <td>0.000000</td>\n",
       "      <td>-1.0</td>\n",
       "      <td>1.0</td>\n",
       "      <td>0.000000</td>\n",
       "      <td>0</td>\n",
       "    </tr>\n",
       "    <tr>\n",
       "      <th>1</th>\n",
       "      <td>0.000000</td>\n",
       "      <td>13054.372070</td>\n",
       "      <td>32843.285156</td>\n",
       "      <td>0.0</td>\n",
       "      <td>33086.371094</td>\n",
       "      <td>0.000000</td>\n",
       "      <td>0.461765</td>\n",
       "      <td>0.0</td>\n",
       "      <td>50064.492188</td>\n",
       "      <td>0.000000</td>\n",
       "      <td>...</td>\n",
       "      <td>4666.577148</td>\n",
       "      <td>55497.660156</td>\n",
       "      <td>0.0</td>\n",
       "      <td>0.0</td>\n",
       "      <td>0.000000</td>\n",
       "      <td>0.000000</td>\n",
       "      <td>-1.0</td>\n",
       "      <td>1.0</td>\n",
       "      <td>0.000000</td>\n",
       "      <td>0</td>\n",
       "    </tr>\n",
       "    <tr>\n",
       "      <th>2</th>\n",
       "      <td>14819.154297</td>\n",
       "      <td>14494.322266</td>\n",
       "      <td>43711.828125</td>\n",
       "      <td>1.0</td>\n",
       "      <td>54970.597656</td>\n",
       "      <td>34171.484375</td>\n",
       "      <td>1.684675</td>\n",
       "      <td>0.0</td>\n",
       "      <td>45343.480469</td>\n",
       "      <td>27666.873047</td>\n",
       "      <td>...</td>\n",
       "      <td>5185.404785</td>\n",
       "      <td>126422.304688</td>\n",
       "      <td>0.0</td>\n",
       "      <td>0.0</td>\n",
       "      <td>10125.891602</td>\n",
       "      <td>78158.171875</td>\n",
       "      <td>-1.0</td>\n",
       "      <td>1.0</td>\n",
       "      <td>10297.296875</td>\n",
       "      <td>0</td>\n",
       "    </tr>\n",
       "    <tr>\n",
       "      <th>3</th>\n",
       "      <td>22682.914062</td>\n",
       "      <td>16763.203125</td>\n",
       "      <td>27512.105469</td>\n",
       "      <td>0.0</td>\n",
       "      <td>77148.039062</td>\n",
       "      <td>0.000000</td>\n",
       "      <td>-0.030784</td>\n",
       "      <td>0.0</td>\n",
       "      <td>28012.630859</td>\n",
       "      <td>30668.925781</td>\n",
       "      <td>...</td>\n",
       "      <td>5185.404785</td>\n",
       "      <td>28025.904297</td>\n",
       "      <td>0.0</td>\n",
       "      <td>0.0</td>\n",
       "      <td>13098.041992</td>\n",
       "      <td>0.000000</td>\n",
       "      <td>1.0</td>\n",
       "      <td>-1.0</td>\n",
       "      <td>14539.251953</td>\n",
       "      <td>0</td>\n",
       "    </tr>\n",
       "    <tr>\n",
       "      <th>4</th>\n",
       "      <td>0.000000</td>\n",
       "      <td>78260.984375</td>\n",
       "      <td>0.000000</td>\n",
       "      <td>1.0</td>\n",
       "      <td>0.000000</td>\n",
       "      <td>199608.000000</td>\n",
       "      <td>-0.026822</td>\n",
       "      <td>0.0</td>\n",
       "      <td>74441.789062</td>\n",
       "      <td>0.000000</td>\n",
       "      <td>...</td>\n",
       "      <td>23130.806641</td>\n",
       "      <td>74468.570312</td>\n",
       "      <td>0.0</td>\n",
       "      <td>0.0</td>\n",
       "      <td>0.000000</td>\n",
       "      <td>249863.078125</td>\n",
       "      <td>0.0</td>\n",
       "      <td>1.0</td>\n",
       "      <td>0.000000</td>\n",
       "      <td>0</td>\n",
       "    </tr>\n",
       "  </tbody>\n",
       "</table>\n",
       "<p>5 rows × 26 columns</p>\n",
       "</div>"
      ],
      "text/plain": [
       "       lep_pt_2        met_et      lep_pt_1  jet_n       lep_E_1  \\\n",
       "0   8604.807617  34466.183594  36824.394531    0.0  37284.203125   \n",
       "1      0.000000  13054.372070  32843.285156    0.0  33086.371094   \n",
       "2  14819.154297  14494.322266  43711.828125    1.0  54970.597656   \n",
       "3  22682.914062  16763.203125  27512.105469    0.0  77148.039062   \n",
       "4      0.000000  78260.984375      0.000000    1.0      0.000000   \n",
       "\n",
       "        jet_pt_0  lep_eta_0  jet_pt_1      lep_pt_0       lep_E_2  ...  \\\n",
       "0       0.000000  -0.665586       0.0  58844.101562   8606.623047  ...   \n",
       "1       0.000000   0.461765       0.0  50064.492188      0.000000  ...   \n",
       "2   34171.484375   1.684675       0.0  45343.480469  27666.873047  ...   \n",
       "3       0.000000  -0.030784       0.0  28012.630859  30668.925781  ...   \n",
       "4  199608.000000  -0.026822       0.0  74441.789062      0.000000  ...   \n",
       "\n",
       "          jet_m        lep_E_0  jet_eta_1  jet_pt_2      lep_pt_3  \\\n",
       "0   4666.577148   72366.562500        0.0       0.0      0.000000   \n",
       "1   4666.577148   55497.660156        0.0       0.0      0.000000   \n",
       "2   5185.404785  126422.304688        0.0       0.0  10125.891602   \n",
       "3   5185.404785   28025.904297        0.0       0.0  13098.041992   \n",
       "4  23130.806641   74468.570312        0.0       0.0      0.000000   \n",
       "\n",
       "         jet_E_0  lep_charge_1  lep_charge_0       lep_E_3  label  \n",
       "0       0.000000          -1.0           1.0      0.000000      0  \n",
       "1       0.000000          -1.0           1.0      0.000000      0  \n",
       "2   78158.171875          -1.0           1.0  10297.296875      0  \n",
       "3       0.000000           1.0          -1.0  14539.251953      0  \n",
       "4  249863.078125           0.0           1.0      0.000000      0  \n",
       "\n",
       "[5 rows x 26 columns]"
      ]
     },
     "execution_count": 46,
     "metadata": {},
     "output_type": "execute_result"
    }
   ],
   "source": [
    "df.head()"
   ]
  },
  {
   "cell_type": "code",
   "execution_count": 47,
   "id": "5f3df38e",
   "metadata": {},
   "outputs": [],
   "source": [
    "y = df.pop('label')"
   ]
  },
  {
   "cell_type": "code",
   "execution_count": 48,
   "id": "e49d52f3",
   "metadata": {},
   "outputs": [],
   "source": [
    "def create_model(units=64, activation='relu', optimizer='adam'):\n",
    "    model = Sequential()\n",
    "    model.add(Dense(units=units, activation=activation, input_dim=input_dim))\n",
    "    model.add(Dense(units=units, activation=activation))\n",
    "    model.add(Dense(units=output_dim, activation='softmax'))\n",
    "    model.compile(optimizer=optimizer, loss='categorical_crossentropy', metrics=['accuracy'])\n",
    "    return model"
   ]
  },
  {
   "cell_type": "code",
   "execution_count": 49,
   "id": "3326cf05",
   "metadata": {},
   "outputs": [],
   "source": [
    "param_grid = {\n",
    "    'units': [32, 64, 128],\n",
    "    'activation': ['relu', 'sigmoid'],\n",
    "    'optimizer': ['adam', 'rmsprop']\n",
    "}"
   ]
  },
  {
   "cell_type": "code",
   "execution_count": 56,
   "id": "7a1531d9",
   "metadata": {},
   "outputs": [],
   "source": [
    "label_encoder = LabelEncoder()\n",
    "y_encoded = label_encoder.fit_transform(y)\n",
    "y_one_hot = tf.keras.utils.to_categorical(y_encoded)\n",
    "\n",
    "# Shuffle and split the data into train and test sets\n",
    "X_train, X_test, y_train, y_test = train_test_split(df, y_one_hot, test_size=0.2, random_state=42)\n"
   ]
  },
  {
   "cell_type": "code",
   "execution_count": 57,
   "id": "9099d26a",
   "metadata": {},
   "outputs": [],
   "source": [
    "from sklearn.preprocessing import MinMaxScaler\n",
    "scaler = MinMaxScaler(feature_range=(0, 1))\n",
    "\n",
    "X_train = scaler.fit_transform(X_train)\n",
    "X_test = scaler.transform(X_test)\n"
   ]
  },
  {
   "cell_type": "code",
   "execution_count": 61,
   "id": "ea3c1fa2",
   "metadata": {},
   "outputs": [
    {
     "data": {
      "text/plain": [
       "(416564, 25)"
      ]
     },
     "execution_count": 61,
     "metadata": {},
     "output_type": "execute_result"
    }
   ],
   "source": [
    "X_train.shape"
   ]
  },
  {
   "cell_type": "code",
   "execution_count": 64,
   "id": "473c5662",
   "metadata": {},
   "outputs": [
    {
     "name": "stdout",
     "output_type": "stream",
     "text": [
      "Model: \"sequential_1\"\n",
      "_________________________________________________________________\n",
      " Layer (type)                Output Shape              Param #   \n",
      "=================================================================\n",
      " dense_3 (Dense)             (None, 128)               3328      \n",
      "                                                                 \n",
      " dense_4 (Dense)             (None, 64)                8256      \n",
      "                                                                 \n",
      " dense_5 (Dense)             (None, 3)                 195       \n",
      "                                                                 \n",
      "=================================================================\n",
      "Total params: 11779 (46.01 KB)\n",
      "Trainable params: 11779 (46.01 KB)\n",
      "Non-trainable params: 0 (0.00 Byte)\n",
      "_________________________________________________________________\n"
     ]
    }
   ],
   "source": [
    "model = Sequential()\n",
    "model.add(Dense(128, activation='relu', input_dim=25))\n",
    "model.add(Dense(64, activation='relu'))\n",
    "model.add(Dense(3, activation='softmax'))\n",
    "\n",
    "model.compile(loss='categorical_crossentropy', optimizer='adam', metrics=['accuracy'])\n",
    "\n",
    "model.summary()"
   ]
  },
  {
   "cell_type": "code",
   "execution_count": 76,
   "id": "0fe785c8",
   "metadata": {},
   "outputs": [
    {
     "name": "stdout",
     "output_type": "stream",
     "text": [
      "Epoch 1/50\n",
      "814/814 [==============================] - 1s 831us/step - loss: 0.3181 - accuracy: 0.8744 - val_loss: 0.3239 - val_accuracy: 0.8730\n",
      "Epoch 2/50\n",
      "814/814 [==============================] - 1s 810us/step - loss: 0.3183 - accuracy: 0.8744 - val_loss: 0.3268 - val_accuracy: 0.8725\n",
      "Epoch 3/50\n",
      "814/814 [==============================] - 1s 928us/step - loss: 0.3180 - accuracy: 0.8747 - val_loss: 0.3210 - val_accuracy: 0.8739\n",
      "Epoch 4/50\n",
      "814/814 [==============================] - 1s 1ms/step - loss: 0.3176 - accuracy: 0.8749 - val_loss: 0.3209 - val_accuracy: 0.8740\n",
      "Epoch 5/50\n",
      "814/814 [==============================] - 1s 1ms/step - loss: 0.3177 - accuracy: 0.8746 - val_loss: 0.3200 - val_accuracy: 0.8747\n",
      "Epoch 6/50\n",
      "814/814 [==============================] - 1s 957us/step - loss: 0.3173 - accuracy: 0.8747 - val_loss: 0.3237 - val_accuracy: 0.8725\n",
      "Epoch 7/50\n",
      "814/814 [==============================] - 1s 815us/step - loss: 0.3173 - accuracy: 0.8748 - val_loss: 0.3200 - val_accuracy: 0.8742\n",
      "Epoch 8/50\n",
      "814/814 [==============================] - 1s 810us/step - loss: 0.3165 - accuracy: 0.8750 - val_loss: 0.3217 - val_accuracy: 0.8746\n",
      "Epoch 9/50\n",
      "814/814 [==============================] - 1s 810us/step - loss: 0.3170 - accuracy: 0.8747 - val_loss: 0.3196 - val_accuracy: 0.8752\n",
      "Epoch 10/50\n",
      "814/814 [==============================] - 1s 803us/step - loss: 0.3163 - accuracy: 0.8752 - val_loss: 0.3196 - val_accuracy: 0.8750\n",
      "Epoch 11/50\n",
      "814/814 [==============================] - 1s 805us/step - loss: 0.3170 - accuracy: 0.8748 - val_loss: 0.3217 - val_accuracy: 0.8739\n",
      "Epoch 12/50\n",
      "814/814 [==============================] - 1s 808us/step - loss: 0.3159 - accuracy: 0.8755 - val_loss: 0.3210 - val_accuracy: 0.8746\n",
      "Epoch 13/50\n",
      "814/814 [==============================] - 1s 918us/step - loss: 0.3157 - accuracy: 0.8755 - val_loss: 0.3185 - val_accuracy: 0.8755\n",
      "Epoch 14/50\n",
      "814/814 [==============================] - 1s 1ms/step - loss: 0.3156 - accuracy: 0.8755 - val_loss: 0.3198 - val_accuracy: 0.8746\n",
      "Epoch 15/50\n",
      "814/814 [==============================] - 1s 1ms/step - loss: 0.3157 - accuracy: 0.8754 - val_loss: 0.3193 - val_accuracy: 0.8745\n",
      "Epoch 16/50\n",
      "814/814 [==============================] - 1s 944us/step - loss: 0.3151 - accuracy: 0.8756 - val_loss: 0.3225 - val_accuracy: 0.8730\n",
      "Epoch 17/50\n",
      "814/814 [==============================] - 1s 1ms/step - loss: 0.3153 - accuracy: 0.8753 - val_loss: 0.3220 - val_accuracy: 0.8741\n",
      "Epoch 18/50\n",
      "814/814 [==============================] - 1s 923us/step - loss: 0.3150 - accuracy: 0.8757 - val_loss: 0.3231 - val_accuracy: 0.8737\n",
      "Epoch 19/50\n",
      "814/814 [==============================] - 1s 957us/step - loss: 0.3147 - accuracy: 0.8758 - val_loss: 0.3184 - val_accuracy: 0.8746\n",
      "Epoch 20/50\n",
      "814/814 [==============================] - 1s 957us/step - loss: 0.3147 - accuracy: 0.8760 - val_loss: 0.3212 - val_accuracy: 0.8733\n",
      "Epoch 21/50\n",
      "814/814 [==============================] - 1s 1ms/step - loss: 0.3143 - accuracy: 0.8758 - val_loss: 0.3200 - val_accuracy: 0.8747\n",
      "Epoch 22/50\n",
      "814/814 [==============================] - 1s 833us/step - loss: 0.3143 - accuracy: 0.8756 - val_loss: 0.3182 - val_accuracy: 0.8752\n",
      "Epoch 23/50\n",
      "814/814 [==============================] - 1s 828us/step - loss: 0.3144 - accuracy: 0.8761 - val_loss: 0.3193 - val_accuracy: 0.8749\n",
      "Epoch 24/50\n",
      "814/814 [==============================] - 1s 1ms/step - loss: 0.3140 - accuracy: 0.8759 - val_loss: 0.3223 - val_accuracy: 0.8737\n",
      "Epoch 25/50\n",
      "814/814 [==============================] - 1s 955us/step - loss: 0.3141 - accuracy: 0.8761 - val_loss: 0.3216 - val_accuracy: 0.8737\n",
      "Epoch 26/50\n",
      "814/814 [==============================] - 1s 816us/step - loss: 0.3135 - accuracy: 0.8761 - val_loss: 0.3209 - val_accuracy: 0.8736\n",
      "Epoch 27/50\n",
      "814/814 [==============================] - 1s 812us/step - loss: 0.3136 - accuracy: 0.8764 - val_loss: 0.3208 - val_accuracy: 0.8741\n",
      "Epoch 28/50\n",
      "814/814 [==============================] - 1s 814us/step - loss: 0.3136 - accuracy: 0.8763 - val_loss: 0.3207 - val_accuracy: 0.8737\n",
      "Epoch 29/50\n",
      "814/814 [==============================] - 1s 811us/step - loss: 0.3132 - accuracy: 0.8762 - val_loss: 0.3199 - val_accuracy: 0.8750\n",
      "Epoch 30/50\n",
      "814/814 [==============================] - 1s 812us/step - loss: 0.3130 - accuracy: 0.8764 - val_loss: 0.3190 - val_accuracy: 0.8749\n",
      "Epoch 31/50\n",
      "814/814 [==============================] - 1s 815us/step - loss: 0.3129 - accuracy: 0.8763 - val_loss: 0.3219 - val_accuracy: 0.8742\n",
      "Epoch 32/50\n",
      "814/814 [==============================] - 1s 812us/step - loss: 0.3128 - accuracy: 0.8762 - val_loss: 0.3200 - val_accuracy: 0.8742\n",
      "Epoch 33/50\n",
      "814/814 [==============================] - 1s 817us/step - loss: 0.3125 - accuracy: 0.8764 - val_loss: 0.3209 - val_accuracy: 0.8731\n",
      "Epoch 34/50\n",
      "814/814 [==============================] - 1s 967us/step - loss: 0.3126 - accuracy: 0.8764 - val_loss: 0.3200 - val_accuracy: 0.8748\n",
      "Epoch 35/50\n",
      "814/814 [==============================] - 1s 819us/step - loss: 0.3123 - accuracy: 0.8767 - val_loss: 0.3253 - val_accuracy: 0.8728\n",
      "Epoch 36/50\n",
      "814/814 [==============================] - 1s 809us/step - loss: 0.3122 - accuracy: 0.8769 - val_loss: 0.3177 - val_accuracy: 0.8752\n",
      "Epoch 37/50\n",
      "814/814 [==============================] - 1s 815us/step - loss: 0.3120 - accuracy: 0.8767 - val_loss: 0.3204 - val_accuracy: 0.8745\n",
      "Epoch 38/50\n",
      "814/814 [==============================] - 1s 823us/step - loss: 0.3121 - accuracy: 0.8765 - val_loss: 0.3176 - val_accuracy: 0.8758\n",
      "Epoch 39/50\n",
      "814/814 [==============================] - 1s 810us/step - loss: 0.3121 - accuracy: 0.8768 - val_loss: 0.3183 - val_accuracy: 0.8756\n",
      "Epoch 40/50\n",
      "814/814 [==============================] - 1s 823us/step - loss: 0.3116 - accuracy: 0.8767 - val_loss: 0.3204 - val_accuracy: 0.8746\n",
      "Epoch 41/50\n",
      "814/814 [==============================] - 1s 823us/step - loss: 0.3113 - accuracy: 0.8770 - val_loss: 0.3213 - val_accuracy: 0.8741\n",
      "Epoch 42/50\n",
      "814/814 [==============================] - 1s 1ms/step - loss: 0.3117 - accuracy: 0.8767 - val_loss: 0.3192 - val_accuracy: 0.8749\n",
      "Epoch 43/50\n",
      "814/814 [==============================] - 1s 834us/step - loss: 0.3113 - accuracy: 0.8770 - val_loss: 0.3217 - val_accuracy: 0.8743\n",
      "Epoch 44/50\n",
      "814/814 [==============================] - 1s 812us/step - loss: 0.3112 - accuracy: 0.8770 - val_loss: 0.3171 - val_accuracy: 0.8757\n",
      "Epoch 45/50\n",
      "814/814 [==============================] - 1s 814us/step - loss: 0.3110 - accuracy: 0.8771 - val_loss: 0.3184 - val_accuracy: 0.8753\n",
      "Epoch 46/50\n",
      "814/814 [==============================] - 1s 815us/step - loss: 0.3108 - accuracy: 0.8776 - val_loss: 0.3220 - val_accuracy: 0.8738\n",
      "Epoch 47/50\n",
      "814/814 [==============================] - 1s 816us/step - loss: 0.3110 - accuracy: 0.8770 - val_loss: 0.3198 - val_accuracy: 0.8742\n",
      "Epoch 48/50\n",
      "814/814 [==============================] - 1s 820us/step - loss: 0.3108 - accuracy: 0.8771 - val_loss: 0.3203 - val_accuracy: 0.8747\n",
      "Epoch 49/50\n",
      "814/814 [==============================] - 1s 808us/step - loss: 0.3109 - accuracy: 0.8769 - val_loss: 0.3229 - val_accuracy: 0.8737\n",
      "Epoch 50/50\n",
      "814/814 [==============================] - 1s 816us/step - loss: 0.3106 - accuracy: 0.8775 - val_loss: 0.3203 - val_accuracy: 0.8737\n"
     ]
    }
   ],
   "source": [
    "history2 = model.fit(X_train, y_train, batch_size=512, epochs=50, verbose=1, validation_data=(X_test, y_test))"
   ]
  },
  {
   "cell_type": "code",
   "execution_count": 73,
   "id": "ac908684",
   "metadata": {},
   "outputs": [],
   "source": [
    "def plot_history(network_history):\n",
    "    plt.figure()\n",
    "    plt.xlabel('Epochs')\n",
    "    plt.ylabel('Loss')\n",
    "    plt.plot(network_history.history['loss'])\n",
    "    plt.plot(network_history.history['val_loss'])\n",
    "    plt.legend(['Training', 'Validation'])\n",
    "\n",
    "    plt.figure()\n",
    "    plt.xlabel('Epochs')\n",
    "    plt.ylabel('Accuracy')\n",
    "    plt.plot(network_history.history['accuracy'])\n",
    "    plt.plot(network_history.history['val_accuracy'])\n",
    "    plt.legend(['Training', 'Validation'], loc='lower right')\n",
    "    plt.show()"
   ]
  },
  {
   "cell_type": "code",
   "execution_count": 77,
   "id": "a6e729bb",
   "metadata": {},
   "outputs": [
    {
     "data": {
      "image/png": "[encoded data removed]",
      "text/plain": [
       "<Figure size 640x480 with 1 Axes>"
      ]
     },
     "metadata": {},
     "output_type": "display_data"
    },
    {
     "data": {
      "image/png": "[encoded data removed]",
      "text/plain": [
       "<Figure size 640x480 with 1 Axes>"
      ]
     },
     "metadata": {},
     "output_type": "display_data"
    }
   ],
   "source": [
    "plot_history(history2)"
   ]
  },
  {
   "cell_type": "raw",
   "id": "f428548f",
   "metadata": {},
   "source": [
    "model = KerasClassifier(build_fn=create_model, epochs=10, batch_size=32, verbose=0)\n",
    "grid = GridSearchCV(estimator=model, param_grid=param_grid, cv=3)\n",
    "grid_result = grid.fit(X_train, y_train)"
   ]
  },
  {
   "cell_type": "code",
   "execution_count": null,
   "id": "f8ad7708",
   "metadata": {},
   "outputs": [],
   "source": []
  },
  {
   "cell_type": "code",
   "execution_count": 21,
   "id": "7087aeb5",
   "metadata": {},
   "outputs": [],
   "source": [
    "tensor_features = tf.convert_to_tensor(df)"
   ]
  },
  {
   "cell_type": "code",
   "execution_count": 38,
   "id": "0b54c738",
   "metadata": {},
   "outputs": [
    {
     "data": {
      "text/plain": [
       "<tf.Tensor: shape=(520706, 25), dtype=float32, numpy=\n",
       "array([[ 8.6048076e+03,  3.4466184e+04,  3.6824395e+04, ...,\n",
       "        -1.0000000e+00,  1.0000000e+00,  0.0000000e+00],\n",
       "       [ 0.0000000e+00,  1.3054372e+04,  3.2843285e+04, ...,\n",
       "        -1.0000000e+00,  1.0000000e+00,  0.0000000e+00],\n",
       "       [ 1.4819154e+04,  1.4494322e+04,  4.3711828e+04, ...,\n",
       "        -1.0000000e+00,  1.0000000e+00,  1.0297297e+04],\n",
       "       ...,\n",
       "       [ 0.0000000e+00,  2.7180938e+05,  0.0000000e+00, ...,\n",
       "         0.0000000e+00, -1.0000000e+00,  0.0000000e+00],\n",
       "       [ 0.0000000e+00,  9.7783766e+04,  0.0000000e+00, ...,\n",
       "         0.0000000e+00, -1.0000000e+00,  0.0000000e+00],\n",
       "       [ 0.0000000e+00,  3.2405881e+05,  0.0000000e+00, ...,\n",
       "         0.0000000e+00,  1.0000000e+00,  0.0000000e+00]], dtype=float32)>"
      ]
     },
     "execution_count": 38,
     "metadata": {},
     "output_type": "execute_result"
    }
   ],
   "source": [
    "tensor_features"
   ]
  },
  {
   "cell_type": "code",
   "execution_count": 39,
   "id": "f616036b",
   "metadata": {},
   "outputs": [],
   "source": [
    "normalizer = tf.keras.layers.Normalization(axis=-1)\n",
    "normalizer.adapt(tensor_features)"
   ]
  },
  {
   "cell_type": "code",
   "execution_count": 40,
   "id": "f089c400",
   "metadata": {},
   "outputs": [
    {
     "data": {
      "text/plain": [
       "<tf.Tensor: shape=(520706, 25), dtype=float32, numpy=\n",
       "array([[ 8.6048076e+03,  3.4466184e+04,  3.6824395e+04, ...,\n",
       "        -1.0000000e+00,  1.0000000e+00,  0.0000000e+00],\n",
       "       [ 0.0000000e+00,  1.3054372e+04,  3.2843285e+04, ...,\n",
       "        -1.0000000e+00,  1.0000000e+00,  0.0000000e+00],\n",
       "       [ 1.4819154e+04,  1.4494322e+04,  4.3711828e+04, ...,\n",
       "        -1.0000000e+00,  1.0000000e+00,  1.0297297e+04],\n",
       "       ...,\n",
       "       [ 0.0000000e+00,  2.7180938e+05,  0.0000000e+00, ...,\n",
       "         0.0000000e+00, -1.0000000e+00,  0.0000000e+00],\n",
       "       [ 0.0000000e+00,  9.7783766e+04,  0.0000000e+00, ...,\n",
       "         0.0000000e+00, -1.0000000e+00,  0.0000000e+00],\n",
       "       [ 0.0000000e+00,  3.2405881e+05,  0.0000000e+00, ...,\n",
       "         0.0000000e+00,  1.0000000e+00,  0.0000000e+00]], dtype=float32)>"
      ]
     },
     "execution_count": 40,
     "metadata": {},
     "output_type": "execute_result"
    }
   ],
   "source": [
    "tensor_features"
   ]
  },
  {
   "cell_type": "code",
   "execution_count": 41,
   "id": "175ec027",
   "metadata": {},
   "outputs": [
    {
     "ename": "AttributeError",
     "evalue": "'tensorflow.python.framework.ops.EagerTensor' object has no attribute 'iloc'",
     "output_type": "error",
     "traceback": [
      "\u001b[0;31m---------------------------------------------------------------------------\u001b[0m",
      "\u001b[0;31mAttributeError\u001b[0m                            Traceback (most recent call last)",
      "Cell \u001b[0;32mIn[41], line 1\u001b[0m\n\u001b[0;32m----> 1\u001b[0m normalizer(\u001b[43mtensor_features\u001b[49m\u001b[38;5;241;43m.\u001b[39;49m\u001b[43miloc\u001b[49m[:\u001b[38;5;241m3\u001b[39m])\n",
      "File \u001b[0;32m~/Documents/Niklas/ML_Seminar/lib/python3.10/site-packages/tensorflow/python/framework/ops.py:430\u001b[0m, in \u001b[0;36mTensor.__getattr__\u001b[0;34m(self, name)\u001b[0m\n\u001b[1;32m    421\u001b[0m \u001b[38;5;28;01mif\u001b[39;00m name \u001b[38;5;129;01min\u001b[39;00m {\u001b[38;5;124m\"\u001b[39m\u001b[38;5;124mT\u001b[39m\u001b[38;5;124m\"\u001b[39m, \u001b[38;5;124m\"\u001b[39m\u001b[38;5;124mastype\u001b[39m\u001b[38;5;124m\"\u001b[39m, \u001b[38;5;124m\"\u001b[39m\u001b[38;5;124mravel\u001b[39m\u001b[38;5;124m\"\u001b[39m, \u001b[38;5;124m\"\u001b[39m\u001b[38;5;124mtranspose\u001b[39m\u001b[38;5;124m\"\u001b[39m, \u001b[38;5;124m\"\u001b[39m\u001b[38;5;124mreshape\u001b[39m\u001b[38;5;124m\"\u001b[39m, \u001b[38;5;124m\"\u001b[39m\u001b[38;5;124mclip\u001b[39m\u001b[38;5;124m\"\u001b[39m, \u001b[38;5;124m\"\u001b[39m\u001b[38;5;124msize\u001b[39m\u001b[38;5;124m\"\u001b[39m,\n\u001b[1;32m    422\u001b[0m             \u001b[38;5;124m\"\u001b[39m\u001b[38;5;124mtolist\u001b[39m\u001b[38;5;124m\"\u001b[39m, \u001b[38;5;124m\"\u001b[39m\u001b[38;5;124mdata\u001b[39m\u001b[38;5;124m\"\u001b[39m}:\n\u001b[1;32m    423\u001b[0m   \u001b[38;5;66;03m# TODO(wangpeng): Export the enable_numpy_behavior knob\u001b[39;00m\n\u001b[1;32m    424\u001b[0m   \u001b[38;5;28;01mraise\u001b[39;00m \u001b[38;5;167;01mAttributeError\u001b[39;00m(\n\u001b[1;32m    425\u001b[0m       \u001b[38;5;124mf\u001b[39m\u001b[38;5;124m\"\u001b[39m\u001b[38;5;132;01m{\u001b[39;00m\u001b[38;5;28mtype\u001b[39m(\u001b[38;5;28mself\u001b[39m)\u001b[38;5;241m.\u001b[39m\u001b[38;5;18m__name__\u001b[39m\u001b[38;5;132;01m}\u001b[39;00m\u001b[38;5;124m object has no attribute \u001b[39m\u001b[38;5;124m'\u001b[39m\u001b[38;5;132;01m{\u001b[39;00mname\u001b[38;5;132;01m}\u001b[39;00m\u001b[38;5;124m'\u001b[39m\u001b[38;5;124m. \u001b[39m\u001b[38;5;124m\"\u001b[39m \u001b[38;5;241m+\u001b[39m \u001b[38;5;124m\"\"\"\u001b[39m\n\u001b[1;32m    426\u001b[0m \u001b[38;5;124m    If you are looking for numpy-related methods, please run the following:\u001b[39m\n\u001b[1;32m    427\u001b[0m \u001b[38;5;124m    from tensorflow.python.ops.numpy_ops import np_config\u001b[39m\n\u001b[1;32m    428\u001b[0m \u001b[38;5;124m    np_config.enable_numpy_behavior()\u001b[39m\n\u001b[1;32m    429\u001b[0m \u001b[38;5;124m  \u001b[39m\u001b[38;5;124m\"\"\"\u001b[39m)\n\u001b[0;32m--> 430\u001b[0m \u001b[38;5;28;43mself\u001b[39;49m\u001b[38;5;241;43m.\u001b[39;49m\u001b[38;5;21;43m__getattribute__\u001b[39;49m\u001b[43m(\u001b[49m\u001b[43mname\u001b[49m\u001b[43m)\u001b[49m\n",
      "\u001b[0;31mAttributeError\u001b[0m: 'tensorflow.python.framework.ops.EagerTensor' object has no attribute 'iloc'"
     ]
    }
   ],
   "source": [
    "normalizer(tensor_features.iloc[:3])"
   ]
  },
  {
   "cell_type": "code",
   "execution_count": 32,
   "id": "14d6d801",
   "metadata": {},
   "outputs": [
    {
     "ename": "TypeError",
     "evalue": "'NoneType' object is not iterable",
     "output_type": "error",
     "traceback": [
      "\u001b[0;31m---------------------------------------------------------------------------\u001b[0m",
      "\u001b[0;31mTypeError\u001b[0m                                 Traceback (most recent call last)",
      "Cell \u001b[0;32mIn[32], line 1\u001b[0m\n\u001b[0;32m----> 1\u001b[0m \u001b[38;5;28;01mfor\u001b[39;00m i \u001b[38;5;129;01min\u001b[39;00m (normed_features):\n\u001b[1;32m      2\u001b[0m     \u001b[38;5;28mprint\u001b[39m(i)\n",
      "\u001b[0;31mTypeError\u001b[0m: 'NoneType' object is not iterable"
     ]
    }
   ],
   "source": [
    "for i in (normed_features):\n",
    "    print(i)"
   ]
  },
  {
   "cell_type": "code",
   "execution_count": null,
   "id": "6d4c9973",
   "metadata": {},
   "outputs": [],
   "source": []
  }
 ],
 "metadata": {
  "kernelspec": {
   "display_name": "Python 3 (ipykernel)",
   "language": "python",
   "name": "python3"
  },
  "language_info": {
   "codemirror_mode": {
    "name": "ipython",
    "version": 3
   },
   "file_extension": ".py",
   "mimetype": "text/x-python",
   "name": "python",
   "nbconvert_exporter": "python",
   "pygments_lexer": "ipython3",
   "version": "3.10.5"
  }
 },
 "nbformat": 4,
 "nbformat_minor": 5
}
