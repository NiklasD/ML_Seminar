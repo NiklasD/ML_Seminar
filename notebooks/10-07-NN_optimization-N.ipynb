{
 "cells": [
  {
   "cell_type": "code",
   "execution_count": 1,
   "metadata": {},
   "outputs": [],
   "source": [
    "# import pathlib\n",
    "import pickle\n",
    "\n",
    "import matplotlib.pyplot as plt\n",
    "import numpy as np\n",
    "import pandas as pd\n",
    "#import re\n",
    "#import random\n",
    "#from sklearn import tree\n",
    "from sklearn.model_selection import train_test_split\n",
    "from sklearn.inspection import permutation_importance\n",
    "from sklearn.metrics import confusion_matrix, classification_report, ConfusionMatrixDisplay, roc_auc_score\n",
    "from hyperopt import STATUS_OK, Trials, fmin, hp, tpe\n",
    "\n",
    "\n",
    "import xgboost as xgb\n",
    "from sklearn.metrics import auc, accuracy_score, mean_squared_error\n",
    "from sklearn.model_selection import cross_val_score, GridSearchCV, KFold, RandomizedSearchCV\n",
    "#from string import ascii_letters\n",
    "import seaborn as sns\n",
    "import h5py as h5\n",
    "\n",
    "#from string import ascii_letters"
   ]
  },
  {
   "cell_type": "code",
   "execution_count": 2,
   "metadata": {},
   "outputs": [],
   "source": [
    "from tensorflow.keras.models import Sequential, load_model\n",
    "from tensorflow.keras.layers import Dense, Dropout, Activation, Flatten, Conv2D, MaxPooling2D, InputLayer\n",
    "from tensorflow.keras.callbacks import ModelCheckpoint, Callback\n",
    "from tensorflow.keras.optimizers import Adam\n",
    "from sklearn.preprocessing import LabelEncoder\n",
    "import tensorflow as tf"
   ]
  },
  {
   "cell_type": "raw",
   "metadata": {},
   "source": [
    "df[features].to_pickle('../pickle_pd/pd_top_25.pkl')"
   ]
  },
  {
   "cell_type": "code",
   "execution_count": 3,
   "metadata": {},
   "outputs": [],
   "source": [
    "df =pd.read_pickle('../pickle_pd/pd_top_25.pkl')\n",
    "features = ['lep_pt_2','lep_pt_1','jet_n','lep_E_1','jet_pt_0','lep_eta_0','jet_pt_1','lep_pt_0','lep_E_2','lep_eta_1','lep_phi_1','lep_phi_0',\n",
    "            'lep_ptcone30_1','lep_ptcone30_0','jet_eta_0','jet_m','lep_E_0','jet_eta_1','jet_pt_2','lep_pt_3','jet_E_0','lep_charge_1','lep_charge_0','lep_E_3']"
   ]
  },
  {
   "cell_type": "code",
   "execution_count": 4,
   "metadata": {},
   "outputs": [],
   "source": [
    "y = df.pop('label')"
   ]
  },
  {
   "cell_type": "code",
   "execution_count": 5,
   "metadata": {},
   "outputs": [],
   "source": [
    "label_encoder = LabelEncoder()\n",
    "y_encoded = label_encoder.fit_transform(y)\n",
    "y_one_hot = tf.keras.utils.to_categorical(y_encoded)"
   ]
  },
  {
   "cell_type": "code",
   "execution_count": 6,
   "metadata": {},
   "outputs": [
    {
     "data": {
      "text/plain": [
       "24"
      ]
     },
     "execution_count": 6,
     "metadata": {},
     "output_type": "execute_result"
    }
   ],
   "source": [
    "len(list(df))"
   ]
  },
  {
   "cell_type": "code",
   "execution_count": 51,
   "metadata": {},
   "outputs": [],
   "source": [
    " X_train, X_test, y_train, y_test = train_test_split( df[features], y_one_hot, test_size=0.2, random_state=42,shuffle = True)\n",
    " X_test, X_val, y_test, y_val = train_test_split( X_test, y_test, test_size=0.5, random_state=42,shuffle = True)"
   ]
  },
  {
   "cell_type": "code",
   "execution_count": null,
   "metadata": {},
   "outputs": [],
   "source": []
  },
  {
   "cell_type": "code",
   "execution_count": 8,
   "metadata": {},
   "outputs": [],
   "source": [
    "space={#'dimension': hp.uniform(\"dimension\", 64, 256),\n",
    "        'learning_rate': hp.uniform ('learning_rate', 0.0005,0.005),\n",
    "        'beta_1' : hp.uniform('beta_1', 0.5,0.99),\n",
    "        'beta_2' : hp.uniform('beta_2', 0.8,0.9999),\n",
    "        'epsilon' : hp.uniform('epsilon', 1e-08,1e-06),\n",
    "        'ema_momentum' : hp.uniform('ema_momentum', 0.8, 0.999),\n",
    "        'dropout' : hp.uniform('dropout', 0,0.5)\n",
    "    }"
   ]
  },
  {
   "cell_type": "raw",
   "metadata": {},
   "source": [
    "def objective(space):\n",
    "    optimizer = tf.keras.optimizers.legacy.Adam(learning_rate=space['learning_rate'], beta_1=space['beta_1'], beta_2=space['beta_2'], epsilon=space['epsilon'], ema_momentum=space['ema_momentum'])\n",
    "                \n",
    "    model = Sequential([\n",
    "            Dense(128, activation='relu', input_dim=24),\n",
    "                Dropout(space['dropout']),\n",
    "            Dense(64, activation='relu'),\n",
    "                #Dropout(space['dropout']),\n",
    "            Dense(32, activation='relu'),\n",
    "                #Dropout(space['dropout']),\n",
    "            Dense(3, activation='softmax')\n",
    "            ])\n",
    "    \n",
    "    evaluation = [( X_train, y_train), ( X_test, y_test)]\n",
    "    \n",
    "    #model.fit(X_train, y_train,\n",
    "    #        eval_set=evaluation, #eval_metric=\"auc\",\n",
    "    #        early_stopping_rounds=10,verbose=False)\n",
    "    model.compile(loss='categorical_crossentropy', optimizer=optimizer, metrics=['accuracy'])\n",
    "    \n",
    "    fit_results = model.fit(\n",
    "              x=X_train,\n",
    "              y=y_train,\n",
    "              batch_size=512,\n",
    "              epochs=65,\n",
    "              validation_data=(X_test, y_test),\n",
    "              #callbacks=[checkpoint],\n",
    "              verbose=0\n",
    "            )\n",
    "    \n",
    "\n",
    "    pred = model.predict(X_test)\n",
    "    accuracy = accuracy_score(y_test, pred>0.5)\n",
    "    print (\"SCORE:\", accuracy)\n",
    "    return {'loss': -accuracy, 'status': STATUS_OK }"
   ]
  },
  {
   "cell_type": "code",
   "execution_count": 13,
   "metadata": {},
   "outputs": [],
   "source": [
    "def objective(space):\n",
    "    optimizer = Adam(learning_rate=space['learning_rate'], beta_1=space['beta_1'], beta_2=space['beta_2'], epsilon=space['epsilon'], ema_momentum=space['ema_momentum'])\n",
    "                \n",
    "    model = Sequential([\n",
    "            Dense(128, activation='relu', input_dim=24),\n",
    "                Dropout(space['dropout']),\n",
    "            Dense(64, activation='relu'),\n",
    "                #Dropout(space['dropout']),\n",
    "            Dense(32, activation='relu'),\n",
    "                #Dropout(space['dropout']),\n",
    "            Dense(3, activation='softmax')\n",
    "            ])\n",
    "    \n",
    "    evaluation = [( X_train, y_train), ( X_test, y_test)]\n",
    "    \n",
    "    #model.fit(X_train, y_train,\n",
    "    #        eval_set=evaluation, #eval_metric=\"auc\",\n",
    "    #        early_stopping_rounds=10,verbose=False)\n",
    "    model.compile(loss='categorical_crossentropy', optimizer=optimizer, metrics=['accuracy'])\n",
    "    \n",
    "    fit_results = model.fit(\n",
    "              x=X_train,\n",
    "              y=y_train,\n",
    "              batch_size=512,\n",
    "              epochs=65,\n",
    "              validation_data=(X_test, y_test),\n",
    "              #callbacks=[checkpoint],\n",
    "              verbose=0\n",
    "            )\n",
    "    \n",
    "\n",
    "    pred = model.predict(X_test)\n",
    "    accuracy = accuracy_score(y_test, pred>0.5)\n",
    "    print (\"SCORE:\", accuracy)\n",
    "    return {'loss': -accuracy, 'status': STATUS_OK }"
   ]
  },
  {
   "cell_type": "code",
   "execution_count": 22,
   "metadata": {},
   "outputs": [
    {
     "name": "stdout",
     "output_type": "stream",
     "text": [
      "\r",
      "  0%|                            | 0/50 [00:00<?, ?trial/s, best loss=?]"
     ]
    },
    {
     "name": "stderr",
     "output_type": "stream",
     "text": [
      "WARNING:absl:At this time, the v2.11+ optimizer `tf.keras.optimizers.Adam` runs slowly on M1/M2 Macs, please use the legacy Keras optimizer instead, located at `tf.keras.optimizers.legacy.Adam`.\n",
      "\n",
      "WARNING:absl:There is a known slowdown when using v2.11+ Keras optimizers on M1/M2 Macs. Falling back to the legacy Keras optimizer, i.e., `tf.keras.optimizers.legacy.Adam`.\n",
      "\n"
     ]
    },
    {
     "name": "stdout",
     "output_type": "stream",
     "text": [
      "   1/1628 [..............................] - ETA: 29s                   \n",
      " 223/1628 [===>..........................] - ETA: 0s                    \n",
      " 460/1628 [=======>......................] - ETA: 0s                   \n",
      " 695/1628 [===========>..................] - ETA: 0s                   \n",
      " 930/1628 [================>.............] - ETA: 0s                   \n",
      "1166/1628 [====================>.........] - ETA: 0s                   \n",
      "1404/1628 [========================>.....] - ETA: 0s                   \n",
      "1628/1628 [==============================] - 0s 213us/step             \n",
      "\n",
      "SCORE:                                                                  \n",
      "0.0                                                                     \n",
      "  2%|▎               | 1/50 [00:54<44:26, 54.42s/trial, best loss: -0.0]"
     ]
    },
    {
     "name": "stderr",
     "output_type": "stream",
     "text": [
      "WARNING:absl:At this time, the v2.11+ optimizer `tf.keras.optimizers.Adam` runs slowly on M1/M2 Macs, please use the legacy Keras optimizer instead, located at `tf.keras.optimizers.legacy.Adam`.\n",
      "\n",
      "WARNING:absl:There is a known slowdown when using v2.11+ Keras optimizers on M1/M2 Macs. Falling back to the legacy Keras optimizer, i.e., `tf.keras.optimizers.legacy.Adam`.\n",
      "\n"
     ]
    },
    {
     "name": "stdout",
     "output_type": "stream",
     "text": [
      "   1/1628 [..............................] - ETA: 28s                   \n",
      " 221/1628 [===>..........................] - ETA: 0s                    \n",
      " 455/1628 [=======>......................] - ETA: 0s                   \n",
      " 690/1628 [===========>..................] - ETA: 0s                   \n",
      " 926/1628 [================>.............] - ETA: 0s                   \n",
      "1158/1628 [====================>.........] - ETA: 0s                   \n",
      "1393/1628 [========================>.....] - ETA: 0s                   \n",
      "1626/1628 [============================>.] - ETA: 0s                   \n",
      "1628/1628 [==============================] - 0s 217us/step             \n",
      "\n",
      "SCORE:                                                                  \n",
      "0.7273914462944825                                                      \n",
      "  4%| | 2/50 [01:49<43:47, 54.75s/trial, best loss: -0.7273914462944825]"
     ]
    },
    {
     "name": "stderr",
     "output_type": "stream",
     "text": [
      "WARNING:absl:At this time, the v2.11+ optimizer `tf.keras.optimizers.Adam` runs slowly on M1/M2 Macs, please use the legacy Keras optimizer instead, located at `tf.keras.optimizers.legacy.Adam`.\n",
      "\n",
      "WARNING:absl:There is a known slowdown when using v2.11+ Keras optimizers on M1/M2 Macs. Falling back to the legacy Keras optimizer, i.e., `tf.keras.optimizers.legacy.Adam`.\n",
      "\n"
     ]
    },
    {
     "name": "stdout",
     "output_type": "stream",
     "text": [
      "   1/1628 [..............................] - ETA: 27s                   \n",
      " 223/1628 [===>..........................] - ETA: 0s                    \n",
      " 455/1628 [=======>......................] - ETA: 0s                   \n",
      " 687/1628 [===========>..................] - ETA: 0s                   \n",
      " 921/1628 [===============>..............] - ETA: 0s                   \n",
      "1156/1628 [====================>.........] - ETA: 0s                   \n",
      "1389/1628 [========================>.....] - ETA: 0s                   \n",
      "1622/1628 [============================>.] - ETA: 0s                   \n",
      "1628/1628 [==============================] - 0s 217us/step             \n",
      "\n",
      "SCORE:                                                                  \n",
      "0.0                                                                     \n",
      "  6%| | 3/50 [02:43<42:38, 54.45s/trial, best loss: -0.7273914462944825]"
     ]
    },
    {
     "name": "stderr",
     "output_type": "stream",
     "text": [
      "WARNING:absl:At this time, the v2.11+ optimizer `tf.keras.optimizers.Adam` runs slowly on M1/M2 Macs, please use the legacy Keras optimizer instead, located at `tf.keras.optimizers.legacy.Adam`.\n",
      "\n",
      "WARNING:absl:There is a known slowdown when using v2.11+ Keras optimizers on M1/M2 Macs. Falling back to the legacy Keras optimizer, i.e., `tf.keras.optimizers.legacy.Adam`.\n",
      "\n"
     ]
    },
    {
     "name": "stdout",
     "output_type": "stream",
     "text": [
      "   1/1628 [..............................] - ETA: 28s                   \n",
      " 224/1628 [===>..........................] - ETA: 0s                    \n",
      " 461/1628 [=======>......................] - ETA: 0s                   \n",
      " 698/1628 [===========>..................] - ETA: 0s                   \n",
      " 929/1628 [================>.............] - ETA: 0s                   \n",
      "1160/1628 [====================>.........] - ETA: 0s                   \n",
      "1392/1628 [========================>.....] - ETA: 0s                   \n",
      "1626/1628 [============================>.] - ETA: 0s                   \n",
      "1628/1628 [==============================] - 0s 217us/step             \n",
      "\n",
      "SCORE:                                                                  \n",
      "0.7126039446140846                                                      \n",
      "  8%| | 4/50 [03:37<41:44, 54.45s/trial, best loss: -0.7273914462944825]"
     ]
    },
    {
     "name": "stderr",
     "output_type": "stream",
     "text": [
      "WARNING:absl:At this time, the v2.11+ optimizer `tf.keras.optimizers.Adam` runs slowly on M1/M2 Macs, please use the legacy Keras optimizer instead, located at `tf.keras.optimizers.legacy.Adam`.\n",
      "\n",
      "WARNING:absl:There is a known slowdown when using v2.11+ Keras optimizers on M1/M2 Macs. Falling back to the legacy Keras optimizer, i.e., `tf.keras.optimizers.legacy.Adam`.\n",
      "\n"
     ]
    },
    {
     "name": "stdout",
     "output_type": "stream",
     "text": [
      "   1/1628 [..............................] - ETA: 28s                   \n",
      " 221/1628 [===>..........................] - ETA: 0s                    \n",
      " 453/1628 [=======>......................] - ETA: 0s                   \n",
      " 686/1628 [===========>..................] - ETA: 0s                   \n",
      " 895/1628 [===============>..............] - ETA: 0s                   \n",
      "1129/1628 [===================>..........] - ETA: 0s                   \n",
      "1365/1628 [========================>.....] - ETA: 0s                   \n",
      "1596/1628 [============================>.] - ETA: 0s                   \n",
      "1628/1628 [==============================] - 0s 221us/step             \n",
      "\n",
      "SCORE:                                                                  \n",
      "0.6926504196193659                                                      \n",
      " 10%| | 5/50 [04:33<41:05, 54.80s/trial, best loss: -0.7273914462944825]"
     ]
    },
    {
     "name": "stderr",
     "output_type": "stream",
     "text": [
      "WARNING:absl:At this time, the v2.11+ optimizer `tf.keras.optimizers.Adam` runs slowly on M1/M2 Macs, please use the legacy Keras optimizer instead, located at `tf.keras.optimizers.legacy.Adam`.\n",
      "\n",
      "WARNING:absl:There is a known slowdown when using v2.11+ Keras optimizers on M1/M2 Macs. Falling back to the legacy Keras optimizer, i.e., `tf.keras.optimizers.legacy.Adam`.\n",
      "\n"
     ]
    },
    {
     "name": "stdout",
     "output_type": "stream",
     "text": [
      "   1/1628 [..............................] - ETA: 28s                   \n",
      " 222/1628 [===>..........................] - ETA: 0s                    \n",
      " 457/1628 [=======>......................] - ETA: 0s                   \n",
      " 699/1628 [===========>..................] - ETA: 0s                   \n",
      " 940/1628 [================>.............] - ETA: 0s                   \n",
      "1181/1628 [====================>.........] - ETA: 0s                   \n",
      "1426/1628 [=========================>....] - ETA: 0s                   \n",
      "1628/1628 [==============================] - 0s 211us/step             \n",
      "\n",
      "SCORE:                                                                  \n",
      "0.0                                                                     \n",
      " 12%| | 6/50 [05:27<40:04, 54.65s/trial, best loss: -0.7273914462944825]"
     ]
    },
    {
     "name": "stderr",
     "output_type": "stream",
     "text": [
      "WARNING:absl:At this time, the v2.11+ optimizer `tf.keras.optimizers.Adam` runs slowly on M1/M2 Macs, please use the legacy Keras optimizer instead, located at `tf.keras.optimizers.legacy.Adam`.\n",
      "\n",
      "WARNING:absl:There is a known slowdown when using v2.11+ Keras optimizers on M1/M2 Macs. Falling back to the legacy Keras optimizer, i.e., `tf.keras.optimizers.legacy.Adam`.\n",
      "\n"
     ]
    },
    {
     "name": "stdout",
     "output_type": "stream",
     "text": [
      "   1/1628 [..............................] - ETA: 28s                   \n",
      " 233/1628 [===>..........................] - ETA: 0s                    \n",
      " 476/1628 [=======>......................] - ETA: 0s                   \n",
      " 721/1628 [============>.................] - ETA: 0s                   \n",
      " 966/1628 [================>.............] - ETA: 0s                   \n",
      "1212/1628 [=====================>........] - ETA: 0s                   \n",
      "1453/1628 [=========================>....] - ETA: 0s                   \n",
      "1628/1628 [==============================] - 0s 207us/step             \n",
      "\n",
      "SCORE:                                                                  \n",
      "0.715100535806879                                                       \n",
      " 14%|▏| 7/50 [06:21<39:02, 54.48s/trial, best loss: -0.7273914462944825]"
     ]
    },
    {
     "name": "stderr",
     "output_type": "stream",
     "text": [
      "WARNING:absl:At this time, the v2.11+ optimizer `tf.keras.optimizers.Adam` runs slowly on M1/M2 Macs, please use the legacy Keras optimizer instead, located at `tf.keras.optimizers.legacy.Adam`.\n",
      "\n",
      "WARNING:absl:There is a known slowdown when using v2.11+ Keras optimizers on M1/M2 Macs. Falling back to the legacy Keras optimizer, i.e., `tf.keras.optimizers.legacy.Adam`.\n",
      "\n"
     ]
    },
    {
     "name": "stdout",
     "output_type": "stream",
     "text": [
      "   1/1628 [..............................] - ETA: 27s                   \n",
      " 234/1628 [===>..........................] - ETA: 0s                    \n",
      " 480/1628 [=======>......................] - ETA: 0s                   \n",
      " 723/1628 [============>.................] - ETA: 0s                   \n",
      " 965/1628 [================>.............] - ETA: 0s                   \n",
      "1211/1628 [=====================>........] - ETA: 0s                   \n",
      "1457/1628 [=========================>....] - ETA: 0s                   \n",
      "1628/1628 [==============================] - 0s 206us/step             \n",
      "\n",
      "SCORE:                                                                  \n",
      "0.6974131474333122                                                      \n",
      " 16%|▏| 8/50 [07:16<38:09, 54.51s/trial, best loss: -0.7273914462944825]"
     ]
    },
    {
     "name": "stderr",
     "output_type": "stream",
     "text": [
      "WARNING:absl:At this time, the v2.11+ optimizer `tf.keras.optimizers.Adam` runs slowly on M1/M2 Macs, please use the legacy Keras optimizer instead, located at `tf.keras.optimizers.legacy.Adam`.\n",
      "\n",
      "WARNING:absl:There is a known slowdown when using v2.11+ Keras optimizers on M1/M2 Macs. Falling back to the legacy Keras optimizer, i.e., `tf.keras.optimizers.legacy.Adam`.\n",
      "\n"
     ]
    },
    {
     "name": "stdout",
     "output_type": "stream",
     "text": [
      "   1/1628 [..............................] - ETA: 31s                   \n",
      " 222/1628 [===>..........................] - ETA: 0s                    \n",
      " 455/1628 [=======>......................] - ETA: 0s                   \n",
      " 691/1628 [===========>..................] - ETA: 0s                   \n",
      " 933/1628 [================>.............] - ETA: 0s                   \n",
      "1173/1628 [====================>.........] - ETA: 0s                   \n",
      "1411/1628 [=========================>....] - ETA: 0s                   \n",
      "1628/1628 [==============================] - 0s 213us/step             \n",
      "\n",
      "SCORE:                                                                  \n",
      "0.7158495131647175                                                      \n",
      " 18%|▏| 9/50 [08:09<36:54, 54.00s/trial, best loss: -0.7273914462944825]"
     ]
    },
    {
     "name": "stderr",
     "output_type": "stream",
     "text": [
      "WARNING:absl:At this time, the v2.11+ optimizer `tf.keras.optimizers.Adam` runs slowly on M1/M2 Macs, please use the legacy Keras optimizer instead, located at `tf.keras.optimizers.legacy.Adam`.\n",
      "\n",
      "WARNING:absl:There is a known slowdown when using v2.11+ Keras optimizers on M1/M2 Macs. Falling back to the legacy Keras optimizer, i.e., `tf.keras.optimizers.legacy.Adam`.\n",
      "\n"
     ]
    },
    {
     "name": "stdout",
     "output_type": "stream",
     "text": [
      "   1/1628 [..............................] - ETA: 32s                   \n",
      " 213/1628 [==>...........................] - ETA: 0s                    \n",
      " 442/1628 [=======>......................] - ETA: 0s                   \n",
      " 677/1628 [===========>..................] - ETA: 0s                   \n",
      " 909/1628 [===============>..............] - ETA: 0s                   \n",
      "1143/1628 [====================>.........] - ETA: 0s                   \n",
      "1378/1628 [========================>.....] - ETA: 0s                   \n",
      "1617/1628 [============================>.] - ETA: 0s                   \n",
      "1628/1628 [==============================] - 0s 218us/step             \n",
      "\n",
      "SCORE:                                                                  \n",
      "0.0                                                                     \n",
      " 20%|▏| 10/50 [09:04<36:08, 54.22s/trial, best loss: -0.7273914462944825"
     ]
    },
    {
     "name": "stderr",
     "output_type": "stream",
     "text": [
      "WARNING:absl:At this time, the v2.11+ optimizer `tf.keras.optimizers.Adam` runs slowly on M1/M2 Macs, please use the legacy Keras optimizer instead, located at `tf.keras.optimizers.legacy.Adam`.\n",
      "\n",
      "WARNING:absl:There is a known slowdown when using v2.11+ Keras optimizers on M1/M2 Macs. Falling back to the legacy Keras optimizer, i.e., `tf.keras.optimizers.legacy.Adam`.\n",
      "\n"
     ]
    },
    {
     "name": "stdout",
     "output_type": "stream",
     "text": [
      "   1/1628 [..............................] - ETA: 33s                   \n",
      " 213/1628 [==>...........................] - ETA: 0s                    \n",
      " 441/1628 [=======>......................] - ETA: 0s                   \n",
      " 672/1628 [===========>..................] - ETA: 0s                   \n",
      " 897/1628 [===============>..............] - ETA: 0s                   \n",
      "1129/1628 [===================>..........] - ETA: 0s                   \n",
      "1360/1628 [========================>.....] - ETA: 0s                   \n",
      "1595/1628 [============================>.] - ETA: 0s                   \n",
      "1628/1628 [==============================] - 0s 220us/step             \n",
      "\n",
      "SCORE:                                                                  \n",
      "0.7187878089531601                                                      \n",
      " 22%|▏| 11/50 [09:59<35:27, 54.55s/trial, best loss: -0.7273914462944825"
     ]
    },
    {
     "name": "stderr",
     "output_type": "stream",
     "text": [
      "WARNING:absl:At this time, the v2.11+ optimizer `tf.keras.optimizers.Adam` runs slowly on M1/M2 Macs, please use the legacy Keras optimizer instead, located at `tf.keras.optimizers.legacy.Adam`.\n",
      "\n",
      "WARNING:absl:There is a known slowdown when using v2.11+ Keras optimizers on M1/M2 Macs. Falling back to the legacy Keras optimizer, i.e., `tf.keras.optimizers.legacy.Adam`.\n",
      "\n"
     ]
    },
    {
     "name": "stdout",
     "output_type": "stream",
     "text": [
      "   1/1628 [..............................] - ETA: 32s                   \n",
      " 212/1628 [==>...........................] - ETA: 0s                    \n",
      " 437/1628 [=======>......................] - ETA: 0s                   \n",
      " 670/1628 [===========>..................] - ETA: 0s                   \n",
      " 904/1628 [===============>..............] - ETA: 0s                   \n",
      "1139/1628 [===================>..........] - ETA: 0s                   \n",
      "1378/1628 [========================>.....] - ETA: 0s                   \n",
      "1622/1628 [============================>.] - ETA: 0s                   \n",
      "1628/1628 [==============================] - 0s 217us/step             \n",
      "\n",
      "SCORE:                                                                  \n",
      "0.682183941157266                                                       \n",
      " 24%|▏| 12/50 [10:54<34:37, 54.67s/trial, best loss: -0.7273914462944825"
     ]
    },
    {
     "name": "stderr",
     "output_type": "stream",
     "text": [
      "WARNING:absl:At this time, the v2.11+ optimizer `tf.keras.optimizers.Adam` runs slowly on M1/M2 Macs, please use the legacy Keras optimizer instead, located at `tf.keras.optimizers.legacy.Adam`.\n",
      "\n",
      "WARNING:absl:There is a known slowdown when using v2.11+ Keras optimizers on M1/M2 Macs. Falling back to the legacy Keras optimizer, i.e., `tf.keras.optimizers.legacy.Adam`.\n",
      "\n"
     ]
    },
    {
     "name": "stdout",
     "output_type": "stream",
     "text": [
      "   1/1628 [..............................] - ETA: 32s                   \n",
      " 215/1628 [==>...........................] - ETA: 0s                    \n",
      " 446/1628 [=======>......................] - ETA: 0s                   \n",
      " 681/1628 [===========>..................] - ETA: 0s                   \n",
      " 917/1628 [===============>..............] - ETA: 0s                   \n",
      "1153/1628 [====================>.........] - ETA: 0s                   \n",
      "1394/1628 [========================>.....] - ETA: 0s                   \n",
      "1628/1628 [==============================] - 0s 215us/step             \n",
      "\n",
      "SCORE:                                                                  \n",
      "0.6869850780664861                                                      \n",
      " 26%|▎| 13/50 [11:49<33:45, 54.75s/trial, best loss: -0.7273914462944825"
     ]
    },
    {
     "name": "stderr",
     "output_type": "stream",
     "text": [
      "WARNING:absl:At this time, the v2.11+ optimizer `tf.keras.optimizers.Adam` runs slowly on M1/M2 Macs, please use the legacy Keras optimizer instead, located at `tf.keras.optimizers.legacy.Adam`.\n",
      "\n",
      "WARNING:absl:There is a known slowdown when using v2.11+ Keras optimizers on M1/M2 Macs. Falling back to the legacy Keras optimizer, i.e., `tf.keras.optimizers.legacy.Adam`.\n",
      "\n"
     ]
    },
    {
     "name": "stdout",
     "output_type": "stream",
     "text": [
      "   1/1628 [..............................] - ETA: 34s                   \n",
      " 211/1628 [==>...........................] - ETA: 0s                    \n",
      " 419/1628 [======>.......................] - ETA: 0s                   \n",
      " 625/1628 [==========>...................] - ETA: 0s                   \n",
      " 830/1628 [==============>...............] - ETA: 0s                   \n",
      "1027/1628 [=================>............] - ETA: 0s                   \n",
      "1229/1628 [=====================>........] - ETA: 0s                   \n",
      "1426/1628 [=========================>....] - ETA: 0s                   \n",
      "1628/1628 [==============================] - 0s 246us/step             \n",
      "\n",
      "SCORE:                                                                  \n",
      "0.7170401951182039                                                      \n",
      " 28%|▎| 14/50 [12:45<33:06, 55.17s/trial, best loss: -0.7273914462944825"
     ]
    },
    {
     "name": "stderr",
     "output_type": "stream",
     "text": [
      "WARNING:absl:At this time, the v2.11+ optimizer `tf.keras.optimizers.Adam` runs slowly on M1/M2 Macs, please use the legacy Keras optimizer instead, located at `tf.keras.optimizers.legacy.Adam`.\n",
      "\n",
      "WARNING:absl:There is a known slowdown when using v2.11+ Keras optimizers on M1/M2 Macs. Falling back to the legacy Keras optimizer, i.e., `tf.keras.optimizers.legacy.Adam`.\n",
      "\n"
     ]
    },
    {
     "name": "stdout",
     "output_type": "stream",
     "text": [
      "   1/1628 [..............................] - ETA: 32s                   \n",
      " 214/1628 [==>...........................] - ETA: 0s                    \n",
      " 439/1628 [=======>......................] - ETA: 0s                   \n",
      " 673/1628 [===========>..................] - ETA: 0s                   \n",
      " 909/1628 [===============>..............] - ETA: 0s                   \n",
      "1144/1628 [====================>.........] - ETA: 0s                   \n",
      "1381/1628 [========================>.....] - ETA: 0s                   \n",
      "1618/1628 [============================>.] - ETA: 0s                   \n",
      "1628/1628 [==============================] - 0s 218us/step             \n",
      "\n",
      "SCORE:                                                                  \n",
      "0.6929192832862822                                                      \n",
      " 30%|▎| 15/50 [13:41<32:23, 55.52s/trial, best loss: -0.7273914462944825"
     ]
    },
    {
     "name": "stderr",
     "output_type": "stream",
     "text": [
      "WARNING:absl:At this time, the v2.11+ optimizer `tf.keras.optimizers.Adam` runs slowly on M1/M2 Macs, please use the legacy Keras optimizer instead, located at `tf.keras.optimizers.legacy.Adam`.\n",
      "\n",
      "WARNING:absl:There is a known slowdown when using v2.11+ Keras optimizers on M1/M2 Macs. Falling back to the legacy Keras optimizer, i.e., `tf.keras.optimizers.legacy.Adam`.\n",
      "\n"
     ]
    },
    {
     "name": "stdout",
     "output_type": "stream",
     "text": [
      "   1/1628 [..............................] - ETA: 32s                   \n",
      " 216/1628 [==>...........................] - ETA: 0s                    \n",
      " 437/1628 [=======>......................] - ETA: 0s                   \n",
      " 667/1628 [===========>..................] - ETA: 0s                   \n",
      " 899/1628 [===============>..............] - ETA: 0s                   \n",
      "1132/1628 [===================>..........] - ETA: 0s                   \n",
      "1367/1628 [========================>.....] - ETA: 0s                   \n",
      "1602/1628 [============================>.] - ETA: 0s                   \n",
      "1628/1628 [==============================] - 0s 220us/step             \n",
      "\n",
      "SCORE:                                                                  \n",
      "0.682510418467093                                                       \n",
      " 32%|▎| 16/50 [14:37<31:30, 55.61s/trial, best loss: -0.7273914462944825"
     ]
    },
    {
     "name": "stderr",
     "output_type": "stream",
     "text": [
      "WARNING:absl:At this time, the v2.11+ optimizer `tf.keras.optimizers.Adam` runs slowly on M1/M2 Macs, please use the legacy Keras optimizer instead, located at `tf.keras.optimizers.legacy.Adam`.\n",
      "\n",
      "WARNING:absl:There is a known slowdown when using v2.11+ Keras optimizers on M1/M2 Macs. Falling back to the legacy Keras optimizer, i.e., `tf.keras.optimizers.legacy.Adam`.\n",
      "\n"
     ]
    },
    {
     "name": "stdout",
     "output_type": "stream",
     "text": [
      "   1/1628 [..............................] - ETA: 33s                   \n",
      " 215/1628 [==>...........................] - ETA: 0s                    \n",
      " 442/1628 [=======>......................] - ETA: 0s                   \n",
      " 653/1628 [===========>..................] - ETA: 0s                   \n",
      " 881/1628 [===============>..............] - ETA: 0s                   \n",
      "1114/1628 [===================>..........] - ETA: 0s                   \n",
      "1346/1628 [=======================>......] - ETA: 0s                   \n",
      "1579/1628 [============================>.] - ETA: 0s                   \n",
      "1628/1628 [==============================] - 0s 223us/step             \n",
      "\n",
      "SCORE:                                                                  \n",
      "0.7211307637648595                                                      \n",
      " 34%|▎| 17/50 [15:34<30:53, 56.17s/trial, best loss: -0.7273914462944825"
     ]
    },
    {
     "name": "stderr",
     "output_type": "stream",
     "text": [
      "WARNING:absl:At this time, the v2.11+ optimizer `tf.keras.optimizers.Adam` runs slowly on M1/M2 Macs, please use the legacy Keras optimizer instead, located at `tf.keras.optimizers.legacy.Adam`.\n",
      "\n",
      "WARNING:absl:There is a known slowdown when using v2.11+ Keras optimizers on M1/M2 Macs. Falling back to the legacy Keras optimizer, i.e., `tf.keras.optimizers.legacy.Adam`.\n",
      "\n"
     ]
    },
    {
     "name": "stdout",
     "output_type": "stream",
     "text": [
      "   1/1628 [..............................] - ETA: 33s                   \n",
      " 213/1628 [==>...........................] - ETA: 0s                    \n",
      " 438/1628 [=======>......................] - ETA: 0s                   \n",
      " 673/1628 [===========>..................] - ETA: 0s                   \n",
      " 907/1628 [===============>..............] - ETA: 0s                   \n",
      "1139/1628 [===================>..........] - ETA: 0s                   \n",
      "1373/1628 [========================>.....] - ETA: 0s                   \n",
      "1608/1628 [============================>.] - ETA: 0s                   \n",
      "1628/1628 [==============================] - 0s 219us/step             \n",
      "\n",
      "SCORE:                                                                  \n",
      "0.7065545121084673                                                      \n",
      " 36%|▎| 18/50 [16:30<29:53, 56.06s/trial, best loss: -0.7273914462944825"
     ]
    },
    {
     "name": "stderr",
     "output_type": "stream",
     "text": [
      "WARNING:absl:At this time, the v2.11+ optimizer `tf.keras.optimizers.Adam` runs slowly on M1/M2 Macs, please use the legacy Keras optimizer instead, located at `tf.keras.optimizers.legacy.Adam`.\n",
      "\n",
      "WARNING:absl:There is a known slowdown when using v2.11+ Keras optimizers on M1/M2 Macs. Falling back to the legacy Keras optimizer, i.e., `tf.keras.optimizers.legacy.Adam`.\n",
      "\n"
     ]
    },
    {
     "name": "stdout",
     "output_type": "stream",
     "text": [
      "   1/1628 [..............................] - ETA: 33s                   \n",
      " 211/1628 [==>...........................] - ETA: 0s                    \n",
      " 430/1628 [======>.......................] - ETA: 0s                   \n",
      " 652/1628 [===========>..................] - ETA: 0s                   \n",
      " 885/1628 [===============>..............] - ETA: 0s                   \n",
      "1120/1628 [===================>..........] - ETA: 0s                   \n",
      "1355/1628 [=======================>......] - ETA: 0s                   \n",
      "1586/1628 [============================>.] - ETA: 0s                   \n",
      "1628/1628 [==============================] - 0s 222us/step             \n",
      "\n",
      "SCORE:                                                                  \n",
      "0.7276987190566726                                                      \n",
      " 38%|▍| 19/50 [17:26<28:57, 56.06s/trial, best loss: -0.7276987190566726"
     ]
    },
    {
     "name": "stderr",
     "output_type": "stream",
     "text": [
      "WARNING:absl:At this time, the v2.11+ optimizer `tf.keras.optimizers.Adam` runs slowly on M1/M2 Macs, please use the legacy Keras optimizer instead, located at `tf.keras.optimizers.legacy.Adam`.\n",
      "\n",
      "WARNING:absl:There is a known slowdown when using v2.11+ Keras optimizers on M1/M2 Macs. Falling back to the legacy Keras optimizer, i.e., `tf.keras.optimizers.legacy.Adam`.\n",
      "\n"
     ]
    },
    {
     "name": "stdout",
     "output_type": "stream",
     "text": [
      "   1/1628 [..............................] - ETA: 33s                   \n",
      " 215/1628 [==>...........................] - ETA: 0s                    \n",
      " 440/1628 [=======>......................] - ETA: 0s                   \n",
      " 669/1628 [===========>..................] - ETA: 0s                   \n",
      " 900/1628 [===============>..............] - ETA: 0s                   \n",
      "1133/1628 [===================>..........] - ETA: 0s                   \n",
      "1358/1628 [========================>.....] - ETA: 0s                   \n",
      "1587/1628 [============================>.] - ETA: 0s                   \n",
      "1628/1628 [==============================] - 0s 222us/step             \n",
      "\n",
      "SCORE:                                                                  \n",
      "0.7204394000499318                                                      \n",
      " 40%|▍| 20/50 [18:23<28:05, 56.19s/trial, best loss: -0.7276987190566726"
     ]
    },
    {
     "name": "stderr",
     "output_type": "stream",
     "text": [
      "WARNING:absl:At this time, the v2.11+ optimizer `tf.keras.optimizers.Adam` runs slowly on M1/M2 Macs, please use the legacy Keras optimizer instead, located at `tf.keras.optimizers.legacy.Adam`.\n",
      "\n",
      "WARNING:absl:There is a known slowdown when using v2.11+ Keras optimizers on M1/M2 Macs. Falling back to the legacy Keras optimizer, i.e., `tf.keras.optimizers.legacy.Adam`.\n",
      "\n"
     ]
    },
    {
     "name": "stdout",
     "output_type": "stream",
     "text": [
      "   1/1628 [..............................] - ETA: 32s                   \n",
      " 208/1628 [==>...........................] - ETA: 0s                    \n",
      " 432/1628 [======>.......................] - ETA: 0s                   \n",
      " 657/1628 [===========>..................] - ETA: 0s                   \n",
      " 891/1628 [===============>..............] - ETA: 0s                   \n",
      "1126/1628 [===================>..........] - ETA: 0s                   \n",
      "1361/1628 [========================>.....] - ETA: 0s                   \n",
      "1597/1628 [============================>.] - ETA: 0s                   \n",
      "1628/1628 [==============================] - 0s 220us/step             \n",
      "\n",
      "SCORE:                                                                  \n",
      "0.19696184056384552                                                     \n",
      " 42%|▍| 21/50 [19:20<27:14, 56.38s/trial, best loss: -0.7276987190566726"
     ]
    },
    {
     "name": "stderr",
     "output_type": "stream",
     "text": [
      "WARNING:absl:At this time, the v2.11+ optimizer `tf.keras.optimizers.Adam` runs slowly on M1/M2 Macs, please use the legacy Keras optimizer instead, located at `tf.keras.optimizers.legacy.Adam`.\n",
      "\n",
      "WARNING:absl:There is a known slowdown when using v2.11+ Keras optimizers on M1/M2 Macs. Falling back to the legacy Keras optimizer, i.e., `tf.keras.optimizers.legacy.Adam`.\n",
      "\n"
     ]
    },
    {
     "name": "stdout",
     "output_type": "stream",
     "text": [
      "   1/1628 [..............................] - ETA: 32s                   \n",
      " 211/1628 [==>...........................] - ETA: 0s                    \n",
      " 437/1628 [=======>......................] - ETA: 0s                   \n",
      " 663/1628 [===========>..................] - ETA: 0s                   \n",
      " 898/1628 [===============>..............] - ETA: 0s                   \n",
      "1131/1628 [===================>..........] - ETA: 0s                   \n",
      "1360/1628 [========================>.....] - ETA: 0s                   \n",
      "1593/1628 [============================>.] - ETA: 0s                   \n",
      "1628/1628 [==============================] - 0s 221us/step             \n",
      "\n",
      "SCORE:                                                                  \n",
      "0.7445603118818537                                                      \n",
      " 44%|▍| 22/50 [20:17<26:23, 56.56s/trial, best loss: -0.7445603118818537"
     ]
    },
    {
     "name": "stderr",
     "output_type": "stream",
     "text": [
      "WARNING:absl:At this time, the v2.11+ optimizer `tf.keras.optimizers.Adam` runs slowly on M1/M2 Macs, please use the legacy Keras optimizer instead, located at `tf.keras.optimizers.legacy.Adam`.\n",
      "\n",
      "WARNING:absl:There is a known slowdown when using v2.11+ Keras optimizers on M1/M2 Macs. Falling back to the legacy Keras optimizer, i.e., `tf.keras.optimizers.legacy.Adam`.\n",
      "\n"
     ]
    },
    {
     "name": "stdout",
     "output_type": "stream",
     "text": [
      "   1/1628 [..............................] - ETA: 32s                   \n",
      " 214/1628 [==>...........................] - ETA: 0s                    \n",
      " 439/1628 [=======>......................] - ETA: 0s                   \n",
      " 665/1628 [===========>..................] - ETA: 0s                   \n",
      " 887/1628 [===============>..............] - ETA: 0s                   \n",
      "1112/1628 [===================>..........] - ETA: 0s                   \n",
      "1331/1628 [=======================>......] - ETA: 0s                   \n",
      "1554/1628 [===========================>..] - ETA: 0s                   \n",
      "1628/1628 [==============================] - 0s 227us/step             \n",
      "\n",
      "SCORE:                                                                  \n",
      "0.14121103877398167                                                     \n",
      " 46%|▍| 23/50 [21:15<25:38, 56.99s/trial, best loss: -0.7445603118818537"
     ]
    },
    {
     "name": "stderr",
     "output_type": "stream",
     "text": [
      "WARNING:absl:At this time, the v2.11+ optimizer `tf.keras.optimizers.Adam` runs slowly on M1/M2 Macs, please use the legacy Keras optimizer instead, located at `tf.keras.optimizers.legacy.Adam`.\n",
      "\n",
      "WARNING:absl:There is a known slowdown when using v2.11+ Keras optimizers on M1/M2 Macs. Falling back to the legacy Keras optimizer, i.e., `tf.keras.optimizers.legacy.Adam`.\n",
      "\n"
     ]
    },
    {
     "name": "stdout",
     "output_type": "stream",
     "text": [
      "   1/1628 [..............................] - ETA: 34s                   \n",
      " 198/1628 [==>...........................] - ETA: 0s                    \n",
      " 415/1628 [======>.......................] - ETA: 0s                   \n",
      " 637/1628 [==========>...................] - ETA: 0s                   \n",
      " 862/1628 [==============>...............] - ETA: 0s                   \n",
      "1085/1628 [==================>...........] - ETA: 0s                   \n",
      "1308/1628 [=======================>......] - ETA: 0s                   \n",
      "1539/1628 [===========================>..] - ETA: 0s                   \n",
      "1628/1628 [==============================] - 0s 228us/step             \n",
      "\n",
      "SCORE:                                                                  \n",
      "0.711259626279503                                                       \n",
      " 48%|▍| 24/50 [22:12<24:46, 57.19s/trial, best loss: -0.7445603118818537"
     ]
    },
    {
     "name": "stderr",
     "output_type": "stream",
     "text": [
      "WARNING:absl:At this time, the v2.11+ optimizer `tf.keras.optimizers.Adam` runs slowly on M1/M2 Macs, please use the legacy Keras optimizer instead, located at `tf.keras.optimizers.legacy.Adam`.\n",
      "\n",
      "WARNING:absl:There is a known slowdown when using v2.11+ Keras optimizers on M1/M2 Macs. Falling back to the legacy Keras optimizer, i.e., `tf.keras.optimizers.legacy.Adam`.\n",
      "\n"
     ]
    },
    {
     "name": "stdout",
     "output_type": "stream",
     "text": [
      "   1/1628 [..............................] - ETA: 34s                   \n",
      " 204/1628 [==>...........................] - ETA: 0s                    \n",
      " 424/1628 [======>.......................] - ETA: 0s                   \n",
      " 651/1628 [==========>...................] - ETA: 0s                   \n",
      " 875/1628 [===============>..............] - ETA: 0s                   \n",
      "1100/1628 [===================>..........] - ETA: 0s                   \n",
      "1327/1628 [=======================>......] - ETA: 0s                   \n",
      "1551/1628 [===========================>..] - ETA: 0s                   \n",
      "1628/1628 [==============================] - 0s 227us/step             \n",
      "\n",
      "SCORE:                                                                  \n",
      "0.7333832651571892                                                      \n",
      " 50%|▌| 25/50 [23:10<23:53, 57.36s/trial, best loss: -0.7445603118818537"
     ]
    },
    {
     "name": "stderr",
     "output_type": "stream",
     "text": [
      "WARNING:absl:At this time, the v2.11+ optimizer `tf.keras.optimizers.Adam` runs slowly on M1/M2 Macs, please use the legacy Keras optimizer instead, located at `tf.keras.optimizers.legacy.Adam`.\n",
      "\n",
      "WARNING:absl:There is a known slowdown when using v2.11+ Keras optimizers on M1/M2 Macs. Falling back to the legacy Keras optimizer, i.e., `tf.keras.optimizers.legacy.Adam`.\n",
      "\n"
     ]
    },
    {
     "name": "stdout",
     "output_type": "stream",
     "text": [
      "   1/1628 [..............................] - ETA: 34s                   \n",
      " 205/1628 [==>...........................] - ETA: 0s                    \n",
      " 421/1628 [======>.......................] - ETA: 0s                   \n",
      " 644/1628 [==========>...................] - ETA: 0s                   \n",
      " 868/1628 [==============>...............] - ETA: 0s                   \n",
      "1094/1628 [===================>..........] - ETA: 0s                   \n",
      "1319/1628 [=======================>......] - ETA: 0s                   \n",
      "1545/1628 [===========================>..] - ETA: 0s                   \n",
      "1628/1628 [==============================] - 0s 228us/step             \n",
      "\n",
      "SCORE:                                                                  \n",
      "0.7212651955983177                                                      \n",
      " 52%|▌| 26/50 [24:08<22:59, 57.47s/trial, best loss: -0.7445603118818537"
     ]
    },
    {
     "name": "stderr",
     "output_type": "stream",
     "text": [
      "WARNING:absl:At this time, the v2.11+ optimizer `tf.keras.optimizers.Adam` runs slowly on M1/M2 Macs, please use the legacy Keras optimizer instead, located at `tf.keras.optimizers.legacy.Adam`.\n",
      "\n",
      "WARNING:absl:There is a known slowdown when using v2.11+ Keras optimizers on M1/M2 Macs. Falling back to the legacy Keras optimizer, i.e., `tf.keras.optimizers.legacy.Adam`.\n",
      "\n"
     ]
    },
    {
     "name": "stdout",
     "output_type": "stream",
     "text": [
      "   1/1628 [..............................] - ETA: 34s                   \n",
      " 203/1628 [==>...........................] - ETA: 0s                    \n",
      " 419/1628 [======>.......................] - ETA: 0s                   \n",
      " 641/1628 [==========>...................] - ETA: 0s                   \n",
      " 867/1628 [==============>...............] - ETA: 0s                   \n",
      "1092/1628 [===================>..........] - ETA: 0s                   \n",
      "1317/1628 [=======================>......] - ETA: 0s                   \n",
      "1550/1628 [===========================>..] - ETA: 0s                   \n",
      "1628/1628 [==============================] - 0s 227us/step             \n",
      "\n",
      "SCORE:                                                                  \n",
      "0.7247220141729561                                                      \n",
      " 54%|▌| 27/50 [25:05<22:01, 57.45s/trial, best loss: -0.7445603118818537"
     ]
    },
    {
     "name": "stderr",
     "output_type": "stream",
     "text": [
      "WARNING:absl:At this time, the v2.11+ optimizer `tf.keras.optimizers.Adam` runs slowly on M1/M2 Macs, please use the legacy Keras optimizer instead, located at `tf.keras.optimizers.legacy.Adam`.\n",
      "\n",
      "WARNING:absl:There is a known slowdown when using v2.11+ Keras optimizers on M1/M2 Macs. Falling back to the legacy Keras optimizer, i.e., `tf.keras.optimizers.legacy.Adam`.\n",
      "\n"
     ]
    },
    {
     "name": "stdout",
     "output_type": "stream",
     "text": [
      "   1/1628 [..............................] - ETA: 35s                   \n",
      " 200/1628 [==>...........................] - ETA: 0s                    \n",
      " 416/1628 [======>.......................] - ETA: 0s                   \n",
      " 641/1628 [==========>...................] - ETA: 0s                   \n",
      " 866/1628 [==============>...............] - ETA: 0s                   \n",
      "1092/1628 [===================>..........] - ETA: 0s                   \n",
      "1318/1628 [=======================>......] - ETA: 0s                   \n",
      "1547/1628 [===========================>..] - ETA: 0s                   \n",
      "1628/1628 [==============================] - 0s 227us/step             \n",
      "\n",
      "SCORE:                                                                  \n",
      "0.7327303105375352                                                      \n",
      " 56%|▌| 28/50 [26:03<21:09, 57.70s/trial, best loss: -0.7445603118818537"
     ]
    },
    {
     "name": "stderr",
     "output_type": "stream",
     "text": [
      "WARNING:absl:At this time, the v2.11+ optimizer `tf.keras.optimizers.Adam` runs slowly on M1/M2 Macs, please use the legacy Keras optimizer instead, located at `tf.keras.optimizers.legacy.Adam`.\n",
      "\n",
      "WARNING:absl:There is a known slowdown when using v2.11+ Keras optimizers on M1/M2 Macs. Falling back to the legacy Keras optimizer, i.e., `tf.keras.optimizers.legacy.Adam`.\n",
      "\n"
     ]
    },
    {
     "name": "stdout",
     "output_type": "stream",
     "text": [
      "   1/1628 [..............................] - ETA: 34s                   \n",
      " 203/1628 [==>...........................] - ETA: 0s                    \n",
      " 416/1628 [======>.......................] - ETA: 0s                   \n",
      " 641/1628 [==========>...................] - ETA: 0s                   \n",
      " 865/1628 [==============>...............] - ETA: 0s                   \n",
      "1088/1628 [===================>..........] - ETA: 0s                   \n",
      "1309/1628 [=======================>......] - ETA: 0s                   \n",
      "1531/1628 [===========================>..] - ETA: 0s                   \n",
      "1628/1628 [==============================] - 0s 230us/step             \n",
      "\n",
      "SCORE:                                                                  \n",
      "0.7467304257648211                                                      \n",
      " 58%|▌| 29/50 [27:02<20:18, 58.04s/trial, best loss: -0.7467304257648211"
     ]
    },
    {
     "name": "stderr",
     "output_type": "stream",
     "text": [
      "WARNING:absl:At this time, the v2.11+ optimizer `tf.keras.optimizers.Adam` runs slowly on M1/M2 Macs, please use the legacy Keras optimizer instead, located at `tf.keras.optimizers.legacy.Adam`.\n",
      "\n",
      "WARNING:absl:There is a known slowdown when using v2.11+ Keras optimizers on M1/M2 Macs. Falling back to the legacy Keras optimizer, i.e., `tf.keras.optimizers.legacy.Adam`.\n",
      "\n"
     ]
    },
    {
     "name": "stdout",
     "output_type": "stream",
     "text": [
      "   1/1628 [..............................] - ETA: 35s                   \n",
      " 202/1628 [==>...........................] - ETA: 0s                    \n",
      " 412/1628 [======>.......................] - ETA: 0s                   \n",
      " 618/1628 [==========>...................] - ETA: 0s                   \n",
      " 846/1628 [==============>...............] - ETA: 0s                   \n",
      "1081/1628 [==================>...........] - ETA: 0s                   \n",
      "1319/1628 [=======================>......] - ETA: 0s                   \n",
      "1549/1628 [===========================>..] - ETA: 0s                   \n",
      "1628/1628 [==============================] - 1s 313us/step             \n",
      "\n",
      "SCORE:                                                                  \n",
      "0.730848264869121                                                       \n",
      " 60%|▌| 30/50 [28:01<19:24, 58.22s/trial, best loss: -0.7467304257648211"
     ]
    },
    {
     "name": "stderr",
     "output_type": "stream",
     "text": [
      "WARNING:absl:At this time, the v2.11+ optimizer `tf.keras.optimizers.Adam` runs slowly on M1/M2 Macs, please use the legacy Keras optimizer instead, located at `tf.keras.optimizers.legacy.Adam`.\n",
      "\n",
      "WARNING:absl:There is a known slowdown when using v2.11+ Keras optimizers on M1/M2 Macs. Falling back to the legacy Keras optimizer, i.e., `tf.keras.optimizers.legacy.Adam`.\n",
      "\n"
     ]
    },
    {
     "name": "stdout",
     "output_type": "stream",
     "text": [
      "   1/1628 [..............................] - ETA: 35s                   \n",
      " 194/1628 [==>...........................] - ETA: 0s                    \n",
      " 402/1628 [======>.......................] - ETA: 0s                   \n",
      " 617/1628 [==========>...................] - ETA: 0s                   \n",
      " 839/1628 [==============>...............] - ETA: 0s                   \n",
      "1060/1628 [==================>...........] - ETA: 0s                   \n",
      "1285/1628 [======================>.......] - ETA: 0s                   \n",
      "1510/1628 [==========================>...] - ETA: 0s                   \n",
      "1628/1628 [==============================] - 0s 232us/step             \n",
      "\n",
      "SCORE:                                                                  \n",
      "0.0                                                                     \n",
      " 62%|▌| 31/50 [28:59<18:23, 58.09s/trial, best loss: -0.7467304257648211"
     ]
    },
    {
     "name": "stderr",
     "output_type": "stream",
     "text": [
      "WARNING:absl:At this time, the v2.11+ optimizer `tf.keras.optimizers.Adam` runs slowly on M1/M2 Macs, please use the legacy Keras optimizer instead, located at `tf.keras.optimizers.legacy.Adam`.\n",
      "\n",
      "WARNING:absl:There is a known slowdown when using v2.11+ Keras optimizers on M1/M2 Macs. Falling back to the legacy Keras optimizer, i.e., `tf.keras.optimizers.legacy.Adam`.\n",
      "\n"
     ]
    },
    {
     "name": "stdout",
     "output_type": "stream",
     "text": [
      "   1/1628 [..............................] - ETA: 34s                   \n",
      " 200/1628 [==>...........................] - ETA: 0s                    \n",
      " 412/1628 [======>.......................] - ETA: 0s                   \n",
      " 633/1628 [==========>...................] - ETA: 0s                   \n",
      " 858/1628 [==============>...............] - ETA: 0s                   \n",
      "1082/1628 [==================>...........] - ETA: 0s                   \n",
      "1307/1628 [=======================>......] - ETA: 0s                   \n",
      "1532/1628 [===========================>..] - ETA: 0s                   \n",
      "1628/1628 [==============================] - 0s 230us/step             \n",
      "\n",
      "SCORE:                                                                  \n",
      "0.03664227689116783                                                     \n",
      " 64%|▋| 32/50 [29:57<17:26, 58.15s/trial, best loss: -0.7467304257648211"
     ]
    },
    {
     "name": "stderr",
     "output_type": "stream",
     "text": [
      "WARNING:absl:At this time, the v2.11+ optimizer `tf.keras.optimizers.Adam` runs slowly on M1/M2 Macs, please use the legacy Keras optimizer instead, located at `tf.keras.optimizers.legacy.Adam`.\n",
      "\n",
      "WARNING:absl:There is a known slowdown when using v2.11+ Keras optimizers on M1/M2 Macs. Falling back to the legacy Keras optimizer, i.e., `tf.keras.optimizers.legacy.Adam`.\n",
      "\n"
     ]
    },
    {
     "name": "stdout",
     "output_type": "stream",
     "text": [
      "   1/1628 [..............................] - ETA: 34s                   \n",
      " 202/1628 [==>...........................] - ETA: 0s                    \n",
      " 414/1628 [======>.......................] - ETA: 0s                   \n",
      " 627/1628 [==========>...................] - ETA: 0s                   \n",
      " 848/1628 [==============>...............] - ETA: 0s                   \n",
      "1071/1628 [==================>...........] - ETA: 0s                   \n",
      "1296/1628 [======================>.......] - ETA: 0s                   \n",
      "1522/1628 [===========================>..] - ETA: 0s                   \n",
      "1628/1628 [==============================] - 0s 231us/step             \n",
      "\n",
      "SCORE:                                                                  \n",
      "0.6936106470012099                                                      \n",
      " 66%|▋| 33/50 [30:56<16:35, 58.54s/trial, best loss: -0.7467304257648211"
     ]
    },
    {
     "name": "stderr",
     "output_type": "stream",
     "text": [
      "WARNING:absl:At this time, the v2.11+ optimizer `tf.keras.optimizers.Adam` runs slowly on M1/M2 Macs, please use the legacy Keras optimizer instead, located at `tf.keras.optimizers.legacy.Adam`.\n",
      "\n",
      "WARNING:absl:There is a known slowdown when using v2.11+ Keras optimizers on M1/M2 Macs. Falling back to the legacy Keras optimizer, i.e., `tf.keras.optimizers.legacy.Adam`.\n",
      "\n"
     ]
    },
    {
     "name": "stdout",
     "output_type": "stream",
     "text": [
      "   1/1628 [..............................] - ETA: 34s                   \n",
      " 202/1628 [==>...........................] - ETA: 0s                    \n",
      " 414/1628 [======>.......................] - ETA: 0s                   \n",
      " 629/1628 [==========>...................] - ETA: 0s                   \n",
      " 848/1628 [==============>...............] - ETA: 0s                   \n",
      "1070/1628 [==================>...........] - ETA: 0s                   \n",
      "1294/1628 [======================>.......] - ETA: 0s                   \n",
      "1519/1628 [==========================>...] - ETA: 0s                   \n",
      "1628/1628 [==============================] - 0s 231us/step             \n",
      "\n",
      "SCORE:                                                                  \n",
      "0.7331144014902728                                                      \n",
      " 68%|▋| 34/50 [31:56<15:39, 58.71s/trial, best loss: -0.7467304257648211"
     ]
    },
    {
     "name": "stderr",
     "output_type": "stream",
     "text": [
      "WARNING:absl:At this time, the v2.11+ optimizer `tf.keras.optimizers.Adam` runs slowly on M1/M2 Macs, please use the legacy Keras optimizer instead, located at `tf.keras.optimizers.legacy.Adam`.\n",
      "\n",
      "WARNING:absl:There is a known slowdown when using v2.11+ Keras optimizers on M1/M2 Macs. Falling back to the legacy Keras optimizer, i.e., `tf.keras.optimizers.legacy.Adam`.\n",
      "\n"
     ]
    },
    {
     "name": "stdout",
     "output_type": "stream",
     "text": [
      "   1/1628 [..............................] - ETA: 38s                   \n",
      " 181/1628 [==>...........................] - ETA: 0s                    \n",
      " 380/1628 [======>.......................] - ETA: 0s                   \n",
      " 581/1628 [=========>....................] - ETA: 0s                   \n",
      " 784/1628 [=============>................] - ETA: 0s                   \n",
      " 988/1628 [=================>............] - ETA: 0s                   \n",
      "1192/1628 [====================>.........] - ETA: 0s                   \n",
      "1397/1628 [========================>.....] - ETA: 0s                   \n",
      "1599/1628 [============================>.] - ETA: 0s                   \n",
      "1628/1628 [==============================] - 0s 252us/step             \n",
      "\n",
      "SCORE:                                                                  \n",
      "0.7137562174722974                                                      \n",
      " 70%|▋| 35/50 [32:55<14:45, 59.04s/trial, best loss: -0.7467304257648211"
     ]
    },
    {
     "name": "stderr",
     "output_type": "stream",
     "text": [
      "WARNING:absl:At this time, the v2.11+ optimizer `tf.keras.optimizers.Adam` runs slowly on M1/M2 Macs, please use the legacy Keras optimizer instead, located at `tf.keras.optimizers.legacy.Adam`.\n",
      "\n",
      "WARNING:absl:There is a known slowdown when using v2.11+ Keras optimizers on M1/M2 Macs. Falling back to the legacy Keras optimizer, i.e., `tf.keras.optimizers.legacy.Adam`.\n",
      "\n"
     ]
    },
    {
     "name": "stdout",
     "output_type": "stream",
     "text": [
      "   1/1628 [..............................] - ETA: 36s                   \n",
      " 196/1628 [==>...........................] - ETA: 0s                    \n",
      " 406/1628 [======>.......................] - ETA: 0s                   \n",
      " 615/1628 [==========>...................] - ETA: 0s                   \n",
      " 825/1628 [==============>...............] - ETA: 0s                   \n",
      "1049/1628 [==================>...........] - ETA: 0s                   \n",
      "1275/1628 [======================>.......] - ETA: 0s                   \n",
      "1500/1628 [==========================>...] - ETA: 0s                   \n",
      "1628/1628 [==============================] - 0s 234us/step             \n",
      "\n",
      "SCORE:                                                                  \n",
      "0.0                                                                     \n",
      " 72%|▋| 36/50 [33:56<13:52, 59.46s/trial, best loss: -0.7467304257648211"
     ]
    },
    {
     "name": "stderr",
     "output_type": "stream",
     "text": [
      "WARNING:absl:At this time, the v2.11+ optimizer `tf.keras.optimizers.Adam` runs slowly on M1/M2 Macs, please use the legacy Keras optimizer instead, located at `tf.keras.optimizers.legacy.Adam`.\n",
      "\n",
      "WARNING:absl:There is a known slowdown when using v2.11+ Keras optimizers on M1/M2 Macs. Falling back to the legacy Keras optimizer, i.e., `tf.keras.optimizers.legacy.Adam`.\n",
      "\n"
     ]
    },
    {
     "name": "stdout",
     "output_type": "stream",
     "text": [
      "   1/1628 [..............................] - ETA: 34s                   \n",
      " 201/1628 [==>...........................] - ETA: 0s                    \n",
      " 413/1628 [======>.......................] - ETA: 0s                   \n",
      " 622/1628 [==========>...................] - ETA: 0s                   \n",
      " 843/1628 [==============>...............] - ETA: 0s                   \n",
      "1067/1628 [==================>...........] - ETA: 0s                   \n",
      "1292/1628 [======================>.......] - ETA: 0s                   \n",
      "1516/1628 [==========================>...] - ETA: 0s                   \n",
      "1628/1628 [==============================] - 0s 232us/step             \n",
      "\n",
      "SCORE:                                                                  \n",
      "0.7250869005780569                                                      \n",
      " 74%|▋| 37/50 [34:55<12:53, 59.48s/trial, best loss: -0.7467304257648211"
     ]
    },
    {
     "name": "stderr",
     "output_type": "stream",
     "text": [
      "WARNING:absl:At this time, the v2.11+ optimizer `tf.keras.optimizers.Adam` runs slowly on M1/M2 Macs, please use the legacy Keras optimizer instead, located at `tf.keras.optimizers.legacy.Adam`.\n",
      "\n",
      "WARNING:absl:There is a known slowdown when using v2.11+ Keras optimizers on M1/M2 Macs. Falling back to the legacy Keras optimizer, i.e., `tf.keras.optimizers.legacy.Adam`.\n",
      "\n"
     ]
    },
    {
     "name": "stdout",
     "output_type": "stream",
     "text": [
      "   1/1628 [..............................] - ETA: 34s                   \n",
      " 201/1628 [==>...........................] - ETA: 0s                    \n",
      " 411/1628 [======>.......................] - ETA: 0s                   \n",
      " 619/1628 [==========>...................] - ETA: 0s                   \n",
      " 839/1628 [==============>...............] - ETA: 0s                   \n",
      "1060/1628 [==================>...........] - ETA: 0s                   \n",
      "1281/1628 [======================>.......] - ETA: 0s                   \n",
      "1503/1628 [==========================>...] - ETA: 0s                   \n",
      "1628/1628 [==============================] - 0s 233us/step             \n",
      "\n",
      "SCORE:                                                                  \n",
      "0.7132376946861017                                                      \n",
      " 76%|▊| 38/50 [35:55<11:53, 59.46s/trial, best loss: -0.7467304257648211"
     ]
    },
    {
     "name": "stderr",
     "output_type": "stream",
     "text": [
      "WARNING:absl:At this time, the v2.11+ optimizer `tf.keras.optimizers.Adam` runs slowly on M1/M2 Macs, please use the legacy Keras optimizer instead, located at `tf.keras.optimizers.legacy.Adam`.\n",
      "\n",
      "WARNING:absl:There is a known slowdown when using v2.11+ Keras optimizers on M1/M2 Macs. Falling back to the legacy Keras optimizer, i.e., `tf.keras.optimizers.legacy.Adam`.\n",
      "\n"
     ]
    },
    {
     "name": "stdout",
     "output_type": "stream",
     "text": [
      "   1/1628 [..............................] - ETA: 37s                   \n",
      " 192/1628 [==>...........................] - ETA: 0s                    \n",
      " 397/1628 [======>.......................] - ETA: 0s                   \n",
      " 612/1628 [==========>...................] - ETA: 0s                   \n",
      " 827/1628 [==============>...............] - ETA: 0s                   \n",
      "1043/1628 [==================>...........] - ETA: 0s                   \n",
      "1230/1628 [=====================>........] - ETA: 0s                   \n",
      "1439/1628 [=========================>....] - ETA: 0s                   \n",
      "1628/1628 [==============================] - 0s 243us/step             \n",
      "\n",
      "SCORE:                                                                  \n",
      "0.6892128055923643                                                      \n",
      " 78%|▊| 39/50 [36:54<10:54, 59.53s/trial, best loss: -0.7467304257648211"
     ]
    },
    {
     "name": "stderr",
     "output_type": "stream",
     "text": [
      "WARNING:absl:At this time, the v2.11+ optimizer `tf.keras.optimizers.Adam` runs slowly on M1/M2 Macs, please use the legacy Keras optimizer instead, located at `tf.keras.optimizers.legacy.Adam`.\n",
      "\n",
      "WARNING:absl:There is a known slowdown when using v2.11+ Keras optimizers on M1/M2 Macs. Falling back to the legacy Keras optimizer, i.e., `tf.keras.optimizers.legacy.Adam`.\n",
      "\n"
     ]
    },
    {
     "name": "stdout",
     "output_type": "stream",
     "text": [
      "   1/1628 [..............................] - ETA: 40s                   \n",
      " 178/1628 [==>...........................] - ETA: 0s                    \n",
      " 372/1628 [=====>........................] - ETA: 0s                   \n",
      " 571/1628 [=========>....................] - ETA: 0s                   \n",
      " 777/1628 [=============>................] - ETA: 0s                   \n",
      " 990/1628 [=================>............] - ETA: 0s                   \n",
      "1204/1628 [=====================>........] - ETA: 0s                   \n",
      "1420/1628 [=========================>....] - ETA: 0s                   \n",
      "1628/1628 [==============================] - 0s 246us/step             \n",
      "\n",
      "SCORE:                                                                  \n",
      "0.7215724683605078                                                      \n",
      " 80%|▊| 40/50 [37:59<10:09, 60.96s/trial, best loss: -0.7467304257648211"
     ]
    },
    {
     "name": "stderr",
     "output_type": "stream",
     "text": [
      "WARNING:absl:At this time, the v2.11+ optimizer `tf.keras.optimizers.Adam` runs slowly on M1/M2 Macs, please use the legacy Keras optimizer instead, located at `tf.keras.optimizers.legacy.Adam`.\n",
      "\n",
      "WARNING:absl:There is a known slowdown when using v2.11+ Keras optimizers on M1/M2 Macs. Falling back to the legacy Keras optimizer, i.e., `tf.keras.optimizers.legacy.Adam`.\n",
      "\n"
     ]
    },
    {
     "name": "stdout",
     "output_type": "stream",
     "text": [
      "   1/1628 [..............................] - ETA: 37s                   \n",
      " 183/1628 [==>...........................] - ETA: 0s                    \n",
      " 375/1628 [=====>........................] - ETA: 0s                   \n",
      " 573/1628 [=========>....................] - ETA: 0s                   \n",
      " 770/1628 [=============>................] - ETA: 0s                   \n",
      " 966/1628 [================>.............] - ETA: 0s                   \n",
      "1175/1628 [====================>.........] - ETA: 0s                   \n",
      "1377/1628 [========================>.....] - ETA: 0s                   \n",
      "1584/1628 [============================>.] - ETA: 0s                   \n",
      "1628/1628 [==============================] - 0s 254us/step             \n",
      "\n",
      "SCORE:                                                                  \n",
      "0.6941099652397688                                                      \n",
      " 82%|▊| 41/50 [39:03<09:17, 61.96s/trial, best loss: -0.7467304257648211"
     ]
    },
    {
     "name": "stderr",
     "output_type": "stream",
     "text": [
      "WARNING:absl:At this time, the v2.11+ optimizer `tf.keras.optimizers.Adam` runs slowly on M1/M2 Macs, please use the legacy Keras optimizer instead, located at `tf.keras.optimizers.legacy.Adam`.\n",
      "\n",
      "WARNING:absl:There is a known slowdown when using v2.11+ Keras optimizers on M1/M2 Macs. Falling back to the legacy Keras optimizer, i.e., `tf.keras.optimizers.legacy.Adam`.\n",
      "\n"
     ]
    },
    {
     "name": "stdout",
     "output_type": "stream",
     "text": [
      "   1/1628 [..............................] - ETA: 34s                   \n",
      " 203/1628 [==>...........................] - ETA: 0s                    \n",
      " 417/1628 [======>.......................] - ETA: 0s                   \n",
      " 630/1628 [==========>...................] - ETA: 0s                   \n",
      " 852/1628 [==============>...............] - ETA: 0s                   \n",
      "1078/1628 [==================>...........] - ETA: 0s                   \n",
      "1305/1628 [=======================>......] - ETA: 0s                   \n",
      "1533/1628 [===========================>..] - ETA: 0s                   \n",
      "1628/1628 [==============================] - 0s 229us/step             \n",
      "\n",
      "SCORE:                                                                  \n",
      "0.033550344721630085                                                    \n",
      " 84%|▊| 42/50 [40:04<08:13, 61.67s/trial, best loss: -0.7467304257648211"
     ]
    },
    {
     "name": "stderr",
     "output_type": "stream",
     "text": [
      "WARNING:absl:At this time, the v2.11+ optimizer `tf.keras.optimizers.Adam` runs slowly on M1/M2 Macs, please use the legacy Keras optimizer instead, located at `tf.keras.optimizers.legacy.Adam`.\n",
      "\n",
      "WARNING:absl:There is a known slowdown when using v2.11+ Keras optimizers on M1/M2 Macs. Falling back to the legacy Keras optimizer, i.e., `tf.keras.optimizers.legacy.Adam`.\n",
      "\n"
     ]
    },
    {
     "name": "stdout",
     "output_type": "stream",
     "text": [
      "   1/1628 [..............................] - ETA: 34s                   \n",
      " 204/1628 [==>...........................] - ETA: 0s                    \n",
      " 416/1628 [======>.......................] - ETA: 0s                   \n",
      " 626/1628 [==========>...................] - ETA: 0s                   \n",
      " 846/1628 [==============>...............] - ETA: 0s                   \n",
      "1070/1628 [==================>...........] - ETA: 0s                   \n",
      "1295/1628 [======================>.......] - ETA: 0s                   \n",
      "1521/1628 [===========================>..] - ETA: 0s                   \n",
      "1628/1628 [==============================] - 0s 231us/step             \n",
      "\n",
      "SCORE:                                                                  \n",
      "0.7120278081849782                                                      \n",
      " 86%|▊| 43/50 [41:04<07:08, 61.26s/trial, best loss: -0.7467304257648211"
     ]
    },
    {
     "name": "stderr",
     "output_type": "stream",
     "text": [
      "WARNING:absl:At this time, the v2.11+ optimizer `tf.keras.optimizers.Adam` runs slowly on M1/M2 Macs, please use the legacy Keras optimizer instead, located at `tf.keras.optimizers.legacy.Adam`.\n",
      "\n",
      "WARNING:absl:There is a known slowdown when using v2.11+ Keras optimizers on M1/M2 Macs. Falling back to the legacy Keras optimizer, i.e., `tf.keras.optimizers.legacy.Adam`.\n",
      "\n"
     ]
    },
    {
     "name": "stdout",
     "output_type": "stream",
     "text": [
      "   1/1628 [..............................] - ETA: 34s                   \n",
      " 204/1628 [==>...........................] - ETA: 0s                    \n",
      " 418/1628 [======>.......................] - ETA: 0s                   \n",
      " 634/1628 [==========>...................] - ETA: 0s                   \n",
      " 849/1628 [==============>...............] - ETA: 0s                   \n",
      "1075/1628 [==================>...........] - ETA: 0s                   \n",
      "1301/1628 [======================>.......] - ETA: 0s                   \n",
      "1526/1628 [===========================>..] - ETA: 0s                   \n",
      "1628/1628 [==============================] - 0s 230us/step             \n",
      "\n",
      "SCORE:                                                                  \n",
      "0.6581782566111655                                                      \n",
      " 88%|▉| 44/50 [42:04<06:05, 60.87s/trial, best loss: -0.7467304257648211"
     ]
    },
    {
     "name": "stderr",
     "output_type": "stream",
     "text": [
      "WARNING:absl:At this time, the v2.11+ optimizer `tf.keras.optimizers.Adam` runs slowly on M1/M2 Macs, please use the legacy Keras optimizer instead, located at `tf.keras.optimizers.legacy.Adam`.\n",
      "\n",
      "WARNING:absl:There is a known slowdown when using v2.11+ Keras optimizers on M1/M2 Macs. Falling back to the legacy Keras optimizer, i.e., `tf.keras.optimizers.legacy.Adam`.\n",
      "\n"
     ]
    },
    {
     "name": "stdout",
     "output_type": "stream",
     "text": [
      "   1/1628 [..............................] - ETA: 34s                   \n",
      " 201/1628 [==>...........................] - ETA: 0s                    \n",
      " 412/1628 [======>.......................] - ETA: 0s                   \n",
      " 624/1628 [==========>...................] - ETA: 0s                   \n",
      " 840/1628 [==============>...............] - ETA: 0s                   \n",
      "1065/1628 [==================>...........] - ETA: 0s                   \n",
      "1290/1628 [======================>.......] - ETA: 0s                   \n",
      "1515/1628 [==========================>...] - ETA: 0s                   \n",
      "1628/1628 [==============================] - 0s 232us/step             \n",
      "\n",
      "SCORE:                                                                  \n",
      "0.7345739471106758                                                      \n",
      " 90%|▉| 45/50 [43:04<05:03, 60.61s/trial, best loss: -0.7467304257648211"
     ]
    },
    {
     "name": "stderr",
     "output_type": "stream",
     "text": [
      "WARNING:absl:At this time, the v2.11+ optimizer `tf.keras.optimizers.Adam` runs slowly on M1/M2 Macs, please use the legacy Keras optimizer instead, located at `tf.keras.optimizers.legacy.Adam`.\n",
      "\n",
      "WARNING:absl:There is a known slowdown when using v2.11+ Keras optimizers on M1/M2 Macs. Falling back to the legacy Keras optimizer, i.e., `tf.keras.optimizers.legacy.Adam`.\n",
      "\n"
     ]
    },
    {
     "name": "stdout",
     "output_type": "stream",
     "text": [
      "   1/1628 [..............................] - ETA: 36s                   \n",
      " 191/1628 [==>...........................] - ETA: 0s                    \n",
      " 399/1628 [======>.......................] - ETA: 0s                   \n",
      " 609/1628 [==========>...................] - ETA: 0s                   \n",
      " 824/1628 [==============>...............] - ETA: 0s                   \n",
      "1038/1628 [==================>...........] - ETA: 0s                   \n",
      "1252/1628 [======================>.......] - ETA: 0s                   \n",
      "1464/1628 [=========================>....] - ETA: 0s                   \n",
      "1628/1628 [==============================] - 0s 240us/step             \n",
      "\n",
      "SCORE:                                                                  \n",
      "0.6914597376658793                                                      \n",
      " 92%|▉| 46/50 [44:05<04:02, 60.54s/trial, best loss: -0.7467304257648211"
     ]
    },
    {
     "name": "stderr",
     "output_type": "stream",
     "text": [
      "WARNING:absl:At this time, the v2.11+ optimizer `tf.keras.optimizers.Adam` runs slowly on M1/M2 Macs, please use the legacy Keras optimizer instead, located at `tf.keras.optimizers.legacy.Adam`.\n",
      "\n",
      "WARNING:absl:There is a known slowdown when using v2.11+ Keras optimizers on M1/M2 Macs. Falling back to the legacy Keras optimizer, i.e., `tf.keras.optimizers.legacy.Adam`.\n",
      "\n"
     ]
    },
    {
     "name": "stdout",
     "output_type": "stream",
     "text": [
      "   1/1628 [..............................] - ETA: 35s                   \n",
      " 199/1628 [==>...........................] - ETA: 0s                    \n",
      " 406/1628 [======>.......................] - ETA: 0s                   \n",
      " 614/1628 [==========>...................] - ETA: 0s                   \n",
      " 827/1628 [==============>...............] - ETA: 0s                   \n",
      "1037/1628 [==================>...........] - ETA: 0s                   \n",
      "1246/1628 [=====================>........] - ETA: 0s                   \n",
      "1451/1628 [=========================>....] - ETA: 0s                   \n",
      "1628/1628 [==============================] - 0s 243us/step             \n",
      "\n",
      "SCORE:                                                                  \n",
      "0.732442242322982                                                       \n",
      " 94%|▉| 47/50 [45:05<03:01, 60.62s/trial, best loss: -0.7467304257648211"
     ]
    },
    {
     "name": "stderr",
     "output_type": "stream",
     "text": [
      "WARNING:absl:At this time, the v2.11+ optimizer `tf.keras.optimizers.Adam` runs slowly on M1/M2 Macs, please use the legacy Keras optimizer instead, located at `tf.keras.optimizers.legacy.Adam`.\n",
      "\n",
      "WARNING:absl:There is a known slowdown when using v2.11+ Keras optimizers on M1/M2 Macs. Falling back to the legacy Keras optimizer, i.e., `tf.keras.optimizers.legacy.Adam`.\n",
      "\n"
     ]
    },
    {
     "name": "stdout",
     "output_type": "stream",
     "text": [
      "   1/1628 [..............................] - ETA: 36s                   \n",
      " 192/1628 [==>...........................] - ETA: 0s                    \n",
      " 397/1628 [======>.......................] - ETA: 0s                   \n",
      " 611/1628 [==========>...................] - ETA: 0s                   \n",
      " 820/1628 [==============>...............] - ETA: 0s                   \n",
      "1033/1628 [==================>...........] - ETA: 0s                   \n",
      "1249/1628 [======================>.......] - ETA: 0s                   \n",
      "1462/1628 [=========================>....] - ETA: 0s                   \n",
      "1628/1628 [==============================] - 0s 239us/step             \n",
      "\n",
      "SCORE:                                                                  \n",
      "0.7083981486816078                                                      \n",
      " 96%|▉| 48/50 [46:06<02:00, 60.49s/trial, best loss: -0.7467304257648211"
     ]
    },
    {
     "name": "stderr",
     "output_type": "stream",
     "text": [
      "WARNING:absl:At this time, the v2.11+ optimizer `tf.keras.optimizers.Adam` runs slowly on M1/M2 Macs, please use the legacy Keras optimizer instead, located at `tf.keras.optimizers.legacy.Adam`.\n",
      "\n",
      "WARNING:absl:There is a known slowdown when using v2.11+ Keras optimizers on M1/M2 Macs. Falling back to the legacy Keras optimizer, i.e., `tf.keras.optimizers.legacy.Adam`.\n",
      "\n"
     ]
    },
    {
     "name": "stdout",
     "output_type": "stream",
     "text": [
      "   1/1628 [..............................] - ETA: 36s                   \n",
      " 196/1628 [==>...........................] - ETA: 0s                    \n",
      " 284/1628 [====>.........................] - ETA: 1s                   \n",
      " 511/1628 [========>.....................] - ETA: 0s                   \n",
      " 743/1628 [============>.................] - ETA: 0s                   \n",
      " 976/1628 [================>.............] - ETA: 0s                   \n",
      "1209/1628 [=====================>........] - ETA: 0s                   \n",
      "1430/1628 [=========================>....] - ETA: 0s                   \n",
      "1628/1628 [==============================] - 1s 338us/step             \n",
      "\n",
      "SCORE:                                                                  \n",
      "0.6900386011407501                                                      \n",
      " 98%|▉| 49/50 [47:06<01:00, 60.37s/trial, best loss: -0.7467304257648211"
     ]
    },
    {
     "name": "stderr",
     "output_type": "stream",
     "text": [
      "WARNING:absl:At this time, the v2.11+ optimizer `tf.keras.optimizers.Adam` runs slowly on M1/M2 Macs, please use the legacy Keras optimizer instead, located at `tf.keras.optimizers.legacy.Adam`.\n",
      "\n",
      "WARNING:absl:There is a known slowdown when using v2.11+ Keras optimizers on M1/M2 Macs. Falling back to the legacy Keras optimizer, i.e., `tf.keras.optimizers.legacy.Adam`.\n",
      "\n"
     ]
    },
    {
     "name": "stdout",
     "output_type": "stream",
     "text": [
      "   1/1628 [..............................] - ETA: 34s                   \n",
      " 205/1628 [==>...........................] - ETA: 0s                    \n",
      " 419/1628 [======>.......................] - ETA: 0s                   \n",
      " 632/1628 [==========>...................] - ETA: 0s                   \n",
      " 853/1628 [==============>...............] - ETA: 0s                   \n",
      "1077/1628 [==================>...........] - ETA: 0s                   \n",
      "1303/1628 [=======================>......] - ETA: 0s                   \n",
      "1529/1628 [===========================>..] - ETA: 0s                   \n",
      "1628/1628 [==============================] - 0s 230us/step             \n",
      "\n",
      "SCORE:                                                                  \n",
      "0.0                                                                     \n",
      "100%|█| 50/50 [48:07<00:00, 57.74s/trial, best loss: -0.7467304257648211\n",
      "Best hyperparameters: {'beta_1': 0.6012115429597784, 'beta_2': 0.8342016359854416, 'dropout': 0.00956185724776542, 'ema_momentum': 0.9425072341735632, 'epsilon': 1.5092638258743137e-07, 'learning_rate': 0.001234077866108187}\n"
     ]
    }
   ],
   "source": [
    "space = {\n",
    "    'learning_rate': hp.loguniform('learning_rate', np.log(0.0005), np.log(0.005)),\n",
    "    'beta_1': hp.uniform('beta_1', 0.5, 0.99),\n",
    "    'beta_2': hp.uniform('beta_2', 0.8, 0.9999),\n",
    "    'epsilon': hp.loguniform('epsilon', np.log(1e-08), np.log(1e-06)),\n",
    "    'ema_momentum': hp.uniform('ema_momentum', 0.8, 0.999),\n",
    "    'dropout': hp.uniform('dropout', 0, 0.5)\n",
    "}\n",
    "\n",
    "def objective(space):\n",
    "    optimizer = Adam(\n",
    "        learning_rate=space['learning_rate'],\n",
    "        beta_1=space['beta_1'],\n",
    "        beta_2=space['beta_2'],\n",
    "        epsilon=space['epsilon'],\n",
    "    )\n",
    "                \n",
    "    model = Sequential([\n",
    "        Dense(128, activation='relu', input_dim=24),\n",
    "        Dropout(space['dropout']),\n",
    "        Dense(64, activation='relu'),\n",
    "        Dense(32, activation='relu'),\n",
    "        Dense(3, activation='softmax')\n",
    "    ])\n",
    "    \n",
    "    model.compile(loss='categorical_crossentropy', optimizer=optimizer, metrics=['accuracy'])\n",
    "    \n",
    "    fit_results = model.fit(\n",
    "        x=X_train,\n",
    "        y=y_train,\n",
    "        batch_size=512,\n",
    "        epochs=65,\n",
    "        validation_data=(X_test, y_test),\n",
    "        verbose=0\n",
    "    )\n",
    "\n",
    "    pred = model.predict(X_test)\n",
    "    accuracy = accuracy_score(y_test, pred>0.5)\n",
    "    print(\"SCORE:\", accuracy)\n",
    "    \n",
    "    return {'loss': -accuracy, 'status': 'ok'}\n",
    "\n",
    "# Assuming you have defined X_train, y_train, X_test, y_test\n",
    "\n",
    "trials = Trials()\n",
    "best = fmin(fn=objective, space=space, algo=tpe.suggest, max_evals=50, trials=trials)\n",
    "\n",
    "print(\"Best hyperparameters:\", best)"
   ]
  },
  {
   "cell_type": "code",
   "execution_count": 14,
   "metadata": {},
   "outputs": [
    {
     "name": "stdout",
     "output_type": "stream",
     "text": [
      "\r",
      "  0%|                            | 0/25 [00:00<?, ?trial/s, best loss=?]"
     ]
    },
    {
     "name": "stderr",
     "output_type": "stream",
     "text": [
      "WARNING:absl:At this time, the v2.11+ optimizer `tf.keras.optimizers.Adam` runs slowly on M1/M2 Macs, please use the legacy Keras optimizer instead, located at `tf.keras.optimizers.legacy.Adam`.\n",
      "\n",
      "WARNING:absl:There is a known slowdown when using v2.11+ Keras optimizers on M1/M2 Macs. Falling back to the legacy Keras optimizer, i.e., `tf.keras.optimizers.legacy.Adam`.\n",
      "\n"
     ]
    },
    {
     "name": "stdout",
     "output_type": "stream",
     "text": [
      "   1/1628 [..............................] - ETA: 1:20                  \n",
      " 151/1628 [=>............................] - ETA: 0s                   \n",
      " 306/1628 [====>.........................] - ETA: 0s                   \n",
      " 459/1628 [=======>......................] - ETA: 0s                   \n",
      " 608/1628 [==========>...................] - ETA: 0s                   \n",
      " 759/1628 [============>.................] - ETA: 0s                   \n",
      " 905/1628 [===============>..............] - ETA: 0s                   \n",
      "1051/1628 [==================>...........] - ETA: 0s                   \n",
      "1195/1628 [=====================>........] - ETA: 0s                   \n",
      "1328/1628 [=======================>......] - ETA: 0s                   \n",
      "1465/1628 [=========================>....] - ETA: 0s                   \n",
      "1624/1628 [============================>.] - ETA: 0s                   \n",
      "1628/1628 [==============================] - 1s 341us/step             \n",
      "\n",
      "SCORE:                                                                  \n",
      "0.7108179216838547                                                      \n",
      "  4%| | 1/25 [01:32<36:59, 92.46s/trial, best loss: -0.7108179216838547]"
     ]
    },
    {
     "name": "stderr",
     "output_type": "stream",
     "text": [
      "WARNING:absl:At this time, the v2.11+ optimizer `tf.keras.optimizers.Adam` runs slowly on M1/M2 Macs, please use the legacy Keras optimizer instead, located at `tf.keras.optimizers.legacy.Adam`.\n",
      "\n",
      "WARNING:absl:There is a known slowdown when using v2.11+ Keras optimizers on M1/M2 Macs. Falling back to the legacy Keras optimizer, i.e., `tf.keras.optimizers.legacy.Adam`.\n",
      "\n"
     ]
    },
    {
     "name": "stdout",
     "output_type": "stream",
     "text": [
      "   1/1628 [..............................] - ETA: 41s                   \n",
      " 152/1628 [=>............................] - ETA: 0s                    \n",
      " 306/1628 [====>.........................] - ETA: 0s                   \n",
      " 461/1628 [=======>......................] - ETA: 0s                   \n",
      " 619/1628 [==========>...................] - ETA: 0s                   \n",
      " 778/1628 [=============>................] - ETA: 0s                   \n",
      " 934/1628 [================>.............] - ETA: 0s                   \n",
      "1094/1628 [===================>..........] - ETA: 0s                   \n",
      "1254/1628 [======================>.......] - ETA: 0s                   \n",
      "1411/1628 [=========================>....] - ETA: 0s                   \n",
      "1573/1628 [===========================>..] - ETA: 0s                   \n",
      "1628/1628 [==============================] - 1s 320us/step             \n",
      "\n",
      "SCORE:                                                                  \n",
      "0.0                                                                     \n",
      "  8%| | 2/25 [02:55<33:22, 87.07s/trial, best loss: -0.7108179216838547]"
     ]
    },
    {
     "name": "stderr",
     "output_type": "stream",
     "text": [
      "WARNING:absl:At this time, the v2.11+ optimizer `tf.keras.optimizers.Adam` runs slowly on M1/M2 Macs, please use the legacy Keras optimizer instead, located at `tf.keras.optimizers.legacy.Adam`.\n",
      "\n",
      "WARNING:absl:There is a known slowdown when using v2.11+ Keras optimizers on M1/M2 Macs. Falling back to the legacy Keras optimizer, i.e., `tf.keras.optimizers.legacy.Adam`.\n",
      "\n"
     ]
    },
    {
     "name": "stdout",
     "output_type": "stream",
     "text": [
      "   1/1628 [..............................] - ETA: 47s                   \n",
      " 141/1628 [=>............................] - ETA: 0s                    \n",
      " 290/1628 [====>.........................] - ETA: 0s                   \n",
      " 441/1628 [=======>......................] - ETA: 0s                   \n",
      " 589/1628 [=========>....................] - ETA: 0s                   \n",
      " 735/1628 [============>.................] - ETA: 0s                   \n",
      " 883/1628 [===============>..............] - ETA: 0s                   \n",
      "1031/1628 [=================>............] - ETA: 0s                   \n",
      "1184/1628 [====================>.........] - ETA: 0s                   \n",
      "1333/1628 [=======================>......] - ETA: 0s                   \n",
      "1484/1628 [==========================>...] - ETA: 0s                   \n",
      "1628/1628 [==============================] - 1s 339us/step             \n",
      "\n",
      "SCORE:                                                                  \n",
      "0.7021566706996216                                                      \n",
      " 12%| | 3/25 [04:28<32:50, 89.56s/trial, best loss: -0.7108179216838547]"
     ]
    },
    {
     "name": "stderr",
     "output_type": "stream",
     "text": [
      "WARNING:absl:At this time, the v2.11+ optimizer `tf.keras.optimizers.Adam` runs slowly on M1/M2 Macs, please use the legacy Keras optimizer instead, located at `tf.keras.optimizers.legacy.Adam`.\n",
      "\n",
      "WARNING:absl:There is a known slowdown when using v2.11+ Keras optimizers on M1/M2 Macs. Falling back to the legacy Keras optimizer, i.e., `tf.keras.optimizers.legacy.Adam`.\n",
      "\n"
     ]
    },
    {
     "name": "stdout",
     "output_type": "stream",
     "text": [
      "   1/1628 [..............................] - ETA: 45s                   \n",
      " 142/1628 [=>............................] - ETA: 0s                    \n",
      " 291/1628 [====>.........................] - ETA: 0s                   \n",
      " 437/1628 [=======>......................] - ETA: 0s                   \n",
      " 586/1628 [=========>....................] - ETA: 0s                   \n",
      " 734/1628 [============>.................] - ETA: 0s                   \n",
      " 888/1628 [===============>..............] - ETA: 0s                   \n",
      "1037/1628 [==================>...........] - ETA: 0s                   \n",
      "1187/1628 [====================>.........] - ETA: 0s                   \n",
      "1335/1628 [=======================>......] - ETA: 0s                   \n",
      "1481/1628 [==========================>...] - ETA: 0s                   \n",
      "1628/1628 [==============================] - 1s 338us/step             \n",
      "\n",
      "SCORE:                                                                  \n",
      "0.7289470146530699                                                      \n",
      " 16%|▏| 4/25 [05:56<31:10, 89.08s/trial, best loss: -0.7289470146530699]"
     ]
    },
    {
     "name": "stderr",
     "output_type": "stream",
     "text": [
      "WARNING:absl:At this time, the v2.11+ optimizer `tf.keras.optimizers.Adam` runs slowly on M1/M2 Macs, please use the legacy Keras optimizer instead, located at `tf.keras.optimizers.legacy.Adam`.\n",
      "\n",
      "WARNING:absl:There is a known slowdown when using v2.11+ Keras optimizers on M1/M2 Macs. Falling back to the legacy Keras optimizer, i.e., `tf.keras.optimizers.legacy.Adam`.\n",
      "\n"
     ]
    },
    {
     "name": "stdout",
     "output_type": "stream",
     "text": [
      "   1/1628 [..............................] - ETA: 44s                   \n",
      " 131/1628 [=>............................] - ETA: 0s                    \n",
      " 276/1628 [====>.........................] - ETA: 0s                   \n",
      " 412/1628 [======>.......................] - ETA: 0s                   \n",
      " 556/1628 [=========>....................] - ETA: 0s                   \n",
      " 700/1628 [===========>..................] - ETA: 0s                   \n",
      " 851/1628 [==============>...............] - ETA: 0s                   \n",
      "1000/1628 [=================>............] - ETA: 0s                   \n",
      "1149/1628 [====================>.........] - ETA: 0s                   \n",
      "1299/1628 [======================>.......] - ETA: 0s                   \n",
      "1450/1628 [=========================>....] - ETA: 0s                   \n",
      "1599/1628 [============================>.] - ETA: 0s                   \n",
      "1628/1628 [==============================] - 1s 346us/step             \n",
      "\n",
      "SCORE:                                                                  \n",
      "0.2052197960477041                                                      \n",
      " 20%|▏| 5/25 [07:24<29:33, 88.67s/trial, best loss: -0.7289470146530699]"
     ]
    },
    {
     "name": "stderr",
     "output_type": "stream",
     "text": [
      "WARNING:absl:At this time, the v2.11+ optimizer `tf.keras.optimizers.Adam` runs slowly on M1/M2 Macs, please use the legacy Keras optimizer instead, located at `tf.keras.optimizers.legacy.Adam`.\n",
      "\n",
      "WARNING:absl:There is a known slowdown when using v2.11+ Keras optimizers on M1/M2 Macs. Falling back to the legacy Keras optimizer, i.e., `tf.keras.optimizers.legacy.Adam`.\n",
      "\n"
     ]
    },
    {
     "name": "stdout",
     "output_type": "stream",
     "text": [
      "   1/1628 [..............................] - ETA: 45s                   \n",
      " 142/1628 [=>............................] - ETA: 0s                    \n",
      " 289/1628 [====>.........................] - ETA: 0s                   \n",
      " 439/1628 [=======>......................] - ETA: 0s                   \n",
      " 588/1628 [=========>....................] - ETA: 0s                   \n",
      " 738/1628 [============>.................] - ETA: 0s                   \n",
      " 886/1628 [===============>..............] - ETA: 0s                   \n",
      "1033/1628 [==================>...........] - ETA: 0s                   \n",
      "1181/1628 [====================>.........] - ETA: 0s                   \n",
      "1327/1628 [=======================>......] - ETA: 0s                   \n",
      "1472/1628 [==========================>...] - ETA: 0s                   \n",
      "1622/1628 [============================>.] - ETA: 0s                   \n",
      "1628/1628 [==============================] - 1s 342us/step             \n",
      "\n",
      "SCORE:                                                                  \n",
      "0.0                                                                     \n",
      " 24%|▏| 6/25 [08:52<28:01, 88.50s/trial, best loss: -0.7289470146530699]"
     ]
    },
    {
     "name": "stderr",
     "output_type": "stream",
     "text": [
      "WARNING:absl:At this time, the v2.11+ optimizer `tf.keras.optimizers.Adam` runs slowly on M1/M2 Macs, please use the legacy Keras optimizer instead, located at `tf.keras.optimizers.legacy.Adam`.\n",
      "\n",
      "WARNING:absl:There is a known slowdown when using v2.11+ Keras optimizers on M1/M2 Macs. Falling back to the legacy Keras optimizer, i.e., `tf.keras.optimizers.legacy.Adam`.\n",
      "\n"
     ]
    },
    {
     "name": "stdout",
     "output_type": "stream",
     "text": [
      "   1/1628 [..............................] - ETA: 43s                   \n",
      " 139/1628 [=>............................] - ETA: 0s                    \n",
      " 285/1628 [====>.........................] - ETA: 0s                   \n",
      " 433/1628 [======>.......................] - ETA: 0s                   \n",
      " 577/1628 [=========>....................] - ETA: 0s                   \n",
      " 726/1628 [============>.................] - ETA: 0s                   \n",
      " 873/1628 [===============>..............] - ETA: 0s                   \n",
      "1019/1628 [=================>............] - ETA: 0s                   \n",
      "1162/1628 [====================>.........] - ETA: 0s                   \n",
      "1312/1628 [=======================>......] - ETA: 0s                   \n",
      "1457/1628 [=========================>....] - ETA: 0s                   \n",
      "1584/1628 [============================>.] - ETA: 0s                   \n",
      "1628/1628 [==============================] - 1s 351us/step             \n",
      "\n",
      "SCORE:                                                                  \n",
      "0.7115476944940562                                                      \n",
      " 28%|▎| 7/25 [10:24<26:49, 89.44s/trial, best loss: -0.7289470146530699]"
     ]
    },
    {
     "name": "stderr",
     "output_type": "stream",
     "text": [
      "WARNING:absl:At this time, the v2.11+ optimizer `tf.keras.optimizers.Adam` runs slowly on M1/M2 Macs, please use the legacy Keras optimizer instead, located at `tf.keras.optimizers.legacy.Adam`.\n",
      "\n",
      "WARNING:absl:There is a known slowdown when using v2.11+ Keras optimizers on M1/M2 Macs. Falling back to the legacy Keras optimizer, i.e., `tf.keras.optimizers.legacy.Adam`.\n",
      "\n"
     ]
    },
    {
     "name": "stdout",
     "output_type": "stream",
     "text": [
      "   1/1628 [..............................] - ETA: 51s                   \n",
      " 131/1628 [=>............................] - ETA: 0s                    \n",
      " 276/1628 [====>.........................] - ETA: 0s                   \n",
      " 426/1628 [======>.......................] - ETA: 0s                   \n",
      " 576/1628 [=========>....................] - ETA: 0s                   \n",
      " 723/1628 [============>.................] - ETA: 0s                   \n",
      " 872/1628 [===============>..............] - ETA: 0s                   \n",
      "1018/1628 [=================>............] - ETA: 0s                   \n",
      "1161/1628 [====================>.........] - ETA: 0s                   \n",
      "1306/1628 [=======================>......] - ETA: 0s                   \n",
      "1454/1628 [=========================>....] - ETA: 0s                   \n",
      "1604/1628 [============================>.] - ETA: 0s                   \n",
      "1628/1628 [==============================] - 1s 345us/step             \n",
      "\n",
      "SCORE:                                                                  \n",
      "0.6917478058804325                                                      \n",
      " 32%|▎| 8/25 [11:53<25:18, 89.35s/trial, best loss: -0.7289470146530699]"
     ]
    },
    {
     "name": "stderr",
     "output_type": "stream",
     "text": [
      "WARNING:absl:At this time, the v2.11+ optimizer `tf.keras.optimizers.Adam` runs slowly on M1/M2 Macs, please use the legacy Keras optimizer instead, located at `tf.keras.optimizers.legacy.Adam`.\n",
      "\n",
      "WARNING:absl:There is a known slowdown when using v2.11+ Keras optimizers on M1/M2 Macs. Falling back to the legacy Keras optimizer, i.e., `tf.keras.optimizers.legacy.Adam`.\n",
      "\n"
     ]
    },
    {
     "name": "stdout",
     "output_type": "stream",
     "text": [
      "   1/1628 [..............................] - ETA: 45s                   \n",
      " 132/1628 [=>............................] - ETA: 0s                    \n",
      " 258/1628 [===>..........................] - ETA: 0s                   \n",
      " 396/1628 [======>.......................] - ETA: 0s                   \n",
      " 544/1628 [=========>....................] - ETA: 0s                   \n",
      " 672/1628 [===========>..................] - ETA: 0s                   \n",
      " 801/1628 [=============>................] - ETA: 0s                   \n",
      " 948/1628 [================>.............] - ETA: 0s                   \n",
      "1095/1628 [===================>..........] - ETA: 0s                   \n",
      "1244/1628 [=====================>........] - ETA: 0s                   \n",
      "1394/1628 [========================>.....] - ETA: 0s                   \n",
      "1542/1628 [===========================>..] - ETA: 0s                   \n",
      "1628/1628 [==============================] - 1s 358us/step             \n",
      "\n",
      "SCORE:                                                                  \n",
      "0.6949933744310652                                                      \n",
      " 36%|▎| 9/25 [13:22<23:48, 89.31s/trial, best loss: -0.7289470146530699]"
     ]
    },
    {
     "name": "stderr",
     "output_type": "stream",
     "text": [
      "WARNING:absl:At this time, the v2.11+ optimizer `tf.keras.optimizers.Adam` runs slowly on M1/M2 Macs, please use the legacy Keras optimizer instead, located at `tf.keras.optimizers.legacy.Adam`.\n",
      "\n",
      "WARNING:absl:There is a known slowdown when using v2.11+ Keras optimizers on M1/M2 Macs. Falling back to the legacy Keras optimizer, i.e., `tf.keras.optimizers.legacy.Adam`.\n",
      "\n"
     ]
    },
    {
     "name": "stdout",
     "output_type": "stream",
     "text": [
      "   1/1628 [..............................] - ETA: 44s                   \n",
      " 142/1628 [=>............................] - ETA: 0s                    \n",
      " 291/1628 [====>.........................] - ETA: 0s                   \n",
      " 439/1628 [=======>......................] - ETA: 0s                   \n",
      " 587/1628 [=========>....................] - ETA: 0s                   \n",
      " 735/1628 [============>.................] - ETA: 0s                   \n",
      " 886/1628 [===============>..............] - ETA: 0s                   \n",
      "1035/1628 [==================>...........] - ETA: 0s                   \n",
      "1185/1628 [====================>.........] - ETA: 0s                   \n",
      "1337/1628 [=======================>......] - ETA: 0s                   \n",
      "1487/1628 [==========================>...] - ETA: 0s                   \n",
      "1615/1628 [============================>.] - ETA: 0s                   \n",
      "1628/1628 [==============================] - 1s 344us/step             \n",
      "\n",
      "SCORE:                                                                  \n",
      "0.7240882641009391                                                      \n",
      " 40%|▍| 10/25 [14:52<22:22, 89.49s/trial, best loss: -0.7289470146530699"
     ]
    },
    {
     "name": "stderr",
     "output_type": "stream",
     "text": [
      "WARNING:absl:At this time, the v2.11+ optimizer `tf.keras.optimizers.Adam` runs slowly on M1/M2 Macs, please use the legacy Keras optimizer instead, located at `tf.keras.optimizers.legacy.Adam`.\n",
      "\n",
      "WARNING:absl:There is a known slowdown when using v2.11+ Keras optimizers on M1/M2 Macs. Falling back to the legacy Keras optimizer, i.e., `tf.keras.optimizers.legacy.Adam`.\n",
      "\n"
     ]
    },
    {
     "name": "stdout",
     "output_type": "stream",
     "text": [
      "   1/1628 [..............................] - ETA: 51s                   \n",
      " 125/1628 [=>............................] - ETA: 0s                    \n",
      " 257/1628 [===>..........................] - ETA: 0s                   \n",
      " 390/1628 [======>.......................] - ETA: 0s                   \n",
      " 522/1628 [========>.....................] - ETA: 0s                   \n",
      " 654/1628 [===========>..................] - ETA: 0s                   \n",
      " 782/1628 [=============>................] - ETA: 0s                   \n",
      " 908/1628 [===============>..............] - ETA: 0s                   \n",
      "1032/1628 [==================>...........] - ETA: 0s                   \n",
      "1159/1628 [====================>.........] - ETA: 0s                   \n",
      "1284/1628 [======================>.......] - ETA: 0s                   \n",
      "1409/1628 [========================>.....] - ETA: 0s                   \n",
      "1537/1628 [===========================>..] - ETA: 0s                   \n",
      "1628/1628 [==============================] - 1s 392us/step             \n",
      "\n",
      "SCORE:                                                                  \n",
      "0.0                                                                     \n",
      " 44%|▍| 11/25 [16:28<21:21, 91.50s/trial, best loss: -0.7289470146530699"
     ]
    },
    {
     "name": "stderr",
     "output_type": "stream",
     "text": [
      "WARNING:absl:At this time, the v2.11+ optimizer `tf.keras.optimizers.Adam` runs slowly on M1/M2 Macs, please use the legacy Keras optimizer instead, located at `tf.keras.optimizers.legacy.Adam`.\n",
      "\n",
      "WARNING:absl:There is a known slowdown when using v2.11+ Keras optimizers on M1/M2 Macs. Falling back to the legacy Keras optimizer, i.e., `tf.keras.optimizers.legacy.Adam`.\n",
      "\n"
     ]
    },
    {
     "name": "stdout",
     "output_type": "stream",
     "text": [
      "   1/1628 [..............................] - ETA: 50s                   \n",
      " 124/1628 [=>............................] - ETA: 0s                    \n",
      " 259/1628 [===>..........................] - ETA: 0s                   \n",
      " 392/1628 [======>.......................] - ETA: 0s                   \n",
      " 524/1628 [========>.....................] - ETA: 0s                   \n",
      " 655/1628 [===========>..................] - ETA: 0s                   \n",
      " 787/1628 [=============>................] - ETA: 0s                   \n",
      " 918/1628 [===============>..............] - ETA: 0s                   \n",
      "1044/1628 [==================>...........] - ETA: 0s                   \n",
      "1175/1628 [====================>.........] - ETA: 0s                   \n",
      "1308/1628 [=======================>......] - ETA: 0s                   \n",
      "1441/1628 [=========================>....] - ETA: 0s                   \n",
      "1574/1628 [============================>.] - ETA: 0s                   \n",
      "1628/1628 [==============================] - 1s 384us/step             \n",
      "\n",
      "SCORE:                                                                  \n",
      "0.7211883774077702                                                      \n",
      " 48%|▍| 12/25 [18:08<20:21, 93.96s/trial, best loss: -0.7289470146530699"
     ]
    },
    {
     "name": "stderr",
     "output_type": "stream",
     "text": [
      "WARNING:absl:At this time, the v2.11+ optimizer `tf.keras.optimizers.Adam` runs slowly on M1/M2 Macs, please use the legacy Keras optimizer instead, located at `tf.keras.optimizers.legacy.Adam`.\n",
      "\n",
      "WARNING:absl:There is a known slowdown when using v2.11+ Keras optimizers on M1/M2 Macs. Falling back to the legacy Keras optimizer, i.e., `tf.keras.optimizers.legacy.Adam`.\n",
      "\n"
     ]
    },
    {
     "name": "stdout",
     "output_type": "stream",
     "text": [
      "   1/1628 [..............................] - ETA: 49s                   \n",
      " 138/1628 [=>............................] - ETA: 0s                    \n",
      " 281/1628 [====>.........................] - ETA: 0s                   \n",
      " 427/1628 [======>.......................] - ETA: 0s                   \n",
      " 571/1628 [=========>....................] - ETA: 0s                   \n",
      " 714/1628 [============>.................] - ETA: 0s                   \n",
      " 857/1628 [==============>...............] - ETA: 0s                   \n",
      "1000/1628 [=================>............] - ETA: 0s                   \n",
      "1143/1628 [====================>.........] - ETA: 0s                   \n",
      "1288/1628 [======================>.......] - ETA: 0s                   \n",
      "1432/1628 [=========================>....] - ETA: 0s                   \n",
      "1576/1628 [============================>.] - ETA: 0s                   \n",
      "1628/1628 [==============================] - 1s 352us/step             \n",
      "\n",
      "SCORE:                                                                  \n",
      "0.6929192832862822                                                      \n",
      " 52%|▌| 13/25 [19:47<19:07, 95.65s/trial, best loss: -0.7289470146530699"
     ]
    },
    {
     "name": "stderr",
     "output_type": "stream",
     "text": [
      "WARNING:absl:At this time, the v2.11+ optimizer `tf.keras.optimizers.Adam` runs slowly on M1/M2 Macs, please use the legacy Keras optimizer instead, located at `tf.keras.optimizers.legacy.Adam`.\n",
      "\n",
      "WARNING:absl:There is a known slowdown when using v2.11+ Keras optimizers on M1/M2 Macs. Falling back to the legacy Keras optimizer, i.e., `tf.keras.optimizers.legacy.Adam`.\n",
      "\n"
     ]
    },
    {
     "name": "stdout",
     "output_type": "stream",
     "text": [
      "   1/1628 [..............................] - ETA: 47s                   \n",
      " 140/1628 [=>............................] - ETA: 0s                    \n",
      " 289/1628 [====>.........................] - ETA: 0s                   \n",
      " 437/1628 [=======>......................] - ETA: 0s                   \n",
      " 586/1628 [=========>....................] - ETA: 0s                   \n",
      " 735/1628 [============>.................] - ETA: 0s                   \n",
      " 884/1628 [===============>..............] - ETA: 0s                   \n",
      "1032/1628 [==================>...........] - ETA: 0s                   \n",
      "1181/1628 [====================>.........] - ETA: 0s                   \n",
      "1330/1628 [=======================>......] - ETA: 0s                   \n",
      "1478/1628 [==========================>...] - ETA: 0s                   \n",
      "1627/1628 [============================>.] - ETA: 0s                   \n",
      "1628/1628 [==============================] - 1s 341us/step             \n",
      "\n",
      "SCORE:                                                                  \n",
      "0.0                                                                     \n",
      " 56%|▌| 14/25 [21:17<17:12, 93.83s/trial, best loss: -0.7289470146530699"
     ]
    },
    {
     "name": "stderr",
     "output_type": "stream",
     "text": [
      "WARNING:absl:At this time, the v2.11+ optimizer `tf.keras.optimizers.Adam` runs slowly on M1/M2 Macs, please use the legacy Keras optimizer instead, located at `tf.keras.optimizers.legacy.Adam`.\n",
      "\n",
      "WARNING:absl:There is a known slowdown when using v2.11+ Keras optimizers on M1/M2 Macs. Falling back to the legacy Keras optimizer, i.e., `tf.keras.optimizers.legacy.Adam`.\n",
      "\n"
     ]
    },
    {
     "name": "stdout",
     "output_type": "stream",
     "text": [
      "   1/1628 [..............................] - ETA: 52s                   \n",
      " 132/1628 [=>............................] - ETA: 0s                    \n",
      " 273/1628 [====>.........................] - ETA: 0s                   \n",
      " 417/1628 [======>.......................] - ETA: 0s                   \n",
      " 561/1628 [=========>....................] - ETA: 0s                   \n",
      " 708/1628 [============>.................] - ETA: 0s                   \n",
      " 853/1628 [==============>...............] - ETA: 0s                   \n",
      " 997/1628 [=================>............] - ETA: 0s                   \n",
      "1140/1628 [====================>.........] - ETA: 0s                   \n",
      "1282/1628 [======================>.......] - ETA: 0s                   \n",
      "1411/1628 [=========================>....] - ETA: 0s                   \n",
      "1537/1628 [===========================>..] - ETA: 0s                   \n",
      "1628/1628 [==============================] - 1s 363us/step             \n",
      "\n",
      "SCORE:                                                                  \n",
      "0.20253115937854083                                                     \n",
      " 60%|▌| 15/25 [22:47<15:27, 92.76s/trial, best loss: -0.7289470146530699"
     ]
    },
    {
     "name": "stderr",
     "output_type": "stream",
     "text": [
      "WARNING:absl:At this time, the v2.11+ optimizer `tf.keras.optimizers.Adam` runs slowly on M1/M2 Macs, please use the legacy Keras optimizer instead, located at `tf.keras.optimizers.legacy.Adam`.\n",
      "\n",
      "WARNING:absl:There is a known slowdown when using v2.11+ Keras optimizers on M1/M2 Macs. Falling back to the legacy Keras optimizer, i.e., `tf.keras.optimizers.legacy.Adam`.\n",
      "\n"
     ]
    },
    {
     "name": "stdout",
     "output_type": "stream",
     "text": [
      "   1/1628 [..............................] - ETA: 53s                   \n",
      "  97/1628 [>.............................] - ETA: 0s                    \n",
      " 185/1628 [==>...........................] - ETA: 0s                   \n",
      " 201/1628 [==>...........................] - ETA: 1s                   \n",
      " 207/1628 [==>...........................] - ETA: 1s                   \n",
      " 230/1628 [===>..........................] - ETA: 1s                   \n",
      " 301/1628 [====>.........................] - ETA: 1s                   \n",
      " 399/1628 [======>.......................] - ETA: 1s                   \n",
      " 518/1628 [========>.....................] - ETA: 0s                   \n",
      " 639/1628 [==========>...................] - ETA: 0s                   \n",
      " 760/1628 [=============>................] - ETA: 0s                   \n",
      " 882/1628 [===============>..............] - ETA: 0s                   \n",
      "1005/1628 [=================>............] - ETA: 0s                   \n",
      "1130/1628 [===================>..........] - ETA: 0s                   \n",
      "1266/1628 [======================>.......] - ETA: 0s                   \n",
      "1405/1628 [========================>.....] - ETA: 0s                   \n",
      "1533/1628 [===========================>..] - ETA: 0s                   \n",
      "1628/1628 [==============================] - 1s 525us/step             \n",
      "\n",
      "SCORE:                                                                  \n",
      "0.6938603061204893                                                      \n",
      " 64%|▋| 16/25 [24:19<13:54, 92.68s/trial, best loss: -0.7289470146530699"
     ]
    },
    {
     "name": "stderr",
     "output_type": "stream",
     "text": [
      "WARNING:absl:At this time, the v2.11+ optimizer `tf.keras.optimizers.Adam` runs slowly on M1/M2 Macs, please use the legacy Keras optimizer instead, located at `tf.keras.optimizers.legacy.Adam`.\n",
      "\n",
      "WARNING:absl:There is a known slowdown when using v2.11+ Keras optimizers on M1/M2 Macs. Falling back to the legacy Keras optimizer, i.e., `tf.keras.optimizers.legacy.Adam`.\n",
      "\n"
     ]
    },
    {
     "name": "stdout",
     "output_type": "stream",
     "text": [
      "   1/1628 [..............................] - ETA: 58s                   \n",
      " 106/1628 [>.............................] - ETA: 0s                    \n",
      " 220/1628 [===>..........................] - ETA: 0s                   \n",
      " 333/1628 [=====>........................] - ETA: 0s                   \n",
      " 447/1628 [=======>......................] - ETA: 0s                   \n",
      " 560/1628 [=========>....................] - ETA: 0s                   \n",
      " 674/1628 [===========>..................] - ETA: 0s                   \n",
      " 787/1628 [=============>................] - ETA: 0s                   \n",
      " 903/1628 [===============>..............] - ETA: 0s                   \n",
      "1020/1628 [=================>............] - ETA: 0s                   \n",
      "1133/1628 [===================>..........] - ETA: 0s                   \n",
      "1236/1628 [=====================>........] - ETA: 0s                   \n",
      "1334/1628 [=======================>......] - ETA: 0s                   \n",
      "1434/1628 [=========================>....] - ETA: 0s                   \n",
      "1541/1628 [===========================>..] - ETA: 0s                   \n",
      "1628/1628 [==============================] - 1s 456us/step             \n",
      "\n",
      "SCORE:                                                                  \n",
      "0.0                                                                     \n",
      " 68%|▋| 17/25 [26:03<12:46, 95.84s/trial, best loss: -0.7289470146530699"
     ]
    },
    {
     "name": "stderr",
     "output_type": "stream",
     "text": [
      "WARNING:absl:At this time, the v2.11+ optimizer `tf.keras.optimizers.Adam` runs slowly on M1/M2 Macs, please use the legacy Keras optimizer instead, located at `tf.keras.optimizers.legacy.Adam`.\n",
      "\n",
      "WARNING:absl:There is a known slowdown when using v2.11+ Keras optimizers on M1/M2 Macs. Falling back to the legacy Keras optimizer, i.e., `tf.keras.optimizers.legacy.Adam`.\n",
      "\n"
     ]
    },
    {
     "name": "stdout",
     "output_type": "stream",
     "text": [
      "   1/1628 [..............................] - ETA: 1:07                  \n",
      "  96/1628 [>.............................] - ETA: 0s                   \n",
      " 203/1628 [==>...........................] - ETA: 0s                   \n",
      " 302/1628 [====>.........................] - ETA: 0s                   \n",
      " 410/1628 [======>.......................] - ETA: 0s                   \n",
      " 513/1628 [========>.....................] - ETA: 0s                   \n",
      " 618/1628 [==========>...................] - ETA: 0s                   \n",
      " 721/1628 [============>.................] - ETA: 0s                   \n",
      " 827/1628 [==============>...............] - ETA: 0s                   \n",
      " 940/1628 [================>.............] - ETA: 0s                   \n",
      "1051/1628 [==================>...........] - ETA: 0s                   \n",
      "1170/1628 [====================>.........] - ETA: 0s                   \n",
      "1292/1628 [======================>.......] - ETA: 0s                   \n",
      "1412/1628 [=========================>....] - ETA: 0s                   \n",
      "1527/1628 [===========================>..] - ETA: 0s                   \n",
      "1628/1628 [==============================] - 1s 459us/step             \n",
      "\n",
      "SCORE:                                                                  \n",
      "0.6816654183710703                                                      \n",
      " 72%|▋| 18/25 [27:53<11:40, 100.07s/trial, best loss: -0.728947014653069"
     ]
    },
    {
     "name": "stderr",
     "output_type": "stream",
     "text": [
      "WARNING:absl:At this time, the v2.11+ optimizer `tf.keras.optimizers.Adam` runs slowly on M1/M2 Macs, please use the legacy Keras optimizer instead, located at `tf.keras.optimizers.legacy.Adam`.\n",
      "\n",
      "WARNING:absl:There is a known slowdown when using v2.11+ Keras optimizers on M1/M2 Macs. Falling back to the legacy Keras optimizer, i.e., `tf.keras.optimizers.legacy.Adam`.\n",
      "\n"
     ]
    },
    {
     "name": "stdout",
     "output_type": "stream",
     "text": [
      "   1/1628 [..............................] - ETA: 39s                   \n",
      " 180/1628 [==>...........................] - ETA: 0s                    \n",
      " 376/1628 [=====>........................] - ETA: 0s                   \n",
      " 576/1628 [=========>....................] - ETA: 0s                   \n",
      " 776/1628 [=============>................] - ETA: 0s                   \n",
      " 977/1628 [=================>............] - ETA: 0s                   \n",
      "1174/1628 [====================>.........] - ETA: 0s                   \n",
      "1371/1628 [========================>.....] - ETA: 0s                   \n",
      "1571/1628 [===========================>..] - ETA: 0s                   \n",
      "1628/1628 [==============================] - 0s 256us/step             \n",
      "\n",
      "SCORE:                                                                  \n",
      "0.2055078642622573                                                      \n",
      " 76%|▊| 19/25 [30:27<11:38, 116.36s/trial, best loss: -0.728947014653069"
     ]
    },
    {
     "name": "stderr",
     "output_type": "stream",
     "text": [
      "WARNING:absl:At this time, the v2.11+ optimizer `tf.keras.optimizers.Adam` runs slowly on M1/M2 Macs, please use the legacy Keras optimizer instead, located at `tf.keras.optimizers.legacy.Adam`.\n",
      "\n",
      "WARNING:absl:There is a known slowdown when using v2.11+ Keras optimizers on M1/M2 Macs. Falling back to the legacy Keras optimizer, i.e., `tf.keras.optimizers.legacy.Adam`.\n",
      "\n"
     ]
    },
    {
     "name": "stdout",
     "output_type": "stream",
     "text": [
      "   1/1628 [..............................] - ETA: 36s                   \n",
      " 183/1628 [==>...........................] - ETA: 0s                    \n",
      " 381/1628 [======>.......................] - ETA: 0s                   \n",
      " 575/1628 [=========>....................] - ETA: 0s                   \n",
      " 770/1628 [=============>................] - ETA: 0s                   \n",
      " 962/1628 [================>.............] - ETA: 0s                   \n",
      "1157/1628 [====================>.........] - ETA: 0s                   \n",
      "1349/1628 [=======================>......] - ETA: 0s                   \n",
      "1542/1628 [===========================>..] - ETA: 0s                   \n",
      "1628/1628 [==============================] - 0s 261us/step             \n",
      "\n",
      "SCORE:                                                                  \n",
      "0.7268153098653761                                                      \n",
      " 80%|▊| 20/25 [31:33<08:26, 101.27s/trial, best loss: -0.728947014653069"
     ]
    },
    {
     "name": "stderr",
     "output_type": "stream",
     "text": [
      "WARNING:absl:At this time, the v2.11+ optimizer `tf.keras.optimizers.Adam` runs slowly on M1/M2 Macs, please use the legacy Keras optimizer instead, located at `tf.keras.optimizers.legacy.Adam`.\n",
      "\n",
      "WARNING:absl:There is a known slowdown when using v2.11+ Keras optimizers on M1/M2 Macs. Falling back to the legacy Keras optimizer, i.e., `tf.keras.optimizers.legacy.Adam`.\n",
      "\n"
     ]
    },
    {
     "name": "stdout",
     "output_type": "stream",
     "text": [
      "   1/1628 [..............................] - ETA: 1:12                  \n",
      "  86/1628 [>.............................] - ETA: 0s                   \n",
      " 179/1628 [==>...........................] - ETA: 0s                   \n",
      " 275/1628 [====>.........................] - ETA: 0s                   \n",
      " 372/1628 [=====>........................] - ETA: 0s                   \n",
      " 471/1628 [=======>......................] - ETA: 0s                   \n",
      " 567/1628 [=========>....................] - ETA: 0s                   \n",
      " 671/1628 [===========>..................] - ETA: 0s                   \n",
      " 788/1628 [=============>................] - ETA: 0s                   \n",
      " 903/1628 [===============>..............] - ETA: 0s                   \n",
      "1016/1628 [=================>............] - ETA: 0s                   \n",
      "1126/1628 [===================>..........] - ETA: 0s                   \n",
      "1232/1628 [=====================>........] - ETA: 0s                   \n",
      "1332/1628 [=======================>......] - ETA: 0s                   \n",
      "1436/1628 [=========================>....] - ETA: 0s                   \n",
      "1547/1628 [===========================>..] - ETA: 0s                   \n",
      "1628/1628 [==============================] - 1s 486us/step             \n",
      "\n",
      "SCORE:                                                                  \n",
      "0.7048068982735112                                                      \n",
      " 84%|▊| 21/25 [33:21<06:53, 103.43s/trial, best loss: -0.728947014653069"
     ]
    },
    {
     "name": "stderr",
     "output_type": "stream",
     "text": [
      "WARNING:absl:At this time, the v2.11+ optimizer `tf.keras.optimizers.Adam` runs slowly on M1/M2 Macs, please use the legacy Keras optimizer instead, located at `tf.keras.optimizers.legacy.Adam`.\n",
      "\n",
      "WARNING:absl:There is a known slowdown when using v2.11+ Keras optimizers on M1/M2 Macs. Falling back to the legacy Keras optimizer, i.e., `tf.keras.optimizers.legacy.Adam`.\n",
      "\n"
     ]
    },
    {
     "name": "stdout",
     "output_type": "stream",
     "text": [
      "   1/1628 [..............................] - ETA: 51s                   \n",
      " 128/1628 [=>............................] - ETA: 0s                    \n",
      " 262/1628 [===>..........................] - ETA: 0s                   \n",
      " 393/1628 [======>.......................] - ETA: 0s                   \n",
      " 527/1628 [========>.....................] - ETA: 0s                   \n",
      " 657/1628 [===========>..................] - ETA: 0s                   \n",
      " 782/1628 [=============>................] - ETA: 0s                   \n",
      " 916/1628 [===============>..............] - ETA: 0s                   \n",
      "1047/1628 [==================>...........] - ETA: 0s                   \n",
      "1180/1628 [====================>.........] - ETA: 0s                   \n",
      "1283/1628 [======================>.......] - ETA: 0s                   \n",
      "1328/1628 [=======================>......] - ETA: 0s                   \n",
      "1457/1628 [=========================>....] - ETA: 0s                   \n",
      "1588/1628 [============================>.] - ETA: 0s                   \n",
      "1628/1628 [==============================] - 1s 414us/step             \n",
      "\n",
      "SCORE:                                                                  \n",
      "0.7294847419869025                                                      \n",
      " 88%|▉| 22/25 [35:04<05:09, 103.19s/trial, best loss: -0.729484741986902"
     ]
    },
    {
     "name": "stderr",
     "output_type": "stream",
     "text": [
      "WARNING:absl:At this time, the v2.11+ optimizer `tf.keras.optimizers.Adam` runs slowly on M1/M2 Macs, please use the legacy Keras optimizer instead, located at `tf.keras.optimizers.legacy.Adam`.\n",
      "\n",
      "WARNING:absl:There is a known slowdown when using v2.11+ Keras optimizers on M1/M2 Macs. Falling back to the legacy Keras optimizer, i.e., `tf.keras.optimizers.legacy.Adam`.\n",
      "\n"
     ]
    },
    {
     "name": "stdout",
     "output_type": "stream",
     "text": [
      "   1/1628 [..............................] - ETA: 51s                   \n",
      " 126/1628 [=>............................] - ETA: 0s                    \n",
      " 256/1628 [===>..........................] - ETA: 0s                   \n",
      " 387/1628 [======>.......................] - ETA: 0s                   \n",
      " 516/1628 [========>.....................] - ETA: 0s                   \n",
      " 646/1628 [==========>...................] - ETA: 0s                   \n",
      " 776/1628 [=============>................] - ETA: 0s                   \n",
      " 909/1628 [===============>..............] - ETA: 0s                   \n",
      "1015/1628 [=================>............] - ETA: 0s                   \n",
      "1036/1628 [==================>...........] - ETA: 0s                   \n",
      "1144/1628 [====================>.........] - ETA: 0s                   \n",
      "1271/1628 [======================>.......] - ETA: 0s                   \n",
      "1399/1628 [========================>.....] - ETA: 0s                   \n",
      "1528/1628 [===========================>..] - ETA: 0s                   \n",
      "1628/1628 [==============================] - 1s 427us/step             \n",
      "\n",
      "SCORE:                                                                  \n",
      "0.7255862188166158                                                      \n",
      " 92%|▉| 23/25 [36:40<03:21, 100.92s/trial, best loss: -0.729484741986902"
     ]
    },
    {
     "name": "stderr",
     "output_type": "stream",
     "text": [
      "WARNING:absl:At this time, the v2.11+ optimizer `tf.keras.optimizers.Adam` runs slowly on M1/M2 Macs, please use the legacy Keras optimizer instead, located at `tf.keras.optimizers.legacy.Adam`.\n",
      "\n",
      "WARNING:absl:There is a known slowdown when using v2.11+ Keras optimizers on M1/M2 Macs. Falling back to the legacy Keras optimizer, i.e., `tf.keras.optimizers.legacy.Adam`.\n",
      "\n"
     ]
    },
    {
     "name": "stdout",
     "output_type": "stream",
     "text": [
      "   1/1628 [..............................] - ETA: 1:02                  \n",
      " 126/1628 [=>............................] - ETA: 0s                   \n",
      " 258/1628 [===>..........................] - ETA: 0s                   \n",
      " 390/1628 [======>.......................] - ETA: 0s                   \n",
      " 522/1628 [========>.....................] - ETA: 0s                   \n",
      " 655/1628 [===========>..................] - ETA: 0s                   \n",
      " 786/1628 [=============>................] - ETA: 0s                   \n",
      " 919/1628 [===============>..............] - ETA: 0s                   \n",
      "1051/1628 [==================>...........] - ETA: 0s                   \n",
      "1185/1628 [====================>.........] - ETA: 0s                   \n",
      "1318/1628 [=======================>......] - ETA: 0s                   \n",
      "1452/1628 [=========================>....] - ETA: 0s                   \n",
      "1585/1628 [============================>.] - ETA: 0s                   \n",
      "1628/1628 [==============================] - 1s 382us/step             \n",
      "\n",
      "SCORE:                                                                  \n",
      "0.7219373547656085                                                      \n",
      " 96%|▉| 24/25 [38:22<01:41, 101.39s/trial, best loss: -0.729484741986902"
     ]
    },
    {
     "name": "stderr",
     "output_type": "stream",
     "text": [
      "WARNING:absl:At this time, the v2.11+ optimizer `tf.keras.optimizers.Adam` runs slowly on M1/M2 Macs, please use the legacy Keras optimizer instead, located at `tf.keras.optimizers.legacy.Adam`.\n",
      "\n",
      "WARNING:absl:There is a known slowdown when using v2.11+ Keras optimizers on M1/M2 Macs. Falling back to the legacy Keras optimizer, i.e., `tf.keras.optimizers.legacy.Adam`.\n",
      "\n"
     ]
    },
    {
     "name": "stdout",
     "output_type": "stream",
     "text": [
      "   1/1628 [..............................] - ETA: 55s                   \n",
      " 120/1628 [=>............................] - ETA: 0s                    \n",
      " 253/1628 [===>..........................] - ETA: 0s                   \n",
      " 389/1628 [======>.......................] - ETA: 0s                   \n",
      " 523/1628 [========>.....................] - ETA: 0s                   \n",
      " 657/1628 [===========>..................] - ETA: 0s                   \n",
      " 789/1628 [=============>................] - ETA: 0s                   \n",
      " 923/1628 [================>.............] - ETA: 0s                   \n",
      "1056/1628 [==================>...........] - ETA: 0s                   \n",
      "1187/1628 [====================>.........] - ETA: 0s                   \n",
      "1321/1628 [=======================>......] - ETA: 0s                   \n",
      "1453/1628 [=========================>....] - ETA: 0s                   \n",
      "1585/1628 [============================>.] - ETA: 0s                   \n",
      "1628/1628 [==============================] - 1s 382us/step             \n",
      "\n",
      "SCORE:                                                                  \n",
      "0.0                                                                     \n",
      "100%|█| 25/25 [40:03<00:00, 96.15s/trial, best loss: -0.7294847419869025\n"
     ]
    }
   ],
   "source": [
    "trials = Trials()\n",
    "\n",
    "best_hyperparams = fmin(fn = objective,\n",
    "                        space = space,\n",
    "                        algo = tpe.suggest,\n",
    "                        max_evals = 25,\n",
    "                        trials = trials)"
   ]
  },
  {
   "cell_type": "code",
   "execution_count": 23,
   "metadata": {},
   "outputs": [
    {
     "data": {
      "text/plain": [
       "{'beta_1': 0.6012115429597784,\n",
       " 'beta_2': 0.8342016359854416,\n",
       " 'dropout': 0.00956185724776542,\n",
       " 'ema_momentum': 0.9425072341735632,\n",
       " 'epsilon': 1.5092638258743137e-07,\n",
       " 'learning_rate': 0.001234077866108187}"
      ]
     },
     "execution_count": 23,
     "metadata": {},
     "output_type": "execute_result"
    }
   ],
   "source": [
    "best"
   ]
  },
  {
   "cell_type": "code",
   "execution_count": 15,
   "metadata": {},
   "outputs": [
    {
     "data": {
      "text/plain": [
       "{'beta_1': 0.5054678031646203,\n",
       " 'beta_2': 0.9483840596795294,\n",
       " 'dropout': 0.014560133610613937,\n",
       " 'ema_momentum': 0.9279838218799413,\n",
       " 'epsilon': 5.334404280334826e-07,\n",
       " 'learning_rate': 0.0022920443441381737}"
      ]
     },
     "execution_count": 15,
     "metadata": {},
     "output_type": "execute_result"
    }
   ],
   "source": [
    "best_hyperparams"
   ]
  },
  {
   "cell_type": "code",
   "execution_count": 37,
   "metadata": {},
   "outputs": [
    {
     "name": "stderr",
     "output_type": "stream",
     "text": [
      "WARNING:absl:At this time, the v2.11+ optimizer `tf.keras.optimizers.Adam` runs slowly on M1/M2 Macs, please use the legacy Keras optimizer instead, located at `tf.keras.optimizers.legacy.Adam`.\n",
      "\n",
      "WARNING:absl:There is a known slowdown when using v2.11+ Keras optimizers on M1/M2 Macs. Falling back to the legacy Keras optimizer, i.e., `tf.keras.optimizers.legacy.Adam`.\n",
      "\n"
     ]
    },
    {
     "name": "stdout",
     "output_type": "stream",
     "text": [
      "1628/1628 [==============================] - 0s 201us/step\n"
     ]
    }
   ],
   "source": [
    "NN_model = Sequential([\n",
    "            Dense(128, activation='relu', input_dim=24),\n",
    "                Dropout(best['dropout']),\n",
    "            Dense(64, activation='relu'),\n",
    "                #Dropout(space['dropout']),\n",
    "            Dense(32, activation='relu'),\n",
    "                #Dropout(space['dropout']),\n",
    "            Dense(3, activation='softmax')\n",
    "            ])\n",
    "\n",
    "optimizer = Adam(learning_rate=best['learning_rate'], beta_1=best['beta_1'], beta_2=best['beta_2'], epsilon=best['epsilon'], ema_momentum=best['ema_momentum'])\n",
    "NN_model.compile(loss='categorical_crossentropy', optimizer=optimizer, metrics=['accuracy'])\n",
    "\n",
    "history = NN_model.fit(\n",
    "              x=X_train,\n",
    "              y=y_train,\n",
    "              batch_size=512,\n",
    "              epochs=130,\n",
    "              validation_data=(X_test, y_test),\n",
    "              #callbacks=[checkpoint],\n",
    "              verbose=0\n",
    "            )\n",
    "\n",
    "y_pred = NN_model.predict(X_test)"
   ]
  },
  {
   "cell_type": "code",
   "execution_count": 17,
   "metadata": {},
   "outputs": [
    {
     "name": "stderr",
     "output_type": "stream",
     "text": [
      "WARNING:absl:At this time, the v2.11+ optimizer `tf.keras.optimizers.Adam` runs slowly on M1/M2 Macs, please use the legacy Keras optimizer instead, located at `tf.keras.optimizers.legacy.Adam`.\n",
      "\n",
      "WARNING:absl:There is a known slowdown when using v2.11+ Keras optimizers on M1/M2 Macs. Falling back to the legacy Keras optimizer, i.e., `tf.keras.optimizers.legacy.Adam`.\n",
      "\n"
     ]
    },
    {
     "name": "stdout",
     "output_type": "stream",
     "text": [
      "1628/1628 [==============================] - 1s 453us/step\n"
     ]
    }
   ],
   "source": [
    "NN_model = Sequential([\n",
    "            Dense(128, activation='relu', input_dim=24),\n",
    "                Dropout(best_hyperparams['dropout']),\n",
    "            Dense(64, activation='relu'),\n",
    "                #Dropout(space['dropout']),\n",
    "            Dense(32, activation='relu'),\n",
    "                #Dropout(space['dropout']),\n",
    "            Dense(3, activation='softmax')\n",
    "            ])\n",
    "\n",
    "optimizer = Adam(learning_rate=best_hyperparams['learning_rate'], beta_1=best_hyperparams['beta_1'], beta_2=best_hyperparams['beta_2'], epsilon=best_hyperparams['epsilon'], ema_momentum=best_hyperparams['ema_momentum'])\n",
    "NN_model.compile(loss='categorical_crossentropy', optimizer=optimizer, metrics=['accuracy'])\n",
    "\n",
    "history = NN_model.fit(\n",
    "              x=X_train,\n",
    "              y=y_train,\n",
    "              batch_size=512,\n",
    "              epochs=65,\n",
    "              validation_data=(X_test, y_test),\n",
    "              #callbacks=[checkpoint],\n",
    "              verbose=0\n",
    "            )\n",
    "\n",
    "y_pred = NN_model.predict(X_test)"
   ]
  },
  {
   "cell_type": "code",
   "execution_count": 38,
   "metadata": {},
   "outputs": [
    {
     "data": {
      "text/plain": [
       "dict_keys(['loss', 'accuracy', 'val_loss', 'val_accuracy'])"
      ]
     },
     "execution_count": 38,
     "metadata": {},
     "output_type": "execute_result"
    }
   ],
   "source": [
    "history.history.keys()"
   ]
  },
  {
   "cell_type": "code",
   "execution_count": 41,
   "metadata": {},
   "outputs": [
    {
     "data": {
      "text/plain": [
       "(0.0, 2.0)"
      ]
     },
     "execution_count": 41,
     "metadata": {},
     "output_type": "execute_result"
    },
    {
     "data": {
      "image/png": "[encoded data removed]",
      "text/plain": [
       "<Figure size 640x480 with 1 Axes>"
      ]
     },
     "metadata": {},
     "output_type": "display_data"
    }
   ],
   "source": [
    "plt.plot(history.history['loss'],label = 'train loss')\n",
    "plt.plot(history.history['val_loss'],label = 'test loss')\n",
    "plt.title('NN training loss curve')\n",
    "plt.legend()\n",
    "plt.ylim(0,2)"
   ]
  },
  {
   "cell_type": "code",
   "execution_count": 42,
   "metadata": {},
   "outputs": [
    {
     "data": {
      "text/plain": [
       "<matplotlib.legend.Legend at 0x3006077f0>"
      ]
     },
     "execution_count": 42,
     "metadata": {},
     "output_type": "execute_result"
    },
    {
     "data": {
      "image/png": "[encoded data removed]",
      "text/plain": [
       "<Figure size 640x480 with 1 Axes>"
      ]
     },
     "metadata": {},
     "output_type": "display_data"
    }
   ],
   "source": [
    "plt.plot(history.history['accuracy'], label = 'train accuracy')\n",
    "plt.plot(history.history['val_accuracy'], label = 'test accuracy')\n",
    "plt.title('NN training accuracy curve')\n",
    "plt.legend()"
   ]
  },
  {
   "cell_type": "code",
   "execution_count": 96,
   "metadata": {},
   "outputs": [
    {
     "name": "stdout",
     "output_type": "stream",
     "text": [
      "1628/1628 [==============================] - 7s 4ms/step\n"
     ]
    }
   ],
   "source": [
    "y_pred = NN_model.predict(X_test)"
   ]
  },
  {
   "cell_type": "code",
   "execution_count": 97,
   "metadata": {},
   "outputs": [
    {
     "data": {
      "text/plain": [
       "(52071, 3)"
      ]
     },
     "execution_count": 97,
     "metadata": {},
     "output_type": "execute_result"
    }
   ],
   "source": [
    "y_pred.shape"
   ]
  },
  {
   "cell_type": "code",
   "execution_count": 98,
   "metadata": {},
   "outputs": [
    {
     "data": {
      "text/plain": [
       "array([0.38784254, 0.38291648, 0.22924091], dtype=float32)"
      ]
     },
     "execution_count": 98,
     "metadata": {},
     "output_type": "execute_result"
    }
   ],
   "source": [
    "y_pred[0]"
   ]
  },
  {
   "cell_type": "code",
   "execution_count": 27,
   "metadata": {},
   "outputs": [],
   "source": [
    "y_pred = np.argmax(y_pred,axis=1)"
   ]
  },
  {
   "cell_type": "code",
   "execution_count": 100,
   "metadata": {},
   "outputs": [
    {
     "data": {
      "text/plain": [
       "array([0, 0, 0, ..., 0, 0, 0])"
      ]
     },
     "execution_count": 100,
     "metadata": {},
     "output_type": "execute_result"
    }
   ],
   "source": [
    "y_pred"
   ]
  },
  {
   "cell_type": "code",
   "execution_count": 28,
   "metadata": {},
   "outputs": [],
   "source": [
    "y_test = np.argmax(y_test,axis=1)"
   ]
  },
  {
   "cell_type": "code",
   "execution_count": 43,
   "metadata": {},
   "outputs": [
    {
     "data": {
      "text/plain": [
       "array([[0., 0., 1.],\n",
       "       [1., 0., 0.],\n",
       "       [1., 0., 0.],\n",
       "       ...,\n",
       "       [0., 1., 0.],\n",
       "       [1., 0., 0.],\n",
       "       [1., 0., 0.]], dtype=float32)"
      ]
     },
     "execution_count": 43,
     "metadata": {},
     "output_type": "execute_result"
    }
   ],
   "source": [
    "y_test"
   ]
  },
  {
   "cell_type": "code",
   "execution_count": 29,
   "metadata": {},
   "outputs": [
    {
     "data": {
      "image/png": "[encoded data removed]",
      "text/plain": [
       "<Figure size 3000x1000 with 3 Axes>"
      ]
     },
     "metadata": {},
     "output_type": "display_data"
    }
   ],
   "source": [
    "bins = [-0.25, 0.75, 1.75, 2.75] \n",
    "fig, ax = plt.subplots(1,3, figsize = (30,10))\n",
    "for i, label in enumerate(range(3)):\n",
    "    test_label = y_test[y_test==label]\n",
    "    pred_label = y_pred[y_test==label]\n",
    "    true_label = pred_label[pred_label == test_label]\n",
    "    false_label= pred_label[pred_label != test_label]\n",
    "    #print(len(false_label))\n",
    "    ax[i].hist(true_label , bins = bins, histtype = 'barstacked', alpha=0.5, label='True Label ' + str(label), align = 'mid', width = 0.5, color = 'green')\n",
    "    ax[i].hist(false_label, bins = bins, histtype = 'barstacked', alpha=0.5, label='False Label ' + str(label), align = 'mid', width = 0.5, color = 'red')\n",
    "    #ax[i] = plt.xlabel('label')\n",
    "    ax[i].set_title(f'Data with true label {i}, Accuracy:{accuracy_score(test_label, pred_label):.3f}')\n",
    "    ax[i].set_xlabel(xlabel = f'Predicted label')\n",
    "    ax[i].set_ylabel('Count')\n",
    "    ax[i].legend()\n",
    "    ax[i].set_xticks(range(3))"
   ]
  },
  {
   "cell_type": "code",
   "execution_count": 47,
   "metadata": {},
   "outputs": [
    {
     "name": "stdout",
     "output_type": "stream",
     "text": [
      "1628/1628 [==============================] - 1s 313us/step\n",
      "1628/1628 [==============================] - 1s 359us/step\n"
     ]
    }
   ],
   "source": [
    "y_pred = NN_model.predict(X_val)\n",
    "y_pred_train = (NN_model.predict(X_test))"
   ]
  },
  {
   "cell_type": "code",
   "execution_count": 49,
   "metadata": {},
   "outputs": [],
   "source": [
    "y_pred = np.argmax(y_pred,axis=1)\n",
    "y_pred_train = np.argmax(y_pred_train,axis=1)"
   ]
  },
  {
   "cell_type": "code",
   "execution_count": 53,
   "metadata": {},
   "outputs": [
    {
     "data": {
      "text/plain": [
       "array([1, 1, 0, ..., 1, 0, 0])"
      ]
     },
     "execution_count": 53,
     "metadata": {},
     "output_type": "execute_result"
    }
   ],
   "source": [
    "y_pred"
   ]
  },
  {
   "cell_type": "code",
   "execution_count": 52,
   "metadata": {},
   "outputs": [
    {
     "ename": "IndexError",
     "evalue": "too many indices for array: array is 1-dimensional, but 2 were indexed",
     "output_type": "error",
     "traceback": [
      "\u001b[0;31m---------------------------------------------------------------------------\u001b[0m",
      "\u001b[0;31mIndexError\u001b[0m                                Traceback (most recent call last)",
      "Cell \u001b[0;32mIn[52], line 6\u001b[0m\n\u001b[1;32m      4\u001b[0m \u001b[38;5;28;01mfor\u001b[39;00m i, label \u001b[38;5;129;01min\u001b[39;00m \u001b[38;5;28menumerate\u001b[39m(\u001b[38;5;28mrange\u001b[39m(\u001b[38;5;241m3\u001b[39m)):\n\u001b[1;32m      5\u001b[0m     test_label \u001b[38;5;241m=\u001b[39m y_val[y_val\u001b[38;5;241m==\u001b[39mlabel]\n\u001b[0;32m----> 6\u001b[0m     pred_label \u001b[38;5;241m=\u001b[39m \u001b[43my_pred\u001b[49m\u001b[43m[\u001b[49m\u001b[43my_val\u001b[49m\u001b[38;5;241;43m==\u001b[39;49m\u001b[43mlabel\u001b[49m\u001b[43m]\u001b[49m\n\u001b[1;32m      7\u001b[0m     true_label \u001b[38;5;241m=\u001b[39m pred_label[pred_label \u001b[38;5;241m==\u001b[39m test_label]\n\u001b[1;32m      8\u001b[0m     false_label\u001b[38;5;241m=\u001b[39m pred_label[pred_label \u001b[38;5;241m!=\u001b[39m test_label]\n",
      "\u001b[0;31mIndexError\u001b[0m: too many indices for array: array is 1-dimensional, but 2 were indexed"
     ]
    },
    {
     "data": {
      "image/png": "[encoded data removed]",
      "text/plain": [
       "<Figure size 3000x1000 with 3 Axes>"
      ]
     },
     "metadata": {},
     "output_type": "display_data"
    }
   ],
   "source": [
    "bins = [-0.3, 0.7, 1.7, 2.7] \n",
    "bins2 = [0, 1, 2, 3] \n",
    "fig, ax = plt.subplots(1,3, figsize = (30,10))\n",
    "for i, label in enumerate(range(3)):\n",
    "    test_label = y_val[y_val==label]\n",
    "    pred_label = y_pred[y_val==label]\n",
    "    true_label = pred_label[pred_label == test_label]\n",
    "    false_label= pred_label[pred_label != test_label]\n",
    "    \n",
    "    test_label_t = y_train[y_train==label]\n",
    "    pred_label_t = y_pred_train[y_train==label]\n",
    "    true_label_t = pred_label_t[pred_label_t == test_label_t]\n",
    "    false_label_t= pred_label_t[pred_label_t != test_label_t]\n",
    "    #print(len(false_label))\n",
    "    ax[i].hist(true_label , bins = bins, histtype = 'barstacked', alpha=0.5, label='True Label val ' + str(label), align = 'mid', width = 0.3, color = 'green')\n",
    "    ax[i].hist(true_label_t[0:int(round(len(true_label_t)/3,0))] , bins = bins2, histtype = 'barstacked', alpha=0.5, label='True Label train ' + str(label), align = 'mid', width = 0.3, color = 'blue') \n",
    "    ax[i].hist(false_label, bins = bins, histtype = 'barstacked', alpha=0.5, label='False Label val ' + str(label), align = 'mid', width = 0.3, color = 'red')\n",
    "    ax[i].hist(false_label_t[0:int(round(len(false_label_t)/3,0))], bins = bins2, histtype = 'barstacked', alpha=0.5, label='False Label train ' + str(label), align = 'mid', width = 0.3, color = 'orange')\n",
    "    #ax[i] = plt.xlabel('label')\n",
    "    ax[i].set_title(f' XGB, Data with true label {i},Val Accuracy:{accuracy_score(test_label, pred_label):.3f},Train Accuracy:{accuracy_score(test_label_t, pred_label_t):.3f}')\n",
    "    ax[i].set_xlabel(xlabel = f'Predicted label')\n",
    "    ax[i].set_ylabel('Count normalised to validation')\n",
    "    ax[i].legend()\n",
    "    ax[i].set_xticks(range(3))"
   ]
  },
  {
   "cell_type": "code",
   "execution_count": null,
   "metadata": {},
   "outputs": [],
   "source": []
  }
 ],
 "metadata": {
  "kernelspec": {
   "display_name": "Python 3 (ipykernel)",
   "language": "python",
   "name": "python3"
  },
  "language_info": {
   "codemirror_mode": {
    "name": "ipython",
    "version": 3
   },
   "file_extension": ".py",
   "mimetype": "text/x-python",
   "name": "python",
   "nbconvert_exporter": "python",
   "pygments_lexer": "ipython3",
   "version": "3.10.5"
  }
 },
 "nbformat": 4,
 "nbformat_minor": 2
}
