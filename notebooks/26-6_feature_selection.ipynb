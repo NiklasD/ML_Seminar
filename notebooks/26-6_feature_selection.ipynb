{
 "cells": [
  {
   "cell_type": "code",
   "execution_count": 4,
   "id": "5c9be50d",
   "metadata": {},
   "outputs": [],
   "source": [
    "# import pathlib\n",
    "#import pickle\n",
    "\n",
    "import matplotlib.pyplot as plt\n",
    "import numpy as np\n",
    "import pandas as pd\n",
    "#import re\n",
    "#import random\n",
    "#from sklearn import tree\n",
    "from sklearn.model_selection import train_test_split\n",
    "from sklearn.inspection import permutation_importance\n",
    "from sklearn.metrics import confusion_matrix, classification_report, ConfusionMatrixDisplay, roc_auc_score\n",
    "\n",
    "import xgboost as xgb\n",
    "from sklearn.metrics import auc, accuracy_score, mean_squared_error\n",
    "from sklearn.model_selection import cross_val_score, GridSearchCV, KFold, RandomizedSearchCV\n",
    "#from string import ascii_letters\n",
    "import seaborn as sns\n",
    "import h5py as h5\n",
    "\n",
    "#from string import ascii_letters"
   ]
  },
  {
   "cell_type": "code",
   "execution_count": 5,
   "id": "ae7f384c",
   "metadata": {},
   "outputs": [],
   "source": [
    "def file_to_pd(filename, label):\n",
    "    hdf5_file = h5.File(\"../h5/scalar_\"+filename, \"r\")\n",
    "    dataset = hdf5_file[\"vector_data\"]\n",
    "    df = pd.DataFrame()\n",
    "    for i, name in enumerate([\"met_et\",\"jet_n\",\"lep_n\",\"jet_m\",\"alljet_n\"]):\n",
    "        df[name] = pd.Series(np.ravel(dataset[i]))\n",
    "    hdf5_file = h5.File(\"../h5/vector_\"+filename, \"r\")\n",
    "    dataset = hdf5_file[\"vector_data\"]\n",
    "    for n, name in enumerate([\"lep_pt\", \"lep_eta\", \"lep_phi\", \"lep_E\", \"lep_charge\", \"lep_ptcone30\", \"jet_pt\", \"jet_eta\", \"jet_phi\", \"jet_E\"]):\n",
    "        for i in range(dataset.shape[2]):\n",
    "            df[name+'_'+str(i)] = pd.Series(dataset[n,:,i])\n",
    "    df[\"label\"] = pd.Series(np.ones(dataset.shape[1])*label)\n",
    "    return df"
   ]
  },
  {
   "cell_type": "code",
   "execution_count": 24,
   "id": "6916b13c",
   "metadata": {},
   "outputs": [],
   "source": [
    "df_gg_4l  = file_to_pd(\"ggH_ZZ4l.h5\",0)\n",
    "df_VBF_4l = file_to_pd(\"VBFH_ZZ4l.h5\",0)\n",
    "df_gg_2l  = file_to_pd(\"ggH_WW2l2nu.h5\",1)\n",
    "df_VBF_2l = file_to_pd(\"VBFH_WW2l2nu.h5\",1)\n",
    "df_400    = file_to_pd(\"Z400.h5\",2)\n",
    "df_500    = file_to_pd(\"Z500.h5\",2)\n",
    "df_750    = file_to_pd(\"Z750.h5\",2)\n",
    "df_1000   = file_to_pd(\"Z1000.h5\",2)\n",
    "df_1250   = file_to_pd(\"Z1250.h5\",2)\n",
    "df = pd.concat([df_gg_4l, df_VBF_4l, df_gg_2l, df_VBF_2l, df_400,df_500, df_750, df_1000, df_1250],ignore_index=True)\n",
    "df['label'] = df['label'].astype(int)\n",
    "features = list(df)[:-1]"
   ]
  },
  {
   "cell_type": "code",
   "execution_count": 25,
   "id": "a08a7a8d",
   "metadata": {},
   "outputs": [],
   "source": [
    " X_train, X_test, y_train, y_test = train_test_split( df[features], df['label'], test_size=0.1, random_state=42)"
   ]
  },
  {
   "cell_type": "code",
   "execution_count": 26,
   "id": "9dafa84c",
   "metadata": {},
   "outputs": [],
   "source": [
    "xgb_model = xgb.XGBClassifier()         \n",
    "xgb_model.fit(X_train[features],y_train)\n",
    "y_pred = xgb_model.predict(X_test[features])\n",
    "acc = accuracy_score( y_test,y_pred)\n",
    "perm_importance = permutation_importance(xgb_model, X_test[features], y_test).importances_mean\n",
    "sort = np.argsort(perm_importance)\n",
    "sorted_features = np.take_along_axis(np.array(features), sort, axis=0)[::-1]\n",
    "height = perm_importance[sort][::-1]\n",
    "sorted_features\n",
    "plt.bar(sorted_features,height)\n",
    "plt.xticks(rotation = 90)"
   ]
  },
  {
   "cell_type": "code",
   "execution_count": 36,
   "id": "0f01efa0",
   "metadata": {},
   "outputs": [
    {
     "ename": "ValueError",
     "evalue": "shape mismatch: objects cannot be broadcast to a single shape.  Mismatch is between arg 0 with shape (55,) and arg 1 with shape (25,).",
     "output_type": "error",
     "traceback": [
      "\u001b[0;31m---------------------------------------------------------------------------\u001b[0m",
      "\u001b[0;31mValueError\u001b[0m                                Traceback (most recent call last)",
      "Cell \u001b[0;32mIn[36], line 10\u001b[0m\n\u001b[1;32m      8\u001b[0m height \u001b[38;5;241m=\u001b[39m perm_importance[sort][::\u001b[38;5;241m-\u001b[39m\u001b[38;5;241m1\u001b[39m]\n\u001b[1;32m      9\u001b[0m sorted_features\n\u001b[0;32m---> 10\u001b[0m \u001b[43mplt\u001b[49m\u001b[38;5;241;43m.\u001b[39;49m\u001b[43mbar\u001b[49m\u001b[43m(\u001b[49m\u001b[43msorted_features\u001b[49m\u001b[43m,\u001b[49m\u001b[43mheight\u001b[49m\u001b[43m[\u001b[49m\u001b[43m:\u001b[49m\u001b[38;5;241;43m-\u001b[39;49m\u001b[38;5;241;43m30\u001b[39;49m\u001b[43m]\u001b[49m\u001b[43m)\u001b[49m\n\u001b[1;32m     11\u001b[0m plt\u001b[38;5;241m.\u001b[39mxticks(rotation \u001b[38;5;241m=\u001b[39m \u001b[38;5;241m90\u001b[39m)\n",
      "File \u001b[0;32m~/Documents/Niklas/ML_Seminar/lib/python3.10/site-packages/matplotlib/pyplot.py:2439\u001b[0m, in \u001b[0;36mbar\u001b[0;34m(x, height, width, bottom, align, data, **kwargs)\u001b[0m\n\u001b[1;32m   2435\u001b[0m \u001b[38;5;129m@_copy_docstring_and_deprecators\u001b[39m(Axes\u001b[38;5;241m.\u001b[39mbar)\n\u001b[1;32m   2436\u001b[0m \u001b[38;5;28;01mdef\u001b[39;00m \u001b[38;5;21mbar\u001b[39m(\n\u001b[1;32m   2437\u001b[0m         x, height, width\u001b[38;5;241m=\u001b[39m\u001b[38;5;241m0.8\u001b[39m, bottom\u001b[38;5;241m=\u001b[39m\u001b[38;5;28;01mNone\u001b[39;00m, \u001b[38;5;241m*\u001b[39m, align\u001b[38;5;241m=\u001b[39m\u001b[38;5;124m'\u001b[39m\u001b[38;5;124mcenter\u001b[39m\u001b[38;5;124m'\u001b[39m,\n\u001b[1;32m   2438\u001b[0m         data\u001b[38;5;241m=\u001b[39m\u001b[38;5;28;01mNone\u001b[39;00m, \u001b[38;5;241m*\u001b[39m\u001b[38;5;241m*\u001b[39mkwargs):\n\u001b[0;32m-> 2439\u001b[0m     \u001b[38;5;28;01mreturn\u001b[39;00m \u001b[43mgca\u001b[49m\u001b[43m(\u001b[49m\u001b[43m)\u001b[49m\u001b[38;5;241;43m.\u001b[39;49m\u001b[43mbar\u001b[49m\u001b[43m(\u001b[49m\n\u001b[1;32m   2440\u001b[0m \u001b[43m        \u001b[49m\u001b[43mx\u001b[49m\u001b[43m,\u001b[49m\u001b[43m \u001b[49m\u001b[43mheight\u001b[49m\u001b[43m,\u001b[49m\u001b[43m \u001b[49m\u001b[43mwidth\u001b[49m\u001b[38;5;241;43m=\u001b[39;49m\u001b[43mwidth\u001b[49m\u001b[43m,\u001b[49m\u001b[43m \u001b[49m\u001b[43mbottom\u001b[49m\u001b[38;5;241;43m=\u001b[39;49m\u001b[43mbottom\u001b[49m\u001b[43m,\u001b[49m\u001b[43m \u001b[49m\u001b[43malign\u001b[49m\u001b[38;5;241;43m=\u001b[39;49m\u001b[43malign\u001b[49m\u001b[43m,\u001b[49m\n\u001b[1;32m   2441\u001b[0m \u001b[43m        \u001b[49m\u001b[38;5;241;43m*\u001b[39;49m\u001b[38;5;241;43m*\u001b[39;49m\u001b[43m(\u001b[49m\u001b[43m{\u001b[49m\u001b[38;5;124;43m\"\u001b[39;49m\u001b[38;5;124;43mdata\u001b[39;49m\u001b[38;5;124;43m\"\u001b[39;49m\u001b[43m:\u001b[49m\u001b[43m \u001b[49m\u001b[43mdata\u001b[49m\u001b[43m}\u001b[49m\u001b[43m \u001b[49m\u001b[38;5;28;43;01mif\u001b[39;49;00m\u001b[43m \u001b[49m\u001b[43mdata\u001b[49m\u001b[43m \u001b[49m\u001b[38;5;129;43;01mis\u001b[39;49;00m\u001b[43m \u001b[49m\u001b[38;5;129;43;01mnot\u001b[39;49;00m\u001b[43m \u001b[49m\u001b[38;5;28;43;01mNone\u001b[39;49;00m\u001b[43m \u001b[49m\u001b[38;5;28;43;01melse\u001b[39;49;00m\u001b[43m \u001b[49m\u001b[43m{\u001b[49m\u001b[43m}\u001b[49m\u001b[43m)\u001b[49m\u001b[43m,\u001b[49m\u001b[43m \u001b[49m\u001b[38;5;241;43m*\u001b[39;49m\u001b[38;5;241;43m*\u001b[39;49m\u001b[43mkwargs\u001b[49m\u001b[43m)\u001b[49m\n",
      "File \u001b[0;32m~/Documents/Niklas/ML_Seminar/lib/python3.10/site-packages/matplotlib/__init__.py:1442\u001b[0m, in \u001b[0;36m_preprocess_data.<locals>.inner\u001b[0;34m(ax, data, *args, **kwargs)\u001b[0m\n\u001b[1;32m   1439\u001b[0m \u001b[38;5;129m@functools\u001b[39m\u001b[38;5;241m.\u001b[39mwraps(func)\n\u001b[1;32m   1440\u001b[0m \u001b[38;5;28;01mdef\u001b[39;00m \u001b[38;5;21minner\u001b[39m(ax, \u001b[38;5;241m*\u001b[39margs, data\u001b[38;5;241m=\u001b[39m\u001b[38;5;28;01mNone\u001b[39;00m, \u001b[38;5;241m*\u001b[39m\u001b[38;5;241m*\u001b[39mkwargs):\n\u001b[1;32m   1441\u001b[0m     \u001b[38;5;28;01mif\u001b[39;00m data \u001b[38;5;129;01mis\u001b[39;00m \u001b[38;5;28;01mNone\u001b[39;00m:\n\u001b[0;32m-> 1442\u001b[0m         \u001b[38;5;28;01mreturn\u001b[39;00m \u001b[43mfunc\u001b[49m\u001b[43m(\u001b[49m\u001b[43max\u001b[49m\u001b[43m,\u001b[49m\u001b[43m \u001b[49m\u001b[38;5;241;43m*\u001b[39;49m\u001b[38;5;28;43mmap\u001b[39;49m\u001b[43m(\u001b[49m\u001b[43msanitize_sequence\u001b[49m\u001b[43m,\u001b[49m\u001b[43m \u001b[49m\u001b[43margs\u001b[49m\u001b[43m)\u001b[49m\u001b[43m,\u001b[49m\u001b[43m \u001b[49m\u001b[38;5;241;43m*\u001b[39;49m\u001b[38;5;241;43m*\u001b[39;49m\u001b[43mkwargs\u001b[49m\u001b[43m)\u001b[49m\n\u001b[1;32m   1444\u001b[0m     bound \u001b[38;5;241m=\u001b[39m new_sig\u001b[38;5;241m.\u001b[39mbind(ax, \u001b[38;5;241m*\u001b[39margs, \u001b[38;5;241m*\u001b[39m\u001b[38;5;241m*\u001b[39mkwargs)\n\u001b[1;32m   1445\u001b[0m     auto_label \u001b[38;5;241m=\u001b[39m (bound\u001b[38;5;241m.\u001b[39marguments\u001b[38;5;241m.\u001b[39mget(label_namer)\n\u001b[1;32m   1446\u001b[0m                   \u001b[38;5;129;01mor\u001b[39;00m bound\u001b[38;5;241m.\u001b[39mkwargs\u001b[38;5;241m.\u001b[39mget(label_namer))\n",
      "File \u001b[0;32m~/Documents/Niklas/ML_Seminar/lib/python3.10/site-packages/matplotlib/axes/_axes.py:2417\u001b[0m, in \u001b[0;36mAxes.bar\u001b[0;34m(self, x, height, width, bottom, align, **kwargs)\u001b[0m\n\u001b[1;32m   2414\u001b[0m     \u001b[38;5;28;01mif\u001b[39;00m yerr \u001b[38;5;129;01mis\u001b[39;00m \u001b[38;5;129;01mnot\u001b[39;00m \u001b[38;5;28;01mNone\u001b[39;00m:\n\u001b[1;32m   2415\u001b[0m         yerr \u001b[38;5;241m=\u001b[39m \u001b[38;5;28mself\u001b[39m\u001b[38;5;241m.\u001b[39m_convert_dx(yerr, y0, y, \u001b[38;5;28mself\u001b[39m\u001b[38;5;241m.\u001b[39mconvert_yunits)\n\u001b[0;32m-> 2417\u001b[0m x, height, width, y, linewidth, hatch \u001b[38;5;241m=\u001b[39m \u001b[43mnp\u001b[49m\u001b[38;5;241;43m.\u001b[39;49m\u001b[43mbroadcast_arrays\u001b[49m\u001b[43m(\u001b[49m\n\u001b[1;32m   2418\u001b[0m \u001b[43m    \u001b[49m\u001b[38;5;66;43;03m# Make args iterable too.\u001b[39;49;00m\n\u001b[1;32m   2419\u001b[0m \u001b[43m    \u001b[49m\u001b[43mnp\u001b[49m\u001b[38;5;241;43m.\u001b[39;49m\u001b[43matleast_1d\u001b[49m\u001b[43m(\u001b[49m\u001b[43mx\u001b[49m\u001b[43m)\u001b[49m\u001b[43m,\u001b[49m\u001b[43m \u001b[49m\u001b[43mheight\u001b[49m\u001b[43m,\u001b[49m\u001b[43m \u001b[49m\u001b[43mwidth\u001b[49m\u001b[43m,\u001b[49m\u001b[43m \u001b[49m\u001b[43my\u001b[49m\u001b[43m,\u001b[49m\u001b[43m \u001b[49m\u001b[43mlinewidth\u001b[49m\u001b[43m,\u001b[49m\u001b[43m \u001b[49m\u001b[43mhatch\u001b[49m\u001b[43m)\u001b[49m\n\u001b[1;32m   2421\u001b[0m \u001b[38;5;66;03m# Now that units have been converted, set the tick locations.\u001b[39;00m\n\u001b[1;32m   2422\u001b[0m \u001b[38;5;28;01mif\u001b[39;00m orientation \u001b[38;5;241m==\u001b[39m \u001b[38;5;124m'\u001b[39m\u001b[38;5;124mvertical\u001b[39m\u001b[38;5;124m'\u001b[39m:\n",
      "File \u001b[0;32m<__array_function__ internals>:200\u001b[0m, in \u001b[0;36mbroadcast_arrays\u001b[0;34m(*args, **kwargs)\u001b[0m\n",
      "File \u001b[0;32m~/Documents/Niklas/ML_Seminar/lib/python3.10/site-packages/numpy/lib/stride_tricks.py:540\u001b[0m, in \u001b[0;36mbroadcast_arrays\u001b[0;34m(subok, *args)\u001b[0m\n\u001b[1;32m    533\u001b[0m \u001b[38;5;66;03m# nditer is not used here to avoid the limit of 32 arrays.\u001b[39;00m\n\u001b[1;32m    534\u001b[0m \u001b[38;5;66;03m# Otherwise, something like the following one-liner would suffice:\u001b[39;00m\n\u001b[1;32m    535\u001b[0m \u001b[38;5;66;03m# return np.nditer(args, flags=['multi_index', 'zerosize_ok'],\u001b[39;00m\n\u001b[1;32m    536\u001b[0m \u001b[38;5;66;03m#                  order='C').itviews\u001b[39;00m\n\u001b[1;32m    538\u001b[0m args \u001b[38;5;241m=\u001b[39m [np\u001b[38;5;241m.\u001b[39marray(_m, copy\u001b[38;5;241m=\u001b[39m\u001b[38;5;28;01mFalse\u001b[39;00m, subok\u001b[38;5;241m=\u001b[39msubok) \u001b[38;5;28;01mfor\u001b[39;00m _m \u001b[38;5;129;01min\u001b[39;00m args]\n\u001b[0;32m--> 540\u001b[0m shape \u001b[38;5;241m=\u001b[39m \u001b[43m_broadcast_shape\u001b[49m\u001b[43m(\u001b[49m\u001b[38;5;241;43m*\u001b[39;49m\u001b[43margs\u001b[49m\u001b[43m)\u001b[49m\n\u001b[1;32m    542\u001b[0m \u001b[38;5;28;01mif\u001b[39;00m \u001b[38;5;28mall\u001b[39m(array\u001b[38;5;241m.\u001b[39mshape \u001b[38;5;241m==\u001b[39m shape \u001b[38;5;28;01mfor\u001b[39;00m array \u001b[38;5;129;01min\u001b[39;00m args):\n\u001b[1;32m    543\u001b[0m     \u001b[38;5;66;03m# Common case where nothing needs to be broadcasted.\u001b[39;00m\n\u001b[1;32m    544\u001b[0m     \u001b[38;5;28;01mreturn\u001b[39;00m args\n",
      "File \u001b[0;32m~/Documents/Niklas/ML_Seminar/lib/python3.10/site-packages/numpy/lib/stride_tricks.py:422\u001b[0m, in \u001b[0;36m_broadcast_shape\u001b[0;34m(*args)\u001b[0m\n\u001b[1;32m    417\u001b[0m \u001b[38;5;250m\u001b[39m\u001b[38;5;124;03m\"\"\"Returns the shape of the arrays that would result from broadcasting the\u001b[39;00m\n\u001b[1;32m    418\u001b[0m \u001b[38;5;124;03msupplied arrays against each other.\u001b[39;00m\n\u001b[1;32m    419\u001b[0m \u001b[38;5;124;03m\"\"\"\u001b[39;00m\n\u001b[1;32m    420\u001b[0m \u001b[38;5;66;03m# use the old-iterator because np.nditer does not handle size 0 arrays\u001b[39;00m\n\u001b[1;32m    421\u001b[0m \u001b[38;5;66;03m# consistently\u001b[39;00m\n\u001b[0;32m--> 422\u001b[0m b \u001b[38;5;241m=\u001b[39m \u001b[43mnp\u001b[49m\u001b[38;5;241;43m.\u001b[39;49m\u001b[43mbroadcast\u001b[49m\u001b[43m(\u001b[49m\u001b[38;5;241;43m*\u001b[39;49m\u001b[43margs\u001b[49m\u001b[43m[\u001b[49m\u001b[43m:\u001b[49m\u001b[38;5;241;43m32\u001b[39;49m\u001b[43m]\u001b[49m\u001b[43m)\u001b[49m\n\u001b[1;32m    423\u001b[0m \u001b[38;5;66;03m# unfortunately, it cannot handle 32 or more arguments directly\u001b[39;00m\n\u001b[1;32m    424\u001b[0m \u001b[38;5;28;01mfor\u001b[39;00m pos \u001b[38;5;129;01min\u001b[39;00m \u001b[38;5;28mrange\u001b[39m(\u001b[38;5;241m32\u001b[39m, \u001b[38;5;28mlen\u001b[39m(args), \u001b[38;5;241m31\u001b[39m):\n\u001b[1;32m    425\u001b[0m     \u001b[38;5;66;03m# ironically, np.broadcast does not properly handle np.broadcast\u001b[39;00m\n\u001b[1;32m    426\u001b[0m     \u001b[38;5;66;03m# objects (it treats them as scalars)\u001b[39;00m\n\u001b[1;32m    427\u001b[0m     \u001b[38;5;66;03m# use broadcasting to avoid allocating the full array\u001b[39;00m\n",
      "\u001b[0;31mValueError\u001b[0m: shape mismatch: objects cannot be broadcast to a single shape.  Mismatch is between arg 0 with shape (55,) and arg 1 with shape (25,)."
     ]
    },
    {
     "data": {
      "image/png": "[encoded data removed]",
      "text/plain": [
       "<Figure size 640x480 with 1 Axes>"
      ]
     },
     "metadata": {},
     "output_type": "display_data"
    }
   ],
   "source": [
    "xgb_model = xgb.XGBClassifier()         \n",
    "xgb_model.fit(X_train[sorted_features[:-30]],y_train)\n",
    "y_pred = xgb_model.predict(X_test[sorted_features[:-30]])\n",
    "acc = accuracy_score( y_test,y_pred)\n",
    "perm_importance = permutation_importance(xgb_model, X_test[sorted_features[:-30]], y_test).importances_mean\n",
    "sort = np.argsort(perm_importance)\n",
    "sorted_features = np.take_along_axis(np.array(sorted_features[:-30]), sort, axis=0)[::-1]\n",
    "height = perm_importance[sort][::-1]\n",
    "sorted_features\n",
    "plt.bar(sorted_features[:-30],height[:-30])\n",
    "plt.xticks(rotation = 90)"
   ]
  },
  {
   "cell_type": "code",
   "execution_count": 37,
   "id": "ff2744b7",
   "metadata": {},
   "outputs": [
    {
     "data": {
      "text/plain": [
       "([0,\n",
       "  1,\n",
       "  2,\n",
       "  3,\n",
       "  4,\n",
       "  5,\n",
       "  6,\n",
       "  7,\n",
       "  8,\n",
       "  9,\n",
       "  10,\n",
       "  11,\n",
       "  12,\n",
       "  13,\n",
       "  14,\n",
       "  15,\n",
       "  16,\n",
       "  17,\n",
       "  18,\n",
       "  19,\n",
       "  20,\n",
       "  21,\n",
       "  22,\n",
       "  23,\n",
       "  24],\n",
       " [Text(0, 0, 'lep_pt_2'),\n",
       "  Text(1, 0, 'met_et'),\n",
       "  Text(2, 0, 'lep_pt_1'),\n",
       "  Text(3, 0, 'jet_n'),\n",
       "  Text(4, 0, 'lep_E_1'),\n",
       "  Text(5, 0, 'jet_pt_0'),\n",
       "  Text(6, 0, 'lep_eta_0'),\n",
       "  Text(7, 0, 'jet_pt_1'),\n",
       "  Text(8, 0, 'lep_pt_0'),\n",
       "  Text(9, 0, 'lep_E_2'),\n",
       "  Text(10, 0, 'lep_eta_1'),\n",
       "  Text(11, 0, 'lep_phi_1'),\n",
       "  Text(12, 0, 'lep_phi_0'),\n",
       "  Text(13, 0, 'lep_ptcone30_1'),\n",
       "  Text(14, 0, 'lep_ptcone30_0'),\n",
       "  Text(15, 0, 'jet_eta_0'),\n",
       "  Text(16, 0, 'jet_m'),\n",
       "  Text(17, 0, 'lep_E_0'),\n",
       "  Text(18, 0, 'jet_eta_1'),\n",
       "  Text(19, 0, 'jet_pt_2'),\n",
       "  Text(20, 0, 'lep_pt_3'),\n",
       "  Text(21, 0, 'jet_E_0'),\n",
       "  Text(22, 0, 'lep_charge_1'),\n",
       "  Text(23, 0, 'lep_charge_0'),\n",
       "  Text(24, 0, 'lep_E_3')])"
      ]
     },
     "execution_count": 37,
     "metadata": {},
     "output_type": "execute_result"
    },
    {
     "data": {
      "image/png": "[encoded data removed]",
      "text/plain": [
       "<Figure size 640x480 with 1 Axes>"
      ]
     },
     "metadata": {},
     "output_type": "display_data"
    }
   ],
   "source": [
    "plt.bar(sorted_features[:-30],height[:-30])\n",
    "plt.xticks(rotation = 90)"
   ]
  },
  {
   "cell_type": "code",
   "execution_count": null,
   "id": "fa56098c",
   "metadata": {},
   "outputs": [],
   "source": []
  },
  {
   "cell_type": "code",
   "execution_count": 38,
   "id": "2a4edaa7",
   "metadata": {},
   "outputs": [],
   "source": [
    "features = ['lep_pt_2','met_et','lep_pt_1','jet_n','lep_E_1','jet_pt_0','lep_eta_0','jet_pt_1','lep_pt_0','lep_E_2','lep_eta_1','lep_phi_1','lep_phi_0',\n",
    "            'lep_ptcone30_1','lep_ptcone30_0','jet_eta_0','jet_m','lep_E_0','jet_eta_1','jet_pt_2','lep_pt_3','jet_E_0','lep_charge_1','lep_charge_0','lep_E_3']"
   ]
  },
  {
   "cell_type": "code",
   "execution_count": null,
   "id": "a3197b0b",
   "metadata": {},
   "outputs": [],
   "source": []
  },
  {
   "cell_type": "code",
   "execution_count": 39,
   "id": "890519c6",
   "metadata": {},
   "outputs": [
    {
     "data": {
      "text/plain": [
       "25"
      ]
     },
     "execution_count": 39,
     "metadata": {},
     "output_type": "execute_result"
    }
   ],
   "source": []
  },
  {
   "cell_type": "code",
   "execution_count": null,
   "id": "474ccca4",
   "metadata": {},
   "outputs": [],
   "source": [
    "def feature_reduction_XGB(df,X_train, y_train, X_test, y_test, features, num_remaining_feature, print_bool):\n",
    "    # Definition of tracking variables and lists to be filled during the reduction process\n",
    "    num_of_features = len(features)\n",
    "    max_num_of_iterations = num_of_features - num_remaining_feature\n",
    "    iteration = 0\n",
    "    accuracy_list = []\n",
    "    AUC_list = []\n",
    "    for it in range(max_num_of_iterations):          # Primary loop to iterativly remove features\n",
    "        xgb_model = xgb.XGBClassifier()              # Reset model for each iteration\n",
    "        xgb_model.fit(X_train[features],y_train)     # Train the model on the remaaining features\n",
    "        # Validation of current model\n",
    "        y_pred = xgb_model.predict(X_test[features])\n",
    "        acc = accuracy_score( y_test,y_pred)\n",
    "        accuracy_list.append(acc)\n",
    "        if True:\n",
    "            print(f'Iteratio:{it}, number of remaining features:{num_of_features-it}, Accuracy:{acc }')\n",
    "        # Calculate the permutative feature importance using sklearn\n",
    "        perm_importance = permutation_importance(xgb_model, X_test[features], y_test).importances_mean\n",
    "        sort = np.argsort(perm_importance)\n",
    "        sorted_features = np.take_along_axis(np.array(features), sort, axis=0)[::-1]\n",
    "        height = perm_importance[sort][::-1]\n",
    "        # Plot the feaute importances and correlation matrix\n",
    "        if ((it%10 == 0) and print_bool) or (num_of_features-it) == 10  :\n",
    "            #plt.rcParams['font.size'] = '25'\n",
    "            fig, ax = plt.subplots(1,2,figsize = [4,2])\n",
    "            ax[0].tick_params(labelrotation=90)\n",
    "            ax[0].bar(x = sorted_features, height= height)\n",
    "            ax[0].set_ylabel(\"permutative feature importance\")\n",
    "            d = df[sorted_features]\n",
    "            corr = d[sorted_features].corr()\n",
    "            mask = np.triu(np.ones_like(corr, dtype=bool))\n",
    "            cmap = sns.diverging_palette(230, 20, as_cmap=True)\n",
    "            # Draw the heatmap for the correlation\n",
    "            sns.heatmap(corr, mask=mask, cmap='seismic', vmax=1,vmin=-1, center=0,\n",
    "                        square=True, linewidths=.5, cbar_kws={\"shrink\": .5}, ax = ax[1])\n",
    "        # Loop to retrain the model while individually removing one of the 3 least important features\n",
    "        # Check wich of these has the least impact on the training, then reomve that feature from the feature list\n",
    "        if (num_of_features-it) == 10:\n",
    "            return_list = list(sorted_features)\n",
    "            return_list.append(acc)\n",
    "            return_list.append(height)\n",
    "            #return_height = height\n",
    "        temp_acc_list = []\n",
    "        for ter_it in range(3):\n",
    "            temp_s_f = list(sorted_features[-3:])\n",
    "            temp_features = list(sorted_features)\n",
    "            temp_features.pop(len(sorted_features) -1 - ter_it)\n",
    "            #print(list(features))\n",
    "            #print(temp_features)\n",
    "            xgb_test_model = xgb.XGBClassifier()\n",
    "            xgb_test_model.fit(X_train[temp_features],y_train)\n",
    "            y_pred = xgb_test_model.predict(X_test[temp_features])\n",
    "            temp_acc_list.append(accuracy_score( y_test ,y_pred))\n",
    "        #print(temp_acc_list)\n",
    "        #print(np.argmax(temp_acc_list), np.max(temp_acc_list))\n",
    "        sorted_features = list(sorted_features)\n",
    "        sorted_features.pop(len(sorted(features))-1-np.argmax(temp_acc_list))\n",
    "        features = sorted_features\n",
    "        if ((num_of_features-it) < 6) and print_bool:\n",
    "            print(features)\n",
    "    if print_bool:\n",
    "        plt.figure()\n",
    "        plt.xticks(np.arange(1,max_num_of_iterations+1))\n",
    "        plt.plot( accuracy_list, \".\")\n",
    "        plt.ylim(0.75,1)\n",
    "        plt.title(f\"feature reduction starting from {num_of_features} features\")\n",
    "        plt.ylabel(\"Accuracy on test set\")\n",
    "        plt.xlabel(\"Number of removed features\")\n",
    "        plt.grid()\n",
    "        plt.show()\n",
    "\n",
    "    return return_list#, return_height\n",
    "        \n",
    "    "
   ]
  },
  {
   "cell_type": "code",
   "execution_count": 22,
   "id": "f545f21f",
   "metadata": {},
   "outputs": [],
   "source": []
  },
  {
   "cell_type": "raw",
   "id": "2ad7bd24",
   "metadata": {},
   "source": [
    "feature_reduction_XGB(df, X_train, y_train, X_test, y_test, features, 35, print_bool=False)"
   ]
  },
  {
   "cell_type": "code",
   "execution_count": null,
   "id": "951b4615",
   "metadata": {},
   "outputs": [],
   "source": []
  }
 ],
 "metadata": {
  "kernelspec": {
   "display_name": "Python 3 (ipykernel)",
   "language": "python",
   "name": "python3"
  },
  "language_info": {
   "codemirror_mode": {
    "name": "ipython",
    "version": 3
   },
   "file_extension": ".py",
   "mimetype": "text/x-python",
   "name": "python",
   "nbconvert_exporter": "python",
   "pygments_lexer": "ipython3",
   "version": "3.10.5"
  }
 },
 "nbformat": 4,
 "nbformat_minor": 5
}
