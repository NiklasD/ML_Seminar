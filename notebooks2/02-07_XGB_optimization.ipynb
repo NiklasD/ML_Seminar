{
 "cells": [
  {
   "cell_type": "code",
   "execution_count": 10,
   "id": "44e9994c",
   "metadata": {},
   "outputs": [],
   "source": [
    "# import pathlib\n",
    "import pickle\n",
    "\n",
    "import matplotlib.pyplot as plt\n",
    "import numpy as np\n",
    "import pandas as pd\n",
    "#import re\n",
    "#import random\n",
    "#from sklearn import tree\n",
    "from sklearn.model_selection import train_test_split\n",
    "from sklearn.inspection import permutation_importance\n",
    "from sklearn.metrics import confusion_matrix, classification_report, ConfusionMatrixDisplay, roc_auc_score\n",
    "from sklearn.preprocessing import QuantileTransformer\n",
    "from hyperopt import STATUS_OK, Trials, fmin, hp, tpe\n",
    "\n",
    "\n",
    "import xgboost as xgb\n",
    "from sklearn.metrics import auc, accuracy_score, mean_squared_error\n",
    "from sklearn.model_selection import cross_val_score, GridSearchCV, KFold, RandomizedSearchCV\n",
    "#from string import ascii_letters\n",
    "import seaborn as sns\n",
    "import h5py as h5\n",
    "%matplotlib inline\n",
    "#from string import ascii_letters"
   ]
  },
  {
   "cell_type": "raw",
   "id": "4ae2a08d",
   "metadata": {},
   "source": [
    "df[features].to_pickle('../pickle_pd/pd_top_25.pkl')"
   ]
  },
  {
   "cell_type": "code",
   "execution_count": 2,
   "id": "6a87e32e",
   "metadata": {},
   "outputs": [],
   "source": [
    "df =pd.read_pickle('../pickle_pd/second_pd_top_25.pkl')\n",
    "features = list(df)[:-1]"
   ]
  },
  {
   "cell_type": "code",
   "execution_count": 3,
   "id": "70c07a30",
   "metadata": {},
   "outputs": [],
   "source": [
    "qt = QuantileTransformer(random_state=0)\n",
    "df[features] = qt.fit_transform(df[features])"
   ]
  },
  {
   "cell_type": "code",
   "execution_count": 4,
   "id": "25a7d482",
   "metadata": {},
   "outputs": [
    {
     "data": {
      "text/html": [
       "<div>\n",
       "<style scoped>\n",
       "    .dataframe tbody tr th:only-of-type {\n",
       "        vertical-align: middle;\n",
       "    }\n",
       "\n",
       "    .dataframe tbody tr th {\n",
       "        vertical-align: top;\n",
       "    }\n",
       "\n",
       "    .dataframe thead th {\n",
       "        text-align: right;\n",
       "    }\n",
       "</style>\n",
       "<table border=\"1\" class=\"dataframe\">\n",
       "  <thead>\n",
       "    <tr style=\"text-align: right;\">\n",
       "      <th></th>\n",
       "      <th>lep_pt_2</th>\n",
       "      <th>met_et</th>\n",
       "      <th>lep_pt_1</th>\n",
       "      <th>jet_n</th>\n",
       "      <th>lep_E_1</th>\n",
       "      <th>lep_eta_0</th>\n",
       "      <th>jet_pt_0</th>\n",
       "      <th>jet_pt_1</th>\n",
       "      <th>lep_phi_1</th>\n",
       "      <th>lep_eta_1</th>\n",
       "      <th>...</th>\n",
       "      <th>jet_m</th>\n",
       "      <th>jet_eta_1</th>\n",
       "      <th>lep_E_0</th>\n",
       "      <th>lep_pt_3</th>\n",
       "      <th>jet_E_0</th>\n",
       "      <th>jet_pt_2</th>\n",
       "      <th>lep_charge_1</th>\n",
       "      <th>lep_charge_0</th>\n",
       "      <th>jet_E_1</th>\n",
       "      <th>label</th>\n",
       "    </tr>\n",
       "  </thead>\n",
       "  <tbody>\n",
       "    <tr>\n",
       "      <th>0</th>\n",
       "      <td>0.827001</td>\n",
       "      <td>0.380512</td>\n",
       "      <td>0.876871</td>\n",
       "      <td>0.000000</td>\n",
       "      <td>0.679856</td>\n",
       "      <td>0.299734</td>\n",
       "      <td>0.000000</td>\n",
       "      <td>0.0</td>\n",
       "      <td>0.076109</td>\n",
       "      <td>0.306802</td>\n",
       "      <td>...</td>\n",
       "      <td>0.095420</td>\n",
       "      <td>0.502002</td>\n",
       "      <td>0.450911</td>\n",
       "      <td>0.000000</td>\n",
       "      <td>0.000000</td>\n",
       "      <td>0.0</td>\n",
       "      <td>0.000000</td>\n",
       "      <td>1.0</td>\n",
       "      <td>0.0</td>\n",
       "      <td>0</td>\n",
       "    </tr>\n",
       "    <tr>\n",
       "      <th>1</th>\n",
       "      <td>0.000000</td>\n",
       "      <td>0.087919</td>\n",
       "      <td>0.823059</td>\n",
       "      <td>0.000000</td>\n",
       "      <td>0.629127</td>\n",
       "      <td>0.640667</td>\n",
       "      <td>0.000000</td>\n",
       "      <td>0.0</td>\n",
       "      <td>0.150230</td>\n",
       "      <td>0.683559</td>\n",
       "      <td>...</td>\n",
       "      <td>0.095420</td>\n",
       "      <td>0.502002</td>\n",
       "      <td>0.297723</td>\n",
       "      <td>0.000000</td>\n",
       "      <td>0.000000</td>\n",
       "      <td>0.0</td>\n",
       "      <td>0.000000</td>\n",
       "      <td>1.0</td>\n",
       "      <td>0.0</td>\n",
       "      <td>0</td>\n",
       "    </tr>\n",
       "    <tr>\n",
       "      <th>2</th>\n",
       "      <td>0.889522</td>\n",
       "      <td>0.105194</td>\n",
       "      <td>0.944168</td>\n",
       "      <td>0.413914</td>\n",
       "      <td>0.816004</td>\n",
       "      <td>0.917707</td>\n",
       "      <td>0.332354</td>\n",
       "      <td>0.0</td>\n",
       "      <td>0.813354</td>\n",
       "      <td>0.805162</td>\n",
       "      <td>...</td>\n",
       "      <td>0.139560</td>\n",
       "      <td>0.502002</td>\n",
       "      <td>0.726758</td>\n",
       "      <td>0.957515</td>\n",
       "      <td>0.419390</td>\n",
       "      <td>0.0</td>\n",
       "      <td>0.000000</td>\n",
       "      <td>1.0</td>\n",
       "      <td>0.0</td>\n",
       "      <td>0</td>\n",
       "    </tr>\n",
       "    <tr>\n",
       "      <th>3</th>\n",
       "      <td>0.959527</td>\n",
       "      <td>0.135238</td>\n",
       "      <td>0.738807</td>\n",
       "      <td>0.000000</td>\n",
       "      <td>0.898591</td>\n",
       "      <td>0.496582</td>\n",
       "      <td>0.000000</td>\n",
       "      <td>0.0</td>\n",
       "      <td>0.862741</td>\n",
       "      <td>0.939720</td>\n",
       "      <td>...</td>\n",
       "      <td>0.139560</td>\n",
       "      <td>0.502002</td>\n",
       "      <td>0.010326</td>\n",
       "      <td>0.976537</td>\n",
       "      <td>0.000000</td>\n",
       "      <td>0.0</td>\n",
       "      <td>1.000000</td>\n",
       "      <td>0.0</td>\n",
       "      <td>0.0</td>\n",
       "      <td>0</td>\n",
       "    </tr>\n",
       "    <tr>\n",
       "      <th>4</th>\n",
       "      <td>0.000000</td>\n",
       "      <td>0.789771</td>\n",
       "      <td>0.000000</td>\n",
       "      <td>0.413914</td>\n",
       "      <td>0.000000</td>\n",
       "      <td>0.497493</td>\n",
       "      <td>0.906905</td>\n",
       "      <td>0.0</td>\n",
       "      <td>0.500501</td>\n",
       "      <td>0.498498</td>\n",
       "      <td>...</td>\n",
       "      <td>0.906466</td>\n",
       "      <td>0.502002</td>\n",
       "      <td>0.466519</td>\n",
       "      <td>0.000000</td>\n",
       "      <td>0.783745</td>\n",
       "      <td>0.0</td>\n",
       "      <td>0.504004</td>\n",
       "      <td>1.0</td>\n",
       "      <td>0.0</td>\n",
       "      <td>0</td>\n",
       "    </tr>\n",
       "  </tbody>\n",
       "</table>\n",
       "<p>5 rows × 26 columns</p>\n",
       "</div>"
      ],
      "text/plain": [
       "   lep_pt_2    met_et  lep_pt_1     jet_n   lep_E_1  lep_eta_0  jet_pt_0  \\\n",
       "0  0.827001  0.380512  0.876871  0.000000  0.679856   0.299734  0.000000   \n",
       "1  0.000000  0.087919  0.823059  0.000000  0.629127   0.640667  0.000000   \n",
       "2  0.889522  0.105194  0.944168  0.413914  0.816004   0.917707  0.332354   \n",
       "3  0.959527  0.135238  0.738807  0.000000  0.898591   0.496582  0.000000   \n",
       "4  0.000000  0.789771  0.000000  0.413914  0.000000   0.497493  0.906905   \n",
       "\n",
       "   jet_pt_1  lep_phi_1  lep_eta_1  ...     jet_m  jet_eta_1   lep_E_0  \\\n",
       "0       0.0   0.076109   0.306802  ...  0.095420   0.502002  0.450911   \n",
       "1       0.0   0.150230   0.683559  ...  0.095420   0.502002  0.297723   \n",
       "2       0.0   0.813354   0.805162  ...  0.139560   0.502002  0.726758   \n",
       "3       0.0   0.862741   0.939720  ...  0.139560   0.502002  0.010326   \n",
       "4       0.0   0.500501   0.498498  ...  0.906466   0.502002  0.466519   \n",
       "\n",
       "   lep_pt_3   jet_E_0  jet_pt_2  lep_charge_1  lep_charge_0  jet_E_1  label  \n",
       "0  0.000000  0.000000       0.0      0.000000           1.0      0.0      0  \n",
       "1  0.000000  0.000000       0.0      0.000000           1.0      0.0      0  \n",
       "2  0.957515  0.419390       0.0      0.000000           1.0      0.0      0  \n",
       "3  0.976537  0.000000       0.0      1.000000           0.0      0.0      0  \n",
       "4  0.000000  0.783745       0.0      0.504004           1.0      0.0      0  \n",
       "\n",
       "[5 rows x 26 columns]"
      ]
     },
     "execution_count": 4,
     "metadata": {},
     "output_type": "execute_result"
    }
   ],
   "source": [
    "df.head()"
   ]
  },
  {
   "cell_type": "code",
   "execution_count": 5,
   "id": "59c95fd0",
   "metadata": {},
   "outputs": [],
   "source": [
    " X_train, X_test, y_train, y_test = train_test_split( df[features], df['label'], test_size=0.4, random_state=42,shuffle = True)\n",
    " X_test, X_val, y_test, y_val = train_test_split( X_test, y_test, test_size=0.5, random_state=42,shuffle = True)"
   ]
  },
  {
   "cell_type": "code",
   "execution_count": 88,
   "id": "4c7548ec",
   "metadata": {},
   "outputs": [],
   "source": [
    "space={'max_depth': hp.quniform(\"max_depth\", 3, 18, 1),\n",
    "        #'gamma': hp.uniform ('gamma', 1,9),\n",
    "        'reg_alpha' : hp.quniform('reg_alpha', 1,50,1),\n",
    "        'reg_lambda' : hp.uniform('reg_lambda', 0,1),\n",
    "        'colsample_bytree' : hp.uniform('colsample_bytree', 0.6,1),\n",
    "        'min_child_weight' : hp.quniform('min_child_weight', 0, 10, 1),\n",
    "        'n_estimators': hp.choice('n_estimators', [300, 400, 500, 600]),\n",
    "        'seed': 0\n",
    "    }"
   ]
  },
  {
   "cell_type": "code",
   "execution_count": 89,
   "id": "069c3db6",
   "metadata": {},
   "outputs": [],
   "source": [
    "def objective(space):\n",
    "    clf=xgb.XGBClassifier(\n",
    "                    n_estimators =space['n_estimators'], max_depth = int(space['max_depth']),\n",
    "                    reg_alpha = int(space['reg_alpha']),min_child_weight=int(space['min_child_weight']),\n",
    "                    colsample_bytree=int(space['colsample_bytree']), reg_lambda= space['reg_lambda'])\n",
    "    \n",
    "    evaluation = [( X_train, y_train), ( X_test, y_test)]\n",
    "    \n",
    "    clf.fit(X_train, y_train,\n",
    "            eval_set=evaluation, #eval_metric=\"auc\",\n",
    "            early_stopping_rounds=10,verbose=False)\n",
    "    \n",
    "\n",
    "    pred = clf.predict(X_train)\n",
    "    accuracy = accuracy_score(y_train, pred)\n",
    "    pred_val = clf.predict(X_test)\n",
    "    val_accuracy = accuracy_score(y_test, pred_val)\n",
    "    delta_accuracy = accuracy - val_accuracy\n",
    "    print (\"SCORE:\", accuracy)\n",
    "    return {'loss': -val_accuracy, 'accuracy': accuracy, 'val_accuracy': val_accuracy, 'delta_accuracy':delta_accuracy, 'status': STATUS_OK }"
   ]
  },
  {
   "cell_type": "code",
   "execution_count": 90,
   "id": "d5057ef0",
   "metadata": {},
   "outputs": [
    {
     "name": "stdout",
     "output_type": "stream",
     "text": [
      "\r",
      "  0%|                                  | 0/50 [00:00<?, ?trial/s, best loss=?]"
     ]
    },
    {
     "name": "stderr",
     "output_type": "stream",
     "text": [
      "/Users/ndueser/Documents/Niklas/ML_Seminar/lib/python3.10/site-packages/xgboost/sklearn.py:835: UserWarning: `early_stopping_rounds` in `fit` method is deprecated for better compatibility with scikit-learn, use `early_stopping_rounds` in constructor or`set_params` instead.\n",
      "  warnings.warn(\n",
      "\n"
     ]
    },
    {
     "name": "stdout",
     "output_type": "stream",
     "text": [
      "SCORE:                                                                        \n",
      "0.8110158343015719                                                            \n",
      "  2%|▏      | 1/50 [00:52<43:15, 52.97s/trial, best loss: -0.8076165967294341]"
     ]
    },
    {
     "name": "stderr",
     "output_type": "stream",
     "text": [
      "/Users/ndueser/Documents/Niklas/ML_Seminar/lib/python3.10/site-packages/xgboost/sklearn.py:835: UserWarning: `early_stopping_rounds` in `fit` method is deprecated for better compatibility with scikit-learn, use `early_stopping_rounds` in constructor or`set_params` instead.\n",
      "  warnings.warn(\n",
      "\n"
     ]
    },
    {
     "name": "stdout",
     "output_type": "stream",
     "text": [
      "SCORE:                                                                        \n",
      "0.8090889595196257                                                            \n",
      "  4%|▎      | 2/50 [01:38<38:46, 48.47s/trial, best loss: -0.8076165967294341]"
     ]
    },
    {
     "name": "stderr",
     "output_type": "stream",
     "text": [
      "/Users/ndueser/Documents/Niklas/ML_Seminar/lib/python3.10/site-packages/xgboost/sklearn.py:835: UserWarning: `early_stopping_rounds` in `fit` method is deprecated for better compatibility with scikit-learn, use `early_stopping_rounds` in constructor or`set_params` instead.\n",
      "  warnings.warn(\n",
      "\n"
     ]
    },
    {
     "name": "stdout",
     "output_type": "stream",
     "text": [
      "SCORE:                                                                        \n",
      "0.8116431888817405                                                            \n",
      "  6%|▍      | 3/50 [02:40<43:00, 54.90s/trial, best loss: -0.8076165967294341]"
     ]
    },
    {
     "name": "stderr",
     "output_type": "stream",
     "text": [
      "/Users/ndueser/Documents/Niklas/ML_Seminar/lib/python3.10/site-packages/xgboost/sklearn.py:835: UserWarning: `early_stopping_rounds` in `fit` method is deprecated for better compatibility with scikit-learn, use `early_stopping_rounds` in constructor or`set_params` instead.\n",
      "  warnings.warn(\n",
      "\n"
     ]
    },
    {
     "name": "stdout",
     "output_type": "stream",
     "text": [
      "SCORE:                                                                        \n",
      "0.8768752620645727                                                            \n",
      "  8%|▌      | 4/50 [03:16<36:08, 47.15s/trial, best loss: -0.8076165967294341]"
     ]
    },
    {
     "name": "stderr",
     "output_type": "stream",
     "text": [
      "/Users/ndueser/Documents/Niklas/ML_Seminar/lib/python3.10/site-packages/xgboost/sklearn.py:835: UserWarning: `early_stopping_rounds` in `fit` method is deprecated for better compatibility with scikit-learn, use `early_stopping_rounds` in constructor or`set_params` instead.\n",
      "  warnings.warn(\n",
      "\n"
     ]
    },
    {
     "name": "stdout",
     "output_type": "stream",
     "text": [
      "SCORE:                                                                        \n",
      "0.8077190219670126                                                            \n",
      " 10%|▋      | 5/50 [03:44<30:17, 40.38s/trial, best loss: -0.8076165967294341]"
     ]
    },
    {
     "name": "stderr",
     "output_type": "stream",
     "text": [
      "/Users/ndueser/Documents/Niklas/ML_Seminar/lib/python3.10/site-packages/xgboost/sklearn.py:835: UserWarning: `early_stopping_rounds` in `fit` method is deprecated for better compatibility with scikit-learn, use `early_stopping_rounds` in constructor or`set_params` instead.\n",
      "  warnings.warn(\n",
      "\n"
     ]
    },
    {
     "name": "stdout",
     "output_type": "stream",
     "text": [
      "SCORE:                                                                        \n",
      "0.8120656929867519                                                            \n",
      " 12%|▊      | 6/50 [04:37<32:50, 44.77s/trial, best loss: -0.8076165967294341]"
     ]
    },
    {
     "name": "stderr",
     "output_type": "stream",
     "text": [
      "/Users/ndueser/Documents/Niklas/ML_Seminar/lib/python3.10/site-packages/xgboost/sklearn.py:835: UserWarning: `early_stopping_rounds` in `fit` method is deprecated for better compatibility with scikit-learn, use `early_stopping_rounds` in constructor or`set_params` instead.\n",
      "  warnings.warn(\n",
      "\n"
     ]
    },
    {
     "name": "stdout",
     "output_type": "stream",
     "text": [
      "SCORE:                                                                        \n",
      "0.8078086440498939                                                            \n",
      " 14%|▉      | 7/50 [05:07<28:36, 39.91s/trial, best loss: -0.8076165967294341]"
     ]
    },
    {
     "name": "stderr",
     "output_type": "stream",
     "text": [
      "/Users/ndueser/Documents/Niklas/ML_Seminar/lib/python3.10/site-packages/xgboost/sklearn.py:835: UserWarning: `early_stopping_rounds` in `fit` method is deprecated for better compatibility with scikit-learn, use `early_stopping_rounds` in constructor or`set_params` instead.\n",
      "  warnings.warn(\n",
      "\n"
     ]
    },
    {
     "name": "stdout",
     "output_type": "stream",
     "text": [
      "SCORE:                                                                        \n",
      "0.8099563732503688                                                            \n",
      " 16%|█      | 8/50 [05:54<29:22, 41.95s/trial, best loss: -0.8076165967294341]"
     ]
    },
    {
     "name": "stderr",
     "output_type": "stream",
     "text": [
      "/Users/ndueser/Documents/Niklas/ML_Seminar/lib/python3.10/site-packages/xgboost/sklearn.py:835: UserWarning: `early_stopping_rounds` in `fit` method is deprecated for better compatibility with scikit-learn, use `early_stopping_rounds` in constructor or`set_params` instead.\n",
      "  warnings.warn(\n",
      "\n"
     ]
    },
    {
     "name": "stdout",
     "output_type": "stream",
     "text": [
      "SCORE:                                                                        \n",
      "0.8094378454851275                                                            \n",
      " 18%|█▍      | 9/50 [06:44<30:32, 44.69s/trial, best loss: -0.807722222755687]"
     ]
    },
    {
     "name": "stderr",
     "output_type": "stream",
     "text": [
      "/Users/ndueser/Documents/Niklas/ML_Seminar/lib/python3.10/site-packages/xgboost/sklearn.py:835: UserWarning: `early_stopping_rounds` in `fit` method is deprecated for better compatibility with scikit-learn, use `early_stopping_rounds` in constructor or`set_params` instead.\n",
      "  warnings.warn(\n",
      "\n"
     ]
    },
    {
     "name": "stdout",
     "output_type": "stream",
     "text": [
      "SCORE:                                                                        \n",
      "0.8146359262922384                                                            \n",
      " 20%|█▍     | 10/50 [07:48<33:48, 50.71s/trial, best loss: -0.807722222755687]"
     ]
    },
    {
     "name": "stderr",
     "output_type": "stream",
     "text": [
      "/Users/ndueser/Documents/Niklas/ML_Seminar/lib/python3.10/site-packages/xgboost/sklearn.py:835: UserWarning: `early_stopping_rounds` in `fit` method is deprecated for better compatibility with scikit-learn, use `early_stopping_rounds` in constructor or`set_params` instead.\n",
      "  warnings.warn(\n",
      "\n"
     ]
    },
    {
     "name": "stdout",
     "output_type": "stream",
     "text": [
      "SCORE:                                                                        \n",
      "0.8085352230789666                                                            \n",
      " 22%|█▌     | 11/50 [08:53<35:48, 55.08s/trial, best loss: -0.807722222755687]"
     ]
    },
    {
     "name": "stderr",
     "output_type": "stream",
     "text": [
      "/Users/ndueser/Documents/Niklas/ML_Seminar/lib/python3.10/site-packages/xgboost/sklearn.py:835: UserWarning: `early_stopping_rounds` in `fit` method is deprecated for better compatibility with scikit-learn, use `early_stopping_rounds` in constructor or`set_params` instead.\n",
      "  warnings.warn(\n",
      "\n"
     ]
    },
    {
     "name": "stdout",
     "output_type": "stream",
     "text": [
      "SCORE:                                                                        \n",
      "0.8102604481744302                                                            \n",
      " 24%|█▋     | 12/50 [09:47<34:36, 54.65s/trial, best loss: -0.807751029853756]"
     ]
    },
    {
     "name": "stderr",
     "output_type": "stream",
     "text": [
      "/Users/ndueser/Documents/Niklas/ML_Seminar/lib/python3.10/site-packages/xgboost/sklearn.py:835: UserWarning: `early_stopping_rounds` in `fit` method is deprecated for better compatibility with scikit-learn, use `early_stopping_rounds` in constructor or`set_params` instead.\n",
      "  warnings.warn(\n",
      "\n"
     ]
    },
    {
     "name": "stdout",
     "output_type": "stream",
     "text": [
      "SCORE:                                                                        \n",
      "0.8091753808138326                                                            \n",
      " 26%|█▊     | 13/50 [11:13<39:34, 64.18s/trial, best loss: -0.807751029853756]"
     ]
    },
    {
     "name": "stderr",
     "output_type": "stream",
     "text": [
      "/Users/ndueser/Documents/Niklas/ML_Seminar/lib/python3.10/site-packages/xgboost/sklearn.py:835: UserWarning: `early_stopping_rounds` in `fit` method is deprecated for better compatibility with scikit-learn, use `early_stopping_rounds` in constructor or`set_params` instead.\n",
      "  warnings.warn(\n",
      "\n"
     ]
    },
    {
     "name": "stdout",
     "output_type": "stream",
     "text": [
      "SCORE:                                                                        \n",
      "0.8117904251607596                                                            \n",
      " 28%|█▉     | 14/50 [12:44<43:25, 72.37s/trial, best loss: -0.807751029853756]"
     ]
    },
    {
     "name": "stderr",
     "output_type": "stream",
     "text": [
      "/Users/ndueser/Documents/Niklas/ML_Seminar/lib/python3.10/site-packages/xgboost/sklearn.py:835: UserWarning: `early_stopping_rounds` in `fit` method is deprecated for better compatibility with scikit-learn, use `early_stopping_rounds` in constructor or`set_params` instead.\n",
      "  warnings.warn(\n",
      "\n"
     ]
    },
    {
     "name": "stdout",
     "output_type": "stream",
     "text": [
      "SCORE:                                                                        \n",
      "0.8480009474334476                                                            \n",
      " 30%|██     | 15/50 [13:47<40:29, 69.41s/trial, best loss: -0.807751029853756]"
     ]
    },
    {
     "name": "stderr",
     "output_type": "stream",
     "text": [
      "/Users/ndueser/Documents/Niklas/ML_Seminar/lib/python3.10/site-packages/xgboost/sklearn.py:835: UserWarning: `early_stopping_rounds` in `fit` method is deprecated for better compatibility with scikit-learn, use `early_stopping_rounds` in constructor or`set_params` instead.\n",
      "  warnings.warn(\n",
      "\n"
     ]
    },
    {
     "name": "stdout",
     "output_type": "stream",
     "text": [
      "SCORE:                                                                        \n",
      "0.8139637606706293                                                            \n",
      " 32%|██▏    | 16/50 [15:21<43:35, 76.93s/trial, best loss: -0.807751029853756]"
     ]
    },
    {
     "name": "stderr",
     "output_type": "stream",
     "text": [
      "/Users/ndueser/Documents/Niklas/ML_Seminar/lib/python3.10/site-packages/xgboost/sklearn.py:835: UserWarning: `early_stopping_rounds` in `fit` method is deprecated for better compatibility with scikit-learn, use `early_stopping_rounds` in constructor or`set_params` instead.\n",
      "  warnings.warn(\n",
      "\n"
     ]
    },
    {
     "name": "stdout",
     "output_type": "stream",
     "text": [
      "SCORE:                                                                        \n",
      "0.8172765769485602                                                            \n",
      " 34%|██▍    | 17/50 [16:35<41:43, 75.86s/trial, best loss: -0.807751029853756]"
     ]
    },
    {
     "name": "stderr",
     "output_type": "stream",
     "text": [
      "/Users/ndueser/Documents/Niklas/ML_Seminar/lib/python3.10/site-packages/xgboost/sklearn.py:835: UserWarning: `early_stopping_rounds` in `fit` method is deprecated for better compatibility with scikit-learn, use `early_stopping_rounds` in constructor or`set_params` instead.\n",
      "  warnings.warn(\n",
      "\n"
     ]
    },
    {
     "name": "stdout",
     "output_type": "stream",
     "text": [
      "SCORE:                                                                        \n",
      "0.8078470535139859                                                            \n",
      " 36%|██▌    | 18/50 [17:20<35:28, 66.50s/trial, best loss: -0.807751029853756]"
     ]
    },
    {
     "name": "stderr",
     "output_type": "stream",
     "text": [
      "/Users/ndueser/Documents/Niklas/ML_Seminar/lib/python3.10/site-packages/xgboost/sklearn.py:835: UserWarning: `early_stopping_rounds` in `fit` method is deprecated for better compatibility with scikit-learn, use `early_stopping_rounds` in constructor or`set_params` instead.\n",
      "  warnings.warn(\n",
      "\n"
     ]
    },
    {
     "name": "stdout",
     "output_type": "stream",
     "text": [
      "SCORE:                                                                        \n",
      "0.808800888538936                                                             \n",
      " 38%|██▋    | 19/50 [18:13<32:21, 62.64s/trial, best loss: -0.807751029853756]"
     ]
    },
    {
     "name": "stderr",
     "output_type": "stream",
     "text": [
      "/Users/ndueser/Documents/Niklas/ML_Seminar/lib/python3.10/site-packages/xgboost/sklearn.py:835: UserWarning: `early_stopping_rounds` in `fit` method is deprecated for better compatibility with scikit-learn, use `early_stopping_rounds` in constructor or`set_params` instead.\n",
      "  warnings.warn(\n",
      "\n"
     ]
    },
    {
     "name": "stdout",
     "output_type": "stream",
     "text": [
      "SCORE:                                                                        \n",
      "0.8205797908604681                                                            \n",
      " 40%|██▊    | 20/50 [19:07<29:57, 59.91s/trial, best loss: -0.807751029853756]"
     ]
    },
    {
     "name": "stderr",
     "output_type": "stream",
     "text": [
      "/Users/ndueser/Documents/Niklas/ML_Seminar/lib/python3.10/site-packages/xgboost/sklearn.py:835: UserWarning: `early_stopping_rounds` in `fit` method is deprecated for better compatibility with scikit-learn, use `early_stopping_rounds` in constructor or`set_params` instead.\n",
      "  warnings.warn(\n",
      "\n"
     ]
    },
    {
     "name": "stdout",
     "output_type": "stream",
     "text": [
      "SCORE:                                                                        \n",
      "0.8091913847572042                                                            \n",
      " 42%|██▌   | 21/50 [20:05<28:40, 59.33s/trial, best loss: -0.8079814866383077]"
     ]
    },
    {
     "name": "stderr",
     "output_type": "stream",
     "text": [
      "/Users/ndueser/Documents/Niklas/ML_Seminar/lib/python3.10/site-packages/xgboost/sklearn.py:835: UserWarning: `early_stopping_rounds` in `fit` method is deprecated for better compatibility with scikit-learn, use `early_stopping_rounds` in constructor or`set_params` instead.\n",
      "  warnings.warn(\n",
      "\n"
     ]
    },
    {
     "name": "stdout",
     "output_type": "stream",
     "text": [
      "SCORE:                                                                        \n",
      "0.8092393965873191                                                            \n",
      " 44%|██▋   | 22/50 [21:02<27:23, 58.69s/trial, best loss: -0.8079814866383077]"
     ]
    },
    {
     "name": "stderr",
     "output_type": "stream",
     "text": [
      "/Users/ndueser/Documents/Niklas/ML_Seminar/lib/python3.10/site-packages/xgboost/sklearn.py:835: UserWarning: `early_stopping_rounds` in `fit` method is deprecated for better compatibility with scikit-learn, use `early_stopping_rounds` in constructor or`set_params` instead.\n",
      "  warnings.warn(\n",
      "\n"
     ]
    },
    {
     "name": "stdout",
     "output_type": "stream",
     "text": [
      "SCORE:                                                                        \n",
      "0.8091369713497406                                                            \n",
      " 46%|██▊   | 23/50 [21:58<26:06, 58.02s/trial, best loss: -0.8079814866383077]"
     ]
    },
    {
     "name": "stderr",
     "output_type": "stream",
     "text": [
      "/Users/ndueser/Documents/Niklas/ML_Seminar/lib/python3.10/site-packages/xgboost/sklearn.py:835: UserWarning: `early_stopping_rounds` in `fit` method is deprecated for better compatibility with scikit-learn, use `early_stopping_rounds` in constructor or`set_params` instead.\n",
      "  warnings.warn(\n",
      "\n"
     ]
    },
    {
     "name": "stdout",
     "output_type": "stream",
     "text": [
      "SCORE:                                                                        \n",
      "0.809130569772392                                                             \n",
      " 48%|██▉   | 24/50 [22:55<25:01, 57.76s/trial, best loss: -0.8079814866383077]"
     ]
    },
    {
     "name": "stderr",
     "output_type": "stream",
     "text": [
      "/Users/ndueser/Documents/Niklas/ML_Seminar/lib/python3.10/site-packages/xgboost/sklearn.py:835: UserWarning: `early_stopping_rounds` in `fit` method is deprecated for better compatibility with scikit-learn, use `early_stopping_rounds` in constructor or`set_params` instead.\n",
      "  warnings.warn(\n",
      "\n"
     ]
    },
    {
     "name": "stdout",
     "output_type": "stream",
     "text": [
      "SCORE:                                                                        \n",
      "0.809549873088729                                                             \n",
      " 50%|█▌ | 25/50 [56:48<4:30:54, 650.20s/trial, best loss: -0.8079814866383077]"
     ]
    },
    {
     "name": "stderr",
     "output_type": "stream",
     "text": [
      "/Users/ndueser/Documents/Niklas/ML_Seminar/lib/python3.10/site-packages/xgboost/sklearn.py:835: UserWarning: `early_stopping_rounds` in `fit` method is deprecated for better compatibility with scikit-learn, use `early_stopping_rounds` in constructor or`set_params` instead.\n",
      "  warnings.warn(\n",
      "\n"
     ]
    },
    {
     "name": "stdout",
     "output_type": "stream",
     "text": [
      "SCORE:                                                                        \n",
      "0.8096747038470279                                                            \n",
      " 52%|▌| 26/50 [3:38:35<22:26:59, 3367.50s/trial, best loss: -0.807981486638307"
     ]
    },
    {
     "name": "stderr",
     "output_type": "stream",
     "text": [
      "/Users/ndueser/Documents/Niklas/ML_Seminar/lib/python3.10/site-packages/xgboost/sklearn.py:835: UserWarning: `early_stopping_rounds` in `fit` method is deprecated for better compatibility with scikit-learn, use `early_stopping_rounds` in constructor or`set_params` instead.\n",
      "  warnings.warn(\n",
      "\n"
     ]
    },
    {
     "name": "stdout",
     "output_type": "stream",
     "text": [
      "SCORE:                                                                        \n",
      "0.8098635503788133                                                            \n",
      " 54%|▌| 27/50 [6:28:27<34:35:45, 5415.04s/trial, best loss: -0.807981486638307"
     ]
    },
    {
     "name": "stderr",
     "output_type": "stream",
     "text": [
      "/Users/ndueser/Documents/Niklas/ML_Seminar/lib/python3.10/site-packages/xgboost/sklearn.py:835: UserWarning: `early_stopping_rounds` in `fit` method is deprecated for better compatibility with scikit-learn, use `early_stopping_rounds` in constructor or`set_params` instead.\n",
      "  warnings.warn(\n",
      "\n"
     ]
    },
    {
     "name": "stdout",
     "output_type": "stream",
     "text": [
      "SCORE:                                                                        \n",
      "0.810190030823595                                                             \n",
      " 56%|▌| 28/50 [9:27:48<42:53:38, 7019.00s/trial, best loss: -0.807981486638307"
     ]
    },
    {
     "name": "stderr",
     "output_type": "stream",
     "text": [
      "/Users/ndueser/Documents/Niklas/ML_Seminar/lib/python3.10/site-packages/xgboost/sklearn.py:835: UserWarning: `early_stopping_rounds` in `fit` method is deprecated for better compatibility with scikit-learn, use `early_stopping_rounds` in constructor or`set_params` instead.\n",
      "  warnings.warn(\n",
      "\n"
     ]
    },
    {
     "name": "stdout",
     "output_type": "stream",
     "text": [
      "SCORE:                                                                        \n",
      "0.8113807242104455                                                            \n",
      " 58%|▌| 29/50 [10:00:24<32:04:59, 5499.96s/trial, best loss: -0.80798148663830"
     ]
    },
    {
     "name": "stderr",
     "output_type": "stream",
     "text": [
      "/Users/ndueser/Documents/Niklas/ML_Seminar/lib/python3.10/site-packages/xgboost/sklearn.py:835: UserWarning: `early_stopping_rounds` in `fit` method is deprecated for better compatibility with scikit-learn, use `early_stopping_rounds` in constructor or`set_params` instead.\n",
      "  warnings.warn(\n",
      "\n"
     ]
    },
    {
     "name": "stdout",
     "output_type": "stream",
     "text": [
      "SCORE:                                                                        \n",
      "0.8098251409147214                                                            \n",
      " 60%|▌| 30/50 [10:01:19<21:28:46, 3866.30s/trial, best loss: -0.80801029373637"
     ]
    },
    {
     "name": "stderr",
     "output_type": "stream",
     "text": [
      "/Users/ndueser/Documents/Niklas/ML_Seminar/lib/python3.10/site-packages/xgboost/sklearn.py:835: UserWarning: `early_stopping_rounds` in `fit` method is deprecated for better compatibility with scikit-learn, use `early_stopping_rounds` in constructor or`set_params` instead.\n",
      "  warnings.warn(\n",
      "\n"
     ]
    },
    {
     "name": "stdout",
     "output_type": "stream",
     "text": [
      "SCORE:                                                                        \n",
      "0.809335420247549                                                             \n",
      " 62%|▌| 31/50 [10:02:19<14:22:43, 2724.37s/trial, best loss: -0.80801029373637"
     ]
    },
    {
     "name": "stderr",
     "output_type": "stream",
     "text": [
      "/Users/ndueser/Documents/Niklas/ML_Seminar/lib/python3.10/site-packages/xgboost/sklearn.py:835: UserWarning: `early_stopping_rounds` in `fit` method is deprecated for better compatibility with scikit-learn, use `early_stopping_rounds` in constructor or`set_params` instead.\n",
      "  warnings.warn(\n",
      "\n"
     ]
    },
    {
     "name": "stdout",
     "output_type": "stream",
     "text": [
      "SCORE:                                                                        \n",
      "0.8143574576775717                                                            \n",
      " 64%|▋| 32/50 [10:03:08<9:36:32, 1921.79s/trial, best loss: -0.808010293736376"
     ]
    },
    {
     "name": "stderr",
     "output_type": "stream",
     "text": [
      "/Users/ndueser/Documents/Niklas/ML_Seminar/lib/python3.10/site-packages/xgboost/sklearn.py:835: UserWarning: `early_stopping_rounds` in `fit` method is deprecated for better compatibility with scikit-learn, use `early_stopping_rounds` in constructor or`set_params` instead.\n",
      "  warnings.warn(\n",
      "\n"
     ]
    },
    {
     "name": "stdout",
     "output_type": "stream",
     "text": [
      "SCORE:                                                                        \n",
      "0.8109774248374799                                                            \n",
      " 66%|▋| 33/50 [10:04:21<6:27:24, 1367.30s/trial, best loss: -0.808010293736376"
     ]
    },
    {
     "name": "stderr",
     "output_type": "stream",
     "text": [
      "/Users/ndueser/Documents/Niklas/ML_Seminar/lib/python3.10/site-packages/xgboost/sklearn.py:835: UserWarning: `early_stopping_rounds` in `fit` method is deprecated for better compatibility with scikit-learn, use `early_stopping_rounds` in constructor or`set_params` instead.\n",
      "  warnings.warn(\n",
      "\n"
     ]
    },
    {
     "name": "stdout",
     "output_type": "stream",
     "text": [
      "SCORE:                                                                        \n",
      "0.8100748024313191                                                            \n",
      " 68%|▋| 34/50 [10:05:32<4:20:55, 978.46s/trial, best loss: -0.8080102937363767"
     ]
    },
    {
     "name": "stderr",
     "output_type": "stream",
     "text": [
      "/Users/ndueser/Documents/Niklas/ML_Seminar/lib/python3.10/site-packages/xgboost/sklearn.py:835: UserWarning: `early_stopping_rounds` in `fit` method is deprecated for better compatibility with scikit-learn, use `early_stopping_rounds` in constructor or`set_params` instead.\n",
      "  warnings.warn(\n",
      "\n"
     ]
    },
    {
     "name": "stdout",
     "output_type": "stream",
     "text": [
      "SCORE:                                                                        \n",
      "0.8088617035237482                                                            \n",
      " 70%|▋| 35/50 [10:06:23<2:55:03, 700.23s/trial, best loss: -0.8080102937363767"
     ]
    },
    {
     "name": "stderr",
     "output_type": "stream",
     "text": [
      "/Users/ndueser/Documents/Niklas/ML_Seminar/lib/python3.10/site-packages/xgboost/sklearn.py:835: UserWarning: `early_stopping_rounds` in `fit` method is deprecated for better compatibility with scikit-learn, use `early_stopping_rounds` in constructor or`set_params` instead.\n",
      "  warnings.warn(\n",
      "\n"
     ]
    },
    {
     "name": "stdout",
     "output_type": "stream",
     "text": [
      "SCORE:                                                                        \n",
      "0.8096490975376333                                                            \n",
      " 72%|▋| 36/50 [10:07:07<1:57:27, 503.40s/trial, best loss: -0.8080102937363767"
     ]
    },
    {
     "name": "stderr",
     "output_type": "stream",
     "text": [
      "/Users/ndueser/Documents/Niklas/ML_Seminar/lib/python3.10/site-packages/xgboost/sklearn.py:835: UserWarning: `early_stopping_rounds` in `fit` method is deprecated for better compatibility with scikit-learn, use `early_stopping_rounds` in constructor or`set_params` instead.\n",
      "  warnings.warn(\n",
      "\n"
     ]
    },
    {
     "name": "stdout",
     "output_type": "stream",
     "text": [
      "SCORE:                                                                        \n",
      "0.8108333893471351                                                            \n",
      " 74%|▋| 37/50 [10:08:36<1:22:07, 379.07s/trial, best loss: -0.8080102937363767"
     ]
    },
    {
     "name": "stderr",
     "output_type": "stream",
     "text": [
      "/Users/ndueser/Documents/Niklas/ML_Seminar/lib/python3.10/site-packages/xgboost/sklearn.py:835: UserWarning: `early_stopping_rounds` in `fit` method is deprecated for better compatibility with scikit-learn, use `early_stopping_rounds` in constructor or`set_params` instead.\n",
      "  warnings.warn(\n",
      "\n"
     ]
    },
    {
     "name": "stdout",
     "output_type": "stream",
     "text": [
      "SCORE:                                                                        \n",
      "0.8078502543026602                                                            \n",
      " 76%|█▌| 38/50 [10:09:21<55:45, 278.76s/trial, best loss: -0.8080102937363767]"
     ]
    },
    {
     "name": "stderr",
     "output_type": "stream",
     "text": [
      "/Users/ndueser/Documents/Niklas/ML_Seminar/lib/python3.10/site-packages/xgboost/sklearn.py:835: UserWarning: `early_stopping_rounds` in `fit` method is deprecated for better compatibility with scikit-learn, use `early_stopping_rounds` in constructor or`set_params` instead.\n",
      "  warnings.warn(\n",
      "\n"
     ]
    },
    {
     "name": "stdout",
     "output_type": "stream",
     "text": [
      "SCORE:                                                                        \n",
      "0.8109742240488056                                                            \n",
      " 78%|█▌| 39/50 [10:10:38<39:58, 218.08s/trial, best loss: -0.8080102937363767]"
     ]
    },
    {
     "name": "stderr",
     "output_type": "stream",
     "text": [
      "/Users/ndueser/Documents/Niklas/ML_Seminar/lib/python3.10/site-packages/xgboost/sklearn.py:835: UserWarning: `early_stopping_rounds` in `fit` method is deprecated for better compatibility with scikit-learn, use `early_stopping_rounds` in constructor or`set_params` instead.\n",
      "  warnings.warn(\n",
      "\n"
     ]
    },
    {
     "name": "stdout",
     "output_type": "stream",
     "text": [
      "SCORE:                                                                        \n",
      "0.8087848845955643                                                            \n",
      " 80%|█▌| 40/50 [10:11:13<27:11, 163.15s/trial, best loss: -0.8080102937363767]"
     ]
    },
    {
     "name": "stderr",
     "output_type": "stream",
     "text": [
      "/Users/ndueser/Documents/Niklas/ML_Seminar/lib/python3.10/site-packages/xgboost/sklearn.py:835: UserWarning: `early_stopping_rounds` in `fit` method is deprecated for better compatibility with scikit-learn, use `early_stopping_rounds` in constructor or`set_params` instead.\n",
      "  warnings.warn(\n",
      "\n"
     ]
    },
    {
     "name": "stdout",
     "output_type": "stream",
     "text": [
      "SCORE:                                                                        \n",
      "0.8090025382254188                                                            \n",
      " 82%|█▋| 41/50 [10:12:12<19:47, 131.90s/trial, best loss: -0.8080102937363767]"
     ]
    },
    {
     "name": "stderr",
     "output_type": "stream",
     "text": [
      "/Users/ndueser/Documents/Niklas/ML_Seminar/lib/python3.10/site-packages/xgboost/sklearn.py:835: UserWarning: `early_stopping_rounds` in `fit` method is deprecated for better compatibility with scikit-learn, use `early_stopping_rounds` in constructor or`set_params` instead.\n",
      "  warnings.warn(\n",
      "\n"
     ]
    },
    {
     "name": "stdout",
     "output_type": "stream",
     "text": [
      "SCORE:                                                                        \n",
      "0.8110702477090355                                                            \n",
      " 84%|█▋| 42/50 [10:13:49<16:11, 121.47s/trial, best loss: -0.8080102937363767]"
     ]
    },
    {
     "name": "stderr",
     "output_type": "stream",
     "text": [
      "/Users/ndueser/Documents/Niklas/ML_Seminar/lib/python3.10/site-packages/xgboost/sklearn.py:835: UserWarning: `early_stopping_rounds` in `fit` method is deprecated for better compatibility with scikit-learn, use `early_stopping_rounds` in constructor or`set_params` instead.\n",
      "  warnings.warn(\n",
      "\n"
     ]
    },
    {
     "name": "stdout",
     "output_type": "stream",
     "text": [
      "SCORE:                                                                        \n",
      "0.8086376483165452                                                            \n",
      " 86%|█▋| 43/50 [10:14:44<11:50, 101.54s/trial, best loss: -0.8080102937363767]"
     ]
    },
    {
     "name": "stderr",
     "output_type": "stream",
     "text": [
      "/Users/ndueser/Documents/Niklas/ML_Seminar/lib/python3.10/site-packages/xgboost/sklearn.py:835: UserWarning: `early_stopping_rounds` in `fit` method is deprecated for better compatibility with scikit-learn, use `early_stopping_rounds` in constructor or`set_params` instead.\n",
      "  warnings.warn(\n",
      "\n"
     ]
    },
    {
     "name": "stdout",
     "output_type": "stream",
     "text": [
      "SCORE:                                                                        \n",
      "0.808480809671503                                                             \n",
      " 88%|██▋| 44/50 [10:15:33<08:35, 85.99s/trial, best loss: -0.8080102937363767]"
     ]
    },
    {
     "name": "stderr",
     "output_type": "stream",
     "text": [
      "/Users/ndueser/Documents/Niklas/ML_Seminar/lib/python3.10/site-packages/xgboost/sklearn.py:835: UserWarning: `early_stopping_rounds` in `fit` method is deprecated for better compatibility with scikit-learn, use `early_stopping_rounds` in constructor or`set_params` instead.\n",
      "  warnings.warn(\n",
      "\n"
     ]
    },
    {
     "name": "stdout",
     "output_type": "stream",
     "text": [
      "SCORE:                                                                        \n",
      "0.8094442470624762                                                            \n",
      " 90%|██▋| 45/50 [10:16:57<07:06, 85.36s/trial, best loss: -0.8080102937363767]"
     ]
    },
    {
     "name": "stderr",
     "output_type": "stream",
     "text": [
      "/Users/ndueser/Documents/Niklas/ML_Seminar/lib/python3.10/site-packages/xgboost/sklearn.py:835: UserWarning: `early_stopping_rounds` in `fit` method is deprecated for better compatibility with scikit-learn, use `early_stopping_rounds` in constructor or`set_params` instead.\n",
      "  warnings.warn(\n",
      "\n"
     ]
    },
    {
     "name": "stdout",
     "output_type": "stream",
     "text": [
      "SCORE:                                                                        \n",
      "0.8095306683566831                                                            \n",
      " 92%|██▊| 46/50 [10:18:19<05:36, 84.17s/trial, best loss: -0.8080102937363767]"
     ]
    },
    {
     "name": "stderr",
     "output_type": "stream",
     "text": [
      "/Users/ndueser/Documents/Niklas/ML_Seminar/lib/python3.10/site-packages/xgboost/sklearn.py:835: UserWarning: `early_stopping_rounds` in `fit` method is deprecated for better compatibility with scikit-learn, use `early_stopping_rounds` in constructor or`set_params` instead.\n",
      "  warnings.warn(\n",
      "\n"
     ]
    },
    {
     "name": "stdout",
     "output_type": "stream",
     "text": [
      "SCORE:                                                                        \n",
      "0.8096554991149819                                                            \n",
      " 94%|██▊| 47/50 [10:19:08<03:41, 73.77s/trial, best loss: -0.8080102937363767]"
     ]
    },
    {
     "name": "stderr",
     "output_type": "stream",
     "text": [
      "/Users/ndueser/Documents/Niklas/ML_Seminar/lib/python3.10/site-packages/xgboost/sklearn.py:835: UserWarning: `early_stopping_rounds` in `fit` method is deprecated for better compatibility with scikit-learn, use `early_stopping_rounds` in constructor or`set_params` instead.\n",
      "  warnings.warn(\n",
      "\n"
     ]
    },
    {
     "name": "stdout",
     "output_type": "stream",
     "text": [
      "SCORE:                                                                        \n",
      "0.8117904251607596                                                            \n",
      " 96%|██▉| 48/50 [10:20:38<02:37, 78.60s/trial, best loss: -0.8080102937363767]"
     ]
    },
    {
     "name": "stderr",
     "output_type": "stream",
     "text": [
      "/Users/ndueser/Documents/Niklas/ML_Seminar/lib/python3.10/site-packages/xgboost/sklearn.py:835: UserWarning: `early_stopping_rounds` in `fit` method is deprecated for better compatibility with scikit-learn, use `early_stopping_rounds` in constructor or`set_params` instead.\n",
      "  warnings.warn(\n",
      "\n"
     ]
    },
    {
     "name": "stdout",
     "output_type": "stream",
     "text": [
      "SCORE:                                                                        \n",
      "0.8158874346639012                                                            \n",
      " 98%|██▉| 49/50 [10:22:27<01:27, 87.76s/trial, best loss: -0.8080102937363767]"
     ]
    },
    {
     "name": "stderr",
     "output_type": "stream",
     "text": [
      "/Users/ndueser/Documents/Niklas/ML_Seminar/lib/python3.10/site-packages/xgboost/sklearn.py:835: UserWarning: `early_stopping_rounds` in `fit` method is deprecated for better compatibility with scikit-learn, use `early_stopping_rounds` in constructor or`set_params` instead.\n",
      "  warnings.warn(\n",
      "\n"
     ]
    },
    {
     "name": "stdout",
     "output_type": "stream",
     "text": [
      "SCORE:                                                                        \n",
      "0.8084648057281314                                                            \n",
      "100%|██| 50/50 [10:23:20<00:00, 748.01s/trial, best loss: -0.8080102937363767]\n"
     ]
    }
   ],
   "source": [
    "trials = Trials()\n",
    "\n",
    "best_hyperparams = fmin(fn = objective,\n",
    "                        space = space,\n",
    "                        algo = tpe.suggest,\n",
    "                        max_evals = 50,\n",
    "                        trials = trials)"
   ]
  },
  {
   "cell_type": "code",
   "execution_count": 91,
   "id": "707bb8c8",
   "metadata": {},
   "outputs": [
    {
     "data": {
      "text/plain": [
       "{'colsample_bytree': 0.7835361011051029,\n",
       " 'max_depth': 4.0,\n",
       " 'min_child_weight': 7.0,\n",
       " 'n_estimators': 3,\n",
       " 'reg_alpha': 33.0,\n",
       " 'reg_lambda': 0.46159501019482946}"
      ]
     },
     "execution_count": 91,
     "metadata": {},
     "output_type": "execute_result"
    }
   ],
   "source": [
    "best_hyperparams"
   ]
  },
  {
   "cell_type": "code",
   "execution_count": 102,
   "id": "136854c5",
   "metadata": {
    "scrolled": true
   },
   "outputs": [
    {
     "name": "stderr",
     "output_type": "stream",
     "text": [
      "/var/folders/jg/_qgpsg4n22d16c3lpjt2qdk80000gn/T/ipykernel_54711/2052536915.py:12: SettingWithCopyWarning: \n",
      "A value is trying to be set on a copy of a slice from a DataFrame\n",
      "\n",
      "See the caveats in the documentation: https://pandas.pydata.org/pandas-docs/stable/user_guide/indexing.html#returning-a-view-versus-a-copy\n",
      "  trial_res['Selection'][trials.best_trial['tid']] = \"best\"\n",
      "/var/folders/jg/_qgpsg4n22d16c3lpjt2qdk80000gn/T/ipykernel_54711/2052536915.py:14: SettingWithCopyWarning: \n",
      "A value is trying to be set on a copy of a slice from a DataFrame\n",
      "\n",
      "See the caveats in the documentation: https://pandas.pydata.org/pandas-docs/stable/user_guide/indexing.html#returning-a-view-versus-a-copy\n",
      "  trial_res['n_estimators'][trial_res['n_estimators']== i] = n\n",
      "/var/folders/jg/_qgpsg4n22d16c3lpjt2qdk80000gn/T/ipykernel_54711/2052536915.py:14: SettingWithCopyWarning: \n",
      "A value is trying to be set on a copy of a slice from a DataFrame\n",
      "\n",
      "See the caveats in the documentation: https://pandas.pydata.org/pandas-docs/stable/user_guide/indexing.html#returning-a-view-versus-a-copy\n",
      "  trial_res['n_estimators'][trial_res['n_estimators']== i] = n\n",
      "/var/folders/jg/_qgpsg4n22d16c3lpjt2qdk80000gn/T/ipykernel_54711/2052536915.py:14: SettingWithCopyWarning: \n",
      "A value is trying to be set on a copy of a slice from a DataFrame\n",
      "\n",
      "See the caveats in the documentation: https://pandas.pydata.org/pandas-docs/stable/user_guide/indexing.html#returning-a-view-versus-a-copy\n",
      "  trial_res['n_estimators'][trial_res['n_estimators']== i] = n\n",
      "/var/folders/jg/_qgpsg4n22d16c3lpjt2qdk80000gn/T/ipykernel_54711/2052536915.py:14: SettingWithCopyWarning: \n",
      "A value is trying to be set on a copy of a slice from a DataFrame\n",
      "\n",
      "See the caveats in the documentation: https://pandas.pydata.org/pandas-docs/stable/user_guide/indexing.html#returning-a-view-versus-a-copy\n",
      "  trial_res['n_estimators'][trial_res['n_estimators']== i] = n\n"
     ]
    }
   ],
   "source": [
    "trial_res = pd.DataFrame()\n",
    "for keys in trials.trials[0]['misc']['vals'].keys():\n",
    "    trial_res[keys] = pd.Series([trial['misc']['vals'][keys] for trial in trials.trials])\n",
    "trial_res = trial_res.apply(pd.Series.squeeze)\n",
    "trial_res['train_accuracy'] = [trial['result']['accuracy'] for trial in trials.trials]\n",
    "trial_res['val_accuracy'] = [trial['result']['val_accuracy'] for trial in trials.trials]\n",
    "trial_res['delta_accuracy'] = [trial['result']['delta_accuracy'] for trial in trials.trials]\n",
    "col_names = list(trial_res)\n",
    "trial_res = pd.concat((pd.DataFrame(trial_res[col].tolist()) for col in list(trial_res)), axis=1)\n",
    "trial_res.columns = col_names\n",
    "trial_res['Selection'] = np.zeros(len(trial_res))\n",
    "trial_res['Selection'][trials.best_trial['tid']] = \"best\"\n",
    "for i, n in zip([300, 400, 500, 600], [300, 400, 500, 600]):\n",
    "    trial_res['n_estimators'][trial_res['n_estimators']== i] = n"
   ]
  },
  {
   "cell_type": "code",
   "execution_count": 108,
   "id": "41d10996",
   "metadata": {},
   "outputs": [],
   "source": [
    "trial_res.to_csv('out.csv',index=False)"
   ]
  },
  {
   "cell_type": "code",
   "execution_count": 6,
   "id": "423efca2",
   "metadata": {},
   "outputs": [],
   "source": [
    "trial_res = pd.read_csv('out.csv')"
   ]
  },
  {
   "cell_type": "code",
   "execution_count": 15,
   "id": "387ff1a1",
   "metadata": {},
   "outputs": [
    {
     "data": {
      "text/html": [
       "<div>\n",
       "<style scoped>\n",
       "    .dataframe tbody tr th:only-of-type {\n",
       "        vertical-align: middle;\n",
       "    }\n",
       "\n",
       "    .dataframe tbody tr th {\n",
       "        vertical-align: top;\n",
       "    }\n",
       "\n",
       "    .dataframe thead th {\n",
       "        text-align: right;\n",
       "    }\n",
       "</style>\n",
       "<table border=\"1\" class=\"dataframe\">\n",
       "  <thead>\n",
       "    <tr style=\"text-align: right;\">\n",
       "      <th></th>\n",
       "      <th>colsample_bytree</th>\n",
       "      <th>max_depth</th>\n",
       "      <th>min_child_weight</th>\n",
       "      <th>n_estimators</th>\n",
       "      <th>reg_alpha</th>\n",
       "      <th>reg_lambda</th>\n",
       "      <th>train_accuracy</th>\n",
       "      <th>val_accuracy</th>\n",
       "      <th>delta_accuracy</th>\n",
       "      <th>Selection</th>\n",
       "    </tr>\n",
       "  </thead>\n",
       "  <tbody>\n",
       "    <tr>\n",
       "      <th>0</th>\n",
       "      <td>0.691505</td>\n",
       "      <td>8.0</td>\n",
       "      <td>4.0</td>\n",
       "      <td>2</td>\n",
       "      <td>27.0</td>\n",
       "      <td>0.112930</td>\n",
       "      <td>0.811016</td>\n",
       "      <td>0.807617</td>\n",
       "      <td>0.003399</td>\n",
       "      <td>0.0</td>\n",
       "    </tr>\n",
       "    <tr>\n",
       "      <th>1</th>\n",
       "      <td>0.841174</td>\n",
       "      <td>7.0</td>\n",
       "      <td>0.0</td>\n",
       "      <td>2</td>\n",
       "      <td>46.0</td>\n",
       "      <td>0.597406</td>\n",
       "      <td>0.809089</td>\n",
       "      <td>0.807223</td>\n",
       "      <td>0.001866</td>\n",
       "      <td>0.0</td>\n",
       "    </tr>\n",
       "    <tr>\n",
       "      <th>2</th>\n",
       "      <td>0.758157</td>\n",
       "      <td>14.0</td>\n",
       "      <td>6.0</td>\n",
       "      <td>2</td>\n",
       "      <td>26.0</td>\n",
       "      <td>0.962773</td>\n",
       "      <td>0.811643</td>\n",
       "      <td>0.807559</td>\n",
       "      <td>0.004084</td>\n",
       "      <td>0.0</td>\n",
       "    </tr>\n",
       "    <tr>\n",
       "      <th>3</th>\n",
       "      <td>0.744317</td>\n",
       "      <td>14.0</td>\n",
       "      <td>1.0</td>\n",
       "      <td>0</td>\n",
       "      <td>1.0</td>\n",
       "      <td>0.783146</td>\n",
       "      <td>0.876875</td>\n",
       "      <td>0.796497</td>\n",
       "      <td>0.080378</td>\n",
       "      <td>0.0</td>\n",
       "    </tr>\n",
       "    <tr>\n",
       "      <th>4</th>\n",
       "      <td>0.710051</td>\n",
       "      <td>6.0</td>\n",
       "      <td>5.0</td>\n",
       "      <td>0</td>\n",
       "      <td>46.0</td>\n",
       "      <td>0.741247</td>\n",
       "      <td>0.807719</td>\n",
       "      <td>0.806147</td>\n",
       "      <td>0.001572</td>\n",
       "      <td>0.0</td>\n",
       "    </tr>\n",
       "  </tbody>\n",
       "</table>\n",
       "</div>"
      ],
      "text/plain": [
       "   colsample_bytree  max_depth  min_child_weight  n_estimators  reg_alpha  \\\n",
       "0          0.691505        8.0               4.0             2       27.0   \n",
       "1          0.841174        7.0               0.0             2       46.0   \n",
       "2          0.758157       14.0               6.0             2       26.0   \n",
       "3          0.744317       14.0               1.0             0        1.0   \n",
       "4          0.710051        6.0               5.0             0       46.0   \n",
       "\n",
       "   reg_lambda  train_accuracy  val_accuracy  delta_accuracy Selection  \n",
       "0    0.112930        0.811016      0.807617        0.003399       0.0  \n",
       "1    0.597406        0.809089      0.807223        0.001866       0.0  \n",
       "2    0.962773        0.811643      0.807559        0.004084       0.0  \n",
       "3    0.783146        0.876875      0.796497        0.080378       0.0  \n",
       "4    0.741247        0.807719      0.806147        0.001572       0.0  "
      ]
     },
     "execution_count": 15,
     "metadata": {},
     "output_type": "execute_result"
    }
   ],
   "source": [
    "trial_res.head()"
   ]
  },
  {
   "cell_type": "code",
   "execution_count": 12,
   "id": "f66a2427",
   "metadata": {},
   "outputs": [],
   "source": [
    "best_hyperparams = {'colsample_bytree': 0.7835361011051029,\n",
    " 'max_depth': 4.0,\n",
    " 'min_child_weight': 7.0,\n",
    " 'n_estimators': 3,\n",
    " 'reg_alpha': 33.0,\n",
    " 'reg_lambda': 0.46159501019482946}"
   ]
  },
  {
   "cell_type": "code",
   "execution_count": 13,
   "id": "2862566d",
   "metadata": {},
   "outputs": [],
   "source": [
    "%matplotlib inline\n",
    "sns.set(font_scale = 3)\n",
    "sns.pairplot(trial_res, x_vars=['n_estimators', 'colsample_bytree', 'max_depth', 'min_child_weight', 'reg_alpha', 'reg_lambda' ], y_vars=['train_accuracy','val_accuracy','delta_accuracy'], kind='reg',  height=5, hue = 'Selection')\n"
   ]
  },
  {
   "cell_type": "code",
   "execution_count": null,
   "id": "24bdd84a",
   "metadata": {},
   "outputs": [],
   "source": [
    "%matplotlib inline\n",
    "sns.set(font_scale = 3)\n",
    "sns.pairplot(trial_res, x_vars=['n_estimators', 'colsample_bytree', 'max_depth', 'min_child_weight', 'reg_alpha', 'reg_lambda' ], y_vars=['train_accuracy','val_accuracy','delta_accuracy'], kind='reg',  height=5, hue = 'Selection')\n",
    "plt.show()\n",
    "#sns.pairplot(trial_res.head(1), x_vars=[ 'colsample_bytree', 'gamma', 'max_depth', 'min_child_weight', 'reg_alpha', 'reg_lambda' ], y_vars=['accuracy','val_accuracy','delta_accuracy'], kind='reg',  height=5)"
   ]
  },
  {
   "cell_type": "code",
   "execution_count": 106,
   "id": "9a135cb2",
   "metadata": {},
   "outputs": [
    {
     "data": {
      "text/plain": [
       "<seaborn.axisgrid.PairGrid at 0x2818e1d80>"
      ]
     },
     "execution_count": 106,
     "metadata": {},
     "output_type": "execute_result"
    }
   ],
   "source": [
    "sns.set(font_scale = 3)\n",
    "sns.pairplot(trial_res, x_vars=['n_estimators', 'colsample_bytree', 'max_depth', 'min_child_weight', 'reg_alpha', 'reg_lambda' ], y_vars=['train_accuracy','val_accuracy','delta_accuracy'], kind='reg',  height=5, hue = 'Selection')"
   ]
  },
  {
   "cell_type": "code",
   "execution_count": 105,
   "id": "7adb0ede",
   "metadata": {},
   "outputs": [
    {
     "data": {
      "text/plain": [
       "{'colsample_bytree': 0.7835361011051029,\n",
       " 'max_depth': 4.0,\n",
       " 'min_child_weight': 7.0,\n",
       " 'n_estimators': 3,\n",
       " 'reg_alpha': 33.0,\n",
       " 'reg_lambda': 0.46159501019482946}"
      ]
     },
     "execution_count": 105,
     "metadata": {},
     "output_type": "execute_result"
    }
   ],
   "source": [
    "best_hyperparams"
   ]
  },
  {
   "cell_type": "code",
   "execution_count": 95,
   "id": "081682fc",
   "metadata": {},
   "outputs": [
    {
     "name": "stdout",
     "output_type": "stream",
     "text": [
      "[0]\tvalidation_0-mlogloss:1.02997\tvalidation_1-mlogloss:1.03017\n",
      "[1]\tvalidation_0-mlogloss:0.96435\tvalidation_1-mlogloss:0.96494\n",
      "[2]\tvalidation_0-mlogloss:0.95278\tvalidation_1-mlogloss:0.95359\n",
      "[3]\tvalidation_0-mlogloss:0.91447\tvalidation_1-mlogloss:0.91577\n",
      "[4]\tvalidation_0-mlogloss:0.89488\tvalidation_1-mlogloss:0.89633\n",
      "[5]\tvalidation_0-mlogloss:0.88567\tvalidation_1-mlogloss:0.88718\n",
      "[6]\tvalidation_0-mlogloss:0.88293\tvalidation_1-mlogloss:0.88449\n",
      "[7]\tvalidation_0-mlogloss:0.86506\tvalidation_1-mlogloss:0.86668\n",
      "[8]\tvalidation_0-mlogloss:0.85043\tvalidation_1-mlogloss:0.85198\n",
      "[9]\tvalidation_0-mlogloss:0.82917\tvalidation_1-mlogloss:0.83058\n",
      "[10]\tvalidation_0-mlogloss:0.76074\tvalidation_1-mlogloss:0.76119\n",
      "[11]\tvalidation_0-mlogloss:0.72569\tvalidation_1-mlogloss:0.72607\n",
      "[12]\tvalidation_0-mlogloss:0.69752\tvalidation_1-mlogloss:0.69804\n",
      "[13]\tvalidation_0-mlogloss:0.69008\tvalidation_1-mlogloss:0.69068\n",
      "[14]\tvalidation_0-mlogloss:0.67513\tvalidation_1-mlogloss:0.67561\n",
      "[15]\tvalidation_0-mlogloss:0.67056\tvalidation_1-mlogloss:0.67100\n",
      "[16]\tvalidation_0-mlogloss:0.65577\tvalidation_1-mlogloss:0.65625\n",
      "[17]\tvalidation_0-mlogloss:0.64562\tvalidation_1-mlogloss:0.64624\n",
      "[18]\tvalidation_0-mlogloss:0.63841\tvalidation_1-mlogloss:0.63911\n",
      "[19]\tvalidation_0-mlogloss:0.62240\tvalidation_1-mlogloss:0.62289\n",
      "[20]\tvalidation_0-mlogloss:0.61291\tvalidation_1-mlogloss:0.61346\n",
      "[21]\tvalidation_0-mlogloss:0.60907\tvalidation_1-mlogloss:0.60966\n",
      "[22]\tvalidation_0-mlogloss:0.60412\tvalidation_1-mlogloss:0.60477\n",
      "[23]\tvalidation_0-mlogloss:0.60248\tvalidation_1-mlogloss:0.60326\n",
      "[24]\tvalidation_0-mlogloss:0.59034\tvalidation_1-mlogloss:0.59098\n",
      "[25]\tvalidation_0-mlogloss:0.58398\tvalidation_1-mlogloss:0.58477\n",
      "[26]\tvalidation_0-mlogloss:0.57987\tvalidation_1-mlogloss:0.58077\n",
      "[27]\tvalidation_0-mlogloss:0.57083\tvalidation_1-mlogloss:0.57163\n",
      "[28]\tvalidation_0-mlogloss:0.56051\tvalidation_1-mlogloss:0.56128\n",
      "[29]\tvalidation_0-mlogloss:0.55912\tvalidation_1-mlogloss:0.55991\n",
      "[30]\tvalidation_0-mlogloss:0.55556\tvalidation_1-mlogloss:0.55637\n",
      "[31]\tvalidation_0-mlogloss:0.55289\tvalidation_1-mlogloss:0.55372\n",
      "[32]\tvalidation_0-mlogloss:0.55177\tvalidation_1-mlogloss:0.55267\n",
      "[33]\tvalidation_0-mlogloss:0.54945\tvalidation_1-mlogloss:0.55041\n",
      "[34]\tvalidation_0-mlogloss:0.54847\tvalidation_1-mlogloss:0.54938\n",
      "[35]\tvalidation_0-mlogloss:0.54570\tvalidation_1-mlogloss:0.54666\n",
      "[36]\tvalidation_0-mlogloss:0.54368\tvalidation_1-mlogloss:0.54458\n",
      "[37]\tvalidation_0-mlogloss:0.54099\tvalidation_1-mlogloss:0.54195\n",
      "[38]\tvalidation_0-mlogloss:0.54038\tvalidation_1-mlogloss:0.54139\n",
      "[39]\tvalidation_0-mlogloss:0.53096\tvalidation_1-mlogloss:0.53187\n",
      "[40]\tvalidation_0-mlogloss:0.52948\tvalidation_1-mlogloss:0.53041\n",
      "[41]\tvalidation_0-mlogloss:0.52821\tvalidation_1-mlogloss:0.52921\n",
      "[42]\tvalidation_0-mlogloss:0.52681\tvalidation_1-mlogloss:0.52787\n",
      "[43]\tvalidation_0-mlogloss:0.52502\tvalidation_1-mlogloss:0.52608\n",
      "[44]\tvalidation_0-mlogloss:0.52357\tvalidation_1-mlogloss:0.52465\n",
      "[45]\tvalidation_0-mlogloss:0.51822\tvalidation_1-mlogloss:0.51926\n",
      "[46]\tvalidation_0-mlogloss:0.51766\tvalidation_1-mlogloss:0.51869\n",
      "[47]\tvalidation_0-mlogloss:0.51646\tvalidation_1-mlogloss:0.51753\n",
      "[48]\tvalidation_0-mlogloss:0.51579\tvalidation_1-mlogloss:0.51692\n",
      "[49]\tvalidation_0-mlogloss:0.51543\tvalidation_1-mlogloss:0.51655\n",
      "[50]\tvalidation_0-mlogloss:0.51431\tvalidation_1-mlogloss:0.51555\n",
      "[51]\tvalidation_0-mlogloss:0.51391\tvalidation_1-mlogloss:0.51524\n",
      "[52]\tvalidation_0-mlogloss:0.51323\tvalidation_1-mlogloss:0.51459\n",
      "[53]\tvalidation_0-mlogloss:0.51286\tvalidation_1-mlogloss:0.51427\n",
      "[54]\tvalidation_0-mlogloss:0.51145\tvalidation_1-mlogloss:0.51287\n",
      "[55]\tvalidation_0-mlogloss:0.50693\tvalidation_1-mlogloss:0.50828\n",
      "[56]\tvalidation_0-mlogloss:0.50672\tvalidation_1-mlogloss:0.50813\n",
      "[57]\tvalidation_0-mlogloss:0.50570\tvalidation_1-mlogloss:0.50713\n",
      "[58]\tvalidation_0-mlogloss:0.50540\tvalidation_1-mlogloss:0.50687\n",
      "[59]\tvalidation_0-mlogloss:0.50229\tvalidation_1-mlogloss:0.50375\n",
      "[60]\tvalidation_0-mlogloss:0.50167\tvalidation_1-mlogloss:0.50315\n",
      "[61]\tvalidation_0-mlogloss:0.50064\tvalidation_1-mlogloss:0.50211\n",
      "[62]\tvalidation_0-mlogloss:0.50023\tvalidation_1-mlogloss:0.50173\n",
      "[63]\tvalidation_0-mlogloss:0.49917\tvalidation_1-mlogloss:0.50061\n",
      "[64]\tvalidation_0-mlogloss:0.49444\tvalidation_1-mlogloss:0.49585\n",
      "[65]\tvalidation_0-mlogloss:0.49385\tvalidation_1-mlogloss:0.49529\n",
      "[66]\tvalidation_0-mlogloss:0.49089\tvalidation_1-mlogloss:0.49225\n",
      "[67]\tvalidation_0-mlogloss:0.49002\tvalidation_1-mlogloss:0.49136\n",
      "[68]\tvalidation_0-mlogloss:0.48950\tvalidation_1-mlogloss:0.49082\n",
      "[69]\tvalidation_0-mlogloss:0.48919\tvalidation_1-mlogloss:0.49054\n",
      "[70]\tvalidation_0-mlogloss:0.48872\tvalidation_1-mlogloss:0.49012\n",
      "[71]\tvalidation_0-mlogloss:0.48616\tvalidation_1-mlogloss:0.48748\n",
      "[72]\tvalidation_0-mlogloss:0.48590\tvalidation_1-mlogloss:0.48723\n",
      "[73]\tvalidation_0-mlogloss:0.48206\tvalidation_1-mlogloss:0.48329\n",
      "[74]\tvalidation_0-mlogloss:0.48117\tvalidation_1-mlogloss:0.48231\n",
      "[75]\tvalidation_0-mlogloss:0.48072\tvalidation_1-mlogloss:0.48185\n",
      "[76]\tvalidation_0-mlogloss:0.48066\tvalidation_1-mlogloss:0.48180\n",
      "[77]\tvalidation_0-mlogloss:0.47971\tvalidation_1-mlogloss:0.48089\n",
      "[78]\tvalidation_0-mlogloss:0.47935\tvalidation_1-mlogloss:0.48052\n",
      "[79]\tvalidation_0-mlogloss:0.47908\tvalidation_1-mlogloss:0.48028\n",
      "[80]\tvalidation_0-mlogloss:0.47889\tvalidation_1-mlogloss:0.48013\n",
      "[81]\tvalidation_0-mlogloss:0.47846\tvalidation_1-mlogloss:0.47969\n",
      "[82]\tvalidation_0-mlogloss:0.47804\tvalidation_1-mlogloss:0.47925\n",
      "[83]\tvalidation_0-mlogloss:0.47788\tvalidation_1-mlogloss:0.47912\n",
      "[84]\tvalidation_0-mlogloss:0.47762\tvalidation_1-mlogloss:0.47890\n",
      "[85]\tvalidation_0-mlogloss:0.47674\tvalidation_1-mlogloss:0.47808\n",
      "[86]\tvalidation_0-mlogloss:0.47622\tvalidation_1-mlogloss:0.47759\n",
      "[87]\tvalidation_0-mlogloss:0.47617\tvalidation_1-mlogloss:0.47756\n",
      "[88]\tvalidation_0-mlogloss:0.47541\tvalidation_1-mlogloss:0.47682\n",
      "[89]\tvalidation_0-mlogloss:0.47527\tvalidation_1-mlogloss:0.47670\n",
      "[90]\tvalidation_0-mlogloss:0.47504\tvalidation_1-mlogloss:0.47649\n",
      "[91]\tvalidation_0-mlogloss:0.47459\tvalidation_1-mlogloss:0.47611\n",
      "[92]\tvalidation_0-mlogloss:0.47349\tvalidation_1-mlogloss:0.47498\n",
      "[93]\tvalidation_0-mlogloss:0.47320\tvalidation_1-mlogloss:0.47474\n",
      "[94]\tvalidation_0-mlogloss:0.47317\tvalidation_1-mlogloss:0.47472\n",
      "[95]\tvalidation_0-mlogloss:0.47310\tvalidation_1-mlogloss:0.47468\n",
      "[96]\tvalidation_0-mlogloss:0.47244\tvalidation_1-mlogloss:0.47399\n",
      "[97]\tvalidation_0-mlogloss:0.47226\tvalidation_1-mlogloss:0.47385\n",
      "[98]\tvalidation_0-mlogloss:0.47224\tvalidation_1-mlogloss:0.47383\n",
      "[99]\tvalidation_0-mlogloss:0.47197\tvalidation_1-mlogloss:0.47361\n",
      "[100]\tvalidation_0-mlogloss:0.47175\tvalidation_1-mlogloss:0.47336\n",
      "[101]\tvalidation_0-mlogloss:0.47159\tvalidation_1-mlogloss:0.47323\n",
      "[102]\tvalidation_0-mlogloss:0.47117\tvalidation_1-mlogloss:0.47284\n",
      "[103]\tvalidation_0-mlogloss:0.47114\tvalidation_1-mlogloss:0.47283\n",
      "[104]\tvalidation_0-mlogloss:0.47100\tvalidation_1-mlogloss:0.47272\n",
      "[105]\tvalidation_0-mlogloss:0.47029\tvalidation_1-mlogloss:0.47203\n",
      "[106]\tvalidation_0-mlogloss:0.46981\tvalidation_1-mlogloss:0.47155\n",
      "[107]\tvalidation_0-mlogloss:0.46818\tvalidation_1-mlogloss:0.46985\n",
      "[108]\tvalidation_0-mlogloss:0.46791\tvalidation_1-mlogloss:0.46956\n",
      "[109]\tvalidation_0-mlogloss:0.46768\tvalidation_1-mlogloss:0.46936\n",
      "[110]\tvalidation_0-mlogloss:0.46759\tvalidation_1-mlogloss:0.46930\n",
      "[111]\tvalidation_0-mlogloss:0.46700\tvalidation_1-mlogloss:0.46877\n",
      "[112]\tvalidation_0-mlogloss:0.46689\tvalidation_1-mlogloss:0.46865\n",
      "[113]\tvalidation_0-mlogloss:0.46666\tvalidation_1-mlogloss:0.46845\n",
      "[114]\tvalidation_0-mlogloss:0.46638\tvalidation_1-mlogloss:0.46817\n",
      "[115]\tvalidation_0-mlogloss:0.46614\tvalidation_1-mlogloss:0.46794\n",
      "[116]\tvalidation_0-mlogloss:0.46601\tvalidation_1-mlogloss:0.46781\n",
      "[117]\tvalidation_0-mlogloss:0.46586\tvalidation_1-mlogloss:0.46768\n",
      "[118]\tvalidation_0-mlogloss:0.46503\tvalidation_1-mlogloss:0.46676\n",
      "[119]\tvalidation_0-mlogloss:0.46478\tvalidation_1-mlogloss:0.46655\n",
      "[120]\tvalidation_0-mlogloss:0.46424\tvalidation_1-mlogloss:0.46601\n",
      "[121]\tvalidation_0-mlogloss:0.46421\tvalidation_1-mlogloss:0.46599\n",
      "[122]\tvalidation_0-mlogloss:0.46391\tvalidation_1-mlogloss:0.46570\n",
      "[123]\tvalidation_0-mlogloss:0.46370\tvalidation_1-mlogloss:0.46549\n",
      "[124]\tvalidation_0-mlogloss:0.46246\tvalidation_1-mlogloss:0.46423\n",
      "[125]\tvalidation_0-mlogloss:0.46209\tvalidation_1-mlogloss:0.46384\n"
     ]
    },
    {
     "name": "stdout",
     "output_type": "stream",
     "text": [
      "[126]\tvalidation_0-mlogloss:0.46176\tvalidation_1-mlogloss:0.46353\n",
      "[127]\tvalidation_0-mlogloss:0.46166\tvalidation_1-mlogloss:0.46345\n",
      "[128]\tvalidation_0-mlogloss:0.46144\tvalidation_1-mlogloss:0.46327\n",
      "[129]\tvalidation_0-mlogloss:0.46136\tvalidation_1-mlogloss:0.46319\n",
      "[130]\tvalidation_0-mlogloss:0.46126\tvalidation_1-mlogloss:0.46310\n",
      "[131]\tvalidation_0-mlogloss:0.46102\tvalidation_1-mlogloss:0.46285\n",
      "[132]\tvalidation_0-mlogloss:0.46097\tvalidation_1-mlogloss:0.46282\n",
      "[133]\tvalidation_0-mlogloss:0.46069\tvalidation_1-mlogloss:0.46258\n",
      "[134]\tvalidation_0-mlogloss:0.46025\tvalidation_1-mlogloss:0.46209\n",
      "[135]\tvalidation_0-mlogloss:0.46007\tvalidation_1-mlogloss:0.46189\n",
      "[136]\tvalidation_0-mlogloss:0.45922\tvalidation_1-mlogloss:0.46105\n",
      "[137]\tvalidation_0-mlogloss:0.45900\tvalidation_1-mlogloss:0.46083\n",
      "[138]\tvalidation_0-mlogloss:0.45879\tvalidation_1-mlogloss:0.46064\n",
      "[139]\tvalidation_0-mlogloss:0.45865\tvalidation_1-mlogloss:0.46054\n",
      "[140]\tvalidation_0-mlogloss:0.45837\tvalidation_1-mlogloss:0.46029\n",
      "[141]\tvalidation_0-mlogloss:0.45817\tvalidation_1-mlogloss:0.46013\n",
      "[142]\tvalidation_0-mlogloss:0.45813\tvalidation_1-mlogloss:0.46011\n",
      "[143]\tvalidation_0-mlogloss:0.45798\tvalidation_1-mlogloss:0.45995\n",
      "[144]\tvalidation_0-mlogloss:0.45796\tvalidation_1-mlogloss:0.45994\n",
      "[145]\tvalidation_0-mlogloss:0.45794\tvalidation_1-mlogloss:0.45994\n",
      "[146]\tvalidation_0-mlogloss:0.45786\tvalidation_1-mlogloss:0.45985\n",
      "[147]\tvalidation_0-mlogloss:0.45765\tvalidation_1-mlogloss:0.45964\n",
      "[148]\tvalidation_0-mlogloss:0.45735\tvalidation_1-mlogloss:0.45931\n",
      "[149]\tvalidation_0-mlogloss:0.45713\tvalidation_1-mlogloss:0.45905\n",
      "[150]\tvalidation_0-mlogloss:0.45705\tvalidation_1-mlogloss:0.45900\n",
      "[151]\tvalidation_0-mlogloss:0.45696\tvalidation_1-mlogloss:0.45893\n",
      "[152]\tvalidation_0-mlogloss:0.45693\tvalidation_1-mlogloss:0.45891\n",
      "[153]\tvalidation_0-mlogloss:0.45689\tvalidation_1-mlogloss:0.45888\n",
      "[154]\tvalidation_0-mlogloss:0.45685\tvalidation_1-mlogloss:0.45886\n",
      "[155]\tvalidation_0-mlogloss:0.45659\tvalidation_1-mlogloss:0.45857\n",
      "[156]\tvalidation_0-mlogloss:0.45654\tvalidation_1-mlogloss:0.45853\n",
      "[157]\tvalidation_0-mlogloss:0.45646\tvalidation_1-mlogloss:0.45847\n",
      "[158]\tvalidation_0-mlogloss:0.45627\tvalidation_1-mlogloss:0.45830\n",
      "[159]\tvalidation_0-mlogloss:0.45625\tvalidation_1-mlogloss:0.45829\n",
      "[160]\tvalidation_0-mlogloss:0.45602\tvalidation_1-mlogloss:0.45806\n",
      "[161]\tvalidation_0-mlogloss:0.45592\tvalidation_1-mlogloss:0.45799\n",
      "[162]\tvalidation_0-mlogloss:0.45576\tvalidation_1-mlogloss:0.45787\n",
      "[163]\tvalidation_0-mlogloss:0.45566\tvalidation_1-mlogloss:0.45776\n",
      "[164]\tvalidation_0-mlogloss:0.45558\tvalidation_1-mlogloss:0.45771\n",
      "[165]\tvalidation_0-mlogloss:0.45498\tvalidation_1-mlogloss:0.45712\n",
      "[166]\tvalidation_0-mlogloss:0.45494\tvalidation_1-mlogloss:0.45708\n",
      "[167]\tvalidation_0-mlogloss:0.45485\tvalidation_1-mlogloss:0.45702\n",
      "[168]\tvalidation_0-mlogloss:0.45478\tvalidation_1-mlogloss:0.45696\n",
      "[169]\tvalidation_0-mlogloss:0.45459\tvalidation_1-mlogloss:0.45678\n",
      "[170]\tvalidation_0-mlogloss:0.45446\tvalidation_1-mlogloss:0.45670\n",
      "[171]\tvalidation_0-mlogloss:0.45439\tvalidation_1-mlogloss:0.45662\n",
      "[172]\tvalidation_0-mlogloss:0.45423\tvalidation_1-mlogloss:0.45645\n",
      "[173]\tvalidation_0-mlogloss:0.45421\tvalidation_1-mlogloss:0.45644\n",
      "[174]\tvalidation_0-mlogloss:0.45416\tvalidation_1-mlogloss:0.45641\n",
      "[175]\tvalidation_0-mlogloss:0.45409\tvalidation_1-mlogloss:0.45634\n",
      "[176]\tvalidation_0-mlogloss:0.45404\tvalidation_1-mlogloss:0.45629\n",
      "[177]\tvalidation_0-mlogloss:0.45386\tvalidation_1-mlogloss:0.45614\n",
      "[178]\tvalidation_0-mlogloss:0.45372\tvalidation_1-mlogloss:0.45597\n",
      "[179]\tvalidation_0-mlogloss:0.45362\tvalidation_1-mlogloss:0.45590\n",
      "[180]\tvalidation_0-mlogloss:0.45350\tvalidation_1-mlogloss:0.45579\n",
      "[181]\tvalidation_0-mlogloss:0.45348\tvalidation_1-mlogloss:0.45578\n",
      "[182]\tvalidation_0-mlogloss:0.45342\tvalidation_1-mlogloss:0.45573\n",
      "[183]\tvalidation_0-mlogloss:0.45335\tvalidation_1-mlogloss:0.45565\n",
      "[184]\tvalidation_0-mlogloss:0.45310\tvalidation_1-mlogloss:0.45543\n",
      "[185]\tvalidation_0-mlogloss:0.45298\tvalidation_1-mlogloss:0.45535\n",
      "[186]\tvalidation_0-mlogloss:0.45296\tvalidation_1-mlogloss:0.45534\n",
      "[187]\tvalidation_0-mlogloss:0.45286\tvalidation_1-mlogloss:0.45525\n",
      "[188]\tvalidation_0-mlogloss:0.45286\tvalidation_1-mlogloss:0.45525\n",
      "[189]\tvalidation_0-mlogloss:0.45282\tvalidation_1-mlogloss:0.45521\n",
      "[190]\tvalidation_0-mlogloss:0.45281\tvalidation_1-mlogloss:0.45520\n",
      "[191]\tvalidation_0-mlogloss:0.45280\tvalidation_1-mlogloss:0.45520\n",
      "[192]\tvalidation_0-mlogloss:0.45278\tvalidation_1-mlogloss:0.45519\n",
      "[193]\tvalidation_0-mlogloss:0.45272\tvalidation_1-mlogloss:0.45514\n",
      "[194]\tvalidation_0-mlogloss:0.45269\tvalidation_1-mlogloss:0.45512\n",
      "[195]\tvalidation_0-mlogloss:0.45264\tvalidation_1-mlogloss:0.45508\n",
      "[196]\tvalidation_0-mlogloss:0.45263\tvalidation_1-mlogloss:0.45507\n",
      "[197]\tvalidation_0-mlogloss:0.45244\tvalidation_1-mlogloss:0.45488\n",
      "[198]\tvalidation_0-mlogloss:0.45238\tvalidation_1-mlogloss:0.45484\n",
      "[199]\tvalidation_0-mlogloss:0.45234\tvalidation_1-mlogloss:0.45479\n",
      "[200]\tvalidation_0-mlogloss:0.45232\tvalidation_1-mlogloss:0.45478\n",
      "[201]\tvalidation_0-mlogloss:0.45226\tvalidation_1-mlogloss:0.45471\n",
      "[202]\tvalidation_0-mlogloss:0.45225\tvalidation_1-mlogloss:0.45470\n",
      "[203]\tvalidation_0-mlogloss:0.45221\tvalidation_1-mlogloss:0.45466\n",
      "[204]\tvalidation_0-mlogloss:0.45220\tvalidation_1-mlogloss:0.45466\n",
      "[205]\tvalidation_0-mlogloss:0.45217\tvalidation_1-mlogloss:0.45464\n",
      "[206]\tvalidation_0-mlogloss:0.45214\tvalidation_1-mlogloss:0.45462\n",
      "[207]\tvalidation_0-mlogloss:0.45212\tvalidation_1-mlogloss:0.45461\n",
      "[208]\tvalidation_0-mlogloss:0.45198\tvalidation_1-mlogloss:0.45444\n",
      "[209]\tvalidation_0-mlogloss:0.45196\tvalidation_1-mlogloss:0.45441\n",
      "[210]\tvalidation_0-mlogloss:0.45191\tvalidation_1-mlogloss:0.45438\n",
      "[211]\tvalidation_0-mlogloss:0.45187\tvalidation_1-mlogloss:0.45436\n",
      "[212]\tvalidation_0-mlogloss:0.45173\tvalidation_1-mlogloss:0.45420\n",
      "[213]\tvalidation_0-mlogloss:0.45170\tvalidation_1-mlogloss:0.45417\n",
      "[214]\tvalidation_0-mlogloss:0.45163\tvalidation_1-mlogloss:0.45410\n",
      "[215]\tvalidation_0-mlogloss:0.45157\tvalidation_1-mlogloss:0.45405\n",
      "[216]\tvalidation_0-mlogloss:0.45153\tvalidation_1-mlogloss:0.45402\n",
      "[217]\tvalidation_0-mlogloss:0.45152\tvalidation_1-mlogloss:0.45402\n",
      "[218]\tvalidation_0-mlogloss:0.45150\tvalidation_1-mlogloss:0.45401\n",
      "[219]\tvalidation_0-mlogloss:0.45148\tvalidation_1-mlogloss:0.45400\n",
      "[220]\tvalidation_0-mlogloss:0.45139\tvalidation_1-mlogloss:0.45392\n",
      "[221]\tvalidation_0-mlogloss:0.45135\tvalidation_1-mlogloss:0.45389\n",
      "[222]\tvalidation_0-mlogloss:0.45129\tvalidation_1-mlogloss:0.45386\n",
      "[223]\tvalidation_0-mlogloss:0.45127\tvalidation_1-mlogloss:0.45385\n",
      "[224]\tvalidation_0-mlogloss:0.45122\tvalidation_1-mlogloss:0.45381\n",
      "[225]\tvalidation_0-mlogloss:0.45119\tvalidation_1-mlogloss:0.45379\n",
      "[226]\tvalidation_0-mlogloss:0.45117\tvalidation_1-mlogloss:0.45378\n",
      "[227]\tvalidation_0-mlogloss:0.45114\tvalidation_1-mlogloss:0.45377\n",
      "[228]\tvalidation_0-mlogloss:0.45113\tvalidation_1-mlogloss:0.45377\n",
      "[229]\tvalidation_0-mlogloss:0.45102\tvalidation_1-mlogloss:0.45368\n",
      "[230]\tvalidation_0-mlogloss:0.45099\tvalidation_1-mlogloss:0.45368\n",
      "[231]\tvalidation_0-mlogloss:0.45093\tvalidation_1-mlogloss:0.45362\n",
      "[232]\tvalidation_0-mlogloss:0.45089\tvalidation_1-mlogloss:0.45358\n",
      "[233]\tvalidation_0-mlogloss:0.45073\tvalidation_1-mlogloss:0.45340\n",
      "[234]\tvalidation_0-mlogloss:0.45070\tvalidation_1-mlogloss:0.45339\n",
      "[235]\tvalidation_0-mlogloss:0.45061\tvalidation_1-mlogloss:0.45333\n",
      "[236]\tvalidation_0-mlogloss:0.45059\tvalidation_1-mlogloss:0.45331\n",
      "[237]\tvalidation_0-mlogloss:0.45058\tvalidation_1-mlogloss:0.45331\n",
      "[238]\tvalidation_0-mlogloss:0.45048\tvalidation_1-mlogloss:0.45319\n",
      "[239]\tvalidation_0-mlogloss:0.45048\tvalidation_1-mlogloss:0.45319\n",
      "[240]\tvalidation_0-mlogloss:0.45044\tvalidation_1-mlogloss:0.45317\n",
      "[241]\tvalidation_0-mlogloss:0.45036\tvalidation_1-mlogloss:0.45311\n",
      "[242]\tvalidation_0-mlogloss:0.45033\tvalidation_1-mlogloss:0.45309\n",
      "[243]\tvalidation_0-mlogloss:0.45021\tvalidation_1-mlogloss:0.45296\n",
      "[244]\tvalidation_0-mlogloss:0.45019\tvalidation_1-mlogloss:0.45295\n",
      "[245]\tvalidation_0-mlogloss:0.45016\tvalidation_1-mlogloss:0.45295\n",
      "[246]\tvalidation_0-mlogloss:0.45015\tvalidation_1-mlogloss:0.45293\n",
      "[247]\tvalidation_0-mlogloss:0.45013\tvalidation_1-mlogloss:0.45293\n",
      "[248]\tvalidation_0-mlogloss:0.45009\tvalidation_1-mlogloss:0.45288\n",
      "[249]\tvalidation_0-mlogloss:0.45006\tvalidation_1-mlogloss:0.45285\n",
      "[250]\tvalidation_0-mlogloss:0.45001\tvalidation_1-mlogloss:0.45282\n"
     ]
    },
    {
     "name": "stdout",
     "output_type": "stream",
     "text": [
      "[251]\tvalidation_0-mlogloss:0.44995\tvalidation_1-mlogloss:0.45275\n",
      "[252]\tvalidation_0-mlogloss:0.44987\tvalidation_1-mlogloss:0.45269\n",
      "[253]\tvalidation_0-mlogloss:0.44981\tvalidation_1-mlogloss:0.45261\n",
      "[254]\tvalidation_0-mlogloss:0.44980\tvalidation_1-mlogloss:0.45261\n",
      "[255]\tvalidation_0-mlogloss:0.44978\tvalidation_1-mlogloss:0.45260\n",
      "[256]\tvalidation_0-mlogloss:0.44973\tvalidation_1-mlogloss:0.45256\n",
      "[257]\tvalidation_0-mlogloss:0.44967\tvalidation_1-mlogloss:0.45253\n",
      "[258]\tvalidation_0-mlogloss:0.44961\tvalidation_1-mlogloss:0.45247\n",
      "[259]\tvalidation_0-mlogloss:0.44960\tvalidation_1-mlogloss:0.45246\n",
      "[260]\tvalidation_0-mlogloss:0.44954\tvalidation_1-mlogloss:0.45242\n",
      "[261]\tvalidation_0-mlogloss:0.44952\tvalidation_1-mlogloss:0.45241\n",
      "[262]\tvalidation_0-mlogloss:0.44920\tvalidation_1-mlogloss:0.45208\n",
      "[263]\tvalidation_0-mlogloss:0.44918\tvalidation_1-mlogloss:0.45208\n",
      "[264]\tvalidation_0-mlogloss:0.44908\tvalidation_1-mlogloss:0.45197\n",
      "[265]\tvalidation_0-mlogloss:0.44904\tvalidation_1-mlogloss:0.45194\n",
      "[266]\tvalidation_0-mlogloss:0.44902\tvalidation_1-mlogloss:0.45193\n",
      "[267]\tvalidation_0-mlogloss:0.44896\tvalidation_1-mlogloss:0.45189\n",
      "[268]\tvalidation_0-mlogloss:0.44895\tvalidation_1-mlogloss:0.45188\n",
      "[269]\tvalidation_0-mlogloss:0.44894\tvalidation_1-mlogloss:0.45187\n",
      "[270]\tvalidation_0-mlogloss:0.44869\tvalidation_1-mlogloss:0.45163\n",
      "[271]\tvalidation_0-mlogloss:0.44868\tvalidation_1-mlogloss:0.45161\n",
      "[272]\tvalidation_0-mlogloss:0.44866\tvalidation_1-mlogloss:0.45159\n",
      "[273]\tvalidation_0-mlogloss:0.44862\tvalidation_1-mlogloss:0.45156\n",
      "[274]\tvalidation_0-mlogloss:0.44859\tvalidation_1-mlogloss:0.45153\n",
      "[275]\tvalidation_0-mlogloss:0.44855\tvalidation_1-mlogloss:0.45150\n",
      "[276]\tvalidation_0-mlogloss:0.44852\tvalidation_1-mlogloss:0.45148\n",
      "[277]\tvalidation_0-mlogloss:0.44849\tvalidation_1-mlogloss:0.45146\n",
      "[278]\tvalidation_0-mlogloss:0.44848\tvalidation_1-mlogloss:0.45146\n",
      "[279]\tvalidation_0-mlogloss:0.44846\tvalidation_1-mlogloss:0.45145\n",
      "[280]\tvalidation_0-mlogloss:0.44842\tvalidation_1-mlogloss:0.45141\n",
      "[281]\tvalidation_0-mlogloss:0.44841\tvalidation_1-mlogloss:0.45141\n",
      "[282]\tvalidation_0-mlogloss:0.44839\tvalidation_1-mlogloss:0.45139\n",
      "[283]\tvalidation_0-mlogloss:0.44837\tvalidation_1-mlogloss:0.45139\n",
      "[284]\tvalidation_0-mlogloss:0.44835\tvalidation_1-mlogloss:0.45138\n",
      "[285]\tvalidation_0-mlogloss:0.44833\tvalidation_1-mlogloss:0.45137\n",
      "[286]\tvalidation_0-mlogloss:0.44829\tvalidation_1-mlogloss:0.45137\n",
      "[287]\tvalidation_0-mlogloss:0.44824\tvalidation_1-mlogloss:0.45130\n",
      "[288]\tvalidation_0-mlogloss:0.44820\tvalidation_1-mlogloss:0.45126\n",
      "[289]\tvalidation_0-mlogloss:0.44815\tvalidation_1-mlogloss:0.45124\n",
      "[290]\tvalidation_0-mlogloss:0.44814\tvalidation_1-mlogloss:0.45123\n",
      "[291]\tvalidation_0-mlogloss:0.44813\tvalidation_1-mlogloss:0.45123\n",
      "[292]\tvalidation_0-mlogloss:0.44811\tvalidation_1-mlogloss:0.45121\n",
      "[293]\tvalidation_0-mlogloss:0.44808\tvalidation_1-mlogloss:0.45118\n",
      "[294]\tvalidation_0-mlogloss:0.44807\tvalidation_1-mlogloss:0.45118\n",
      "[295]\tvalidation_0-mlogloss:0.44803\tvalidation_1-mlogloss:0.45116\n",
      "[296]\tvalidation_0-mlogloss:0.44801\tvalidation_1-mlogloss:0.45115\n",
      "[297]\tvalidation_0-mlogloss:0.44801\tvalidation_1-mlogloss:0.45115\n",
      "[298]\tvalidation_0-mlogloss:0.44797\tvalidation_1-mlogloss:0.45113\n",
      "[299]\tvalidation_0-mlogloss:0.44796\tvalidation_1-mlogloss:0.45112\n",
      "[300]\tvalidation_0-mlogloss:0.44795\tvalidation_1-mlogloss:0.45112\n",
      "[301]\tvalidation_0-mlogloss:0.44792\tvalidation_1-mlogloss:0.45111\n",
      "[302]\tvalidation_0-mlogloss:0.44792\tvalidation_1-mlogloss:0.45111\n",
      "[303]\tvalidation_0-mlogloss:0.44789\tvalidation_1-mlogloss:0.45109\n",
      "[304]\tvalidation_0-mlogloss:0.44788\tvalidation_1-mlogloss:0.45108\n",
      "[305]\tvalidation_0-mlogloss:0.44785\tvalidation_1-mlogloss:0.45106\n",
      "[306]\tvalidation_0-mlogloss:0.44785\tvalidation_1-mlogloss:0.45106\n",
      "[307]\tvalidation_0-mlogloss:0.44782\tvalidation_1-mlogloss:0.45105\n",
      "[308]\tvalidation_0-mlogloss:0.44775\tvalidation_1-mlogloss:0.45097\n",
      "[309]\tvalidation_0-mlogloss:0.44773\tvalidation_1-mlogloss:0.45096\n",
      "[310]\tvalidation_0-mlogloss:0.44772\tvalidation_1-mlogloss:0.45096\n",
      "[311]\tvalidation_0-mlogloss:0.44771\tvalidation_1-mlogloss:0.45095\n",
      "[312]\tvalidation_0-mlogloss:0.44769\tvalidation_1-mlogloss:0.45093\n",
      "[313]\tvalidation_0-mlogloss:0.44768\tvalidation_1-mlogloss:0.45092\n",
      "[314]\tvalidation_0-mlogloss:0.44767\tvalidation_1-mlogloss:0.45093\n",
      "[315]\tvalidation_0-mlogloss:0.44765\tvalidation_1-mlogloss:0.45091\n",
      "[316]\tvalidation_0-mlogloss:0.44762\tvalidation_1-mlogloss:0.45090\n",
      "[317]\tvalidation_0-mlogloss:0.44760\tvalidation_1-mlogloss:0.45089\n",
      "[318]\tvalidation_0-mlogloss:0.44755\tvalidation_1-mlogloss:0.45084\n",
      "[319]\tvalidation_0-mlogloss:0.44753\tvalidation_1-mlogloss:0.45083\n",
      "[320]\tvalidation_0-mlogloss:0.44751\tvalidation_1-mlogloss:0.45082\n",
      "[321]\tvalidation_0-mlogloss:0.44746\tvalidation_1-mlogloss:0.45077\n",
      "[322]\tvalidation_0-mlogloss:0.44741\tvalidation_1-mlogloss:0.45073\n",
      "[323]\tvalidation_0-mlogloss:0.44738\tvalidation_1-mlogloss:0.45070\n",
      "[324]\tvalidation_0-mlogloss:0.44736\tvalidation_1-mlogloss:0.45069\n",
      "[325]\tvalidation_0-mlogloss:0.44734\tvalidation_1-mlogloss:0.45068\n",
      "[326]\tvalidation_0-mlogloss:0.44732\tvalidation_1-mlogloss:0.45068\n",
      "[327]\tvalidation_0-mlogloss:0.44728\tvalidation_1-mlogloss:0.45066\n",
      "[328]\tvalidation_0-mlogloss:0.44727\tvalidation_1-mlogloss:0.45065\n",
      "[329]\tvalidation_0-mlogloss:0.44726\tvalidation_1-mlogloss:0.45066\n",
      "[330]\tvalidation_0-mlogloss:0.44724\tvalidation_1-mlogloss:0.45066\n",
      "[331]\tvalidation_0-mlogloss:0.44720\tvalidation_1-mlogloss:0.45062\n",
      "[332]\tvalidation_0-mlogloss:0.44719\tvalidation_1-mlogloss:0.45061\n",
      "[333]\tvalidation_0-mlogloss:0.44717\tvalidation_1-mlogloss:0.45059\n",
      "[334]\tvalidation_0-mlogloss:0.44714\tvalidation_1-mlogloss:0.45058\n",
      "[335]\tvalidation_0-mlogloss:0.44713\tvalidation_1-mlogloss:0.45057\n",
      "[336]\tvalidation_0-mlogloss:0.44710\tvalidation_1-mlogloss:0.45054\n",
      "[337]\tvalidation_0-mlogloss:0.44709\tvalidation_1-mlogloss:0.45054\n",
      "[338]\tvalidation_0-mlogloss:0.44708\tvalidation_1-mlogloss:0.45054\n",
      "[339]\tvalidation_0-mlogloss:0.44706\tvalidation_1-mlogloss:0.45052\n",
      "[340]\tvalidation_0-mlogloss:0.44704\tvalidation_1-mlogloss:0.45052\n",
      "[341]\tvalidation_0-mlogloss:0.44703\tvalidation_1-mlogloss:0.45052\n",
      "[342]\tvalidation_0-mlogloss:0.44702\tvalidation_1-mlogloss:0.45051\n",
      "[343]\tvalidation_0-mlogloss:0.44700\tvalidation_1-mlogloss:0.45051\n",
      "[344]\tvalidation_0-mlogloss:0.44698\tvalidation_1-mlogloss:0.45049\n",
      "[345]\tvalidation_0-mlogloss:0.44693\tvalidation_1-mlogloss:0.45046\n",
      "[346]\tvalidation_0-mlogloss:0.44691\tvalidation_1-mlogloss:0.45045\n",
      "[347]\tvalidation_0-mlogloss:0.44690\tvalidation_1-mlogloss:0.45045\n",
      "[348]\tvalidation_0-mlogloss:0.44690\tvalidation_1-mlogloss:0.45045\n",
      "[349]\tvalidation_0-mlogloss:0.44689\tvalidation_1-mlogloss:0.45045\n",
      "[350]\tvalidation_0-mlogloss:0.44687\tvalidation_1-mlogloss:0.45044\n",
      "[351]\tvalidation_0-mlogloss:0.44686\tvalidation_1-mlogloss:0.45043\n",
      "[352]\tvalidation_0-mlogloss:0.44685\tvalidation_1-mlogloss:0.45043\n",
      "[353]\tvalidation_0-mlogloss:0.44684\tvalidation_1-mlogloss:0.45042\n",
      "[354]\tvalidation_0-mlogloss:0.44682\tvalidation_1-mlogloss:0.45042\n",
      "[355]\tvalidation_0-mlogloss:0.44679\tvalidation_1-mlogloss:0.45038\n",
      "[356]\tvalidation_0-mlogloss:0.44672\tvalidation_1-mlogloss:0.45030\n",
      "[357]\tvalidation_0-mlogloss:0.44667\tvalidation_1-mlogloss:0.45024\n",
      "[358]\tvalidation_0-mlogloss:0.44666\tvalidation_1-mlogloss:0.45024\n",
      "[359]\tvalidation_0-mlogloss:0.44665\tvalidation_1-mlogloss:0.45024\n",
      "[360]\tvalidation_0-mlogloss:0.44662\tvalidation_1-mlogloss:0.45022\n",
      "[361]\tvalidation_0-mlogloss:0.44661\tvalidation_1-mlogloss:0.45021\n",
      "[362]\tvalidation_0-mlogloss:0.44657\tvalidation_1-mlogloss:0.45017\n",
      "[363]\tvalidation_0-mlogloss:0.44654\tvalidation_1-mlogloss:0.45015\n",
      "[364]\tvalidation_0-mlogloss:0.44652\tvalidation_1-mlogloss:0.45013\n",
      "[365]\tvalidation_0-mlogloss:0.44649\tvalidation_1-mlogloss:0.45009\n",
      "[366]\tvalidation_0-mlogloss:0.44648\tvalidation_1-mlogloss:0.45008\n",
      "[367]\tvalidation_0-mlogloss:0.44644\tvalidation_1-mlogloss:0.45004\n",
      "[368]\tvalidation_0-mlogloss:0.44643\tvalidation_1-mlogloss:0.45003\n",
      "[369]\tvalidation_0-mlogloss:0.44642\tvalidation_1-mlogloss:0.45002\n",
      "[370]\tvalidation_0-mlogloss:0.44638\tvalidation_1-mlogloss:0.45000\n",
      "[371]\tvalidation_0-mlogloss:0.44637\tvalidation_1-mlogloss:0.44999\n",
      "[372]\tvalidation_0-mlogloss:0.44636\tvalidation_1-mlogloss:0.44998\n",
      "[373]\tvalidation_0-mlogloss:0.44635\tvalidation_1-mlogloss:0.44998\n",
      "[374]\tvalidation_0-mlogloss:0.44632\tvalidation_1-mlogloss:0.44996\n",
      "[375]\tvalidation_0-mlogloss:0.44631\tvalidation_1-mlogloss:0.44996\n"
     ]
    },
    {
     "name": "stdout",
     "output_type": "stream",
     "text": [
      "[376]\tvalidation_0-mlogloss:0.44629\tvalidation_1-mlogloss:0.44995\n",
      "[377]\tvalidation_0-mlogloss:0.44626\tvalidation_1-mlogloss:0.44993\n",
      "[378]\tvalidation_0-mlogloss:0.44624\tvalidation_1-mlogloss:0.44992\n",
      "[379]\tvalidation_0-mlogloss:0.44623\tvalidation_1-mlogloss:0.44993\n",
      "[380]\tvalidation_0-mlogloss:0.44621\tvalidation_1-mlogloss:0.44991\n",
      "[381]\tvalidation_0-mlogloss:0.44621\tvalidation_1-mlogloss:0.44991\n",
      "[382]\tvalidation_0-mlogloss:0.44619\tvalidation_1-mlogloss:0.44989\n",
      "[383]\tvalidation_0-mlogloss:0.44617\tvalidation_1-mlogloss:0.44988\n",
      "[384]\tvalidation_0-mlogloss:0.44616\tvalidation_1-mlogloss:0.44988\n",
      "[385]\tvalidation_0-mlogloss:0.44615\tvalidation_1-mlogloss:0.44986\n",
      "[386]\tvalidation_0-mlogloss:0.44613\tvalidation_1-mlogloss:0.44985\n",
      "[387]\tvalidation_0-mlogloss:0.44613\tvalidation_1-mlogloss:0.44985\n",
      "[388]\tvalidation_0-mlogloss:0.44612\tvalidation_1-mlogloss:0.44984\n",
      "[389]\tvalidation_0-mlogloss:0.44609\tvalidation_1-mlogloss:0.44982\n",
      "[390]\tvalidation_0-mlogloss:0.44608\tvalidation_1-mlogloss:0.44982\n",
      "[391]\tvalidation_0-mlogloss:0.44604\tvalidation_1-mlogloss:0.44978\n",
      "[392]\tvalidation_0-mlogloss:0.44603\tvalidation_1-mlogloss:0.44977\n",
      "[393]\tvalidation_0-mlogloss:0.44601\tvalidation_1-mlogloss:0.44977\n",
      "[394]\tvalidation_0-mlogloss:0.44600\tvalidation_1-mlogloss:0.44976\n",
      "[395]\tvalidation_0-mlogloss:0.44599\tvalidation_1-mlogloss:0.44976\n",
      "[396]\tvalidation_0-mlogloss:0.44597\tvalidation_1-mlogloss:0.44975\n",
      "[397]\tvalidation_0-mlogloss:0.44596\tvalidation_1-mlogloss:0.44975\n",
      "[398]\tvalidation_0-mlogloss:0.44593\tvalidation_1-mlogloss:0.44971\n",
      "[399]\tvalidation_0-mlogloss:0.44592\tvalidation_1-mlogloss:0.44970\n",
      "[400]\tvalidation_0-mlogloss:0.44591\tvalidation_1-mlogloss:0.44969\n",
      "[401]\tvalidation_0-mlogloss:0.44590\tvalidation_1-mlogloss:0.44970\n",
      "[402]\tvalidation_0-mlogloss:0.44588\tvalidation_1-mlogloss:0.44968\n",
      "[403]\tvalidation_0-mlogloss:0.44587\tvalidation_1-mlogloss:0.44968\n",
      "[404]\tvalidation_0-mlogloss:0.44585\tvalidation_1-mlogloss:0.44967\n",
      "[405]\tvalidation_0-mlogloss:0.44584\tvalidation_1-mlogloss:0.44966\n",
      "[406]\tvalidation_0-mlogloss:0.44582\tvalidation_1-mlogloss:0.44965\n",
      "[407]\tvalidation_0-mlogloss:0.44581\tvalidation_1-mlogloss:0.44965\n",
      "[408]\tvalidation_0-mlogloss:0.44579\tvalidation_1-mlogloss:0.44964\n",
      "[409]\tvalidation_0-mlogloss:0.44576\tvalidation_1-mlogloss:0.44963\n",
      "[410]\tvalidation_0-mlogloss:0.44561\tvalidation_1-mlogloss:0.44947\n",
      "[411]\tvalidation_0-mlogloss:0.44560\tvalidation_1-mlogloss:0.44947\n",
      "[412]\tvalidation_0-mlogloss:0.44560\tvalidation_1-mlogloss:0.44947\n",
      "[413]\tvalidation_0-mlogloss:0.44559\tvalidation_1-mlogloss:0.44947\n",
      "[414]\tvalidation_0-mlogloss:0.44558\tvalidation_1-mlogloss:0.44947\n",
      "[415]\tvalidation_0-mlogloss:0.44557\tvalidation_1-mlogloss:0.44946\n",
      "[416]\tvalidation_0-mlogloss:0.44556\tvalidation_1-mlogloss:0.44945\n",
      "[417]\tvalidation_0-mlogloss:0.44554\tvalidation_1-mlogloss:0.44944\n",
      "[418]\tvalidation_0-mlogloss:0.44552\tvalidation_1-mlogloss:0.44942\n",
      "[419]\tvalidation_0-mlogloss:0.44540\tvalidation_1-mlogloss:0.44930\n",
      "[420]\tvalidation_0-mlogloss:0.44538\tvalidation_1-mlogloss:0.44929\n",
      "[421]\tvalidation_0-mlogloss:0.44537\tvalidation_1-mlogloss:0.44929\n",
      "[422]\tvalidation_0-mlogloss:0.44536\tvalidation_1-mlogloss:0.44929\n",
      "[423]\tvalidation_0-mlogloss:0.44535\tvalidation_1-mlogloss:0.44930\n",
      "[424]\tvalidation_0-mlogloss:0.44534\tvalidation_1-mlogloss:0.44929\n",
      "[425]\tvalidation_0-mlogloss:0.44534\tvalidation_1-mlogloss:0.44928\n",
      "[426]\tvalidation_0-mlogloss:0.44532\tvalidation_1-mlogloss:0.44928\n",
      "[427]\tvalidation_0-mlogloss:0.44532\tvalidation_1-mlogloss:0.44928\n",
      "[428]\tvalidation_0-mlogloss:0.44531\tvalidation_1-mlogloss:0.44928\n",
      "[429]\tvalidation_0-mlogloss:0.44530\tvalidation_1-mlogloss:0.44928\n",
      "[430]\tvalidation_0-mlogloss:0.44529\tvalidation_1-mlogloss:0.44927\n",
      "[431]\tvalidation_0-mlogloss:0.44528\tvalidation_1-mlogloss:0.44927\n",
      "[432]\tvalidation_0-mlogloss:0.44525\tvalidation_1-mlogloss:0.44924\n",
      "[433]\tvalidation_0-mlogloss:0.44523\tvalidation_1-mlogloss:0.44923\n",
      "[434]\tvalidation_0-mlogloss:0.44522\tvalidation_1-mlogloss:0.44923\n",
      "[435]\tvalidation_0-mlogloss:0.44518\tvalidation_1-mlogloss:0.44919\n",
      "[436]\tvalidation_0-mlogloss:0.44516\tvalidation_1-mlogloss:0.44917\n",
      "[437]\tvalidation_0-mlogloss:0.44515\tvalidation_1-mlogloss:0.44916\n",
      "[438]\tvalidation_0-mlogloss:0.44514\tvalidation_1-mlogloss:0.44916\n",
      "[439]\tvalidation_0-mlogloss:0.44514\tvalidation_1-mlogloss:0.44916\n",
      "[440]\tvalidation_0-mlogloss:0.44512\tvalidation_1-mlogloss:0.44915\n",
      "[441]\tvalidation_0-mlogloss:0.44512\tvalidation_1-mlogloss:0.44915\n",
      "[442]\tvalidation_0-mlogloss:0.44501\tvalidation_1-mlogloss:0.44903\n",
      "[443]\tvalidation_0-mlogloss:0.44500\tvalidation_1-mlogloss:0.44903\n",
      "[444]\tvalidation_0-mlogloss:0.44498\tvalidation_1-mlogloss:0.44902\n",
      "[445]\tvalidation_0-mlogloss:0.44498\tvalidation_1-mlogloss:0.44902\n",
      "[446]\tvalidation_0-mlogloss:0.44497\tvalidation_1-mlogloss:0.44902\n",
      "[447]\tvalidation_0-mlogloss:0.44497\tvalidation_1-mlogloss:0.44902\n",
      "[448]\tvalidation_0-mlogloss:0.44494\tvalidation_1-mlogloss:0.44899\n",
      "[449]\tvalidation_0-mlogloss:0.44493\tvalidation_1-mlogloss:0.44899\n",
      "[450]\tvalidation_0-mlogloss:0.44492\tvalidation_1-mlogloss:0.44899\n",
      "[451]\tvalidation_0-mlogloss:0.44489\tvalidation_1-mlogloss:0.44897\n",
      "[452]\tvalidation_0-mlogloss:0.44488\tvalidation_1-mlogloss:0.44897\n",
      "[453]\tvalidation_0-mlogloss:0.44481\tvalidation_1-mlogloss:0.44890\n",
      "[454]\tvalidation_0-mlogloss:0.44481\tvalidation_1-mlogloss:0.44890\n",
      "[455]\tvalidation_0-mlogloss:0.44481\tvalidation_1-mlogloss:0.44890\n",
      "[456]\tvalidation_0-mlogloss:0.44480\tvalidation_1-mlogloss:0.44890\n",
      "[457]\tvalidation_0-mlogloss:0.44476\tvalidation_1-mlogloss:0.44887\n",
      "[458]\tvalidation_0-mlogloss:0.44476\tvalidation_1-mlogloss:0.44887\n",
      "[459]\tvalidation_0-mlogloss:0.44475\tvalidation_1-mlogloss:0.44886\n",
      "[460]\tvalidation_0-mlogloss:0.44475\tvalidation_1-mlogloss:0.44886\n",
      "[461]\tvalidation_0-mlogloss:0.44473\tvalidation_1-mlogloss:0.44886\n",
      "[462]\tvalidation_0-mlogloss:0.44473\tvalidation_1-mlogloss:0.44886\n",
      "[463]\tvalidation_0-mlogloss:0.44472\tvalidation_1-mlogloss:0.44886\n",
      "[464]\tvalidation_0-mlogloss:0.44472\tvalidation_1-mlogloss:0.44886\n",
      "[465]\tvalidation_0-mlogloss:0.44471\tvalidation_1-mlogloss:0.44886\n",
      "[466]\tvalidation_0-mlogloss:0.44470\tvalidation_1-mlogloss:0.44885\n",
      "[467]\tvalidation_0-mlogloss:0.44469\tvalidation_1-mlogloss:0.44885\n",
      "[468]\tvalidation_0-mlogloss:0.44468\tvalidation_1-mlogloss:0.44885\n",
      "[469]\tvalidation_0-mlogloss:0.44468\tvalidation_1-mlogloss:0.44885\n",
      "[470]\tvalidation_0-mlogloss:0.44467\tvalidation_1-mlogloss:0.44883\n",
      "[471]\tvalidation_0-mlogloss:0.44466\tvalidation_1-mlogloss:0.44883\n",
      "[472]\tvalidation_0-mlogloss:0.44465\tvalidation_1-mlogloss:0.44883\n",
      "[473]\tvalidation_0-mlogloss:0.44465\tvalidation_1-mlogloss:0.44883\n",
      "[474]\tvalidation_0-mlogloss:0.44464\tvalidation_1-mlogloss:0.44883\n",
      "[475]\tvalidation_0-mlogloss:0.44464\tvalidation_1-mlogloss:0.44883\n",
      "[476]\tvalidation_0-mlogloss:0.44457\tvalidation_1-mlogloss:0.44876\n",
      "[477]\tvalidation_0-mlogloss:0.44456\tvalidation_1-mlogloss:0.44876\n",
      "[478]\tvalidation_0-mlogloss:0.44456\tvalidation_1-mlogloss:0.44876\n",
      "[479]\tvalidation_0-mlogloss:0.44455\tvalidation_1-mlogloss:0.44875\n",
      "[480]\tvalidation_0-mlogloss:0.44455\tvalidation_1-mlogloss:0.44875\n",
      "[481]\tvalidation_0-mlogloss:0.44453\tvalidation_1-mlogloss:0.44873\n",
      "[482]\tvalidation_0-mlogloss:0.44452\tvalidation_1-mlogloss:0.44873\n",
      "[483]\tvalidation_0-mlogloss:0.44450\tvalidation_1-mlogloss:0.44872\n",
      "[484]\tvalidation_0-mlogloss:0.44449\tvalidation_1-mlogloss:0.44871\n",
      "[485]\tvalidation_0-mlogloss:0.44449\tvalidation_1-mlogloss:0.44871\n",
      "[486]\tvalidation_0-mlogloss:0.44448\tvalidation_1-mlogloss:0.44871\n",
      "[487]\tvalidation_0-mlogloss:0.44448\tvalidation_1-mlogloss:0.44872\n",
      "[488]\tvalidation_0-mlogloss:0.44447\tvalidation_1-mlogloss:0.44871\n",
      "[489]\tvalidation_0-mlogloss:0.44446\tvalidation_1-mlogloss:0.44870\n",
      "[490]\tvalidation_0-mlogloss:0.44445\tvalidation_1-mlogloss:0.44870\n",
      "[491]\tvalidation_0-mlogloss:0.44444\tvalidation_1-mlogloss:0.44869\n",
      "[492]\tvalidation_0-mlogloss:0.44443\tvalidation_1-mlogloss:0.44869\n",
      "[493]\tvalidation_0-mlogloss:0.44441\tvalidation_1-mlogloss:0.44866\n",
      "[494]\tvalidation_0-mlogloss:0.44440\tvalidation_1-mlogloss:0.44866\n",
      "[495]\tvalidation_0-mlogloss:0.44439\tvalidation_1-mlogloss:0.44866\n",
      "[496]\tvalidation_0-mlogloss:0.44439\tvalidation_1-mlogloss:0.44866\n",
      "[497]\tvalidation_0-mlogloss:0.44439\tvalidation_1-mlogloss:0.44866\n",
      "[498]\tvalidation_0-mlogloss:0.44438\tvalidation_1-mlogloss:0.44866\n",
      "[499]\tvalidation_0-mlogloss:0.44437\tvalidation_1-mlogloss:0.44864\n"
     ]
    },
    {
     "data": {
      "text/html": [
       "<style>#sk-container-id-11 {color: black;background-color: white;}#sk-container-id-11 pre{padding: 0;}#sk-container-id-11 div.sk-toggleable {background-color: white;}#sk-container-id-11 label.sk-toggleable__label {cursor: pointer;display: block;width: 100%;margin-bottom: 0;padding: 0.3em;box-sizing: border-box;text-align: center;}#sk-container-id-11 label.sk-toggleable__label-arrow:before {content: \"▸\";float: left;margin-right: 0.25em;color: #696969;}#sk-container-id-11 label.sk-toggleable__label-arrow:hover:before {color: black;}#sk-container-id-11 div.sk-estimator:hover label.sk-toggleable__label-arrow:before {color: black;}#sk-container-id-11 div.sk-toggleable__content {max-height: 0;max-width: 0;overflow: hidden;text-align: left;background-color: #f0f8ff;}#sk-container-id-11 div.sk-toggleable__content pre {margin: 0.2em;color: black;border-radius: 0.25em;background-color: #f0f8ff;}#sk-container-id-11 input.sk-toggleable__control:checked~div.sk-toggleable__content {max-height: 200px;max-width: 100%;overflow: auto;}#sk-container-id-11 input.sk-toggleable__control:checked~label.sk-toggleable__label-arrow:before {content: \"▾\";}#sk-container-id-11 div.sk-estimator input.sk-toggleable__control:checked~label.sk-toggleable__label {background-color: #d4ebff;}#sk-container-id-11 div.sk-label input.sk-toggleable__control:checked~label.sk-toggleable__label {background-color: #d4ebff;}#sk-container-id-11 input.sk-hidden--visually {border: 0;clip: rect(1px 1px 1px 1px);clip: rect(1px, 1px, 1px, 1px);height: 1px;margin: -1px;overflow: hidden;padding: 0;position: absolute;width: 1px;}#sk-container-id-11 div.sk-estimator {font-family: monospace;background-color: #f0f8ff;border: 1px dotted black;border-radius: 0.25em;box-sizing: border-box;margin-bottom: 0.5em;}#sk-container-id-11 div.sk-estimator:hover {background-color: #d4ebff;}#sk-container-id-11 div.sk-parallel-item::after {content: \"\";width: 100%;border-bottom: 1px solid gray;flex-grow: 1;}#sk-container-id-11 div.sk-label:hover label.sk-toggleable__label {background-color: #d4ebff;}#sk-container-id-11 div.sk-serial::before {content: \"\";position: absolute;border-left: 1px solid gray;box-sizing: border-box;top: 0;bottom: 0;left: 50%;z-index: 0;}#sk-container-id-11 div.sk-serial {display: flex;flex-direction: column;align-items: center;background-color: white;padding-right: 0.2em;padding-left: 0.2em;position: relative;}#sk-container-id-11 div.sk-item {position: relative;z-index: 1;}#sk-container-id-11 div.sk-parallel {display: flex;align-items: stretch;justify-content: center;background-color: white;position: relative;}#sk-container-id-11 div.sk-item::before, #sk-container-id-11 div.sk-parallel-item::before {content: \"\";position: absolute;border-left: 1px solid gray;box-sizing: border-box;top: 0;bottom: 0;left: 50%;z-index: -1;}#sk-container-id-11 div.sk-parallel-item {display: flex;flex-direction: column;z-index: 1;position: relative;background-color: white;}#sk-container-id-11 div.sk-parallel-item:first-child::after {align-self: flex-end;width: 50%;}#sk-container-id-11 div.sk-parallel-item:last-child::after {align-self: flex-start;width: 50%;}#sk-container-id-11 div.sk-parallel-item:only-child::after {width: 0;}#sk-container-id-11 div.sk-dashed-wrapped {border: 1px dashed gray;margin: 0 0.4em 0.5em 0.4em;box-sizing: border-box;padding-bottom: 0.4em;background-color: white;}#sk-container-id-11 div.sk-label label {font-family: monospace;font-weight: bold;display: inline-block;line-height: 1.2em;}#sk-container-id-11 div.sk-label-container {text-align: center;}#sk-container-id-11 div.sk-container {/* jupyter's `normalize.less` sets `[hidden] { display: none; }` but bootstrap.min.css set `[hidden] { display: none !important; }` so we also need the `!important` here to be able to override the default hidden behavior on the sphinx rendered scikit-learn.org. See: https://github.com/scikit-learn/scikit-learn/issues/21755 */display: inline-block !important;position: relative;}#sk-container-id-11 div.sk-text-repr-fallback {display: none;}</style><div id=\"sk-container-id-11\" class=\"sk-top-container\"><div class=\"sk-text-repr-fallback\"><pre>XGBClassifier(base_score=None, booster=None, callbacks=None,\n",
       "              colsample_bylevel=None, colsample_bynode=None, colsample_bytree=0,\n",
       "              early_stopping_rounds=None, enable_categorical=False,\n",
       "              eval_metric=None, feature_types=None, gamma=None, gpu_id=None,\n",
       "              grow_policy=None, importance_type=None,\n",
       "              interaction_constraints=None, learning_rate=None, max_bin=None,\n",
       "              max_cat_threshold=None, max_cat_to_onehot=None,\n",
       "              max_delta_step=None, max_depth=4, max_leaves=None,\n",
       "              min_child_weight=7, missing=nan, monotone_constraints=None,\n",
       "              n_estimators=500, n_jobs=None, num_parallel_tree=None,\n",
       "              objective=&#x27;multi:softprob&#x27;, predictor=None, ...)</pre><b>In a Jupyter environment, please rerun this cell to show the HTML representation or trust the notebook. <br />On GitHub, the HTML representation is unable to render, please try loading this page with nbviewer.org.</b></div><div class=\"sk-container\" hidden><div class=\"sk-item\"><div class=\"sk-estimator sk-toggleable\"><input class=\"sk-toggleable__control sk-hidden--visually\" id=\"sk-estimator-id-11\" type=\"checkbox\" checked><label for=\"sk-estimator-id-11\" class=\"sk-toggleable__label sk-toggleable__label-arrow\">XGBClassifier</label><div class=\"sk-toggleable__content\"><pre>XGBClassifier(base_score=None, booster=None, callbacks=None,\n",
       "              colsample_bylevel=None, colsample_bynode=None, colsample_bytree=0,\n",
       "              early_stopping_rounds=None, enable_categorical=False,\n",
       "              eval_metric=None, feature_types=None, gamma=None, gpu_id=None,\n",
       "              grow_policy=None, importance_type=None,\n",
       "              interaction_constraints=None, learning_rate=None, max_bin=None,\n",
       "              max_cat_threshold=None, max_cat_to_onehot=None,\n",
       "              max_delta_step=None, max_depth=4, max_leaves=None,\n",
       "              min_child_weight=7, missing=nan, monotone_constraints=None,\n",
       "              n_estimators=500, n_jobs=None, num_parallel_tree=None,\n",
       "              objective=&#x27;multi:softprob&#x27;, predictor=None, ...)</pre></div></div></div></div></div>"
      ],
      "text/plain": [
       "XGBClassifier(base_score=None, booster=None, callbacks=None,\n",
       "              colsample_bylevel=None, colsample_bynode=None, colsample_bytree=0,\n",
       "              early_stopping_rounds=None, enable_categorical=False,\n",
       "              eval_metric=None, feature_types=None, gamma=None, gpu_id=None,\n",
       "              grow_policy=None, importance_type=None,\n",
       "              interaction_constraints=None, learning_rate=None, max_bin=None,\n",
       "              max_cat_threshold=None, max_cat_to_onehot=None,\n",
       "              max_delta_step=None, max_depth=4, max_leaves=None,\n",
       "              min_child_weight=7, missing=nan, monotone_constraints=None,\n",
       "              n_estimators=500, n_jobs=None, num_parallel_tree=None,\n",
       "              objective='multi:softprob', predictor=None, ...)"
      ]
     },
     "execution_count": 95,
     "metadata": {},
     "output_type": "execute_result"
    }
   ],
   "source": [
    "xgb_model=xgb.XGBClassifier(\n",
    "                    n_estimators =[200,300,400, 500, 600][best_hyperparams['n_estimators']], max_depth = int(best_hyperparams['max_depth']),\n",
    "                    reg_alpha = int(best_hyperparams['reg_alpha']),min_child_weight=int(best_hyperparams['min_child_weight']),\n",
    "                    colsample_bytree=int(best_hyperparams['colsample_bytree']), reg_lambda= space['reg_lambda'])         \n",
    "xgb_model.fit(X_train[features],y_train,\n",
    "             eval_set = [( X_train, y_train), ( X_test, y_test)])\n",
    "#y_pred = xgb_model.predict(X_val[features])"
   ]
  },
  {
   "cell_type": "code",
   "execution_count": 99,
   "id": "d9f464ad",
   "metadata": {},
   "outputs": [
    {
     "name": "stdout",
     "output_type": "stream",
     "text": [
      "[0]\tvalidation_0-mlogloss:1.02997\tvalidation_1-mlogloss:1.03017\n",
      "[1]\tvalidation_0-mlogloss:0.96435\tvalidation_1-mlogloss:0.96494\n",
      "[2]\tvalidation_0-mlogloss:0.95278\tvalidation_1-mlogloss:0.95359\n",
      "[3]\tvalidation_0-mlogloss:0.91447\tvalidation_1-mlogloss:0.91577\n",
      "[4]\tvalidation_0-mlogloss:0.89488\tvalidation_1-mlogloss:0.89633\n",
      "[5]\tvalidation_0-mlogloss:0.88567\tvalidation_1-mlogloss:0.88718\n",
      "[6]\tvalidation_0-mlogloss:0.88293\tvalidation_1-mlogloss:0.88449\n",
      "[7]\tvalidation_0-mlogloss:0.86506\tvalidation_1-mlogloss:0.86668\n",
      "[8]\tvalidation_0-mlogloss:0.85043\tvalidation_1-mlogloss:0.85198\n",
      "[9]\tvalidation_0-mlogloss:0.82917\tvalidation_1-mlogloss:0.83058\n",
      "[10]\tvalidation_0-mlogloss:0.76074\tvalidation_1-mlogloss:0.76119\n",
      "[11]\tvalidation_0-mlogloss:0.72569\tvalidation_1-mlogloss:0.72607\n",
      "[12]\tvalidation_0-mlogloss:0.69752\tvalidation_1-mlogloss:0.69804\n",
      "[13]\tvalidation_0-mlogloss:0.69008\tvalidation_1-mlogloss:0.69068\n",
      "[14]\tvalidation_0-mlogloss:0.67513\tvalidation_1-mlogloss:0.67561\n",
      "[15]\tvalidation_0-mlogloss:0.67056\tvalidation_1-mlogloss:0.67100\n",
      "[16]\tvalidation_0-mlogloss:0.65577\tvalidation_1-mlogloss:0.65625\n",
      "[17]\tvalidation_0-mlogloss:0.64562\tvalidation_1-mlogloss:0.64624\n",
      "[18]\tvalidation_0-mlogloss:0.63841\tvalidation_1-mlogloss:0.63911\n",
      "[19]\tvalidation_0-mlogloss:0.62240\tvalidation_1-mlogloss:0.62289\n",
      "[20]\tvalidation_0-mlogloss:0.61291\tvalidation_1-mlogloss:0.61346\n",
      "[21]\tvalidation_0-mlogloss:0.60907\tvalidation_1-mlogloss:0.60966\n",
      "[22]\tvalidation_0-mlogloss:0.60412\tvalidation_1-mlogloss:0.60477\n",
      "[23]\tvalidation_0-mlogloss:0.60248\tvalidation_1-mlogloss:0.60326\n",
      "[24]\tvalidation_0-mlogloss:0.59034\tvalidation_1-mlogloss:0.59098\n",
      "[25]\tvalidation_0-mlogloss:0.58398\tvalidation_1-mlogloss:0.58477\n",
      "[26]\tvalidation_0-mlogloss:0.57987\tvalidation_1-mlogloss:0.58077\n",
      "[27]\tvalidation_0-mlogloss:0.57083\tvalidation_1-mlogloss:0.57163\n",
      "[28]\tvalidation_0-mlogloss:0.56051\tvalidation_1-mlogloss:0.56128\n",
      "[29]\tvalidation_0-mlogloss:0.55912\tvalidation_1-mlogloss:0.55991\n",
      "[30]\tvalidation_0-mlogloss:0.55556\tvalidation_1-mlogloss:0.55637\n",
      "[31]\tvalidation_0-mlogloss:0.55289\tvalidation_1-mlogloss:0.55372\n",
      "[32]\tvalidation_0-mlogloss:0.55177\tvalidation_1-mlogloss:0.55267\n",
      "[33]\tvalidation_0-mlogloss:0.54945\tvalidation_1-mlogloss:0.55041\n",
      "[34]\tvalidation_0-mlogloss:0.54847\tvalidation_1-mlogloss:0.54938\n",
      "[35]\tvalidation_0-mlogloss:0.54570\tvalidation_1-mlogloss:0.54666\n",
      "[36]\tvalidation_0-mlogloss:0.54368\tvalidation_1-mlogloss:0.54458\n",
      "[37]\tvalidation_0-mlogloss:0.54099\tvalidation_1-mlogloss:0.54195\n",
      "[38]\tvalidation_0-mlogloss:0.54038\tvalidation_1-mlogloss:0.54139\n",
      "[39]\tvalidation_0-mlogloss:0.53096\tvalidation_1-mlogloss:0.53187\n",
      "[40]\tvalidation_0-mlogloss:0.52948\tvalidation_1-mlogloss:0.53041\n",
      "[41]\tvalidation_0-mlogloss:0.52821\tvalidation_1-mlogloss:0.52921\n",
      "[42]\tvalidation_0-mlogloss:0.52681\tvalidation_1-mlogloss:0.52787\n",
      "[43]\tvalidation_0-mlogloss:0.52502\tvalidation_1-mlogloss:0.52608\n",
      "[44]\tvalidation_0-mlogloss:0.52357\tvalidation_1-mlogloss:0.52465\n",
      "[45]\tvalidation_0-mlogloss:0.51822\tvalidation_1-mlogloss:0.51926\n",
      "[46]\tvalidation_0-mlogloss:0.51766\tvalidation_1-mlogloss:0.51869\n",
      "[47]\tvalidation_0-mlogloss:0.51646\tvalidation_1-mlogloss:0.51753\n",
      "[48]\tvalidation_0-mlogloss:0.51579\tvalidation_1-mlogloss:0.51692\n",
      "[49]\tvalidation_0-mlogloss:0.51543\tvalidation_1-mlogloss:0.51655\n",
      "[50]\tvalidation_0-mlogloss:0.51431\tvalidation_1-mlogloss:0.51555\n",
      "[51]\tvalidation_0-mlogloss:0.51391\tvalidation_1-mlogloss:0.51524\n",
      "[52]\tvalidation_0-mlogloss:0.51323\tvalidation_1-mlogloss:0.51459\n",
      "[53]\tvalidation_0-mlogloss:0.51286\tvalidation_1-mlogloss:0.51427\n",
      "[54]\tvalidation_0-mlogloss:0.51145\tvalidation_1-mlogloss:0.51287\n",
      "[55]\tvalidation_0-mlogloss:0.50693\tvalidation_1-mlogloss:0.50828\n",
      "[56]\tvalidation_0-mlogloss:0.50672\tvalidation_1-mlogloss:0.50813\n",
      "[57]\tvalidation_0-mlogloss:0.50570\tvalidation_1-mlogloss:0.50713\n",
      "[58]\tvalidation_0-mlogloss:0.50540\tvalidation_1-mlogloss:0.50687\n",
      "[59]\tvalidation_0-mlogloss:0.50229\tvalidation_1-mlogloss:0.50375\n",
      "[60]\tvalidation_0-mlogloss:0.50167\tvalidation_1-mlogloss:0.50315\n",
      "[61]\tvalidation_0-mlogloss:0.50064\tvalidation_1-mlogloss:0.50211\n",
      "[62]\tvalidation_0-mlogloss:0.50023\tvalidation_1-mlogloss:0.50173\n",
      "[63]\tvalidation_0-mlogloss:0.49917\tvalidation_1-mlogloss:0.50061\n",
      "[64]\tvalidation_0-mlogloss:0.49444\tvalidation_1-mlogloss:0.49585\n",
      "[65]\tvalidation_0-mlogloss:0.49385\tvalidation_1-mlogloss:0.49529\n",
      "[66]\tvalidation_0-mlogloss:0.49089\tvalidation_1-mlogloss:0.49225\n",
      "[67]\tvalidation_0-mlogloss:0.49002\tvalidation_1-mlogloss:0.49136\n",
      "[68]\tvalidation_0-mlogloss:0.48950\tvalidation_1-mlogloss:0.49082\n",
      "[69]\tvalidation_0-mlogloss:0.48919\tvalidation_1-mlogloss:0.49054\n",
      "[70]\tvalidation_0-mlogloss:0.48872\tvalidation_1-mlogloss:0.49012\n",
      "[71]\tvalidation_0-mlogloss:0.48616\tvalidation_1-mlogloss:0.48748\n",
      "[72]\tvalidation_0-mlogloss:0.48590\tvalidation_1-mlogloss:0.48723\n",
      "[73]\tvalidation_0-mlogloss:0.48206\tvalidation_1-mlogloss:0.48329\n",
      "[74]\tvalidation_0-mlogloss:0.48117\tvalidation_1-mlogloss:0.48231\n",
      "[75]\tvalidation_0-mlogloss:0.48072\tvalidation_1-mlogloss:0.48185\n",
      "[76]\tvalidation_0-mlogloss:0.48066\tvalidation_1-mlogloss:0.48180\n",
      "[77]\tvalidation_0-mlogloss:0.47971\tvalidation_1-mlogloss:0.48089\n",
      "[78]\tvalidation_0-mlogloss:0.47935\tvalidation_1-mlogloss:0.48052\n",
      "[79]\tvalidation_0-mlogloss:0.47908\tvalidation_1-mlogloss:0.48028\n",
      "[80]\tvalidation_0-mlogloss:0.47889\tvalidation_1-mlogloss:0.48013\n",
      "[81]\tvalidation_0-mlogloss:0.47846\tvalidation_1-mlogloss:0.47969\n",
      "[82]\tvalidation_0-mlogloss:0.47804\tvalidation_1-mlogloss:0.47925\n",
      "[83]\tvalidation_0-mlogloss:0.47788\tvalidation_1-mlogloss:0.47912\n",
      "[84]\tvalidation_0-mlogloss:0.47762\tvalidation_1-mlogloss:0.47890\n",
      "[85]\tvalidation_0-mlogloss:0.47674\tvalidation_1-mlogloss:0.47808\n",
      "[86]\tvalidation_0-mlogloss:0.47622\tvalidation_1-mlogloss:0.47759\n",
      "[87]\tvalidation_0-mlogloss:0.47617\tvalidation_1-mlogloss:0.47756\n",
      "[88]\tvalidation_0-mlogloss:0.47541\tvalidation_1-mlogloss:0.47682\n",
      "[89]\tvalidation_0-mlogloss:0.47527\tvalidation_1-mlogloss:0.47670\n",
      "[90]\tvalidation_0-mlogloss:0.47504\tvalidation_1-mlogloss:0.47649\n",
      "[91]\tvalidation_0-mlogloss:0.47459\tvalidation_1-mlogloss:0.47611\n",
      "[92]\tvalidation_0-mlogloss:0.47349\tvalidation_1-mlogloss:0.47498\n",
      "[93]\tvalidation_0-mlogloss:0.47320\tvalidation_1-mlogloss:0.47474\n",
      "[94]\tvalidation_0-mlogloss:0.47317\tvalidation_1-mlogloss:0.47472\n",
      "[95]\tvalidation_0-mlogloss:0.47310\tvalidation_1-mlogloss:0.47468\n",
      "[96]\tvalidation_0-mlogloss:0.47244\tvalidation_1-mlogloss:0.47399\n",
      "[97]\tvalidation_0-mlogloss:0.47226\tvalidation_1-mlogloss:0.47385\n",
      "[98]\tvalidation_0-mlogloss:0.47224\tvalidation_1-mlogloss:0.47383\n",
      "[99]\tvalidation_0-mlogloss:0.47197\tvalidation_1-mlogloss:0.47361\n",
      "[100]\tvalidation_0-mlogloss:0.47175\tvalidation_1-mlogloss:0.47336\n",
      "[101]\tvalidation_0-mlogloss:0.47159\tvalidation_1-mlogloss:0.47323\n",
      "[102]\tvalidation_0-mlogloss:0.47117\tvalidation_1-mlogloss:0.47284\n",
      "[103]\tvalidation_0-mlogloss:0.47114\tvalidation_1-mlogloss:0.47283\n",
      "[104]\tvalidation_0-mlogloss:0.47100\tvalidation_1-mlogloss:0.47272\n",
      "[105]\tvalidation_0-mlogloss:0.47029\tvalidation_1-mlogloss:0.47203\n",
      "[106]\tvalidation_0-mlogloss:0.46981\tvalidation_1-mlogloss:0.47155\n",
      "[107]\tvalidation_0-mlogloss:0.46818\tvalidation_1-mlogloss:0.46985\n",
      "[108]\tvalidation_0-mlogloss:0.46791\tvalidation_1-mlogloss:0.46956\n",
      "[109]\tvalidation_0-mlogloss:0.46768\tvalidation_1-mlogloss:0.46936\n",
      "[110]\tvalidation_0-mlogloss:0.46759\tvalidation_1-mlogloss:0.46930\n",
      "[111]\tvalidation_0-mlogloss:0.46700\tvalidation_1-mlogloss:0.46877\n",
      "[112]\tvalidation_0-mlogloss:0.46689\tvalidation_1-mlogloss:0.46865\n",
      "[113]\tvalidation_0-mlogloss:0.46666\tvalidation_1-mlogloss:0.46845\n",
      "[114]\tvalidation_0-mlogloss:0.46638\tvalidation_1-mlogloss:0.46817\n",
      "[115]\tvalidation_0-mlogloss:0.46614\tvalidation_1-mlogloss:0.46794\n",
      "[116]\tvalidation_0-mlogloss:0.46601\tvalidation_1-mlogloss:0.46781\n",
      "[117]\tvalidation_0-mlogloss:0.46586\tvalidation_1-mlogloss:0.46768\n",
      "[118]\tvalidation_0-mlogloss:0.46503\tvalidation_1-mlogloss:0.46676\n",
      "[119]\tvalidation_0-mlogloss:0.46478\tvalidation_1-mlogloss:0.46655\n",
      "[120]\tvalidation_0-mlogloss:0.46424\tvalidation_1-mlogloss:0.46601\n",
      "[121]\tvalidation_0-mlogloss:0.46421\tvalidation_1-mlogloss:0.46599\n",
      "[122]\tvalidation_0-mlogloss:0.46391\tvalidation_1-mlogloss:0.46570\n",
      "[123]\tvalidation_0-mlogloss:0.46370\tvalidation_1-mlogloss:0.46549\n",
      "[124]\tvalidation_0-mlogloss:0.46246\tvalidation_1-mlogloss:0.46423\n",
      "[125]\tvalidation_0-mlogloss:0.46209\tvalidation_1-mlogloss:0.46384\n"
     ]
    },
    {
     "name": "stdout",
     "output_type": "stream",
     "text": [
      "[126]\tvalidation_0-mlogloss:0.46176\tvalidation_1-mlogloss:0.46353\n",
      "[127]\tvalidation_0-mlogloss:0.46166\tvalidation_1-mlogloss:0.46345\n",
      "[128]\tvalidation_0-mlogloss:0.46144\tvalidation_1-mlogloss:0.46327\n",
      "[129]\tvalidation_0-mlogloss:0.46136\tvalidation_1-mlogloss:0.46319\n",
      "[130]\tvalidation_0-mlogloss:0.46126\tvalidation_1-mlogloss:0.46310\n",
      "[131]\tvalidation_0-mlogloss:0.46102\tvalidation_1-mlogloss:0.46285\n",
      "[132]\tvalidation_0-mlogloss:0.46097\tvalidation_1-mlogloss:0.46282\n",
      "[133]\tvalidation_0-mlogloss:0.46069\tvalidation_1-mlogloss:0.46258\n",
      "[134]\tvalidation_0-mlogloss:0.46025\tvalidation_1-mlogloss:0.46209\n",
      "[135]\tvalidation_0-mlogloss:0.46007\tvalidation_1-mlogloss:0.46189\n",
      "[136]\tvalidation_0-mlogloss:0.45922\tvalidation_1-mlogloss:0.46105\n",
      "[137]\tvalidation_0-mlogloss:0.45900\tvalidation_1-mlogloss:0.46083\n",
      "[138]\tvalidation_0-mlogloss:0.45879\tvalidation_1-mlogloss:0.46064\n",
      "[139]\tvalidation_0-mlogloss:0.45865\tvalidation_1-mlogloss:0.46054\n",
      "[140]\tvalidation_0-mlogloss:0.45837\tvalidation_1-mlogloss:0.46029\n",
      "[141]\tvalidation_0-mlogloss:0.45817\tvalidation_1-mlogloss:0.46013\n",
      "[142]\tvalidation_0-mlogloss:0.45813\tvalidation_1-mlogloss:0.46011\n",
      "[143]\tvalidation_0-mlogloss:0.45798\tvalidation_1-mlogloss:0.45995\n",
      "[144]\tvalidation_0-mlogloss:0.45796\tvalidation_1-mlogloss:0.45994\n",
      "[145]\tvalidation_0-mlogloss:0.45794\tvalidation_1-mlogloss:0.45994\n",
      "[146]\tvalidation_0-mlogloss:0.45786\tvalidation_1-mlogloss:0.45985\n",
      "[147]\tvalidation_0-mlogloss:0.45765\tvalidation_1-mlogloss:0.45964\n",
      "[148]\tvalidation_0-mlogloss:0.45735\tvalidation_1-mlogloss:0.45931\n",
      "[149]\tvalidation_0-mlogloss:0.45713\tvalidation_1-mlogloss:0.45905\n",
      "[150]\tvalidation_0-mlogloss:0.45705\tvalidation_1-mlogloss:0.45900\n",
      "[151]\tvalidation_0-mlogloss:0.45696\tvalidation_1-mlogloss:0.45893\n",
      "[152]\tvalidation_0-mlogloss:0.45693\tvalidation_1-mlogloss:0.45891\n",
      "[153]\tvalidation_0-mlogloss:0.45689\tvalidation_1-mlogloss:0.45888\n",
      "[154]\tvalidation_0-mlogloss:0.45685\tvalidation_1-mlogloss:0.45886\n",
      "[155]\tvalidation_0-mlogloss:0.45659\tvalidation_1-mlogloss:0.45857\n",
      "[156]\tvalidation_0-mlogloss:0.45654\tvalidation_1-mlogloss:0.45853\n",
      "[157]\tvalidation_0-mlogloss:0.45646\tvalidation_1-mlogloss:0.45847\n",
      "[158]\tvalidation_0-mlogloss:0.45627\tvalidation_1-mlogloss:0.45830\n",
      "[159]\tvalidation_0-mlogloss:0.45625\tvalidation_1-mlogloss:0.45829\n",
      "[160]\tvalidation_0-mlogloss:0.45602\tvalidation_1-mlogloss:0.45806\n",
      "[161]\tvalidation_0-mlogloss:0.45592\tvalidation_1-mlogloss:0.45799\n",
      "[162]\tvalidation_0-mlogloss:0.45576\tvalidation_1-mlogloss:0.45787\n",
      "[163]\tvalidation_0-mlogloss:0.45566\tvalidation_1-mlogloss:0.45776\n",
      "[164]\tvalidation_0-mlogloss:0.45558\tvalidation_1-mlogloss:0.45771\n",
      "[165]\tvalidation_0-mlogloss:0.45498\tvalidation_1-mlogloss:0.45712\n",
      "[166]\tvalidation_0-mlogloss:0.45494\tvalidation_1-mlogloss:0.45708\n",
      "[167]\tvalidation_0-mlogloss:0.45485\tvalidation_1-mlogloss:0.45702\n",
      "[168]\tvalidation_0-mlogloss:0.45478\tvalidation_1-mlogloss:0.45696\n",
      "[169]\tvalidation_0-mlogloss:0.45459\tvalidation_1-mlogloss:0.45678\n",
      "[170]\tvalidation_0-mlogloss:0.45446\tvalidation_1-mlogloss:0.45670\n",
      "[171]\tvalidation_0-mlogloss:0.45439\tvalidation_1-mlogloss:0.45662\n",
      "[172]\tvalidation_0-mlogloss:0.45423\tvalidation_1-mlogloss:0.45645\n",
      "[173]\tvalidation_0-mlogloss:0.45421\tvalidation_1-mlogloss:0.45644\n",
      "[174]\tvalidation_0-mlogloss:0.45416\tvalidation_1-mlogloss:0.45641\n",
      "[175]\tvalidation_0-mlogloss:0.45409\tvalidation_1-mlogloss:0.45634\n",
      "[176]\tvalidation_0-mlogloss:0.45404\tvalidation_1-mlogloss:0.45629\n",
      "[177]\tvalidation_0-mlogloss:0.45386\tvalidation_1-mlogloss:0.45614\n",
      "[178]\tvalidation_0-mlogloss:0.45372\tvalidation_1-mlogloss:0.45597\n",
      "[179]\tvalidation_0-mlogloss:0.45362\tvalidation_1-mlogloss:0.45590\n",
      "[180]\tvalidation_0-mlogloss:0.45350\tvalidation_1-mlogloss:0.45579\n",
      "[181]\tvalidation_0-mlogloss:0.45348\tvalidation_1-mlogloss:0.45578\n",
      "[182]\tvalidation_0-mlogloss:0.45342\tvalidation_1-mlogloss:0.45573\n",
      "[183]\tvalidation_0-mlogloss:0.45335\tvalidation_1-mlogloss:0.45565\n",
      "[184]\tvalidation_0-mlogloss:0.45310\tvalidation_1-mlogloss:0.45543\n",
      "[185]\tvalidation_0-mlogloss:0.45298\tvalidation_1-mlogloss:0.45535\n",
      "[186]\tvalidation_0-mlogloss:0.45296\tvalidation_1-mlogloss:0.45534\n",
      "[187]\tvalidation_0-mlogloss:0.45286\tvalidation_1-mlogloss:0.45525\n",
      "[188]\tvalidation_0-mlogloss:0.45286\tvalidation_1-mlogloss:0.45525\n",
      "[189]\tvalidation_0-mlogloss:0.45282\tvalidation_1-mlogloss:0.45521\n",
      "[190]\tvalidation_0-mlogloss:0.45281\tvalidation_1-mlogloss:0.45520\n",
      "[191]\tvalidation_0-mlogloss:0.45280\tvalidation_1-mlogloss:0.45520\n",
      "[192]\tvalidation_0-mlogloss:0.45278\tvalidation_1-mlogloss:0.45519\n",
      "[193]\tvalidation_0-mlogloss:0.45272\tvalidation_1-mlogloss:0.45514\n",
      "[194]\tvalidation_0-mlogloss:0.45269\tvalidation_1-mlogloss:0.45512\n",
      "[195]\tvalidation_0-mlogloss:0.45264\tvalidation_1-mlogloss:0.45508\n",
      "[196]\tvalidation_0-mlogloss:0.45263\tvalidation_1-mlogloss:0.45507\n",
      "[197]\tvalidation_0-mlogloss:0.45244\tvalidation_1-mlogloss:0.45488\n",
      "[198]\tvalidation_0-mlogloss:0.45238\tvalidation_1-mlogloss:0.45484\n",
      "[199]\tvalidation_0-mlogloss:0.45234\tvalidation_1-mlogloss:0.45479\n"
     ]
    },
    {
     "data": {
      "text/html": [
       "<style>#sk-container-id-13 {color: black;background-color: white;}#sk-container-id-13 pre{padding: 0;}#sk-container-id-13 div.sk-toggleable {background-color: white;}#sk-container-id-13 label.sk-toggleable__label {cursor: pointer;display: block;width: 100%;margin-bottom: 0;padding: 0.3em;box-sizing: border-box;text-align: center;}#sk-container-id-13 label.sk-toggleable__label-arrow:before {content: \"▸\";float: left;margin-right: 0.25em;color: #696969;}#sk-container-id-13 label.sk-toggleable__label-arrow:hover:before {color: black;}#sk-container-id-13 div.sk-estimator:hover label.sk-toggleable__label-arrow:before {color: black;}#sk-container-id-13 div.sk-toggleable__content {max-height: 0;max-width: 0;overflow: hidden;text-align: left;background-color: #f0f8ff;}#sk-container-id-13 div.sk-toggleable__content pre {margin: 0.2em;color: black;border-radius: 0.25em;background-color: #f0f8ff;}#sk-container-id-13 input.sk-toggleable__control:checked~div.sk-toggleable__content {max-height: 200px;max-width: 100%;overflow: auto;}#sk-container-id-13 input.sk-toggleable__control:checked~label.sk-toggleable__label-arrow:before {content: \"▾\";}#sk-container-id-13 div.sk-estimator input.sk-toggleable__control:checked~label.sk-toggleable__label {background-color: #d4ebff;}#sk-container-id-13 div.sk-label input.sk-toggleable__control:checked~label.sk-toggleable__label {background-color: #d4ebff;}#sk-container-id-13 input.sk-hidden--visually {border: 0;clip: rect(1px 1px 1px 1px);clip: rect(1px, 1px, 1px, 1px);height: 1px;margin: -1px;overflow: hidden;padding: 0;position: absolute;width: 1px;}#sk-container-id-13 div.sk-estimator {font-family: monospace;background-color: #f0f8ff;border: 1px dotted black;border-radius: 0.25em;box-sizing: border-box;margin-bottom: 0.5em;}#sk-container-id-13 div.sk-estimator:hover {background-color: #d4ebff;}#sk-container-id-13 div.sk-parallel-item::after {content: \"\";width: 100%;border-bottom: 1px solid gray;flex-grow: 1;}#sk-container-id-13 div.sk-label:hover label.sk-toggleable__label {background-color: #d4ebff;}#sk-container-id-13 div.sk-serial::before {content: \"\";position: absolute;border-left: 1px solid gray;box-sizing: border-box;top: 0;bottom: 0;left: 50%;z-index: 0;}#sk-container-id-13 div.sk-serial {display: flex;flex-direction: column;align-items: center;background-color: white;padding-right: 0.2em;padding-left: 0.2em;position: relative;}#sk-container-id-13 div.sk-item {position: relative;z-index: 1;}#sk-container-id-13 div.sk-parallel {display: flex;align-items: stretch;justify-content: center;background-color: white;position: relative;}#sk-container-id-13 div.sk-item::before, #sk-container-id-13 div.sk-parallel-item::before {content: \"\";position: absolute;border-left: 1px solid gray;box-sizing: border-box;top: 0;bottom: 0;left: 50%;z-index: -1;}#sk-container-id-13 div.sk-parallel-item {display: flex;flex-direction: column;z-index: 1;position: relative;background-color: white;}#sk-container-id-13 div.sk-parallel-item:first-child::after {align-self: flex-end;width: 50%;}#sk-container-id-13 div.sk-parallel-item:last-child::after {align-self: flex-start;width: 50%;}#sk-container-id-13 div.sk-parallel-item:only-child::after {width: 0;}#sk-container-id-13 div.sk-dashed-wrapped {border: 1px dashed gray;margin: 0 0.4em 0.5em 0.4em;box-sizing: border-box;padding-bottom: 0.4em;background-color: white;}#sk-container-id-13 div.sk-label label {font-family: monospace;font-weight: bold;display: inline-block;line-height: 1.2em;}#sk-container-id-13 div.sk-label-container {text-align: center;}#sk-container-id-13 div.sk-container {/* jupyter's `normalize.less` sets `[hidden] { display: none; }` but bootstrap.min.css set `[hidden] { display: none !important; }` so we also need the `!important` here to be able to override the default hidden behavior on the sphinx rendered scikit-learn.org. See: https://github.com/scikit-learn/scikit-learn/issues/21755 */display: inline-block !important;position: relative;}#sk-container-id-13 div.sk-text-repr-fallback {display: none;}</style><div id=\"sk-container-id-13\" class=\"sk-top-container\"><div class=\"sk-text-repr-fallback\"><pre>XGBClassifier(base_score=None, booster=None, callbacks=None,\n",
       "              colsample_bylevel=None, colsample_bynode=None, colsample_bytree=0,\n",
       "              early_stopping_rounds=None, enable_categorical=False,\n",
       "              eval_metric=None, feature_types=None, gamma=None, gpu_id=None,\n",
       "              grow_policy=None, importance_type=None,\n",
       "              interaction_constraints=None, learning_rate=None, max_bin=None,\n",
       "              max_cat_threshold=None, max_cat_to_onehot=None,\n",
       "              max_delta_step=None, max_depth=4, max_leaves=None,\n",
       "              min_child_weight=7, missing=nan, monotone_constraints=None,\n",
       "              n_estimators=200, n_jobs=None, num_parallel_tree=None,\n",
       "              objective=&#x27;multi:softprob&#x27;, predictor=None, ...)</pre><b>In a Jupyter environment, please rerun this cell to show the HTML representation or trust the notebook. <br />On GitHub, the HTML representation is unable to render, please try loading this page with nbviewer.org.</b></div><div class=\"sk-container\" hidden><div class=\"sk-item\"><div class=\"sk-estimator sk-toggleable\"><input class=\"sk-toggleable__control sk-hidden--visually\" id=\"sk-estimator-id-13\" type=\"checkbox\" checked><label for=\"sk-estimator-id-13\" class=\"sk-toggleable__label sk-toggleable__label-arrow\">XGBClassifier</label><div class=\"sk-toggleable__content\"><pre>XGBClassifier(base_score=None, booster=None, callbacks=None,\n",
       "              colsample_bylevel=None, colsample_bynode=None, colsample_bytree=0,\n",
       "              early_stopping_rounds=None, enable_categorical=False,\n",
       "              eval_metric=None, feature_types=None, gamma=None, gpu_id=None,\n",
       "              grow_policy=None, importance_type=None,\n",
       "              interaction_constraints=None, learning_rate=None, max_bin=None,\n",
       "              max_cat_threshold=None, max_cat_to_onehot=None,\n",
       "              max_delta_step=None, max_depth=4, max_leaves=None,\n",
       "              min_child_weight=7, missing=nan, monotone_constraints=None,\n",
       "              n_estimators=200, n_jobs=None, num_parallel_tree=None,\n",
       "              objective=&#x27;multi:softprob&#x27;, predictor=None, ...)</pre></div></div></div></div></div>"
      ],
      "text/plain": [
       "XGBClassifier(base_score=None, booster=None, callbacks=None,\n",
       "              colsample_bylevel=None, colsample_bynode=None, colsample_bytree=0,\n",
       "              early_stopping_rounds=None, enable_categorical=False,\n",
       "              eval_metric=None, feature_types=None, gamma=None, gpu_id=None,\n",
       "              grow_policy=None, importance_type=None,\n",
       "              interaction_constraints=None, learning_rate=None, max_bin=None,\n",
       "              max_cat_threshold=None, max_cat_to_onehot=None,\n",
       "              max_delta_step=None, max_depth=4, max_leaves=None,\n",
       "              min_child_weight=7, missing=nan, monotone_constraints=None,\n",
       "              n_estimators=200, n_jobs=None, num_parallel_tree=None,\n",
       "              objective='multi:softprob', predictor=None, ...)"
      ]
     },
     "execution_count": 99,
     "metadata": {},
     "output_type": "execute_result"
    }
   ],
   "source": [
    "xgb_model2=xgb.XGBClassifier(\n",
    "                    n_estimators =200, max_depth = int(best_hyperparams['max_depth']),\n",
    "                    reg_alpha = int(best_hyperparams['reg_alpha']),min_child_weight=int(best_hyperparams['min_child_weight']),\n",
    "                    colsample_bytree=int(best_hyperparams['colsample_bytree']), reg_lambda= space['reg_lambda'])         \n",
    "xgb_model2.fit(X_train[features],y_train,\n",
    "             eval_set = [( X_train, y_train), ( X_test, y_test)])"
   ]
  },
  {
   "cell_type": "code",
   "execution_count": 96,
   "id": "11bcca22",
   "metadata": {},
   "outputs": [
    {
     "name": "stdout",
     "output_type": "stream",
     "text": [
      "[0]\tvalidation_0-mlogloss:0.87346\tvalidation_1-mlogloss:0.87372\n",
      "[1]\tvalidation_0-mlogloss:0.74193\tvalidation_1-mlogloss:0.74242\n",
      "[2]\tvalidation_0-mlogloss:0.65647\tvalidation_1-mlogloss:0.65729\n",
      "[3]\tvalidation_0-mlogloss:0.59772\tvalidation_1-mlogloss:0.59891\n",
      "[4]\tvalidation_0-mlogloss:0.55684\tvalidation_1-mlogloss:0.55860\n",
      "[5]\tvalidation_0-mlogloss:0.52746\tvalidation_1-mlogloss:0.52964\n",
      "[6]\tvalidation_0-mlogloss:0.50498\tvalidation_1-mlogloss:0.50766\n",
      "[7]\tvalidation_0-mlogloss:0.48796\tvalidation_1-mlogloss:0.49093\n",
      "[8]\tvalidation_0-mlogloss:0.47464\tvalidation_1-mlogloss:0.47786\n",
      "[9]\tvalidation_0-mlogloss:0.46436\tvalidation_1-mlogloss:0.46801\n",
      "[10]\tvalidation_0-mlogloss:0.45625\tvalidation_1-mlogloss:0.46015\n",
      "[11]\tvalidation_0-mlogloss:0.44924\tvalidation_1-mlogloss:0.45354\n",
      "[12]\tvalidation_0-mlogloss:0.44394\tvalidation_1-mlogloss:0.44865\n",
      "[13]\tvalidation_0-mlogloss:0.43916\tvalidation_1-mlogloss:0.44419\n",
      "[14]\tvalidation_0-mlogloss:0.43485\tvalidation_1-mlogloss:0.44018\n",
      "[15]\tvalidation_0-mlogloss:0.43183\tvalidation_1-mlogloss:0.43757\n",
      "[16]\tvalidation_0-mlogloss:0.42823\tvalidation_1-mlogloss:0.43416\n",
      "[17]\tvalidation_0-mlogloss:0.42540\tvalidation_1-mlogloss:0.43187\n",
      "[18]\tvalidation_0-mlogloss:0.42270\tvalidation_1-mlogloss:0.42957\n",
      "[19]\tvalidation_0-mlogloss:0.42082\tvalidation_1-mlogloss:0.42799\n",
      "[20]\tvalidation_0-mlogloss:0.41870\tvalidation_1-mlogloss:0.42620\n",
      "[21]\tvalidation_0-mlogloss:0.41568\tvalidation_1-mlogloss:0.42350\n",
      "[22]\tvalidation_0-mlogloss:0.41397\tvalidation_1-mlogloss:0.42227\n",
      "[23]\tvalidation_0-mlogloss:0.41220\tvalidation_1-mlogloss:0.42080\n",
      "[24]\tvalidation_0-mlogloss:0.41073\tvalidation_1-mlogloss:0.41965\n",
      "[25]\tvalidation_0-mlogloss:0.40897\tvalidation_1-mlogloss:0.41829\n",
      "[26]\tvalidation_0-mlogloss:0.40697\tvalidation_1-mlogloss:0.41656\n",
      "[27]\tvalidation_0-mlogloss:0.40596\tvalidation_1-mlogloss:0.41585\n",
      "[28]\tvalidation_0-mlogloss:0.40437\tvalidation_1-mlogloss:0.41456\n",
      "[29]\tvalidation_0-mlogloss:0.40225\tvalidation_1-mlogloss:0.41280\n",
      "[30]\tvalidation_0-mlogloss:0.40029\tvalidation_1-mlogloss:0.41130\n",
      "[31]\tvalidation_0-mlogloss:0.39939\tvalidation_1-mlogloss:0.41080\n",
      "[32]\tvalidation_0-mlogloss:0.39769\tvalidation_1-mlogloss:0.40953\n",
      "[33]\tvalidation_0-mlogloss:0.39642\tvalidation_1-mlogloss:0.40859\n",
      "[34]\tvalidation_0-mlogloss:0.39527\tvalidation_1-mlogloss:0.40792\n",
      "[35]\tvalidation_0-mlogloss:0.39394\tvalidation_1-mlogloss:0.40692\n",
      "[36]\tvalidation_0-mlogloss:0.39146\tvalidation_1-mlogloss:0.40483\n",
      "[37]\tvalidation_0-mlogloss:0.38954\tvalidation_1-mlogloss:0.40338\n",
      "[38]\tvalidation_0-mlogloss:0.38812\tvalidation_1-mlogloss:0.40239\n",
      "[39]\tvalidation_0-mlogloss:0.38678\tvalidation_1-mlogloss:0.40144\n",
      "[40]\tvalidation_0-mlogloss:0.38570\tvalidation_1-mlogloss:0.40067\n",
      "[41]\tvalidation_0-mlogloss:0.38409\tvalidation_1-mlogloss:0.39938\n",
      "[42]\tvalidation_0-mlogloss:0.38308\tvalidation_1-mlogloss:0.39869\n",
      "[43]\tvalidation_0-mlogloss:0.38260\tvalidation_1-mlogloss:0.39855\n",
      "[44]\tvalidation_0-mlogloss:0.38176\tvalidation_1-mlogloss:0.39823\n",
      "[45]\tvalidation_0-mlogloss:0.37655\tvalidation_1-mlogloss:0.39328\n",
      "[46]\tvalidation_0-mlogloss:0.37598\tvalidation_1-mlogloss:0.39287\n",
      "[47]\tvalidation_0-mlogloss:0.37543\tvalidation_1-mlogloss:0.39266\n",
      "[48]\tvalidation_0-mlogloss:0.37508\tvalidation_1-mlogloss:0.39262\n",
      "[49]\tvalidation_0-mlogloss:0.37412\tvalidation_1-mlogloss:0.39190\n",
      "[50]\tvalidation_0-mlogloss:0.37378\tvalidation_1-mlogloss:0.39178\n",
      "[51]\tvalidation_0-mlogloss:0.37056\tvalidation_1-mlogloss:0.38872\n",
      "[52]\tvalidation_0-mlogloss:0.37016\tvalidation_1-mlogloss:0.38864\n",
      "[53]\tvalidation_0-mlogloss:0.36979\tvalidation_1-mlogloss:0.38851\n",
      "[54]\tvalidation_0-mlogloss:0.36925\tvalidation_1-mlogloss:0.38828\n",
      "[55]\tvalidation_0-mlogloss:0.36884\tvalidation_1-mlogloss:0.38812\n",
      "[56]\tvalidation_0-mlogloss:0.36726\tvalidation_1-mlogloss:0.38687\n",
      "[57]\tvalidation_0-mlogloss:0.36649\tvalidation_1-mlogloss:0.38662\n",
      "[58]\tvalidation_0-mlogloss:0.36569\tvalidation_1-mlogloss:0.38620\n",
      "[59]\tvalidation_0-mlogloss:0.36353\tvalidation_1-mlogloss:0.38423\n",
      "[60]\tvalidation_0-mlogloss:0.36240\tvalidation_1-mlogloss:0.38336\n",
      "[61]\tvalidation_0-mlogloss:0.36193\tvalidation_1-mlogloss:0.38322\n",
      "[62]\tvalidation_0-mlogloss:0.35930\tvalidation_1-mlogloss:0.38104\n",
      "[63]\tvalidation_0-mlogloss:0.35862\tvalidation_1-mlogloss:0.38066\n",
      "[64]\tvalidation_0-mlogloss:0.35828\tvalidation_1-mlogloss:0.38053\n",
      "[65]\tvalidation_0-mlogloss:0.35803\tvalidation_1-mlogloss:0.38052\n",
      "[66]\tvalidation_0-mlogloss:0.35769\tvalidation_1-mlogloss:0.38039\n",
      "[67]\tvalidation_0-mlogloss:0.35737\tvalidation_1-mlogloss:0.38027\n",
      "[68]\tvalidation_0-mlogloss:0.35694\tvalidation_1-mlogloss:0.38007\n",
      "[69]\tvalidation_0-mlogloss:0.35627\tvalidation_1-mlogloss:0.37970\n",
      "[70]\tvalidation_0-mlogloss:0.35600\tvalidation_1-mlogloss:0.37966\n",
      "[71]\tvalidation_0-mlogloss:0.35530\tvalidation_1-mlogloss:0.37925\n",
      "[72]\tvalidation_0-mlogloss:0.35294\tvalidation_1-mlogloss:0.37717\n",
      "[73]\tvalidation_0-mlogloss:0.35231\tvalidation_1-mlogloss:0.37683\n",
      "[74]\tvalidation_0-mlogloss:0.35196\tvalidation_1-mlogloss:0.37670\n",
      "[75]\tvalidation_0-mlogloss:0.35150\tvalidation_1-mlogloss:0.37652\n",
      "[76]\tvalidation_0-mlogloss:0.35117\tvalidation_1-mlogloss:0.37650\n",
      "[77]\tvalidation_0-mlogloss:0.35098\tvalidation_1-mlogloss:0.37650\n",
      "[78]\tvalidation_0-mlogloss:0.34789\tvalidation_1-mlogloss:0.37362\n",
      "[79]\tvalidation_0-mlogloss:0.34709\tvalidation_1-mlogloss:0.37325\n",
      "[80]\tvalidation_0-mlogloss:0.34502\tvalidation_1-mlogloss:0.37134\n",
      "[81]\tvalidation_0-mlogloss:0.34377\tvalidation_1-mlogloss:0.37044\n",
      "[82]\tvalidation_0-mlogloss:0.34340\tvalidation_1-mlogloss:0.37033\n",
      "[83]\tvalidation_0-mlogloss:0.34295\tvalidation_1-mlogloss:0.37021\n",
      "[84]\tvalidation_0-mlogloss:0.34271\tvalidation_1-mlogloss:0.37014\n",
      "[85]\tvalidation_0-mlogloss:0.34093\tvalidation_1-mlogloss:0.36863\n",
      "[86]\tvalidation_0-mlogloss:0.34059\tvalidation_1-mlogloss:0.36854\n",
      "[87]\tvalidation_0-mlogloss:0.34016\tvalidation_1-mlogloss:0.36847\n",
      "[88]\tvalidation_0-mlogloss:0.33948\tvalidation_1-mlogloss:0.36808\n",
      "[89]\tvalidation_0-mlogloss:0.33766\tvalidation_1-mlogloss:0.36667\n",
      "[90]\tvalidation_0-mlogloss:0.33677\tvalidation_1-mlogloss:0.36602\n",
      "[91]\tvalidation_0-mlogloss:0.33626\tvalidation_1-mlogloss:0.36592\n",
      "[92]\tvalidation_0-mlogloss:0.33580\tvalidation_1-mlogloss:0.36570\n",
      "[93]\tvalidation_0-mlogloss:0.33548\tvalidation_1-mlogloss:0.36569\n",
      "[94]\tvalidation_0-mlogloss:0.33358\tvalidation_1-mlogloss:0.36402\n",
      "[95]\tvalidation_0-mlogloss:0.33311\tvalidation_1-mlogloss:0.36390\n",
      "[96]\tvalidation_0-mlogloss:0.33283\tvalidation_1-mlogloss:0.36392\n",
      "[97]\tvalidation_0-mlogloss:0.33238\tvalidation_1-mlogloss:0.36372\n",
      "[98]\tvalidation_0-mlogloss:0.33209\tvalidation_1-mlogloss:0.36366\n",
      "[99]\tvalidation_0-mlogloss:0.33192\tvalidation_1-mlogloss:0.36363\n",
      "[100]\tvalidation_0-mlogloss:0.33094\tvalidation_1-mlogloss:0.36295\n",
      "[101]\tvalidation_0-mlogloss:0.33041\tvalidation_1-mlogloss:0.36272\n",
      "[102]\tvalidation_0-mlogloss:0.33009\tvalidation_1-mlogloss:0.36267\n",
      "[103]\tvalidation_0-mlogloss:0.32952\tvalidation_1-mlogloss:0.36246\n",
      "[104]\tvalidation_0-mlogloss:0.32924\tvalidation_1-mlogloss:0.36235\n",
      "[105]\tvalidation_0-mlogloss:0.32839\tvalidation_1-mlogloss:0.36176\n",
      "[106]\tvalidation_0-mlogloss:0.32689\tvalidation_1-mlogloss:0.36048\n",
      "[107]\tvalidation_0-mlogloss:0.32635\tvalidation_1-mlogloss:0.36033\n",
      "[108]\tvalidation_0-mlogloss:0.32608\tvalidation_1-mlogloss:0.36028\n",
      "[109]\tvalidation_0-mlogloss:0.32562\tvalidation_1-mlogloss:0.36013\n",
      "[110]\tvalidation_0-mlogloss:0.32533\tvalidation_1-mlogloss:0.36007\n",
      "[111]\tvalidation_0-mlogloss:0.32500\tvalidation_1-mlogloss:0.36004\n",
      "[112]\tvalidation_0-mlogloss:0.32486\tvalidation_1-mlogloss:0.36006\n",
      "[113]\tvalidation_0-mlogloss:0.32468\tvalidation_1-mlogloss:0.36003\n",
      "[114]\tvalidation_0-mlogloss:0.32449\tvalidation_1-mlogloss:0.36004\n",
      "[115]\tvalidation_0-mlogloss:0.32396\tvalidation_1-mlogloss:0.35973\n",
      "[116]\tvalidation_0-mlogloss:0.32337\tvalidation_1-mlogloss:0.35944\n",
      "[117]\tvalidation_0-mlogloss:0.32314\tvalidation_1-mlogloss:0.35947\n",
      "[118]\tvalidation_0-mlogloss:0.32298\tvalidation_1-mlogloss:0.35948\n",
      "[119]\tvalidation_0-mlogloss:0.32262\tvalidation_1-mlogloss:0.35932\n",
      "[120]\tvalidation_0-mlogloss:0.32197\tvalidation_1-mlogloss:0.35891\n",
      "[121]\tvalidation_0-mlogloss:0.32159\tvalidation_1-mlogloss:0.35882\n",
      "[122]\tvalidation_0-mlogloss:0.32148\tvalidation_1-mlogloss:0.35882\n",
      "[123]\tvalidation_0-mlogloss:0.32117\tvalidation_1-mlogloss:0.35874\n",
      "[124]\tvalidation_0-mlogloss:0.32001\tvalidation_1-mlogloss:0.35778\n",
      "[125]\tvalidation_0-mlogloss:0.31958\tvalidation_1-mlogloss:0.35769\n"
     ]
    },
    {
     "name": "stdout",
     "output_type": "stream",
     "text": [
      "[126]\tvalidation_0-mlogloss:0.31930\tvalidation_1-mlogloss:0.35766\n",
      "[127]\tvalidation_0-mlogloss:0.31837\tvalidation_1-mlogloss:0.35705\n",
      "[128]\tvalidation_0-mlogloss:0.31792\tvalidation_1-mlogloss:0.35699\n",
      "[129]\tvalidation_0-mlogloss:0.31773\tvalidation_1-mlogloss:0.35697\n",
      "[130]\tvalidation_0-mlogloss:0.31738\tvalidation_1-mlogloss:0.35679\n",
      "[131]\tvalidation_0-mlogloss:0.31703\tvalidation_1-mlogloss:0.35673\n",
      "[132]\tvalidation_0-mlogloss:0.31616\tvalidation_1-mlogloss:0.35606\n",
      "[133]\tvalidation_0-mlogloss:0.31558\tvalidation_1-mlogloss:0.35561\n",
      "[134]\tvalidation_0-mlogloss:0.31532\tvalidation_1-mlogloss:0.35553\n",
      "[135]\tvalidation_0-mlogloss:0.31477\tvalidation_1-mlogloss:0.35538\n",
      "[136]\tvalidation_0-mlogloss:0.31425\tvalidation_1-mlogloss:0.35516\n",
      "[137]\tvalidation_0-mlogloss:0.31389\tvalidation_1-mlogloss:0.35503\n",
      "[138]\tvalidation_0-mlogloss:0.31347\tvalidation_1-mlogloss:0.35491\n",
      "[139]\tvalidation_0-mlogloss:0.31323\tvalidation_1-mlogloss:0.35495\n",
      "[140]\tvalidation_0-mlogloss:0.31299\tvalidation_1-mlogloss:0.35494\n",
      "[141]\tvalidation_0-mlogloss:0.31275\tvalidation_1-mlogloss:0.35489\n",
      "[142]\tvalidation_0-mlogloss:0.31213\tvalidation_1-mlogloss:0.35436\n",
      "[143]\tvalidation_0-mlogloss:0.31196\tvalidation_1-mlogloss:0.35434\n",
      "[144]\tvalidation_0-mlogloss:0.31164\tvalidation_1-mlogloss:0.35431\n",
      "[145]\tvalidation_0-mlogloss:0.31135\tvalidation_1-mlogloss:0.35429\n",
      "[146]\tvalidation_0-mlogloss:0.31113\tvalidation_1-mlogloss:0.35427\n",
      "[147]\tvalidation_0-mlogloss:0.31080\tvalidation_1-mlogloss:0.35426\n",
      "[148]\tvalidation_0-mlogloss:0.31047\tvalidation_1-mlogloss:0.35418\n",
      "[149]\tvalidation_0-mlogloss:0.30967\tvalidation_1-mlogloss:0.35373\n",
      "[150]\tvalidation_0-mlogloss:0.30941\tvalidation_1-mlogloss:0.35370\n",
      "[151]\tvalidation_0-mlogloss:0.30919\tvalidation_1-mlogloss:0.35366\n",
      "[152]\tvalidation_0-mlogloss:0.30881\tvalidation_1-mlogloss:0.35357\n",
      "[153]\tvalidation_0-mlogloss:0.30838\tvalidation_1-mlogloss:0.35328\n",
      "[154]\tvalidation_0-mlogloss:0.30812\tvalidation_1-mlogloss:0.35329\n",
      "[155]\tvalidation_0-mlogloss:0.30772\tvalidation_1-mlogloss:0.35314\n",
      "[156]\tvalidation_0-mlogloss:0.30746\tvalidation_1-mlogloss:0.35318\n",
      "[157]\tvalidation_0-mlogloss:0.30738\tvalidation_1-mlogloss:0.35317\n",
      "[158]\tvalidation_0-mlogloss:0.30689\tvalidation_1-mlogloss:0.35292\n",
      "[159]\tvalidation_0-mlogloss:0.30663\tvalidation_1-mlogloss:0.35290\n",
      "[160]\tvalidation_0-mlogloss:0.30644\tvalidation_1-mlogloss:0.35285\n",
      "[161]\tvalidation_0-mlogloss:0.30634\tvalidation_1-mlogloss:0.35286\n",
      "[162]\tvalidation_0-mlogloss:0.30597\tvalidation_1-mlogloss:0.35274\n",
      "[163]\tvalidation_0-mlogloss:0.30575\tvalidation_1-mlogloss:0.35272\n",
      "[164]\tvalidation_0-mlogloss:0.30361\tvalidation_1-mlogloss:0.35068\n",
      "[165]\tvalidation_0-mlogloss:0.30329\tvalidation_1-mlogloss:0.35065\n",
      "[166]\tvalidation_0-mlogloss:0.30303\tvalidation_1-mlogloss:0.35064\n",
      "[167]\tvalidation_0-mlogloss:0.30295\tvalidation_1-mlogloss:0.35066\n",
      "[168]\tvalidation_0-mlogloss:0.30281\tvalidation_1-mlogloss:0.35066\n",
      "[169]\tvalidation_0-mlogloss:0.30228\tvalidation_1-mlogloss:0.35047\n",
      "[170]\tvalidation_0-mlogloss:0.30198\tvalidation_1-mlogloss:0.35047\n",
      "[171]\tvalidation_0-mlogloss:0.30173\tvalidation_1-mlogloss:0.35047\n",
      "[172]\tvalidation_0-mlogloss:0.30148\tvalidation_1-mlogloss:0.35048\n",
      "[173]\tvalidation_0-mlogloss:0.30128\tvalidation_1-mlogloss:0.35050\n",
      "[174]\tvalidation_0-mlogloss:0.30106\tvalidation_1-mlogloss:0.35044\n",
      "[175]\tvalidation_0-mlogloss:0.30084\tvalidation_1-mlogloss:0.35039\n",
      "[176]\tvalidation_0-mlogloss:0.30064\tvalidation_1-mlogloss:0.35044\n",
      "[177]\tvalidation_0-mlogloss:0.30019\tvalidation_1-mlogloss:0.35024\n",
      "[178]\tvalidation_0-mlogloss:0.30004\tvalidation_1-mlogloss:0.35022\n",
      "[179]\tvalidation_0-mlogloss:0.29980\tvalidation_1-mlogloss:0.35025\n"
     ]
    },
    {
     "data": {
      "text/html": [
       "<style>#sk-container-id-12 {color: black;background-color: white;}#sk-container-id-12 pre{padding: 0;}#sk-container-id-12 div.sk-toggleable {background-color: white;}#sk-container-id-12 label.sk-toggleable__label {cursor: pointer;display: block;width: 100%;margin-bottom: 0;padding: 0.3em;box-sizing: border-box;text-align: center;}#sk-container-id-12 label.sk-toggleable__label-arrow:before {content: \"▸\";float: left;margin-right: 0.25em;color: #696969;}#sk-container-id-12 label.sk-toggleable__label-arrow:hover:before {color: black;}#sk-container-id-12 div.sk-estimator:hover label.sk-toggleable__label-arrow:before {color: black;}#sk-container-id-12 div.sk-toggleable__content {max-height: 0;max-width: 0;overflow: hidden;text-align: left;background-color: #f0f8ff;}#sk-container-id-12 div.sk-toggleable__content pre {margin: 0.2em;color: black;border-radius: 0.25em;background-color: #f0f8ff;}#sk-container-id-12 input.sk-toggleable__control:checked~div.sk-toggleable__content {max-height: 200px;max-width: 100%;overflow: auto;}#sk-container-id-12 input.sk-toggleable__control:checked~label.sk-toggleable__label-arrow:before {content: \"▾\";}#sk-container-id-12 div.sk-estimator input.sk-toggleable__control:checked~label.sk-toggleable__label {background-color: #d4ebff;}#sk-container-id-12 div.sk-label input.sk-toggleable__control:checked~label.sk-toggleable__label {background-color: #d4ebff;}#sk-container-id-12 input.sk-hidden--visually {border: 0;clip: rect(1px 1px 1px 1px);clip: rect(1px, 1px, 1px, 1px);height: 1px;margin: -1px;overflow: hidden;padding: 0;position: absolute;width: 1px;}#sk-container-id-12 div.sk-estimator {font-family: monospace;background-color: #f0f8ff;border: 1px dotted black;border-radius: 0.25em;box-sizing: border-box;margin-bottom: 0.5em;}#sk-container-id-12 div.sk-estimator:hover {background-color: #d4ebff;}#sk-container-id-12 div.sk-parallel-item::after {content: \"\";width: 100%;border-bottom: 1px solid gray;flex-grow: 1;}#sk-container-id-12 div.sk-label:hover label.sk-toggleable__label {background-color: #d4ebff;}#sk-container-id-12 div.sk-serial::before {content: \"\";position: absolute;border-left: 1px solid gray;box-sizing: border-box;top: 0;bottom: 0;left: 50%;z-index: 0;}#sk-container-id-12 div.sk-serial {display: flex;flex-direction: column;align-items: center;background-color: white;padding-right: 0.2em;padding-left: 0.2em;position: relative;}#sk-container-id-12 div.sk-item {position: relative;z-index: 1;}#sk-container-id-12 div.sk-parallel {display: flex;align-items: stretch;justify-content: center;background-color: white;position: relative;}#sk-container-id-12 div.sk-item::before, #sk-container-id-12 div.sk-parallel-item::before {content: \"\";position: absolute;border-left: 1px solid gray;box-sizing: border-box;top: 0;bottom: 0;left: 50%;z-index: -1;}#sk-container-id-12 div.sk-parallel-item {display: flex;flex-direction: column;z-index: 1;position: relative;background-color: white;}#sk-container-id-12 div.sk-parallel-item:first-child::after {align-self: flex-end;width: 50%;}#sk-container-id-12 div.sk-parallel-item:last-child::after {align-self: flex-start;width: 50%;}#sk-container-id-12 div.sk-parallel-item:only-child::after {width: 0;}#sk-container-id-12 div.sk-dashed-wrapped {border: 1px dashed gray;margin: 0 0.4em 0.5em 0.4em;box-sizing: border-box;padding-bottom: 0.4em;background-color: white;}#sk-container-id-12 div.sk-label label {font-family: monospace;font-weight: bold;display: inline-block;line-height: 1.2em;}#sk-container-id-12 div.sk-label-container {text-align: center;}#sk-container-id-12 div.sk-container {/* jupyter's `normalize.less` sets `[hidden] { display: none; }` but bootstrap.min.css set `[hidden] { display: none !important; }` so we also need the `!important` here to be able to override the default hidden behavior on the sphinx rendered scikit-learn.org. See: https://github.com/scikit-learn/scikit-learn/issues/21755 */display: inline-block !important;position: relative;}#sk-container-id-12 div.sk-text-repr-fallback {display: none;}</style><div id=\"sk-container-id-12\" class=\"sk-top-container\"><div class=\"sk-text-repr-fallback\"><pre>XGBClassifier(base_score=None, booster=None, callbacks=None,\n",
       "              colsample_bylevel=None, colsample_bynode=None,\n",
       "              colsample_bytree=None, early_stopping_rounds=None,\n",
       "              enable_categorical=False, eval_metric=None, feature_types=None,\n",
       "              gamma=None, gpu_id=None, grow_policy=None, importance_type=None,\n",
       "              interaction_constraints=None, learning_rate=None, max_bin=None,\n",
       "              max_cat_threshold=None, max_cat_to_onehot=None,\n",
       "              max_delta_step=None, max_depth=None, max_leaves=None,\n",
       "              min_child_weight=None, missing=nan, monotone_constraints=None,\n",
       "              n_estimators=180, n_jobs=None, num_parallel_tree=None,\n",
       "              objective=&#x27;multi:softprob&#x27;, predictor=None, ...)</pre><b>In a Jupyter environment, please rerun this cell to show the HTML representation or trust the notebook. <br />On GitHub, the HTML representation is unable to render, please try loading this page with nbviewer.org.</b></div><div class=\"sk-container\" hidden><div class=\"sk-item\"><div class=\"sk-estimator sk-toggleable\"><input class=\"sk-toggleable__control sk-hidden--visually\" id=\"sk-estimator-id-12\" type=\"checkbox\" checked><label for=\"sk-estimator-id-12\" class=\"sk-toggleable__label sk-toggleable__label-arrow\">XGBClassifier</label><div class=\"sk-toggleable__content\"><pre>XGBClassifier(base_score=None, booster=None, callbacks=None,\n",
       "              colsample_bylevel=None, colsample_bynode=None,\n",
       "              colsample_bytree=None, early_stopping_rounds=None,\n",
       "              enable_categorical=False, eval_metric=None, feature_types=None,\n",
       "              gamma=None, gpu_id=None, grow_policy=None, importance_type=None,\n",
       "              interaction_constraints=None, learning_rate=None, max_bin=None,\n",
       "              max_cat_threshold=None, max_cat_to_onehot=None,\n",
       "              max_delta_step=None, max_depth=None, max_leaves=None,\n",
       "              min_child_weight=None, missing=nan, monotone_constraints=None,\n",
       "              n_estimators=180, n_jobs=None, num_parallel_tree=None,\n",
       "              objective=&#x27;multi:softprob&#x27;, predictor=None, ...)</pre></div></div></div></div></div>"
      ],
      "text/plain": [
       "XGBClassifier(base_score=None, booster=None, callbacks=None,\n",
       "              colsample_bylevel=None, colsample_bynode=None,\n",
       "              colsample_bytree=None, early_stopping_rounds=None,\n",
       "              enable_categorical=False, eval_metric=None, feature_types=None,\n",
       "              gamma=None, gpu_id=None, grow_policy=None, importance_type=None,\n",
       "              interaction_constraints=None, learning_rate=None, max_bin=None,\n",
       "              max_cat_threshold=None, max_cat_to_onehot=None,\n",
       "              max_delta_step=None, max_depth=None, max_leaves=None,\n",
       "              min_child_weight=None, missing=nan, monotone_constraints=None,\n",
       "              n_estimators=180, n_jobs=None, num_parallel_tree=None,\n",
       "              objective='multi:softprob', predictor=None, ...)"
      ]
     },
     "execution_count": 96,
     "metadata": {},
     "output_type": "execute_result"
    }
   ],
   "source": [
    "xgb_basic=xgb.XGBClassifier(n_estimators =180) \n",
    "evals_result = {}\n",
    "xgb_basic.fit(X_train[features],y_train,\n",
    "             eval_set = [( X_train, y_train), ( X_test, y_test)])"
   ]
  },
  {
   "cell_type": "code",
   "execution_count": 87,
   "id": "ea1a48a8",
   "metadata": {},
   "outputs": [
    {
     "data": {
      "text/plain": [
       "0.8605256335160983"
      ]
     },
     "execution_count": 87,
     "metadata": {},
     "output_type": "execute_result"
    }
   ],
   "source": [
    "pred_test = xgb_basic.predict(X_test)\n",
    "accuracy_score(pred_test,y_test)"
   ]
  },
  {
   "cell_type": "code",
   "execution_count": 82,
   "id": "9ff1fd06",
   "metadata": {},
   "outputs": [
    {
     "data": {
      "text/plain": [
       "OrderedDict([('mlogloss',\n",
       "              [1.0299139693778374,\n",
       "               0.9642582152682332,\n",
       "               0.9526752408402622,\n",
       "               0.9143608759322442,\n",
       "               0.8947415309752578,\n",
       "               0.885519264590552,\n",
       "               0.8827564834998758,\n",
       "               0.8648786377503181,\n",
       "               0.8502338898963625,\n",
       "               0.8289551499152263,\n",
       "               0.7605124137898133,\n",
       "               0.7254753653832233,\n",
       "               0.6973066893917761,\n",
       "               0.6898730878041962,\n",
       "               0.6749113359092296,\n",
       "               0.6703300745068073,\n",
       "               0.6555456618632755,\n",
       "               0.6453962718922382,\n",
       "               0.6381790201148404,\n",
       "               0.6221671015857568,\n",
       "               0.6126696356701993,\n",
       "               0.6088216351189844,\n",
       "               0.6038847661689342,\n",
       "               0.6022346566841581,\n",
       "               0.5900964627554525,\n",
       "               0.5837253215512864,\n",
       "               0.5796191109093122,\n",
       "               0.5705885592770163,\n",
       "               0.5602633555429225,\n",
       "               0.5588771196718451,\n",
       "               0.5553214879411917,\n",
       "               0.5526440224608596,\n",
       "               0.5515279878292447,\n",
       "               0.5491892389929957,\n",
       "               0.5482080693371749,\n",
       "               0.545442940875659,\n",
       "               0.5434251466591118,\n",
       "               0.5407260661140667,\n",
       "               0.5401172578062324,\n",
       "               0.5306956653207082,\n",
       "               0.5292154974375459,\n",
       "               0.5279383107814041,\n",
       "               0.5265464273042891,\n",
       "               0.5247439365431812,\n",
       "               0.5233037028104778,\n",
       "               0.5179522861749133,\n",
       "               0.5173961997360382,\n",
       "               0.5161918314131911,\n",
       "               0.5155152283119087,\n",
       "               0.5151546861567092,\n",
       "               0.5140344115764044,\n",
       "               0.513638489711896,\n",
       "               0.5129547386667903,\n",
       "               0.5125802265147344,\n",
       "               0.5111799043803974,\n",
       "               0.5066552183233548,\n",
       "               0.5064403358709674,\n",
       "               0.5054259502413871,\n",
       "               0.5051214535150441,\n",
       "               0.5020044998288685,\n",
       "               0.5013819299903085,\n",
       "               0.500353817920578,\n",
       "               0.4999434643756832,\n",
       "               0.49888545106881477,\n",
       "               0.4941581171381834,\n",
       "               0.4935656234331226,\n",
       "               0.4906071242767054,\n",
       "               0.4897277856144302,\n",
       "               0.48921609581014214,\n",
       "               0.488902331467061,\n",
       "               0.4884284794886996,\n",
       "               0.48586754420665706,\n",
       "               0.4856005252491166,\n",
       "               0.48176071172678325,\n",
       "               0.4808624160700992,\n",
       "               0.48041643405163725,\n",
       "               0.4803469788137084,\n",
       "               0.4793999452115766,\n",
       "               0.4790376488739192,\n",
       "               0.4787644948679139,\n",
       "               0.47857449767597154,\n",
       "               0.4781390554346155,\n",
       "               0.4777168416847955,\n",
       "               0.4775542894758291,\n",
       "               0.47728556127687494,\n",
       "               0.4764149524632841,\n",
       "               0.4758853719659611,\n",
       "               0.47583543264775985,\n",
       "               0.47507385111366196,\n",
       "               0.474929713442021,\n",
       "               0.47468502290695463,\n",
       "               0.47423681828877734,\n",
       "               0.47314675821478597,\n",
       "               0.4728470479078815,\n",
       "               0.47282460871885323,\n",
       "               0.47275132308741374,\n",
       "               0.47208996906908934,\n",
       "               0.4719126521431139,\n",
       "               0.4718863683811658,\n",
       "               0.47162058904017784,\n",
       "               0.4713997748485583,\n",
       "               0.47123240476139,\n",
       "               0.47081932723698033,\n",
       "               0.4707885320526539,\n",
       "               0.47064534152696297,\n",
       "               0.46993090662035286,\n",
       "               0.4694544935743584,\n",
       "               0.4678089904844606,\n",
       "               0.46754625338420125,\n",
       "               0.4673103734859308,\n",
       "               0.46722277067062906,\n",
       "               0.46664065730149407,\n",
       "               0.4665311062184577,\n",
       "               0.46630172817340393,\n",
       "               0.4660212539839125,\n",
       "               0.46578124330783766,\n",
       "               0.4656583023848599,\n",
       "               0.46550908700100285,\n",
       "               0.4646806070236382,\n",
       "               0.4644188792952135,\n",
       "               0.4638800813350517,\n",
       "               0.4638464352917034,\n",
       "               0.463546310726386,\n",
       "               0.4633473817913441,\n",
       "               0.46211575665828636,\n",
       "               0.46174679908640787,\n",
       "               0.46142094419206087,\n",
       "               0.46131406478185677,\n",
       "               0.4610844216550283,\n",
       "               0.4609970935216998,\n",
       "               0.4608916626598848,\n",
       "               0.4606601147290773,\n",
       "               0.46059817094558014,\n",
       "               0.4603287720323117,\n",
       "               0.4598861614916136,\n",
       "               0.4597011233217984,\n",
       "               0.4588595320853596,\n",
       "               0.4586425435490237,\n",
       "               0.45842511193082847,\n",
       "               0.4582791487347831,\n",
       "               0.4580040716444403,\n",
       "               0.45780492700688236,\n",
       "               0.45775831939568706,\n",
       "               0.45760360486855745,\n",
       "               0.45758646820357685,\n",
       "               0.4575634681210261,\n",
       "               0.45748341019723293,\n",
       "               0.45726745898084986,\n",
       "               0.4569706971301702,\n",
       "               0.45674202891194515,\n",
       "               0.45666217319548263,\n",
       "               0.4565685202721575,\n",
       "               0.456540367668448,\n",
       "               0.4564981154144886,\n",
       "               0.45646039287234486,\n",
       "               0.4561953315115882,\n",
       "               0.45614588032926967,\n",
       "               0.45606181638292304,\n",
       "               0.4558650140372145,\n",
       "               0.45584422742386316,\n",
       "               0.4556108798253974,\n",
       "               0.4555042094783635,\n",
       "               0.455356360424327,\n",
       "               0.4552515039587453,\n",
       "               0.45517140631492775,\n",
       "               0.45457557770241963,\n",
       "               0.4545327192529799,\n",
       "               0.4544444057484903,\n",
       "               0.45437377034092696,\n",
       "               0.4541889390199262,\n",
       "               0.4540555768357935,\n",
       "               0.4539758000343479,\n",
       "               0.4538168732282869,\n",
       "               0.4538009880150683,\n",
       "               0.4537522197184203,\n",
       "               0.45367969635876776,\n",
       "               0.4536203089660061,\n",
       "               0.4534510262188908,\n",
       "               0.4533084682152054,\n",
       "               0.4532049107126743,\n",
       "               0.45307967417564077,\n",
       "               0.4530672192451055,\n",
       "               0.4530035875827875,\n",
       "               0.4529311627162401,\n",
       "               0.45268123548698785,\n",
       "               0.4525660526424715,\n",
       "               0.45254318808350547,\n",
       "               0.4524424618993838,\n",
       "               0.45243980381106164,\n",
       "               0.45240075444077443,\n",
       "               0.4523855499883595,\n",
       "               0.4523757438711947,\n",
       "               0.45234966722981845,\n",
       "               0.4522913295186381,\n",
       "               0.45225929703219014,\n",
       "               0.4522084233452656,\n",
       "               0.45219189722494746,\n",
       "               0.45200302111365587,\n",
       "               0.45194781868137573,\n",
       "               0.45190603101127846,\n",
       "               0.45188250159279436,\n",
       "               0.45182793616216066,\n",
       "               0.45180918573913237,\n",
       "               0.45176665371142094,\n",
       "               0.4517613064999,\n",
       "               0.45172544522673463,\n",
       "               0.45169625377650413,\n",
       "               0.4516746813264033,\n",
       "               0.4515319931994481,\n",
       "               0.45151096983850214,\n",
       "               0.45146203285463415,\n",
       "               0.4514175939234747,\n",
       "               0.45128117396175926,\n",
       "               0.4512514278280761,\n",
       "               0.4511781792922576,\n",
       "               0.4511222742507604,\n",
       "               0.45107886731550306,\n",
       "               0.4510705673598794,\n",
       "               0.45104803075353456,\n",
       "               0.45102357165577234,\n",
       "               0.4509308066753088,\n",
       "               0.45088470800860514,\n",
       "               0.45082842216925584,\n",
       "               0.45080526141765154,\n",
       "               0.4507478107274866,\n",
       "               0.45071832901325926,\n",
       "               0.45069409238326275,\n",
       "               0.45066083010931446,\n",
       "               0.45064936658937615,\n",
       "               0.450537415713579,\n",
       "               0.45051259432662843,\n",
       "               0.4504521593191842,\n",
       "               0.4504109470470111,\n",
       "               0.4502447393839746,\n",
       "               0.45021580070374123,\n",
       "               0.45012764260657456,\n",
       "               0.4501051417740255,\n",
       "               0.4500941908043141,\n",
       "               0.44999389343183455,\n",
       "               0.44998731054395297,\n",
       "               0.4499488867648265,\n",
       "               0.44986934421573477,\n",
       "               0.44983299448147296,\n",
       "               0.44972106293383163,\n",
       "               0.4496963036264602,\n",
       "               0.44966238464871333,\n",
       "               0.4496507615001768,\n",
       "               0.4496373834136618,\n",
       "               0.44958177680212513,\n",
       "               0.44955515041870536,\n",
       "               0.44950955069429005,\n",
       "               0.4494450552481903,\n",
       "               0.44936597603632406,\n",
       "               0.44930089893636005,\n",
       "               0.4492842582632098,\n",
       "               0.44926351677343324,\n",
       "               0.449210566925397,\n",
       "               0.4491609655778867,\n",
       "               0.44910086766430823,\n",
       "               0.44908637646373945,\n",
       "               0.44902754719026516,\n",
       "               0.44900578297826943,\n",
       "               0.44868748515434703,\n",
       "               0.44866047548567556,\n",
       "               0.44856505381237627,\n",
       "               0.4485275312260889,\n",
       "               0.44850077583891523,\n",
       "               0.4484456759539497,\n",
       "               0.4484376456257399,\n",
       "               0.448422396102672,\n",
       "               0.44818101888483836,\n",
       "               0.4481670921017941,\n",
       "               0.44814886445362895,\n",
       "               0.44811196483913224,\n",
       "               0.44807666564528875,\n",
       "               0.4480379048206446,\n",
       "               0.44800908339561213,\n",
       "               0.44797760802385905,\n",
       "               0.44795642519513373,\n",
       "               0.4479413450187492,\n",
       "               0.44789764746060584,\n",
       "               0.4478906078150111,\n",
       "               0.44786806494084574,\n",
       "               0.44784705889219145,\n",
       "               0.44782787720656014,\n",
       "               0.44781100992811795,\n",
       "               0.4477678006656697,\n",
       "               0.44771256362537426,\n",
       "               0.44767074564828874,\n",
       "               0.4476185909794994,\n",
       "               0.44760752182241487,\n",
       "               0.44759290366702775,\n",
       "               0.44757561018562814,\n",
       "               0.44754592417268924,\n",
       "               0.44752867784601147,\n",
       "               0.4474937312328942,\n",
       "               0.4474741622677758,\n",
       "               0.44746768426283506,\n",
       "               0.44743391809786914,\n",
       "               0.4474162328915236,\n",
       "               0.44740516981164935,\n",
       "               0.4473791965492297,\n",
       "               0.44737322077653785,\n",
       "               0.44734726308186334,\n",
       "               0.44733573214757455,\n",
       "               0.44730386620569207,\n",
       "               0.4472975827359263,\n",
       "               0.4472627031114999,\n",
       "               0.44719930682753506,\n",
       "               0.4471812552050288,\n",
       "               0.44717084582332384,\n",
       "               0.4471531874299886,\n",
       "               0.4471342598944631,\n",
       "               0.4471218403001278,\n",
       "               0.4471138277848838,\n",
       "               0.4470863552247611,\n",
       "               0.4470611197526182,\n",
       "               0.44704063297386076,\n",
       "               0.4469942554383292,\n",
       "               0.4469649816527219,\n",
       "               0.4469502618074816,\n",
       "               0.4468978240338072,\n",
       "               0.4468523990160743,\n",
       "               0.44682480470692915,\n",
       "               0.4467973644471357,\n",
       "               0.44677795705561385,\n",
       "               0.4467609902305546,\n",
       "               0.4467195314292285,\n",
       "               0.44670457907458955,\n",
       "               0.44669482050394893,\n",
       "               0.44666339345249667,\n",
       "               0.4466272763456315,\n",
       "               0.44661389899039766,\n",
       "               0.4465887364252375,\n",
       "               0.4465651274863653,\n",
       "               0.44654774089068666,\n",
       "               0.4465209189289221,\n",
       "               0.44651257839617153,\n",
       "               0.4465044348347595,\n",
       "               0.44647680526047556,\n",
       "               0.44645276396343037,\n",
       "               0.44644230980674465,\n",
       "               0.44642972251677765,\n",
       "               0.4464145400277976,\n",
       "               0.44638876433186436,\n",
       "               0.4463390502386229,\n",
       "               0.44632111731353324,\n",
       "               0.44631405644379224,\n",
       "               0.4463075933624741,\n",
       "               0.44630101926410115,\n",
       "               0.44627961232146274,\n",
       "               0.4462732523363045,\n",
       "               0.44626336334570255,\n",
       "               0.4462500283400568,\n",
       "               0.4462355510734853,\n",
       "               0.4462007293275581,\n",
       "               0.44613589596202585,\n",
       "               0.4460822024701306,\n",
       "               0.4460636233712893,\n",
       "               0.4460570810809019,\n",
       "               0.44603465727161845,\n",
       "               0.44601934700598256,\n",
       "               0.4459754689430365,\n",
       "               0.44594681685688325,\n",
       "               0.44593089819978327,\n",
       "               0.44589556462792085,\n",
       "               0.44587810830691216,\n",
       "               0.4458309833515137,\n",
       "               0.44582224291920597,\n",
       "               0.44581182497847954,\n",
       "               0.44577598280234537,\n",
       "               0.4457588136045149,\n",
       "               0.4457455579065463,\n",
       "               0.4457348802763911,\n",
       "               0.44571168974034786,\n",
       "               0.4456994025158951,\n",
       "               0.44567525015734727,\n",
       "               0.4456443270304544,\n",
       "               0.4456254121309997,\n",
       "               0.4456128230229741,\n",
       "               0.4455919902652598,\n",
       "               0.44558031236846235,\n",
       "               0.44556039412193266,\n",
       "               0.445547048664641,\n",
       "               0.44553815620900983,\n",
       "               0.44551947836095096,\n",
       "               0.4455061447969408,\n",
       "               0.44549803958174033,\n",
       "               0.44548505471315974,\n",
       "               0.44545848347788575,\n",
       "               0.4454446800235926,\n",
       "               0.44541136211265475,\n",
       "               0.44539536060248536,\n",
       "               0.44537727388910736,\n",
       "               0.4453673912967077,\n",
       "               0.4453595143566843,\n",
       "               0.445335240551535,\n",
       "               0.44532666062537285,\n",
       "               0.44529928583208805,\n",
       "               0.4452866239536179,\n",
       "               0.44527209434362713,\n",
       "               0.4452629908596447,\n",
       "               0.44524382399555285,\n",
       "               0.44522818037093725,\n",
       "               0.445211653916992,\n",
       "               0.4451943581160809,\n",
       "               0.4451718132343483,\n",
       "               0.4451624558390707,\n",
       "               0.44514058989381894,\n",
       "               0.4451115794062313,\n",
       "               0.44496037156155555,\n",
       "               0.44494821703579424,\n",
       "               0.44494025513162144,\n",
       "               0.4449309425710769,\n",
       "               0.444924039973866,\n",
       "               0.4449070301381025,\n",
       "               0.4448993019136175,\n",
       "               0.44488038051694356,\n",
       "               0.4448542096829499,\n",
       "               0.4447300470549844,\n",
       "               0.4447152487985476,\n",
       "               0.44470383144898157,\n",
       "               0.4446914897500709,\n",
       "               0.444684046058114,\n",
       "               0.4446759876562608,\n",
       "               0.4446670732930521,\n",
       "               0.4446506878139527,\n",
       "               0.44464686319234303,\n",
       "               0.4446398059309806,\n",
       "               0.44463232722337936,\n",
       "               0.44462064503195925,\n",
       "               0.44460947904409115,\n",
       "               0.44458119425664483,\n",
       "               0.4445611917271041,\n",
       "               0.44455379158954295,\n",
       "               0.44451010790573453,\n",
       "               0.4444903684021081,\n",
       "               0.4444817947864955,\n",
       "               0.44447665799436814,\n",
       "               0.44446775033308233,\n",
       "               0.444454132755021,\n",
       "               0.44444868153338346,\n",
       "               0.4443380511375837,\n",
       "               0.44432901635973315,\n",
       "               0.4443122964597783,\n",
       "               0.4443013841253718,\n",
       "               0.44429638245958036,\n",
       "               0.4442925182559454,\n",
       "               0.4442625266754008,\n",
       "               0.4442575313325137,\n",
       "               0.44424289213452006,\n",
       "               0.4442171388849461,\n",
       "               0.44420648413045405,\n",
       "               0.44413256291803094,\n",
       "               0.4441283398455464,\n",
       "               0.4441210129555517,\n",
       "               0.4441112517125335,\n",
       "               0.44407323779360885,\n",
       "               0.44406885014197217,\n",
       "               0.444062989636809,\n",
       "               0.4440598113777883,\n",
       "               0.4440423774484907,\n",
       "               0.4440366806241448,\n",
       "               0.44402518969680493,\n",
       "               0.4440211215585538,\n",
       "               0.444013470429991,\n",
       "               0.44400244991963816,\n",
       "               0.4439860990489808,\n",
       "               0.4439759242216189,\n",
       "               0.4439678388507817,\n",
       "               0.4439562661571886,\n",
       "               0.443944963660436,\n",
       "               0.4439373235592488,\n",
       "               0.44392924342050993,\n",
       "               0.4439247968083231,\n",
       "               0.4439166520982052,\n",
       "               0.443847818447029,\n",
       "               0.44384102390520574,\n",
       "               0.44383547301930565,\n",
       "               0.4438238301363979,\n",
       "               0.44382167415646007,\n",
       "               0.44379868196259326,\n",
       "               0.44378812737261214,\n",
       "               0.4437756636441482,\n",
       "               0.4437640572070122,\n",
       "               0.44375909583592743,\n",
       "               0.4437557679583187,\n",
       "               0.4437523373148425,\n",
       "               0.4437397596466203,\n",
       "               0.4437250765965384,\n",
       "               0.44371996206934117,\n",
       "               0.44370378543322625,\n",
       "               0.4436989349296556,\n",
       "               0.44367964357949624,\n",
       "               0.4436692962067302,\n",
       "               0.44365798993305844,\n",
       "               0.4436563937932537,\n",
       "               0.4436522403278815,\n",
       "               0.44364741539734204,\n",
       "               0.4436331046882507,\n",
       "               0.4436259613305588,\n",
       "               0.4436139491890134,\n",
       "               0.44360805287075505,\n",
       "               0.44360017099449406,\n",
       "               0.4435871138866567,\n",
       "               0.4435605829875661,\n",
       "               0.4435557836102527,\n",
       "               0.4435491817380094,\n",
       "               0.4435449598450351,\n",
       "               0.44352308535060053,\n",
       "               0.44349385679510334,\n",
       "               0.443489052318506,\n",
       "               0.4434839757510035,\n",
       "               0.4434748907748424,\n",
       "               0.4434648969856065,\n",
       "               0.44345706356947145,\n",
       "               0.44345262667346874,\n",
       "               0.4434388633016995,\n",
       "               0.44342867950430365,\n",
       "               0.44342537101634805,\n",
       "               0.4434157992004037,\n",
       "               0.44339924965906924,\n",
       "               0.44338782934554155,\n",
       "               0.4433803620251979,\n",
       "               0.44337400576050917,\n",
       "               0.44336716839284956,\n",
       "               0.44335331164846103,\n",
       "               0.4433477034293274,\n",
       "               0.44332914331360046,\n",
       "               0.4433237922407398,\n",
       "               0.4433176498071483,\n",
       "               0.4433152774467261,\n",
       "               0.4433116752489509,\n",
       "               0.4432941557650152,\n",
       "               0.4432840355626043,\n",
       "               0.44322724906362726,\n",
       "               0.44322204718132185,\n",
       "               0.4431904104547386,\n",
       "               0.44318041163751026,\n",
       "               0.44317550135307404,\n",
       "               0.44312503885955784,\n",
       "               0.4431203375131778,\n",
       "               0.4431145110179469,\n",
       "               0.4431044219800599,\n",
       "               0.44309973294420957,\n",
       "               0.44309531915831746,\n",
       "               0.44308993345827835,\n",
       "               0.4430839657832261,\n",
       "               0.4430603706167379,\n",
       "               0.4430502283004636,\n",
       "               0.4430402300174525,\n",
       "               0.4430354019144931,\n",
       "               0.4430316126181104,\n",
       "               0.44302165620264755,\n",
       "               0.44301434203859813,\n",
       "               0.44300512419778854,\n",
       "               0.44299651620848535,\n",
       "               0.4429896314340929,\n",
       "               0.44296446476809914,\n",
       "               0.4429583315838523,\n",
       "               0.4429555161571577,\n",
       "               0.44294465757680523,\n",
       "               0.4429378311240755,\n",
       "               0.44292989108700265,\n",
       "               0.4429132260141439,\n",
       "               0.4429058461329918,\n",
       "               0.44289623950018686,\n",
       "               0.44286290797275046,\n",
       "               0.4428566864428866,\n",
       "               0.4428509754168142,\n",
       "               0.4428428030886319,\n",
       "               0.44283441709552757,\n",
       "               0.44283028174096084,\n",
       "               0.4428253011538512,\n",
       "               0.4427926631082213,\n",
       "               0.4427686632590441,\n",
       "               0.44275831637607377,\n",
       "               0.44275320390828454,\n",
       "               0.4427497644931644,\n",
       "               0.4427253380576019,\n",
       "               0.44271511079471426,\n",
       "               0.4427084311558371,\n",
       "               0.44270171470747577,\n",
       "               0.4426963763506029,\n",
       "               0.4426894626654106,\n",
       "               0.4426601728409111,\n",
       "               0.44264546093603774,\n",
       "               0.44263856058839013,\n",
       "               0.4426327019417721,\n",
       "               0.4426258733729548,\n",
       "               0.44261956558166415,\n",
       "               0.44261452784188365,\n",
       "               0.44261092284524395,\n",
       "               0.44260552615849896,\n",
       "               0.44260227671561414,\n",
       "               0.4425921702668534,\n",
       "               0.44258486250089724,\n",
       "               0.44258295745831633,\n",
       "               0.44257325241255757,\n",
       "               0.4425604172793917])])"
      ]
     },
     "execution_count": 82,
     "metadata": {},
     "output_type": "execute_result"
    }
   ],
   "source": [
    "history['validation_0']"
   ]
  },
  {
   "cell_type": "code",
   "execution_count": null,
   "id": "0142ea6c",
   "metadata": {},
   "outputs": [],
   "source": []
  },
  {
   "cell_type": "code",
   "execution_count": 98,
   "id": "055a6d22",
   "metadata": {},
   "outputs": [
    {
     "data": {
      "text/plain": [
       "<matplotlib.legend.Legend at 0x16dd48eb0>"
      ]
     },
     "execution_count": 98,
     "metadata": {},
     "output_type": "execute_result"
    },
    {
     "data": {
      "image/png": "[encoded data removed]",
      "text/plain": [
       "<Figure size 640x480 with 1 Axes>"
      ]
     },
     "metadata": {},
     "output_type": "display_data"
    }
   ],
   "source": [
    "sns.set(font_scale = 1.5)\n",
    "history  = xgb_model.evals_result()\n",
    "history2  = xgb_basic.evals_result()\n",
    "plt.plot(history['validation_0']['mlogloss'], label='train opt')\n",
    "plt.plot(history['validation_1']['mlogloss'], label='val opt')\n",
    "plt.plot(history2['validation_0']['mlogloss'], label='train basic')\n",
    "plt.plot(history2['validation_1']['mlogloss'], label='val basic')\n",
    "plt.ylabel('log loss')\n",
    "plt.xlabel('epochs')\n",
    "plt.title('XGB Training loss curve')\n",
    "plt.legend()"
   ]
  },
  {
   "cell_type": "code",
   "execution_count": 101,
   "id": "73ad3b17",
   "metadata": {},
   "outputs": [
    {
     "data": {
      "text/plain": [
       "<matplotlib.legend.Legend at 0x16cbf75e0>"
      ]
     },
     "execution_count": 101,
     "metadata": {},
     "output_type": "execute_result"
    },
    {
     "data": {
      "image/png": "[encoded data removed]",
      "text/plain": [
       "<Figure size 640x480 with 1 Axes>"
      ]
     },
     "metadata": {},
     "output_type": "display_data"
    }
   ],
   "source": [
    "sns.set(font_scale = 1.5)\n",
    "history  = xgb_model2.evals_result()\n",
    "history2  = xgb_basic.evals_result()\n",
    "plt.plot(history['validation_0']['mlogloss'], label='train opt')\n",
    "plt.plot(history['validation_1']['mlogloss'], label='val opt')\n",
    "plt.plot(history2['validation_0']['mlogloss'], label='train basic')\n",
    "plt.plot(history2['validation_1']['mlogloss'], label='val basic')\n",
    "plt.ylabel('log loss')\n",
    "plt.xlabel('epochs')\n",
    "plt.title('BDT Training loss curve')\n",
    "plt.legend()"
   ]
  },
  {
   "cell_type": "code",
   "execution_count": null,
   "id": "6140662c",
   "metadata": {},
   "outputs": [],
   "source": [
    "history.keys()"
   ]
  },
  {
   "cell_type": "code",
   "execution_count": null,
   "id": "9603d4d0",
   "metadata": {},
   "outputs": [],
   "source": [
    "history['validation_0']"
   ]
  },
  {
   "cell_type": "code",
   "execution_count": null,
   "id": "c0d9809c",
   "metadata": {},
   "outputs": [],
   "source": [
    "plt.plot(history['validation_0']['mlogloss'], label='train')\n",
    "plt.plot(history['validation_1']['mlogloss'], label='test')\n",
    "plt.legend()"
   ]
  },
  {
   "cell_type": "code",
   "execution_count": null,
   "id": "4a4d235d",
   "metadata": {},
   "outputs": [],
   "source": []
  },
  {
   "cell_type": "code",
   "execution_count": null,
   "id": "683559b9",
   "metadata": {},
   "outputs": [],
   "source": [
    "y_pred =  xgb_model.predict(X_val)\n",
    "y_pred_train = xgb_model.predict(X_train)"
   ]
  },
  {
   "cell_type": "code",
   "execution_count": null,
   "id": "0569aa76",
   "metadata": {},
   "outputs": [],
   "source": []
  },
  {
   "cell_type": "code",
   "execution_count": null,
   "id": "a5bf059d",
   "metadata": {},
   "outputs": [],
   "source": []
  },
  {
   "cell_type": "code",
   "execution_count": null,
   "id": "d59dae85",
   "metadata": {},
   "outputs": [],
   "source": []
  },
  {
   "cell_type": "code",
   "execution_count": null,
   "id": "0e5bf1ea",
   "metadata": {},
   "outputs": [],
   "source": []
  },
  {
   "cell_type": "code",
   "execution_count": null,
   "id": "3bdbc751",
   "metadata": {},
   "outputs": [],
   "source": []
  },
  {
   "cell_type": "code",
   "execution_count": null,
   "id": "3b19f4ba",
   "metadata": {},
   "outputs": [],
   "source": []
  },
  {
   "cell_type": "code",
   "execution_count": null,
   "id": "d8dcf94e",
   "metadata": {},
   "outputs": [],
   "source": []
  }
 ],
 "metadata": {
  "kernelspec": {
   "display_name": "Python 3 (ipykernel)",
   "language": "python",
   "name": "python3"
  },
  "language_info": {
   "codemirror_mode": {
    "name": "ipython",
    "version": 3
   },
   "file_extension": ".py",
   "mimetype": "text/x-python",
   "name": "python",
   "nbconvert_exporter": "python",
   "pygments_lexer": "ipython3",
   "version": "3.10.5"
  }
 },
 "nbformat": 4,
 "nbformat_minor": 5
}
