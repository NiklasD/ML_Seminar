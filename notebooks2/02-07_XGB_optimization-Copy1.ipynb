{
 "cells": [
  {
   "cell_type": "code",
   "execution_count": null,
   "id": "44e9994c",
   "metadata": {},
   "outputs": [],
   "source": [
    "# import pathlib\n",
    "import pickle\n",
    "\n",
    "import matplotlib.pyplot as plt\n",
    "import numpy as np\n",
    "import pandas as pd\n",
    "#import re\n",
    "#import random\n",
    "#from sklearn import tree\n",
    "from sklearn.model_selection import train_test_split\n",
    "from sklearn.inspection import permutation_importance\n",
    "from sklearn.metrics import confusion_matrix, classification_report, ConfusionMatrixDisplay, roc_auc_score\n",
    "from sklearn.preprocessing import QuantileTransformer\n",
    "from hyperopt import STATUS_OK, Trials, fmin, hp, tpe\n",
    "\n",
    "\n",
    "import xgboost as xgb\n",
    "from sklearn.metrics import auc, accuracy_score, mean_squared_error\n",
    "from sklearn.model_selection import cross_val_score, GridSearchCV, KFold, RandomizedSearchCV\n",
    "#from string import ascii_letters\n",
    "import seaborn as sns\n",
    "import h5py as h5\n",
    "\n",
    "#from string import ascii_letters"
   ]
  },
  {
   "cell_type": "raw",
   "id": "4ae2a08d",
   "metadata": {},
   "source": [
    "df[features].to_pickle('../pickle_pd/pd_top_25.pkl')"
   ]
  },
  {
   "cell_type": "code",
   "execution_count": 2,
   "id": "6a87e32e",
   "metadata": {},
   "outputs": [],
   "source": [
    "df =pd.read_pickle('../pickle_pd/second_pd_top_25.pkl')\n",
    "features = list(df)[:-1]"
   ]
  },
  {
   "cell_type": "code",
   "execution_count": 3,
   "id": "70c07a30",
   "metadata": {},
   "outputs": [],
   "source": [
    "qt = QuantileTransformer(random_state=0)\n",
    "df[features] = qt.fit_transform(df[features])"
   ]
  },
  {
   "cell_type": "code",
   "execution_count": null,
   "id": "25a7d482",
   "metadata": {},
   "outputs": [],
   "source": [
    "df.head()"
   ]
  },
  {
   "cell_type": "code",
   "execution_count": 5,
   "id": "59c95fd0",
   "metadata": {},
   "outputs": [],
   "source": [
    " X_train, X_test, y_train, y_test = train_test_split( df[features], df['label'], test_size=0.4, random_state=42,shuffle = True)\n",
    " X_test, X_val, y_test, y_val = train_test_split( X_test, y_test, test_size=0.5, random_state=42,shuffle = True)"
   ]
  },
  {
   "cell_type": "code",
   "execution_count": 6,
   "id": "4c7548ec",
   "metadata": {},
   "outputs": [],
   "source": [
    "space={'max_depth': hp.quniform(\"max_depth\", 3, 18, 1),\n",
    "        #'gamma': hp.uniform ('gamma', 1,9),\n",
    "        'reg_alpha' : hp.quniform('reg_alpha', 1,50,1),\n",
    "        'reg_lambda' : hp.uniform('reg_lambda', 0,1),\n",
    "        'colsample_bytree' : hp.uniform('colsample_bytree', 0.6,1),\n",
    "        'min_child_weight' : hp.quniform('min_child_weight', 0, 10, 1),\n",
    "        'n_estimators': hp.choice('n_estimators', [300, 400, 500, 600]),\n",
    "        'seed': 0\n",
    "    }"
   ]
  },
  {
   "cell_type": "code",
   "execution_count": 7,
   "id": "069c3db6",
   "metadata": {},
   "outputs": [],
   "source": [
    "def objective(space):\n",
    "    clf=xgb.XGBClassifier(\n",
    "                    n_estimators =space['n_estimators'], max_depth = int(space['max_depth']),\n",
    "                    reg_alpha = int(space['reg_alpha']),min_child_weight=int(space['min_child_weight']),\n",
    "                    colsample_bytree=int(space['colsample_bytree']), reg_lambda= space['reg_lambda'])\n",
    "    \n",
    "    evaluation = [( X_train, y_train), ( X_test, y_test)]\n",
    "    \n",
    "    clf.fit(X_train, y_train,\n",
    "            eval_set=evaluation, #eval_metric=\"auc\",\n",
    "            early_stopping_rounds=10,verbose=False)\n",
    "    \n",
    "\n",
    "    pred = clf.predict(X_train)\n",
    "    accuracy = accuracy_score(y_train, pred)\n",
    "    pred_val = clf.predict(X_test)\n",
    "    val_accuracy = accuracy_score(y_test, pred_val)\n",
    "    delta_accuracy = accuracy - val_accuracy\n",
    "    print (\"SCORE:\", accuracy)\n",
    "    return {'loss': -val_accuracy, 'accuracy': accuracy, 'val_accuracy': val_accuracy, 'delta_accuracy':delta_accuracy, 'status': STATUS_OK }"
   ]
  },
  {
   "cell_type": "raw",
   "id": "51102bd0",
   "metadata": {},
   "source": [
    "trials = Trials()\n",
    "\n",
    "best_hyperparams = fmin(fn = objective,\n",
    "                        space = space,\n",
    "                        algo = tpe.suggest,\n",
    "                        max_evals = 50,\n",
    "                        trials = trials)"
   ]
  },
  {
   "cell_type": "code",
   "execution_count": 8,
   "id": "707bb8c8",
   "metadata": {},
   "outputs": [],
   "source": [
    "best_hyperparams = {'colsample_bytree': 0.7835361011051029,\n",
    " 'max_depth': 4.0,\n",
    " 'min_child_weight': 7.0,\n",
    " 'n_estimators': 3,\n",
    " 'reg_alpha': 33.0,\n",
    " 'reg_lambda': 0.46159501019482946}"
   ]
  },
  {
   "cell_type": "code",
   "execution_count": 9,
   "id": "dffaac16",
   "metadata": {},
   "outputs": [],
   "source": [
    "trial_res = pd.read_csv('out.csv')"
   ]
  },
  {
   "cell_type": "code",
   "execution_count": 10,
   "id": "b445321c",
   "metadata": {},
   "outputs": [
    {
     "data": {
      "text/html": [
       "<div>\n",
       "<style scoped>\n",
       "    .dataframe tbody tr th:only-of-type {\n",
       "        vertical-align: middle;\n",
       "    }\n",
       "\n",
       "    .dataframe tbody tr th {\n",
       "        vertical-align: top;\n",
       "    }\n",
       "\n",
       "    .dataframe thead th {\n",
       "        text-align: right;\n",
       "    }\n",
       "</style>\n",
       "<table border=\"1\" class=\"dataframe\">\n",
       "  <thead>\n",
       "    <tr style=\"text-align: right;\">\n",
       "      <th></th>\n",
       "      <th>colsample_bytree</th>\n",
       "      <th>max_depth</th>\n",
       "      <th>min_child_weight</th>\n",
       "      <th>n_estimators</th>\n",
       "      <th>reg_alpha</th>\n",
       "      <th>reg_lambda</th>\n",
       "      <th>train_accuracy</th>\n",
       "      <th>val_accuracy</th>\n",
       "      <th>delta_accuracy</th>\n",
       "      <th>Selection</th>\n",
       "    </tr>\n",
       "  </thead>\n",
       "  <tbody>\n",
       "    <tr>\n",
       "      <th>0</th>\n",
       "      <td>0.691505</td>\n",
       "      <td>8.0</td>\n",
       "      <td>4.0</td>\n",
       "      <td>2</td>\n",
       "      <td>27.0</td>\n",
       "      <td>0.112930</td>\n",
       "      <td>0.811016</td>\n",
       "      <td>0.807617</td>\n",
       "      <td>0.003399</td>\n",
       "      <td>0.0</td>\n",
       "    </tr>\n",
       "    <tr>\n",
       "      <th>1</th>\n",
       "      <td>0.841174</td>\n",
       "      <td>7.0</td>\n",
       "      <td>0.0</td>\n",
       "      <td>2</td>\n",
       "      <td>46.0</td>\n",
       "      <td>0.597406</td>\n",
       "      <td>0.809089</td>\n",
       "      <td>0.807223</td>\n",
       "      <td>0.001866</td>\n",
       "      <td>0.0</td>\n",
       "    </tr>\n",
       "    <tr>\n",
       "      <th>2</th>\n",
       "      <td>0.758157</td>\n",
       "      <td>14.0</td>\n",
       "      <td>6.0</td>\n",
       "      <td>2</td>\n",
       "      <td>26.0</td>\n",
       "      <td>0.962773</td>\n",
       "      <td>0.811643</td>\n",
       "      <td>0.807559</td>\n",
       "      <td>0.004084</td>\n",
       "      <td>0.0</td>\n",
       "    </tr>\n",
       "    <tr>\n",
       "      <th>3</th>\n",
       "      <td>0.744317</td>\n",
       "      <td>14.0</td>\n",
       "      <td>1.0</td>\n",
       "      <td>0</td>\n",
       "      <td>1.0</td>\n",
       "      <td>0.783146</td>\n",
       "      <td>0.876875</td>\n",
       "      <td>0.796497</td>\n",
       "      <td>0.080378</td>\n",
       "      <td>0.0</td>\n",
       "    </tr>\n",
       "    <tr>\n",
       "      <th>4</th>\n",
       "      <td>0.710051</td>\n",
       "      <td>6.0</td>\n",
       "      <td>5.0</td>\n",
       "      <td>0</td>\n",
       "      <td>46.0</td>\n",
       "      <td>0.741247</td>\n",
       "      <td>0.807719</td>\n",
       "      <td>0.806147</td>\n",
       "      <td>0.001572</td>\n",
       "      <td>0.0</td>\n",
       "    </tr>\n",
       "  </tbody>\n",
       "</table>\n",
       "</div>"
      ],
      "text/plain": [
       "   colsample_bytree  max_depth  min_child_weight  n_estimators  reg_alpha  \\\n",
       "0          0.691505        8.0               4.0             2       27.0   \n",
       "1          0.841174        7.0               0.0             2       46.0   \n",
       "2          0.758157       14.0               6.0             2       26.0   \n",
       "3          0.744317       14.0               1.0             0        1.0   \n",
       "4          0.710051        6.0               5.0             0       46.0   \n",
       "\n",
       "   reg_lambda  train_accuracy  val_accuracy  delta_accuracy Selection  \n",
       "0    0.112930        0.811016      0.807617        0.003399       0.0  \n",
       "1    0.597406        0.809089      0.807223        0.001866       0.0  \n",
       "2    0.962773        0.811643      0.807559        0.004084       0.0  \n",
       "3    0.783146        0.876875      0.796497        0.080378       0.0  \n",
       "4    0.741247        0.807719      0.806147        0.001572       0.0  "
      ]
     },
     "execution_count": 10,
     "metadata": {},
     "output_type": "execute_result"
    }
   ],
   "source": [
    "trial_res.head()"
   ]
  },
  {
   "cell_type": "raw",
   "id": "95d1b229",
   "metadata": {
    "scrolled": true
   },
   "source": [
    "trial_res = pd.DataFrame()\n",
    "for keys in trials.trials[0]['misc']['vals'].keys():\n",
    "    trial_res[keys] = pd.Series([trial['misc']['vals'][keys] for trial in trials.trials])\n",
    "trial_res = trial_res.apply(pd.Series.squeeze)\n",
    "trial_res['train_accuracy'] = [trial['result']['accuracy'] for trial in trials.trials]\n",
    "trial_res['val_accuracy'] = [trial['result']['val_accuracy'] for trial in trials.trials]\n",
    "trial_res['delta_accuracy'] = [trial['result']['delta_accuracy'] for trial in trials.trials]\n",
    "col_names = list(trial_res)\n",
    "trial_res = pd.concat((pd.DataFrame(trial_res[col].tolist()) for col in list(trial_res)), axis=1)\n",
    "trial_res.columns = col_names\n",
    "trial_res['Selection'] = np.zeros(len(trial_res))\n",
    "trial_res['Selection'][trials.best_trial['tid']] = \"best\"\n",
    "for i, n in zip([300, 400, 500, 600], [300, 400, 500, 600]):\n",
    "    trial_res['n_estimators'][trial_res['n_estimators']== i] = n"
   ]
  },
  {
   "cell_type": "code",
   "execution_count": 11,
   "id": "32ae50ef",
   "metadata": {},
   "outputs": [
    {
     "ename": "NameError",
     "evalue": "name 'treail_res' is not defined",
     "output_type": "error",
     "traceback": [
      "\u001b[0;31m---------------------------------------------------------------------------\u001b[0m",
      "\u001b[0;31mNameError\u001b[0m                                 Traceback (most recent call last)",
      "Cell \u001b[0;32mIn[11], line 1\u001b[0m\n\u001b[0;32m----> 1\u001b[0m \u001b[43mtreail_res\u001b[49m\u001b[38;5;241m.\u001b[39mt\n",
      "\u001b[0;31mNameError\u001b[0m: name 'treail_res' is not defined"
     ]
    }
   ],
   "source": [
    "treail_res.t"
   ]
  },
  {
   "cell_type": "code",
   "execution_count": 12,
   "id": "5df801d8",
   "metadata": {},
   "outputs": [
    {
     "data": {
      "text/plain": [
       "{'colsample_bytree': 0.7835361011051029,\n",
       " 'max_depth': 4.0,\n",
       " 'min_child_weight': 7.0,\n",
       " 'n_estimators': 3,\n",
       " 'reg_alpha': 33.0,\n",
       " 'reg_lambda': 0.46159501019482946}"
      ]
     },
     "execution_count": 12,
     "metadata": {},
     "output_type": "execute_result"
    }
   ],
   "source": [
    "best_hyperparams"
   ]
  },
  {
   "cell_type": "code",
   "execution_count": null,
   "id": "24bdd84a",
   "metadata": {},
   "outputs": [],
   "source": [
    "sns.set(font_scale = 3)\n",
    "sns.pairplot(trial_res, x_vars=['n_estimators', 'colsample_bytree', 'max_depth', 'min_child_weight', 'reg_alpha', 'reg_lambda' ], y_vars=['train_accuracy','val_accuracy','delta_accuracy'], kind='reg',  height=5, hue = 'Selection')\n",
    "plt.show()"
   ]
  },
  {
   "cell_type": "code",
   "execution_count": null,
   "id": "1f6ae06a",
   "metadata": {},
   "outputs": [
    {
     "data": {
      "text/plain": [
       "<seaborn.axisgrid.PairGrid at 0x177d532e0>"
      ]
     },
     "execution_count": 17,
     "metadata": {},
     "output_type": "execute_result"
    }
   ],
   "source": [
    "sns.set(font_scale = 3)\n",
    "sns.pairplot(trial_res, x_vars=['n_estimators', 'colsample_bytree', 'max_depth', 'min_child_weight', 'reg_alpha', 'reg_lambda' ], y_vars=['train_accuracy','val_accuracy','delta_accuracy'], kind='reg',  height=5, hue = 'Selection')"
   ]
  },
  {
   "cell_type": "code",
   "execution_count": null,
   "id": "8dd8df91",
   "metadata": {},
   "outputs": [],
   "source": [
    "best_hyperparams"
   ]
  },
  {
   "cell_type": "code",
   "execution_count": null,
   "id": "081682fc",
   "metadata": {},
   "outputs": [],
   "source": [
    "xgb_model=xgb.XGBClassifier(\n",
    "                    n_estimators =[200,300,400, 500, 600][best_hyperparams['n_estimators']], max_depth = int(best_hyperparams['max_depth']),\n",
    "                    reg_alpha = int(best_hyperparams['reg_alpha']),min_child_weight=int(best_hyperparams['min_child_weight']),\n",
    "                    colsample_bytree=int(best_hyperparams['colsample_bytree']), reg_lambda= space['reg_lambda'])         \n",
    "xgb_model.fit(X_train[features],y_train,\n",
    "             eval_set = [( X_train, y_train), ( X_test, y_test)])\n",
    "#y_pred = xgb_model.predict(X_val[features])"
   ]
  },
  {
   "cell_type": "code",
   "execution_count": null,
   "id": "d65aa9bb",
   "metadata": {},
   "outputs": [],
   "source": [
    "xgb_model2=xgb.XGBClassifier(\n",
    "                    n_estimators =200, max_depth = int(best_hyperparams['max_depth']),\n",
    "                    reg_alpha = int(best_hyperparams['reg_alpha']),min_child_weight=int(best_hyperparams['min_child_weight']),\n",
    "                    colsample_bytree=int(best_hyperparams['colsample_bytree']), reg_lambda= space['reg_lambda'])         \n",
    "xgb_model2.fit(X_train[features],y_train,\n",
    "             eval_set = [( X_train, y_train), ( X_test, y_test)])"
   ]
  },
  {
   "cell_type": "code",
   "execution_count": null,
   "id": "11bcca22",
   "metadata": {},
   "outputs": [],
   "source": [
    "xgb_basic=xgb.XGBClassifier(n_estimators =180) \n",
    "evals_result = {}\n",
    "xgb_basic.fit(X_train[features],y_train,\n",
    "             eval_set = [( X_train, y_train), ( X_test, y_test)])"
   ]
  },
  {
   "cell_type": "code",
   "execution_count": null,
   "id": "fd6af391",
   "metadata": {},
   "outputs": [],
   "source": [
    "pred_test = xgb_basic.predict(X_test)\n",
    "accuracy_score(pred_test,y_test)"
   ]
  },
  {
   "cell_type": "code",
   "execution_count": null,
   "id": "8362b4c8",
   "metadata": {},
   "outputs": [],
   "source": [
    "history['validation_0']"
   ]
  },
  {
   "cell_type": "code",
   "execution_count": null,
   "id": "178aa161",
   "metadata": {},
   "outputs": [],
   "source": []
  },
  {
   "cell_type": "code",
   "execution_count": null,
   "id": "055a6d22",
   "metadata": {},
   "outputs": [],
   "source": [
    "sns.set(font_scale = 1.5)\n",
    "history  = xgb_model.evals_result()\n",
    "history2  = xgb_basic.evals_result()\n",
    "plt.plot(history['validation_0']['mlogloss'], label='train opt')\n",
    "plt.plot(history['validation_1']['mlogloss'], label='val opt')\n",
    "plt.plot(history2['validation_0']['mlogloss'], label='train basic')\n",
    "plt.plot(history2['validation_1']['mlogloss'], label='val basic')\n",
    "plt.ylabel('log loss')\n",
    "plt.xlabel('epochs')\n",
    "plt.title('XGB Training loss curve')\n",
    "plt.legend()"
   ]
  },
  {
   "cell_type": "code",
   "execution_count": null,
   "id": "73ad3b17",
   "metadata": {},
   "outputs": [],
   "source": [
    "sns.set(font_scale = 1.5)\n",
    "history  = xgb_model2.evals_result()\n",
    "history2  = xgb_basic.evals_result()\n",
    "plt.plot(history['validation_0']['mlogloss'], label='train opt')\n",
    "plt.plot(history['validation_1']['mlogloss'], label='val opt')\n",
    "plt.plot(history2['validation_0']['mlogloss'], label='train basic')\n",
    "plt.plot(history2['validation_1']['mlogloss'], label='val basic')\n",
    "plt.ylabel('log loss')\n",
    "plt.xlabel('epochs')\n",
    "plt.title('BDT Training loss curve')\n",
    "plt.legend()"
   ]
  },
  {
   "cell_type": "code",
   "execution_count": null,
   "id": "6140662c",
   "metadata": {},
   "outputs": [],
   "source": [
    "history.keys()"
   ]
  },
  {
   "cell_type": "code",
   "execution_count": null,
   "id": "9603d4d0",
   "metadata": {},
   "outputs": [],
   "source": [
    "history['validation_0']"
   ]
  },
  {
   "cell_type": "code",
   "execution_count": null,
   "id": "c0d9809c",
   "metadata": {},
   "outputs": [],
   "source": [
    "plt.plot(history['validation_0']['mlogloss'], label='train')\n",
    "plt.plot(history['validation_1']['mlogloss'], label='test')\n",
    "plt.legend()"
   ]
  },
  {
   "cell_type": "code",
   "execution_count": null,
   "id": "4a4d235d",
   "metadata": {},
   "outputs": [],
   "source": []
  },
  {
   "cell_type": "code",
   "execution_count": null,
   "id": "683559b9",
   "metadata": {},
   "outputs": [],
   "source": [
    "y_pred =  xgb_model.predict(X_val)\n",
    "y_pred_train = xgb_model.predict(X_train)"
   ]
  },
  {
   "cell_type": "code",
   "execution_count": null,
   "id": "0569aa76",
   "metadata": {},
   "outputs": [],
   "source": []
  },
  {
   "cell_type": "code",
   "execution_count": null,
   "id": "a5bf059d",
   "metadata": {},
   "outputs": [],
   "source": []
  },
  {
   "cell_type": "code",
   "execution_count": null,
   "id": "d59dae85",
   "metadata": {},
   "outputs": [],
   "source": []
  },
  {
   "cell_type": "code",
   "execution_count": null,
   "id": "0e5bf1ea",
   "metadata": {},
   "outputs": [],
   "source": []
  },
  {
   "cell_type": "code",
   "execution_count": null,
   "id": "3bdbc751",
   "metadata": {},
   "outputs": [],
   "source": []
  },
  {
   "cell_type": "code",
   "execution_count": null,
   "id": "3b19f4ba",
   "metadata": {},
   "outputs": [],
   "source": []
  },
  {
   "cell_type": "code",
   "execution_count": null,
   "id": "d8dcf94e",
   "metadata": {},
   "outputs": [],
   "source": []
  }
 ],
 "metadata": {
  "kernelspec": {
   "display_name": "Python 3 (ipykernel)",
   "language": "python",
   "name": "python3"
  },
  "language_info": {
   "codemirror_mode": {
    "name": "ipython",
    "version": 3
   },
   "file_extension": ".py",
   "mimetype": "text/x-python",
   "name": "python",
   "nbconvert_exporter": "python",
   "pygments_lexer": "ipython3",
   "version": "3.10.5"
  }
 },
 "nbformat": 4,
 "nbformat_minor": 5
}
